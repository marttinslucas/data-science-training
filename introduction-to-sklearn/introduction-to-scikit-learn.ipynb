{
 "cells": [
  {
   "cell_type": "markdown",
   "id": "b010efab",
   "metadata": {},
   "source": [
    "## Introduction To Scikit-Learn\n",
    "This notebook demonstrates some of the most useful functions of the beautiful Scikit-Learn library.\n",
    "\n",
    "What we're going to cover:\n",
    "\n",
    "0. An end-to-end Scikit-Learn WorkFlow\n",
    "1. Getting the data ready\n",
    "2. Choose the right estimator/algorithm for our problems.\n",
    "3. Fit the model/algorithm and use it to make predictions on our data.\n",
    "4. Evaluating a model\n",
    "5. Improve a model\n",
    "6. Save and load a trained model\n",
    "7. Putting it all together"
   ]
  },
  {
   "cell_type": "markdown",
   "id": "22122e5b",
   "metadata": {},
   "source": [
    "## 0. An end-to-end Scikit-Learn WorkFlow"
   ]
  },
  {
   "cell_type": "code",
   "execution_count": 1,
   "id": "19dbd0c2",
   "metadata": {},
   "outputs": [
    {
     "data": {
      "text/html": [
       "<div>\n",
       "<style scoped>\n",
       "    .dataframe tbody tr th:only-of-type {\n",
       "        vertical-align: middle;\n",
       "    }\n",
       "\n",
       "    .dataframe tbody tr th {\n",
       "        vertical-align: top;\n",
       "    }\n",
       "\n",
       "    .dataframe thead th {\n",
       "        text-align: right;\n",
       "    }\n",
       "</style>\n",
       "<table border=\"1\" class=\"dataframe\">\n",
       "  <thead>\n",
       "    <tr style=\"text-align: right;\">\n",
       "      <th></th>\n",
       "      <th>age</th>\n",
       "      <th>sex</th>\n",
       "      <th>cp</th>\n",
       "      <th>trestbps</th>\n",
       "      <th>chol</th>\n",
       "      <th>fbs</th>\n",
       "      <th>restecg</th>\n",
       "      <th>thalach</th>\n",
       "      <th>exang</th>\n",
       "      <th>oldpeak</th>\n",
       "      <th>slope</th>\n",
       "      <th>ca</th>\n",
       "      <th>thal</th>\n",
       "      <th>target</th>\n",
       "    </tr>\n",
       "  </thead>\n",
       "  <tbody>\n",
       "    <tr>\n",
       "      <th>0</th>\n",
       "      <td>63</td>\n",
       "      <td>1</td>\n",
       "      <td>3</td>\n",
       "      <td>145</td>\n",
       "      <td>233</td>\n",
       "      <td>1</td>\n",
       "      <td>0</td>\n",
       "      <td>150</td>\n",
       "      <td>0</td>\n",
       "      <td>2.3</td>\n",
       "      <td>0</td>\n",
       "      <td>0</td>\n",
       "      <td>1</td>\n",
       "      <td>1</td>\n",
       "    </tr>\n",
       "    <tr>\n",
       "      <th>1</th>\n",
       "      <td>37</td>\n",
       "      <td>1</td>\n",
       "      <td>2</td>\n",
       "      <td>130</td>\n",
       "      <td>250</td>\n",
       "      <td>0</td>\n",
       "      <td>1</td>\n",
       "      <td>187</td>\n",
       "      <td>0</td>\n",
       "      <td>3.5</td>\n",
       "      <td>0</td>\n",
       "      <td>0</td>\n",
       "      <td>2</td>\n",
       "      <td>1</td>\n",
       "    </tr>\n",
       "    <tr>\n",
       "      <th>2</th>\n",
       "      <td>41</td>\n",
       "      <td>0</td>\n",
       "      <td>1</td>\n",
       "      <td>130</td>\n",
       "      <td>204</td>\n",
       "      <td>0</td>\n",
       "      <td>0</td>\n",
       "      <td>172</td>\n",
       "      <td>0</td>\n",
       "      <td>1.4</td>\n",
       "      <td>2</td>\n",
       "      <td>0</td>\n",
       "      <td>2</td>\n",
       "      <td>1</td>\n",
       "    </tr>\n",
       "    <tr>\n",
       "      <th>3</th>\n",
       "      <td>56</td>\n",
       "      <td>1</td>\n",
       "      <td>1</td>\n",
       "      <td>120</td>\n",
       "      <td>236</td>\n",
       "      <td>0</td>\n",
       "      <td>1</td>\n",
       "      <td>178</td>\n",
       "      <td>0</td>\n",
       "      <td>0.8</td>\n",
       "      <td>2</td>\n",
       "      <td>0</td>\n",
       "      <td>2</td>\n",
       "      <td>1</td>\n",
       "    </tr>\n",
       "    <tr>\n",
       "      <th>4</th>\n",
       "      <td>57</td>\n",
       "      <td>0</td>\n",
       "      <td>0</td>\n",
       "      <td>120</td>\n",
       "      <td>354</td>\n",
       "      <td>0</td>\n",
       "      <td>1</td>\n",
       "      <td>163</td>\n",
       "      <td>1</td>\n",
       "      <td>0.6</td>\n",
       "      <td>2</td>\n",
       "      <td>0</td>\n",
       "      <td>2</td>\n",
       "      <td>1</td>\n",
       "    </tr>\n",
       "    <tr>\n",
       "      <th>...</th>\n",
       "      <td>...</td>\n",
       "      <td>...</td>\n",
       "      <td>...</td>\n",
       "      <td>...</td>\n",
       "      <td>...</td>\n",
       "      <td>...</td>\n",
       "      <td>...</td>\n",
       "      <td>...</td>\n",
       "      <td>...</td>\n",
       "      <td>...</td>\n",
       "      <td>...</td>\n",
       "      <td>...</td>\n",
       "      <td>...</td>\n",
       "      <td>...</td>\n",
       "    </tr>\n",
       "    <tr>\n",
       "      <th>298</th>\n",
       "      <td>57</td>\n",
       "      <td>0</td>\n",
       "      <td>0</td>\n",
       "      <td>140</td>\n",
       "      <td>241</td>\n",
       "      <td>0</td>\n",
       "      <td>1</td>\n",
       "      <td>123</td>\n",
       "      <td>1</td>\n",
       "      <td>0.2</td>\n",
       "      <td>1</td>\n",
       "      <td>0</td>\n",
       "      <td>3</td>\n",
       "      <td>0</td>\n",
       "    </tr>\n",
       "    <tr>\n",
       "      <th>299</th>\n",
       "      <td>45</td>\n",
       "      <td>1</td>\n",
       "      <td>3</td>\n",
       "      <td>110</td>\n",
       "      <td>264</td>\n",
       "      <td>0</td>\n",
       "      <td>1</td>\n",
       "      <td>132</td>\n",
       "      <td>0</td>\n",
       "      <td>1.2</td>\n",
       "      <td>1</td>\n",
       "      <td>0</td>\n",
       "      <td>3</td>\n",
       "      <td>0</td>\n",
       "    </tr>\n",
       "    <tr>\n",
       "      <th>300</th>\n",
       "      <td>68</td>\n",
       "      <td>1</td>\n",
       "      <td>0</td>\n",
       "      <td>144</td>\n",
       "      <td>193</td>\n",
       "      <td>1</td>\n",
       "      <td>1</td>\n",
       "      <td>141</td>\n",
       "      <td>0</td>\n",
       "      <td>3.4</td>\n",
       "      <td>1</td>\n",
       "      <td>2</td>\n",
       "      <td>3</td>\n",
       "      <td>0</td>\n",
       "    </tr>\n",
       "    <tr>\n",
       "      <th>301</th>\n",
       "      <td>57</td>\n",
       "      <td>1</td>\n",
       "      <td>0</td>\n",
       "      <td>130</td>\n",
       "      <td>131</td>\n",
       "      <td>0</td>\n",
       "      <td>1</td>\n",
       "      <td>115</td>\n",
       "      <td>1</td>\n",
       "      <td>1.2</td>\n",
       "      <td>1</td>\n",
       "      <td>1</td>\n",
       "      <td>3</td>\n",
       "      <td>0</td>\n",
       "    </tr>\n",
       "    <tr>\n",
       "      <th>302</th>\n",
       "      <td>57</td>\n",
       "      <td>0</td>\n",
       "      <td>1</td>\n",
       "      <td>130</td>\n",
       "      <td>236</td>\n",
       "      <td>0</td>\n",
       "      <td>0</td>\n",
       "      <td>174</td>\n",
       "      <td>0</td>\n",
       "      <td>0.0</td>\n",
       "      <td>1</td>\n",
       "      <td>1</td>\n",
       "      <td>2</td>\n",
       "      <td>0</td>\n",
       "    </tr>\n",
       "  </tbody>\n",
       "</table>\n",
       "<p>303 rows × 14 columns</p>\n",
       "</div>"
      ],
      "text/plain": [
       "     age  sex  cp  trestbps  chol  fbs  restecg  thalach  exang  oldpeak  \\\n",
       "0     63    1   3       145   233    1        0      150      0      2.3   \n",
       "1     37    1   2       130   250    0        1      187      0      3.5   \n",
       "2     41    0   1       130   204    0        0      172      0      1.4   \n",
       "3     56    1   1       120   236    0        1      178      0      0.8   \n",
       "4     57    0   0       120   354    0        1      163      1      0.6   \n",
       "..   ...  ...  ..       ...   ...  ...      ...      ...    ...      ...   \n",
       "298   57    0   0       140   241    0        1      123      1      0.2   \n",
       "299   45    1   3       110   264    0        1      132      0      1.2   \n",
       "300   68    1   0       144   193    1        1      141      0      3.4   \n",
       "301   57    1   0       130   131    0        1      115      1      1.2   \n",
       "302   57    0   1       130   236    0        0      174      0      0.0   \n",
       "\n",
       "     slope  ca  thal  target  \n",
       "0        0   0     1       1  \n",
       "1        0   0     2       1  \n",
       "2        2   0     2       1  \n",
       "3        2   0     2       1  \n",
       "4        2   0     2       1  \n",
       "..     ...  ..   ...     ...  \n",
       "298      1   0     3       0  \n",
       "299      1   0     3       0  \n",
       "300      1   2     3       0  \n",
       "301      1   1     3       0  \n",
       "302      1   1     2       0  \n",
       "\n",
       "[303 rows x 14 columns]"
      ]
     },
     "execution_count": 1,
     "metadata": {},
     "output_type": "execute_result"
    }
   ],
   "source": [
    "# 1. Get the data ready\n",
    "\n",
    "import pandas as pd\n",
    "import numpy as np\n",
    "\n",
    "heart_disease = pd.read_csv(\"heart-disease.csv\")\n",
    "heart_disease"
   ]
  },
  {
   "cell_type": "code",
   "execution_count": 2,
   "id": "3412de28",
   "metadata": {},
   "outputs": [],
   "source": [
    "# Create X ( features matrix )\n",
    "X = heart_disease.drop(\"target\", axis=1)\n",
    "\n",
    "# Create Y (labels)\n",
    "y =  heart_disease[\"target\"]"
   ]
  },
  {
   "cell_type": "code",
   "execution_count": 3,
   "id": "f0e129f1",
   "metadata": {},
   "outputs": [
    {
     "data": {
      "text/html": [
       "<div>\n",
       "<style scoped>\n",
       "    .dataframe tbody tr th:only-of-type {\n",
       "        vertical-align: middle;\n",
       "    }\n",
       "\n",
       "    .dataframe tbody tr th {\n",
       "        vertical-align: top;\n",
       "    }\n",
       "\n",
       "    .dataframe thead th {\n",
       "        text-align: right;\n",
       "    }\n",
       "</style>\n",
       "<table border=\"1\" class=\"dataframe\">\n",
       "  <thead>\n",
       "    <tr style=\"text-align: right;\">\n",
       "      <th></th>\n",
       "      <th>age</th>\n",
       "      <th>sex</th>\n",
       "      <th>cp</th>\n",
       "      <th>trestbps</th>\n",
       "      <th>chol</th>\n",
       "      <th>fbs</th>\n",
       "      <th>restecg</th>\n",
       "      <th>thalach</th>\n",
       "      <th>exang</th>\n",
       "      <th>oldpeak</th>\n",
       "      <th>slope</th>\n",
       "      <th>ca</th>\n",
       "      <th>thal</th>\n",
       "    </tr>\n",
       "  </thead>\n",
       "  <tbody>\n",
       "    <tr>\n",
       "      <th>0</th>\n",
       "      <td>63</td>\n",
       "      <td>1</td>\n",
       "      <td>3</td>\n",
       "      <td>145</td>\n",
       "      <td>233</td>\n",
       "      <td>1</td>\n",
       "      <td>0</td>\n",
       "      <td>150</td>\n",
       "      <td>0</td>\n",
       "      <td>2.3</td>\n",
       "      <td>0</td>\n",
       "      <td>0</td>\n",
       "      <td>1</td>\n",
       "    </tr>\n",
       "    <tr>\n",
       "      <th>1</th>\n",
       "      <td>37</td>\n",
       "      <td>1</td>\n",
       "      <td>2</td>\n",
       "      <td>130</td>\n",
       "      <td>250</td>\n",
       "      <td>0</td>\n",
       "      <td>1</td>\n",
       "      <td>187</td>\n",
       "      <td>0</td>\n",
       "      <td>3.5</td>\n",
       "      <td>0</td>\n",
       "      <td>0</td>\n",
       "      <td>2</td>\n",
       "    </tr>\n",
       "    <tr>\n",
       "      <th>2</th>\n",
       "      <td>41</td>\n",
       "      <td>0</td>\n",
       "      <td>1</td>\n",
       "      <td>130</td>\n",
       "      <td>204</td>\n",
       "      <td>0</td>\n",
       "      <td>0</td>\n",
       "      <td>172</td>\n",
       "      <td>0</td>\n",
       "      <td>1.4</td>\n",
       "      <td>2</td>\n",
       "      <td>0</td>\n",
       "      <td>2</td>\n",
       "    </tr>\n",
       "    <tr>\n",
       "      <th>3</th>\n",
       "      <td>56</td>\n",
       "      <td>1</td>\n",
       "      <td>1</td>\n",
       "      <td>120</td>\n",
       "      <td>236</td>\n",
       "      <td>0</td>\n",
       "      <td>1</td>\n",
       "      <td>178</td>\n",
       "      <td>0</td>\n",
       "      <td>0.8</td>\n",
       "      <td>2</td>\n",
       "      <td>0</td>\n",
       "      <td>2</td>\n",
       "    </tr>\n",
       "    <tr>\n",
       "      <th>4</th>\n",
       "      <td>57</td>\n",
       "      <td>0</td>\n",
       "      <td>0</td>\n",
       "      <td>120</td>\n",
       "      <td>354</td>\n",
       "      <td>0</td>\n",
       "      <td>1</td>\n",
       "      <td>163</td>\n",
       "      <td>1</td>\n",
       "      <td>0.6</td>\n",
       "      <td>2</td>\n",
       "      <td>0</td>\n",
       "      <td>2</td>\n",
       "    </tr>\n",
       "    <tr>\n",
       "      <th>...</th>\n",
       "      <td>...</td>\n",
       "      <td>...</td>\n",
       "      <td>...</td>\n",
       "      <td>...</td>\n",
       "      <td>...</td>\n",
       "      <td>...</td>\n",
       "      <td>...</td>\n",
       "      <td>...</td>\n",
       "      <td>...</td>\n",
       "      <td>...</td>\n",
       "      <td>...</td>\n",
       "      <td>...</td>\n",
       "      <td>...</td>\n",
       "    </tr>\n",
       "    <tr>\n",
       "      <th>298</th>\n",
       "      <td>57</td>\n",
       "      <td>0</td>\n",
       "      <td>0</td>\n",
       "      <td>140</td>\n",
       "      <td>241</td>\n",
       "      <td>0</td>\n",
       "      <td>1</td>\n",
       "      <td>123</td>\n",
       "      <td>1</td>\n",
       "      <td>0.2</td>\n",
       "      <td>1</td>\n",
       "      <td>0</td>\n",
       "      <td>3</td>\n",
       "    </tr>\n",
       "    <tr>\n",
       "      <th>299</th>\n",
       "      <td>45</td>\n",
       "      <td>1</td>\n",
       "      <td>3</td>\n",
       "      <td>110</td>\n",
       "      <td>264</td>\n",
       "      <td>0</td>\n",
       "      <td>1</td>\n",
       "      <td>132</td>\n",
       "      <td>0</td>\n",
       "      <td>1.2</td>\n",
       "      <td>1</td>\n",
       "      <td>0</td>\n",
       "      <td>3</td>\n",
       "    </tr>\n",
       "    <tr>\n",
       "      <th>300</th>\n",
       "      <td>68</td>\n",
       "      <td>1</td>\n",
       "      <td>0</td>\n",
       "      <td>144</td>\n",
       "      <td>193</td>\n",
       "      <td>1</td>\n",
       "      <td>1</td>\n",
       "      <td>141</td>\n",
       "      <td>0</td>\n",
       "      <td>3.4</td>\n",
       "      <td>1</td>\n",
       "      <td>2</td>\n",
       "      <td>3</td>\n",
       "    </tr>\n",
       "    <tr>\n",
       "      <th>301</th>\n",
       "      <td>57</td>\n",
       "      <td>1</td>\n",
       "      <td>0</td>\n",
       "      <td>130</td>\n",
       "      <td>131</td>\n",
       "      <td>0</td>\n",
       "      <td>1</td>\n",
       "      <td>115</td>\n",
       "      <td>1</td>\n",
       "      <td>1.2</td>\n",
       "      <td>1</td>\n",
       "      <td>1</td>\n",
       "      <td>3</td>\n",
       "    </tr>\n",
       "    <tr>\n",
       "      <th>302</th>\n",
       "      <td>57</td>\n",
       "      <td>0</td>\n",
       "      <td>1</td>\n",
       "      <td>130</td>\n",
       "      <td>236</td>\n",
       "      <td>0</td>\n",
       "      <td>0</td>\n",
       "      <td>174</td>\n",
       "      <td>0</td>\n",
       "      <td>0.0</td>\n",
       "      <td>1</td>\n",
       "      <td>1</td>\n",
       "      <td>2</td>\n",
       "    </tr>\n",
       "  </tbody>\n",
       "</table>\n",
       "<p>303 rows × 13 columns</p>\n",
       "</div>"
      ],
      "text/plain": [
       "     age  sex  cp  trestbps  chol  fbs  restecg  thalach  exang  oldpeak  \\\n",
       "0     63    1   3       145   233    1        0      150      0      2.3   \n",
       "1     37    1   2       130   250    0        1      187      0      3.5   \n",
       "2     41    0   1       130   204    0        0      172      0      1.4   \n",
       "3     56    1   1       120   236    0        1      178      0      0.8   \n",
       "4     57    0   0       120   354    0        1      163      1      0.6   \n",
       "..   ...  ...  ..       ...   ...  ...      ...      ...    ...      ...   \n",
       "298   57    0   0       140   241    0        1      123      1      0.2   \n",
       "299   45    1   3       110   264    0        1      132      0      1.2   \n",
       "300   68    1   0       144   193    1        1      141      0      3.4   \n",
       "301   57    1   0       130   131    0        1      115      1      1.2   \n",
       "302   57    0   1       130   236    0        0      174      0      0.0   \n",
       "\n",
       "     slope  ca  thal  \n",
       "0        0   0     1  \n",
       "1        0   0     2  \n",
       "2        2   0     2  \n",
       "3        2   0     2  \n",
       "4        2   0     2  \n",
       "..     ...  ..   ...  \n",
       "298      1   0     3  \n",
       "299      1   0     3  \n",
       "300      1   2     3  \n",
       "301      1   1     3  \n",
       "302      1   1     2  \n",
       "\n",
       "[303 rows x 13 columns]"
      ]
     },
     "execution_count": 3,
     "metadata": {},
     "output_type": "execute_result"
    }
   ],
   "source": [
    "X"
   ]
  },
  {
   "cell_type": "code",
   "execution_count": 4,
   "id": "67b689e7",
   "metadata": {},
   "outputs": [
    {
     "data": {
      "text/plain": [
       "0      1\n",
       "1      1\n",
       "2      1\n",
       "3      1\n",
       "4      1\n",
       "      ..\n",
       "298    0\n",
       "299    0\n",
       "300    0\n",
       "301    0\n",
       "302    0\n",
       "Name: target, Length: 303, dtype: int64"
      ]
     },
     "execution_count": 4,
     "metadata": {},
     "output_type": "execute_result"
    }
   ],
   "source": [
    "y"
   ]
  },
  {
   "cell_type": "code",
   "execution_count": 5,
   "id": "0644a703",
   "metadata": {},
   "outputs": [
    {
     "data": {
      "text/plain": [
       "{'bootstrap': True,\n",
       " 'ccp_alpha': 0.0,\n",
       " 'class_weight': None,\n",
       " 'criterion': 'gini',\n",
       " 'max_depth': None,\n",
       " 'max_features': 'auto',\n",
       " 'max_leaf_nodes': None,\n",
       " 'max_samples': None,\n",
       " 'min_impurity_decrease': 0.0,\n",
       " 'min_samples_leaf': 1,\n",
       " 'min_samples_split': 2,\n",
       " 'min_weight_fraction_leaf': 0.0,\n",
       " 'n_estimators': 100,\n",
       " 'n_jobs': None,\n",
       " 'oob_score': False,\n",
       " 'random_state': None,\n",
       " 'verbose': 0,\n",
       " 'warm_start': False}"
      ]
     },
     "execution_count": 5,
     "metadata": {},
     "output_type": "execute_result"
    }
   ],
   "source": [
    "# 2. Choose the right model and hyperparameters\n",
    "from sklearn.ensemble import RandomForestClassifier\n",
    "\n",
    "clf = RandomForestClassifier(n_estimators=100)\n",
    "\n",
    "# Keeping the default hyperparameters\n",
    "\n",
    "clf.get_params()"
   ]
  },
  {
   "cell_type": "code",
   "execution_count": 6,
   "id": "c80353ea",
   "metadata": {},
   "outputs": [],
   "source": [
    "# 3. Fit the model to the training data\n",
    "from sklearn.model_selection import train_test_split\n",
    "\n",
    "X_train, X_test, y_train, y_test = train_test_split(X,y, test_size=0.2)"
   ]
  },
  {
   "cell_type": "code",
   "execution_count": 7,
   "id": "e2b965ad",
   "metadata": {},
   "outputs": [],
   "source": [
    "clf.fit(X_train, y_train);"
   ]
  },
  {
   "cell_type": "code",
   "execution_count": 8,
   "id": "862011ea",
   "metadata": {},
   "outputs": [
    {
     "name": "stderr",
     "output_type": "stream",
     "text": [
      "/Users/lucasmeireles/Desktop/ml/ml-course/env/lib/python3.9/site-packages/sklearn/base.py:445: UserWarning: X does not have valid feature names, but RandomForestClassifier was fitted with feature names\n",
      "  warnings.warn(\n"
     ]
    },
    {
     "ename": "ValueError",
     "evalue": "Expected 2D array, got 1D array instead:\narray=[0. 2. 3. 4.].\nReshape your data either using array.reshape(-1, 1) if your data has a single feature or array.reshape(1, -1) if it contains a single sample.",
     "output_type": "error",
     "traceback": [
      "\u001b[0;31m---------------------------------------------------------------------------\u001b[0m",
      "\u001b[0;31mValueError\u001b[0m                                Traceback (most recent call last)",
      "\u001b[0;32m/var/folders/xk/73251fs13298n_zs9z8tx_rw0000gn/T/ipykernel_41283/3670847652.py\u001b[0m in \u001b[0;36m<module>\u001b[0;34m\u001b[0m\n\u001b[1;32m      1\u001b[0m \u001b[0;31m# make a predict\u001b[0m\u001b[0;34m\u001b[0m\u001b[0;34m\u001b[0m\u001b[0m\n\u001b[1;32m      2\u001b[0m \u001b[0;32mimport\u001b[0m \u001b[0mnumpy\u001b[0m \u001b[0;32mas\u001b[0m \u001b[0mnp\u001b[0m\u001b[0;34m\u001b[0m\u001b[0;34m\u001b[0m\u001b[0m\n\u001b[0;32m----> 3\u001b[0;31m \u001b[0my_label\u001b[0m \u001b[0;34m=\u001b[0m \u001b[0mclf\u001b[0m\u001b[0;34m.\u001b[0m\u001b[0mpredict\u001b[0m\u001b[0;34m(\u001b[0m\u001b[0mnp\u001b[0m\u001b[0;34m.\u001b[0m\u001b[0marray\u001b[0m\u001b[0;34m(\u001b[0m\u001b[0;34m[\u001b[0m\u001b[0;36m0\u001b[0m\u001b[0;34m,\u001b[0m\u001b[0;36m2\u001b[0m\u001b[0;34m,\u001b[0m\u001b[0;36m3\u001b[0m\u001b[0;34m,\u001b[0m\u001b[0;36m4\u001b[0m\u001b[0;34m]\u001b[0m\u001b[0;34m)\u001b[0m\u001b[0;34m)\u001b[0m\u001b[0;34m\u001b[0m\u001b[0;34m\u001b[0m\u001b[0m\n\u001b[0m",
      "\u001b[0;32m~/Desktop/ml/ml-course/env/lib/python3.9/site-packages/sklearn/ensemble/_forest.py\u001b[0m in \u001b[0;36mpredict\u001b[0;34m(self, X)\u001b[0m\n\u001b[1;32m    796\u001b[0m             \u001b[0mThe\u001b[0m \u001b[0mpredicted\u001b[0m \u001b[0mclasses\u001b[0m\u001b[0;34m.\u001b[0m\u001b[0;34m\u001b[0m\u001b[0;34m\u001b[0m\u001b[0m\n\u001b[1;32m    797\u001b[0m         \"\"\"\n\u001b[0;32m--> 798\u001b[0;31m         \u001b[0mproba\u001b[0m \u001b[0;34m=\u001b[0m \u001b[0mself\u001b[0m\u001b[0;34m.\u001b[0m\u001b[0mpredict_proba\u001b[0m\u001b[0;34m(\u001b[0m\u001b[0mX\u001b[0m\u001b[0;34m)\u001b[0m\u001b[0;34m\u001b[0m\u001b[0;34m\u001b[0m\u001b[0m\n\u001b[0m\u001b[1;32m    799\u001b[0m \u001b[0;34m\u001b[0m\u001b[0m\n\u001b[1;32m    800\u001b[0m         \u001b[0;32mif\u001b[0m \u001b[0mself\u001b[0m\u001b[0;34m.\u001b[0m\u001b[0mn_outputs_\u001b[0m \u001b[0;34m==\u001b[0m \u001b[0;36m1\u001b[0m\u001b[0;34m:\u001b[0m\u001b[0;34m\u001b[0m\u001b[0;34m\u001b[0m\u001b[0m\n",
      "\u001b[0;32m~/Desktop/ml/ml-course/env/lib/python3.9/site-packages/sklearn/ensemble/_forest.py\u001b[0m in \u001b[0;36mpredict_proba\u001b[0;34m(self, X)\u001b[0m\n\u001b[1;32m    838\u001b[0m         \u001b[0mcheck_is_fitted\u001b[0m\u001b[0;34m(\u001b[0m\u001b[0mself\u001b[0m\u001b[0;34m)\u001b[0m\u001b[0;34m\u001b[0m\u001b[0;34m\u001b[0m\u001b[0m\n\u001b[1;32m    839\u001b[0m         \u001b[0;31m# Check data\u001b[0m\u001b[0;34m\u001b[0m\u001b[0;34m\u001b[0m\u001b[0m\n\u001b[0;32m--> 840\u001b[0;31m         \u001b[0mX\u001b[0m \u001b[0;34m=\u001b[0m \u001b[0mself\u001b[0m\u001b[0;34m.\u001b[0m\u001b[0m_validate_X_predict\u001b[0m\u001b[0;34m(\u001b[0m\u001b[0mX\u001b[0m\u001b[0;34m)\u001b[0m\u001b[0;34m\u001b[0m\u001b[0;34m\u001b[0m\u001b[0m\n\u001b[0m\u001b[1;32m    841\u001b[0m \u001b[0;34m\u001b[0m\u001b[0m\n\u001b[1;32m    842\u001b[0m         \u001b[0;31m# Assign chunk of trees to jobs\u001b[0m\u001b[0;34m\u001b[0m\u001b[0;34m\u001b[0m\u001b[0m\n",
      "\u001b[0;32m~/Desktop/ml/ml-course/env/lib/python3.9/site-packages/sklearn/ensemble/_forest.py\u001b[0m in \u001b[0;36m_validate_X_predict\u001b[0;34m(self, X)\u001b[0m\n\u001b[1;32m    567\u001b[0m         Validate X whenever one tries to predict, apply, predict_proba.\"\"\"\n\u001b[1;32m    568\u001b[0m         \u001b[0mcheck_is_fitted\u001b[0m\u001b[0;34m(\u001b[0m\u001b[0mself\u001b[0m\u001b[0;34m)\u001b[0m\u001b[0;34m\u001b[0m\u001b[0;34m\u001b[0m\u001b[0m\n\u001b[0;32m--> 569\u001b[0;31m         \u001b[0mX\u001b[0m \u001b[0;34m=\u001b[0m \u001b[0mself\u001b[0m\u001b[0;34m.\u001b[0m\u001b[0m_validate_data\u001b[0m\u001b[0;34m(\u001b[0m\u001b[0mX\u001b[0m\u001b[0;34m,\u001b[0m \u001b[0mdtype\u001b[0m\u001b[0;34m=\u001b[0m\u001b[0mDTYPE\u001b[0m\u001b[0;34m,\u001b[0m \u001b[0maccept_sparse\u001b[0m\u001b[0;34m=\u001b[0m\u001b[0;34m\"csr\"\u001b[0m\u001b[0;34m,\u001b[0m \u001b[0mreset\u001b[0m\u001b[0;34m=\u001b[0m\u001b[0;32mFalse\u001b[0m\u001b[0;34m)\u001b[0m\u001b[0;34m\u001b[0m\u001b[0;34m\u001b[0m\u001b[0m\n\u001b[0m\u001b[1;32m    570\u001b[0m         \u001b[0;32mif\u001b[0m \u001b[0missparse\u001b[0m\u001b[0;34m(\u001b[0m\u001b[0mX\u001b[0m\u001b[0;34m)\u001b[0m \u001b[0;32mand\u001b[0m \u001b[0;34m(\u001b[0m\u001b[0mX\u001b[0m\u001b[0;34m.\u001b[0m\u001b[0mindices\u001b[0m\u001b[0;34m.\u001b[0m\u001b[0mdtype\u001b[0m \u001b[0;34m!=\u001b[0m \u001b[0mnp\u001b[0m\u001b[0;34m.\u001b[0m\u001b[0mintc\u001b[0m \u001b[0;32mor\u001b[0m \u001b[0mX\u001b[0m\u001b[0;34m.\u001b[0m\u001b[0mindptr\u001b[0m\u001b[0;34m.\u001b[0m\u001b[0mdtype\u001b[0m \u001b[0;34m!=\u001b[0m \u001b[0mnp\u001b[0m\u001b[0;34m.\u001b[0m\u001b[0mintc\u001b[0m\u001b[0;34m)\u001b[0m\u001b[0;34m:\u001b[0m\u001b[0;34m\u001b[0m\u001b[0;34m\u001b[0m\u001b[0m\n\u001b[1;32m    571\u001b[0m             \u001b[0;32mraise\u001b[0m \u001b[0mValueError\u001b[0m\u001b[0;34m(\u001b[0m\u001b[0;34m\"No support for np.int64 index based sparse matrices\"\u001b[0m\u001b[0;34m)\u001b[0m\u001b[0;34m\u001b[0m\u001b[0;34m\u001b[0m\u001b[0m\n",
      "\u001b[0;32m~/Desktop/ml/ml-course/env/lib/python3.9/site-packages/sklearn/base.py\u001b[0m in \u001b[0;36m_validate_data\u001b[0;34m(self, X, y, reset, validate_separately, **check_params)\u001b[0m\n\u001b[1;32m    559\u001b[0m             \u001b[0;32mraise\u001b[0m \u001b[0mValueError\u001b[0m\u001b[0;34m(\u001b[0m\u001b[0;34m\"Validation should be done on X, y or both.\"\u001b[0m\u001b[0;34m)\u001b[0m\u001b[0;34m\u001b[0m\u001b[0;34m\u001b[0m\u001b[0m\n\u001b[1;32m    560\u001b[0m         \u001b[0;32melif\u001b[0m \u001b[0;32mnot\u001b[0m \u001b[0mno_val_X\u001b[0m \u001b[0;32mand\u001b[0m \u001b[0mno_val_y\u001b[0m\u001b[0;34m:\u001b[0m\u001b[0;34m\u001b[0m\u001b[0;34m\u001b[0m\u001b[0m\n\u001b[0;32m--> 561\u001b[0;31m             \u001b[0mX\u001b[0m \u001b[0;34m=\u001b[0m \u001b[0mcheck_array\u001b[0m\u001b[0;34m(\u001b[0m\u001b[0mX\u001b[0m\u001b[0;34m,\u001b[0m \u001b[0;34m**\u001b[0m\u001b[0mcheck_params\u001b[0m\u001b[0;34m)\u001b[0m\u001b[0;34m\u001b[0m\u001b[0;34m\u001b[0m\u001b[0m\n\u001b[0m\u001b[1;32m    562\u001b[0m             \u001b[0mout\u001b[0m \u001b[0;34m=\u001b[0m \u001b[0mX\u001b[0m\u001b[0;34m\u001b[0m\u001b[0;34m\u001b[0m\u001b[0m\n\u001b[1;32m    563\u001b[0m         \u001b[0;32melif\u001b[0m \u001b[0mno_val_X\u001b[0m \u001b[0;32mand\u001b[0m \u001b[0;32mnot\u001b[0m \u001b[0mno_val_y\u001b[0m\u001b[0;34m:\u001b[0m\u001b[0;34m\u001b[0m\u001b[0;34m\u001b[0m\u001b[0m\n",
      "\u001b[0;32m~/Desktop/ml/ml-course/env/lib/python3.9/site-packages/sklearn/utils/validation.py\u001b[0m in \u001b[0;36mcheck_array\u001b[0;34m(array, accept_sparse, accept_large_sparse, dtype, order, copy, force_all_finite, ensure_2d, allow_nd, ensure_min_samples, ensure_min_features, estimator)\u001b[0m\n\u001b[1;32m    759\u001b[0m             \u001b[0;31m# If input is 1D raise error\u001b[0m\u001b[0;34m\u001b[0m\u001b[0;34m\u001b[0m\u001b[0m\n\u001b[1;32m    760\u001b[0m             \u001b[0;32mif\u001b[0m \u001b[0marray\u001b[0m\u001b[0;34m.\u001b[0m\u001b[0mndim\u001b[0m \u001b[0;34m==\u001b[0m \u001b[0;36m1\u001b[0m\u001b[0;34m:\u001b[0m\u001b[0;34m\u001b[0m\u001b[0;34m\u001b[0m\u001b[0m\n\u001b[0;32m--> 761\u001b[0;31m                 raise ValueError(\n\u001b[0m\u001b[1;32m    762\u001b[0m                     \u001b[0;34m\"Expected 2D array, got 1D array instead:\\narray={}.\\n\"\u001b[0m\u001b[0;34m\u001b[0m\u001b[0;34m\u001b[0m\u001b[0m\n\u001b[1;32m    763\u001b[0m                     \u001b[0;34m\"Reshape your data either using array.reshape(-1, 1) if \"\u001b[0m\u001b[0;34m\u001b[0m\u001b[0;34m\u001b[0m\u001b[0m\n",
      "\u001b[0;31mValueError\u001b[0m: Expected 2D array, got 1D array instead:\narray=[0. 2. 3. 4.].\nReshape your data either using array.reshape(-1, 1) if your data has a single feature or array.reshape(1, -1) if it contains a single sample."
     ]
    }
   ],
   "source": [
    "# make a predict\n",
    "import numpy as np\n",
    "y_label = clf.predict(np.array([0,2,3,4]))"
   ]
  },
  {
   "cell_type": "code",
   "execution_count": null,
   "id": "19a8c358",
   "metadata": {},
   "outputs": [],
   "source": [
    "y_preds = clf.predict(X_test)\n",
    "y_preds"
   ]
  },
  {
   "cell_type": "code",
   "execution_count": null,
   "id": "9d2e0e20",
   "metadata": {},
   "outputs": [],
   "source": [
    "y_preds.shape"
   ]
  },
  {
   "cell_type": "code",
   "execution_count": null,
   "id": "5f5b2c30",
   "metadata": {},
   "outputs": [],
   "source": [
    "y_test"
   ]
  },
  {
   "cell_type": "code",
   "execution_count": null,
   "id": "a54400ed",
   "metadata": {},
   "outputs": [],
   "source": [
    "# 4. Evaluate the model on the training test data\n",
    "\n",
    "clf.score(X_train, y_train)"
   ]
  },
  {
   "cell_type": "code",
   "execution_count": null,
   "id": "4177eb40",
   "metadata": {},
   "outputs": [],
   "source": [
    "clf.score(X_test, y_test)"
   ]
  },
  {
   "cell_type": "code",
   "execution_count": null,
   "id": "20125aa5",
   "metadata": {},
   "outputs": [],
   "source": [
    "from sklearn.metrics import classification_report, confusion_matrix, accuracy_score"
   ]
  },
  {
   "cell_type": "code",
   "execution_count": 9,
   "id": "3767abdc",
   "metadata": {},
   "outputs": [
    {
     "ename": "NameError",
     "evalue": "name 'classification_report' is not defined",
     "output_type": "error",
     "traceback": [
      "\u001b[0;31m---------------------------------------------------------------------------\u001b[0m",
      "\u001b[0;31mNameError\u001b[0m                                 Traceback (most recent call last)",
      "\u001b[0;32m/var/folders/xk/73251fs13298n_zs9z8tx_rw0000gn/T/ipykernel_41283/2469701220.py\u001b[0m in \u001b[0;36m<module>\u001b[0;34m\u001b[0m\n\u001b[0;32m----> 1\u001b[0;31m \u001b[0mprint\u001b[0m\u001b[0;34m(\u001b[0m\u001b[0mclassification_report\u001b[0m\u001b[0;34m(\u001b[0m\u001b[0my_test\u001b[0m\u001b[0;34m,\u001b[0m \u001b[0my_preds\u001b[0m\u001b[0;34m)\u001b[0m\u001b[0;34m)\u001b[0m\u001b[0;34m\u001b[0m\u001b[0;34m\u001b[0m\u001b[0m\n\u001b[0m",
      "\u001b[0;31mNameError\u001b[0m: name 'classification_report' is not defined"
     ]
    }
   ],
   "source": [
    "print(classification_report(y_test, y_preds))"
   ]
  },
  {
   "cell_type": "code",
   "execution_count": 10,
   "id": "8b525880",
   "metadata": {},
   "outputs": [
    {
     "ename": "NameError",
     "evalue": "name 'confusion_matrix' is not defined",
     "output_type": "error",
     "traceback": [
      "\u001b[0;31m---------------------------------------------------------------------------\u001b[0m",
      "\u001b[0;31mNameError\u001b[0m                                 Traceback (most recent call last)",
      "\u001b[0;32m/var/folders/xk/73251fs13298n_zs9z8tx_rw0000gn/T/ipykernel_41283/1826355675.py\u001b[0m in \u001b[0;36m<module>\u001b[0;34m\u001b[0m\n\u001b[0;32m----> 1\u001b[0;31m \u001b[0mconfusion_matrix\u001b[0m\u001b[0;34m(\u001b[0m\u001b[0my_test\u001b[0m\u001b[0;34m,\u001b[0m \u001b[0my_preds\u001b[0m\u001b[0;34m)\u001b[0m\u001b[0;34m\u001b[0m\u001b[0;34m\u001b[0m\u001b[0m\n\u001b[0m",
      "\u001b[0;31mNameError\u001b[0m: name 'confusion_matrix' is not defined"
     ]
    }
   ],
   "source": [
    "confusion_matrix(y_test, y_preds)"
   ]
  },
  {
   "cell_type": "code",
   "execution_count": 11,
   "id": "becfe8cf",
   "metadata": {},
   "outputs": [
    {
     "ename": "NameError",
     "evalue": "name 'accuracy_score' is not defined",
     "output_type": "error",
     "traceback": [
      "\u001b[0;31m---------------------------------------------------------------------------\u001b[0m",
      "\u001b[0;31mNameError\u001b[0m                                 Traceback (most recent call last)",
      "\u001b[0;32m/var/folders/xk/73251fs13298n_zs9z8tx_rw0000gn/T/ipykernel_41283/664965469.py\u001b[0m in \u001b[0;36m<module>\u001b[0;34m\u001b[0m\n\u001b[0;32m----> 1\u001b[0;31m \u001b[0maccuracy_score\u001b[0m\u001b[0;34m(\u001b[0m\u001b[0my_test\u001b[0m\u001b[0;34m,\u001b[0m \u001b[0my_preds\u001b[0m\u001b[0;34m)\u001b[0m\u001b[0;34m\u001b[0m\u001b[0;34m\u001b[0m\u001b[0m\n\u001b[0m",
      "\u001b[0;31mNameError\u001b[0m: name 'accuracy_score' is not defined"
     ]
    }
   ],
   "source": [
    "accuracy_score(y_test, y_preds)"
   ]
  },
  {
   "cell_type": "code",
   "execution_count": 12,
   "id": "4435b288",
   "metadata": {},
   "outputs": [
    {
     "name": "stdout",
     "output_type": "stream",
     "text": [
      "0\n",
      "0.8360655737704918\n",
      "0\n",
      "0.8360655737704918\n",
      "0\n",
      "0.8360655737704918\n",
      "0\n",
      "0.8360655737704918\n",
      "0\n",
      "0.8360655737704918\n",
      "0\n",
      "0.8360655737704918\n",
      "0\n",
      "0.8360655737704918\n",
      "0\n",
      "0.8360655737704918\n",
      "0\n",
      "0.8360655737704918\n",
      "[0.8360655737704918, 0, 0, 0, 0, 0, 0, 0, 0]\n"
     ]
    }
   ],
   "source": [
    "high_score = [0] * 9\n",
    "for u in high_score:\n",
    "    print(u)\n",
    "    high_score[u] = clf.score(X_test, y_test)\n",
    "    print(high_score[u])\n",
    "\n",
    "print(high_score)"
   ]
  },
  {
   "cell_type": "code",
   "execution_count": 13,
   "id": "b8acd7ad",
   "metadata": {},
   "outputs": [
    {
     "name": "stdout",
     "output_type": "stream",
     "text": [
      "Trying model with 10 estimators...\n",
      "Model accuracy on test set: 81.97%\n",
      "\n",
      "Trying model with 20 estimators...\n",
      "Model accuracy on test set: 88.52%\n",
      "\n",
      "Trying model with 30 estimators...\n",
      "Model accuracy on test set: 80.33%\n",
      "\n",
      "Trying model with 40 estimators...\n",
      "Model accuracy on test set: 85.25%\n",
      "\n",
      "Trying model with 50 estimators...\n",
      "Model accuracy on test set: 86.89%\n",
      "\n",
      "Trying model with 60 estimators...\n",
      "Model accuracy on test set: 90.16%\n",
      "\n",
      "Trying model with 70 estimators...\n",
      "Model accuracy on test set: 85.25%\n",
      "\n",
      "Trying model with 80 estimators...\n",
      "Model accuracy on test set: 86.89%\n",
      "\n",
      "Trying model with 90 estimators...\n",
      "Model accuracy on test set: 85.25%\n",
      "\n"
     ]
    }
   ],
   "source": [
    "# 5. Improve a model\n",
    "# Try different amount of n_estimators\n",
    "\n",
    "np.random.seed(42)\n",
    "for i in range(10, 100, 10):\n",
    "    print(f\"Trying model with {i} estimators...\")\n",
    "    clf = RandomForestClassifier(n_estimators=i)\n",
    "    clf.fit(X_train, y_train);\n",
    "    print(f\"Model accuracy on test set: {clf.score(X_test, y_test)* 100:.2f}%\\n\")"
   ]
  },
  {
   "cell_type": "code",
   "execution_count": 14,
   "id": "7db2fd46",
   "metadata": {},
   "outputs": [],
   "source": [
    "# 6. Save a model and load it\n",
    "\n",
    "import pickle\n",
    "\n",
    "pickle.dump(clf, open(\"random_forst_model_1.pk1\", \"wb\"))"
   ]
  },
  {
   "cell_type": "code",
   "execution_count": 15,
   "id": "53790928",
   "metadata": {},
   "outputs": [
    {
     "data": {
      "text/plain": [
       "0.8524590163934426"
      ]
     },
     "execution_count": 15,
     "metadata": {},
     "output_type": "execute_result"
    }
   ],
   "source": [
    "loaded_model = pickle.load(open(\"random_forst_model_1.pk1\", \"rb\"))\n",
    "loaded_model.score(X_test, y_test)"
   ]
  },
  {
   "cell_type": "code",
   "execution_count": 16,
   "id": "9b35ed00",
   "metadata": {},
   "outputs": [],
   "source": [
    "what_were_covering = [\n",
    "    \"0. And en-to-end Scikit-Learn workflow\",\n",
    "    \"1. Getting the data ready.\",\n",
    "    \"2. Choose the right estimator/algorithm for our problems.\",\n",
    "    \"3. Fit the model/algorithm and use it to make predictions on our data.\",\n",
    "    \"4. Evaluating a model.\",\n",
    "    \"5. Improve the model.\",\n",
    "    \"6. Save and load a trained model.\",\n",
    "    \"7. Putting it all together!\"\n",
    "]"
   ]
  },
  {
   "cell_type": "code",
   "execution_count": 17,
   "id": "c736d2b8",
   "metadata": {},
   "outputs": [
    {
     "data": {
      "text/plain": [
       "['0. And en-to-end Scikit-Learn workflow',\n",
       " '1. Getting the data ready.',\n",
       " '2. Choose the right estimator/algorithm for our problems.',\n",
       " '3. Fit the model/algorithm and use it to make predictions on our data.',\n",
       " '4. Evaluating a model.',\n",
       " '5. Improve the model.',\n",
       " '6. Save and load a trained model.',\n",
       " '7. Putting it all together!']"
      ]
     },
     "execution_count": 17,
     "metadata": {},
     "output_type": "execute_result"
    }
   ],
   "source": [
    "what_were_covering"
   ]
  },
  {
   "cell_type": "code",
   "execution_count": 18,
   "id": "68a682a3",
   "metadata": {},
   "outputs": [],
   "source": [
    "# Standard imports\n",
    "\n",
    "import numpy as np\n",
    "import pandas as pd\n",
    "import matplotlib.pyplot as plt\n",
    "%matplotlib inline"
   ]
  },
  {
   "cell_type": "markdown",
   "id": "100b32ee",
   "metadata": {},
   "source": [
    "## 1. Getting our data ready to be used with machine learning\n",
    "Three main things we have to do:\n",
    "1. Split the data into features and labels (usually 'X' and 'y')\n",
    "2. Filling (also called imputing) or disregarding missing values.\n",
    "3. Converting non-numerical values to numerical values (also called feature encoding)"
   ]
  },
  {
   "cell_type": "code",
   "execution_count": 19,
   "id": "04ff09c3",
   "metadata": {},
   "outputs": [
    {
     "data": {
      "text/html": [
       "<div>\n",
       "<style scoped>\n",
       "    .dataframe tbody tr th:only-of-type {\n",
       "        vertical-align: middle;\n",
       "    }\n",
       "\n",
       "    .dataframe tbody tr th {\n",
       "        vertical-align: top;\n",
       "    }\n",
       "\n",
       "    .dataframe thead th {\n",
       "        text-align: right;\n",
       "    }\n",
       "</style>\n",
       "<table border=\"1\" class=\"dataframe\">\n",
       "  <thead>\n",
       "    <tr style=\"text-align: right;\">\n",
       "      <th></th>\n",
       "      <th>age</th>\n",
       "      <th>sex</th>\n",
       "      <th>cp</th>\n",
       "      <th>trestbps</th>\n",
       "      <th>chol</th>\n",
       "      <th>fbs</th>\n",
       "      <th>restecg</th>\n",
       "      <th>thalach</th>\n",
       "      <th>exang</th>\n",
       "      <th>oldpeak</th>\n",
       "      <th>slope</th>\n",
       "      <th>ca</th>\n",
       "      <th>thal</th>\n",
       "      <th>target</th>\n",
       "    </tr>\n",
       "  </thead>\n",
       "  <tbody>\n",
       "    <tr>\n",
       "      <th>0</th>\n",
       "      <td>63</td>\n",
       "      <td>1</td>\n",
       "      <td>3</td>\n",
       "      <td>145</td>\n",
       "      <td>233</td>\n",
       "      <td>1</td>\n",
       "      <td>0</td>\n",
       "      <td>150</td>\n",
       "      <td>0</td>\n",
       "      <td>2.3</td>\n",
       "      <td>0</td>\n",
       "      <td>0</td>\n",
       "      <td>1</td>\n",
       "      <td>1</td>\n",
       "    </tr>\n",
       "    <tr>\n",
       "      <th>1</th>\n",
       "      <td>37</td>\n",
       "      <td>1</td>\n",
       "      <td>2</td>\n",
       "      <td>130</td>\n",
       "      <td>250</td>\n",
       "      <td>0</td>\n",
       "      <td>1</td>\n",
       "      <td>187</td>\n",
       "      <td>0</td>\n",
       "      <td>3.5</td>\n",
       "      <td>0</td>\n",
       "      <td>0</td>\n",
       "      <td>2</td>\n",
       "      <td>1</td>\n",
       "    </tr>\n",
       "    <tr>\n",
       "      <th>2</th>\n",
       "      <td>41</td>\n",
       "      <td>0</td>\n",
       "      <td>1</td>\n",
       "      <td>130</td>\n",
       "      <td>204</td>\n",
       "      <td>0</td>\n",
       "      <td>0</td>\n",
       "      <td>172</td>\n",
       "      <td>0</td>\n",
       "      <td>1.4</td>\n",
       "      <td>2</td>\n",
       "      <td>0</td>\n",
       "      <td>2</td>\n",
       "      <td>1</td>\n",
       "    </tr>\n",
       "    <tr>\n",
       "      <th>3</th>\n",
       "      <td>56</td>\n",
       "      <td>1</td>\n",
       "      <td>1</td>\n",
       "      <td>120</td>\n",
       "      <td>236</td>\n",
       "      <td>0</td>\n",
       "      <td>1</td>\n",
       "      <td>178</td>\n",
       "      <td>0</td>\n",
       "      <td>0.8</td>\n",
       "      <td>2</td>\n",
       "      <td>0</td>\n",
       "      <td>2</td>\n",
       "      <td>1</td>\n",
       "    </tr>\n",
       "    <tr>\n",
       "      <th>4</th>\n",
       "      <td>57</td>\n",
       "      <td>0</td>\n",
       "      <td>0</td>\n",
       "      <td>120</td>\n",
       "      <td>354</td>\n",
       "      <td>0</td>\n",
       "      <td>1</td>\n",
       "      <td>163</td>\n",
       "      <td>1</td>\n",
       "      <td>0.6</td>\n",
       "      <td>2</td>\n",
       "      <td>0</td>\n",
       "      <td>2</td>\n",
       "      <td>1</td>\n",
       "    </tr>\n",
       "  </tbody>\n",
       "</table>\n",
       "</div>"
      ],
      "text/plain": [
       "   age  sex  cp  trestbps  chol  fbs  restecg  thalach  exang  oldpeak  slope  \\\n",
       "0   63    1   3       145   233    1        0      150      0      2.3      0   \n",
       "1   37    1   2       130   250    0        1      187      0      3.5      0   \n",
       "2   41    0   1       130   204    0        0      172      0      1.4      2   \n",
       "3   56    1   1       120   236    0        1      178      0      0.8      2   \n",
       "4   57    0   0       120   354    0        1      163      1      0.6      2   \n",
       "\n",
       "   ca  thal  target  \n",
       "0   0     1       1  \n",
       "1   0     2       1  \n",
       "2   0     2       1  \n",
       "3   0     2       1  \n",
       "4   0     2       1  "
      ]
     },
     "execution_count": 19,
     "metadata": {},
     "output_type": "execute_result"
    }
   ],
   "source": [
    "heart_disease.head()"
   ]
  },
  {
   "cell_type": "code",
   "execution_count": 20,
   "id": "6cd419a9",
   "metadata": {},
   "outputs": [
    {
     "data": {
      "text/html": [
       "<div>\n",
       "<style scoped>\n",
       "    .dataframe tbody tr th:only-of-type {\n",
       "        vertical-align: middle;\n",
       "    }\n",
       "\n",
       "    .dataframe tbody tr th {\n",
       "        vertical-align: top;\n",
       "    }\n",
       "\n",
       "    .dataframe thead th {\n",
       "        text-align: right;\n",
       "    }\n",
       "</style>\n",
       "<table border=\"1\" class=\"dataframe\">\n",
       "  <thead>\n",
       "    <tr style=\"text-align: right;\">\n",
       "      <th></th>\n",
       "      <th>age</th>\n",
       "      <th>sex</th>\n",
       "      <th>cp</th>\n",
       "      <th>trestbps</th>\n",
       "      <th>chol</th>\n",
       "      <th>fbs</th>\n",
       "      <th>restecg</th>\n",
       "      <th>thalach</th>\n",
       "      <th>exang</th>\n",
       "      <th>oldpeak</th>\n",
       "      <th>slope</th>\n",
       "      <th>ca</th>\n",
       "      <th>thal</th>\n",
       "    </tr>\n",
       "  </thead>\n",
       "  <tbody>\n",
       "    <tr>\n",
       "      <th>0</th>\n",
       "      <td>63</td>\n",
       "      <td>1</td>\n",
       "      <td>3</td>\n",
       "      <td>145</td>\n",
       "      <td>233</td>\n",
       "      <td>1</td>\n",
       "      <td>0</td>\n",
       "      <td>150</td>\n",
       "      <td>0</td>\n",
       "      <td>2.3</td>\n",
       "      <td>0</td>\n",
       "      <td>0</td>\n",
       "      <td>1</td>\n",
       "    </tr>\n",
       "    <tr>\n",
       "      <th>1</th>\n",
       "      <td>37</td>\n",
       "      <td>1</td>\n",
       "      <td>2</td>\n",
       "      <td>130</td>\n",
       "      <td>250</td>\n",
       "      <td>0</td>\n",
       "      <td>1</td>\n",
       "      <td>187</td>\n",
       "      <td>0</td>\n",
       "      <td>3.5</td>\n",
       "      <td>0</td>\n",
       "      <td>0</td>\n",
       "      <td>2</td>\n",
       "    </tr>\n",
       "    <tr>\n",
       "      <th>2</th>\n",
       "      <td>41</td>\n",
       "      <td>0</td>\n",
       "      <td>1</td>\n",
       "      <td>130</td>\n",
       "      <td>204</td>\n",
       "      <td>0</td>\n",
       "      <td>0</td>\n",
       "      <td>172</td>\n",
       "      <td>0</td>\n",
       "      <td>1.4</td>\n",
       "      <td>2</td>\n",
       "      <td>0</td>\n",
       "      <td>2</td>\n",
       "    </tr>\n",
       "    <tr>\n",
       "      <th>3</th>\n",
       "      <td>56</td>\n",
       "      <td>1</td>\n",
       "      <td>1</td>\n",
       "      <td>120</td>\n",
       "      <td>236</td>\n",
       "      <td>0</td>\n",
       "      <td>1</td>\n",
       "      <td>178</td>\n",
       "      <td>0</td>\n",
       "      <td>0.8</td>\n",
       "      <td>2</td>\n",
       "      <td>0</td>\n",
       "      <td>2</td>\n",
       "    </tr>\n",
       "    <tr>\n",
       "      <th>4</th>\n",
       "      <td>57</td>\n",
       "      <td>0</td>\n",
       "      <td>0</td>\n",
       "      <td>120</td>\n",
       "      <td>354</td>\n",
       "      <td>0</td>\n",
       "      <td>1</td>\n",
       "      <td>163</td>\n",
       "      <td>1</td>\n",
       "      <td>0.6</td>\n",
       "      <td>2</td>\n",
       "      <td>0</td>\n",
       "      <td>2</td>\n",
       "    </tr>\n",
       "  </tbody>\n",
       "</table>\n",
       "</div>"
      ],
      "text/plain": [
       "   age  sex  cp  trestbps  chol  fbs  restecg  thalach  exang  oldpeak  slope  \\\n",
       "0   63    1   3       145   233    1        0      150      0      2.3      0   \n",
       "1   37    1   2       130   250    0        1      187      0      3.5      0   \n",
       "2   41    0   1       130   204    0        0      172      0      1.4      2   \n",
       "3   56    1   1       120   236    0        1      178      0      0.8      2   \n",
       "4   57    0   0       120   354    0        1      163      1      0.6      2   \n",
       "\n",
       "   ca  thal  \n",
       "0   0     1  \n",
       "1   0     2  \n",
       "2   0     2  \n",
       "3   0     2  \n",
       "4   0     2  "
      ]
     },
     "execution_count": 20,
     "metadata": {},
     "output_type": "execute_result"
    }
   ],
   "source": [
    "X = heart_disease.drop(\"target\", axis=1)\n",
    "X.head()"
   ]
  },
  {
   "cell_type": "code",
   "execution_count": 21,
   "id": "eef3b89e",
   "metadata": {},
   "outputs": [
    {
     "data": {
      "text/plain": [
       "0    1\n",
       "1    1\n",
       "2    1\n",
       "3    1\n",
       "4    1\n",
       "Name: target, dtype: int64"
      ]
     },
     "execution_count": 21,
     "metadata": {},
     "output_type": "execute_result"
    }
   ],
   "source": [
    "y = heart_disease[\"target\"]\n",
    "y.head()"
   ]
  },
  {
   "cell_type": "code",
   "execution_count": 22,
   "id": "9443e3d0",
   "metadata": {},
   "outputs": [],
   "source": [
    "# Split the data into training and test sets\n",
    "from sklearn.model_selection import train_test_split\n",
    "\n",
    "X_train, X_teste, y_train, y_test = train_test_split(X, y, test_size=0.2)"
   ]
  },
  {
   "cell_type": "code",
   "execution_count": 23,
   "id": "35828d39",
   "metadata": {},
   "outputs": [
    {
     "data": {
      "text/plain": [
       "((242, 13), (61, 13), (242,), (61,))"
      ]
     },
     "execution_count": 23,
     "metadata": {},
     "output_type": "execute_result"
    }
   ],
   "source": [
    "X_train.shape, X_test.shape, y_train.shape, y_test.shape"
   ]
  },
  {
   "cell_type": "code",
   "execution_count": 24,
   "id": "c6bd4ce3",
   "metadata": {},
   "outputs": [
    {
     "data": {
      "text/plain": [
       "(303, 13)"
      ]
     },
     "execution_count": 24,
     "metadata": {},
     "output_type": "execute_result"
    }
   ],
   "source": [
    "X.shape"
   ]
  },
  {
   "cell_type": "code",
   "execution_count": 25,
   "id": "96738f0d",
   "metadata": {},
   "outputs": [
    {
     "data": {
      "text/plain": [
       "303"
      ]
     },
     "execution_count": 25,
     "metadata": {},
     "output_type": "execute_result"
    }
   ],
   "source": [
    "len(heart_disease)"
   ]
  },
  {
   "cell_type": "markdown",
   "id": "3aa116c3",
   "metadata": {},
   "source": [
    "### 1.1 Make sure it's all numerical"
   ]
  },
  {
   "cell_type": "code",
   "execution_count": 26,
   "id": "c8fa587b",
   "metadata": {},
   "outputs": [
    {
     "data": {
      "text/html": [
       "<div>\n",
       "<style scoped>\n",
       "    .dataframe tbody tr th:only-of-type {\n",
       "        vertical-align: middle;\n",
       "    }\n",
       "\n",
       "    .dataframe tbody tr th {\n",
       "        vertical-align: top;\n",
       "    }\n",
       "\n",
       "    .dataframe thead th {\n",
       "        text-align: right;\n",
       "    }\n",
       "</style>\n",
       "<table border=\"1\" class=\"dataframe\">\n",
       "  <thead>\n",
       "    <tr style=\"text-align: right;\">\n",
       "      <th></th>\n",
       "      <th>Make</th>\n",
       "      <th>Colour</th>\n",
       "      <th>Odometer (KM)</th>\n",
       "      <th>Doors</th>\n",
       "      <th>Price</th>\n",
       "    </tr>\n",
       "  </thead>\n",
       "  <tbody>\n",
       "    <tr>\n",
       "      <th>0</th>\n",
       "      <td>Honda</td>\n",
       "      <td>White</td>\n",
       "      <td>35431</td>\n",
       "      <td>4</td>\n",
       "      <td>15323</td>\n",
       "    </tr>\n",
       "    <tr>\n",
       "      <th>1</th>\n",
       "      <td>BMW</td>\n",
       "      <td>Blue</td>\n",
       "      <td>192714</td>\n",
       "      <td>5</td>\n",
       "      <td>19943</td>\n",
       "    </tr>\n",
       "    <tr>\n",
       "      <th>2</th>\n",
       "      <td>Honda</td>\n",
       "      <td>White</td>\n",
       "      <td>84714</td>\n",
       "      <td>4</td>\n",
       "      <td>28343</td>\n",
       "    </tr>\n",
       "    <tr>\n",
       "      <th>3</th>\n",
       "      <td>Toyota</td>\n",
       "      <td>White</td>\n",
       "      <td>154365</td>\n",
       "      <td>4</td>\n",
       "      <td>13434</td>\n",
       "    </tr>\n",
       "    <tr>\n",
       "      <th>4</th>\n",
       "      <td>Nissan</td>\n",
       "      <td>Blue</td>\n",
       "      <td>181577</td>\n",
       "      <td>3</td>\n",
       "      <td>14043</td>\n",
       "    </tr>\n",
       "  </tbody>\n",
       "</table>\n",
       "</div>"
      ],
      "text/plain": [
       "     Make Colour  Odometer (KM)  Doors  Price\n",
       "0   Honda  White          35431      4  15323\n",
       "1     BMW   Blue         192714      5  19943\n",
       "2   Honda  White          84714      4  28343\n",
       "3  Toyota  White         154365      4  13434\n",
       "4  Nissan   Blue         181577      3  14043"
      ]
     },
     "execution_count": 26,
     "metadata": {},
     "output_type": "execute_result"
    }
   ],
   "source": [
    "car_sales = pd.read_csv(\"car-sales-extended.csv\")\n",
    "car_sales.head()"
   ]
  },
  {
   "cell_type": "code",
   "execution_count": 27,
   "id": "34618a07",
   "metadata": {},
   "outputs": [
    {
     "data": {
      "text/plain": [
       "(1000, 5)"
      ]
     },
     "execution_count": 27,
     "metadata": {},
     "output_type": "execute_result"
    }
   ],
   "source": [
    "car_sales.shape"
   ]
  },
  {
   "cell_type": "code",
   "execution_count": 28,
   "id": "7c1a7d68",
   "metadata": {},
   "outputs": [
    {
     "data": {
      "text/plain": [
       "Make             object\n",
       "Colour           object\n",
       "Odometer (KM)     int64\n",
       "Doors             int64\n",
       "Price             int64\n",
       "dtype: object"
      ]
     },
     "execution_count": 28,
     "metadata": {},
     "output_type": "execute_result"
    }
   ],
   "source": [
    "car_sales.dtypes"
   ]
  },
  {
   "cell_type": "code",
   "execution_count": 29,
   "id": "6828e202",
   "metadata": {},
   "outputs": [],
   "source": [
    "## Getting the data ready\n",
    "X = car_sales.drop(\"Price\", axis=1)\n",
    "y = car_sales[\"Price\"]"
   ]
  },
  {
   "cell_type": "code",
   "execution_count": 30,
   "id": "3167d42a",
   "metadata": {},
   "outputs": [
    {
     "data": {
      "text/plain": [
       "array([[0.00000e+00, 1.00000e+00, 0.00000e+00, ..., 1.00000e+00,\n",
       "        0.00000e+00, 3.54310e+04],\n",
       "       [1.00000e+00, 0.00000e+00, 0.00000e+00, ..., 0.00000e+00,\n",
       "        1.00000e+00, 1.92714e+05],\n",
       "       [0.00000e+00, 1.00000e+00, 0.00000e+00, ..., 1.00000e+00,\n",
       "        0.00000e+00, 8.47140e+04],\n",
       "       ...,\n",
       "       [0.00000e+00, 0.00000e+00, 1.00000e+00, ..., 1.00000e+00,\n",
       "        0.00000e+00, 6.66040e+04],\n",
       "       [0.00000e+00, 1.00000e+00, 0.00000e+00, ..., 1.00000e+00,\n",
       "        0.00000e+00, 2.15883e+05],\n",
       "       [0.00000e+00, 0.00000e+00, 0.00000e+00, ..., 1.00000e+00,\n",
       "        0.00000e+00, 2.48360e+05]])"
      ]
     },
     "execution_count": 30,
     "metadata": {},
     "output_type": "execute_result"
    }
   ],
   "source": [
    "# Turn the categories into numbers\n",
    "from sklearn.preprocessing import OneHotEncoder\n",
    "from sklearn.compose import ColumnTransformer\n",
    "\n",
    "categorical_features = [\"Make\", \"Colour\", \"Doors\"]\n",
    "one_hot = OneHotEncoder()\n",
    "transformer = ColumnTransformer([(\"one_hot\", one_hot, categorical_features)], remainder=\"passthrough\")\n",
    "\n",
    "transformed_X = transformer.fit_transform(X)\n",
    "transformed_X"
   ]
  },
  {
   "cell_type": "code",
   "execution_count": 31,
   "id": "fcfd8342",
   "metadata": {},
   "outputs": [
    {
     "data": {
      "text/html": [
       "<div>\n",
       "<style scoped>\n",
       "    .dataframe tbody tr th:only-of-type {\n",
       "        vertical-align: middle;\n",
       "    }\n",
       "\n",
       "    .dataframe tbody tr th {\n",
       "        vertical-align: top;\n",
       "    }\n",
       "\n",
       "    .dataframe thead th {\n",
       "        text-align: right;\n",
       "    }\n",
       "</style>\n",
       "<table border=\"1\" class=\"dataframe\">\n",
       "  <thead>\n",
       "    <tr style=\"text-align: right;\">\n",
       "      <th></th>\n",
       "      <th>0</th>\n",
       "      <th>1</th>\n",
       "      <th>2</th>\n",
       "      <th>3</th>\n",
       "      <th>4</th>\n",
       "      <th>5</th>\n",
       "      <th>6</th>\n",
       "      <th>7</th>\n",
       "      <th>8</th>\n",
       "      <th>9</th>\n",
       "      <th>10</th>\n",
       "      <th>11</th>\n",
       "      <th>12</th>\n",
       "    </tr>\n",
       "  </thead>\n",
       "  <tbody>\n",
       "    <tr>\n",
       "      <th>0</th>\n",
       "      <td>0.0</td>\n",
       "      <td>1.0</td>\n",
       "      <td>0.0</td>\n",
       "      <td>0.0</td>\n",
       "      <td>0.0</td>\n",
       "      <td>0.0</td>\n",
       "      <td>0.0</td>\n",
       "      <td>0.0</td>\n",
       "      <td>1.0</td>\n",
       "      <td>0.0</td>\n",
       "      <td>1.0</td>\n",
       "      <td>0.0</td>\n",
       "      <td>35431.0</td>\n",
       "    </tr>\n",
       "    <tr>\n",
       "      <th>1</th>\n",
       "      <td>1.0</td>\n",
       "      <td>0.0</td>\n",
       "      <td>0.0</td>\n",
       "      <td>0.0</td>\n",
       "      <td>0.0</td>\n",
       "      <td>1.0</td>\n",
       "      <td>0.0</td>\n",
       "      <td>0.0</td>\n",
       "      <td>0.0</td>\n",
       "      <td>0.0</td>\n",
       "      <td>0.0</td>\n",
       "      <td>1.0</td>\n",
       "      <td>192714.0</td>\n",
       "    </tr>\n",
       "    <tr>\n",
       "      <th>2</th>\n",
       "      <td>0.0</td>\n",
       "      <td>1.0</td>\n",
       "      <td>0.0</td>\n",
       "      <td>0.0</td>\n",
       "      <td>0.0</td>\n",
       "      <td>0.0</td>\n",
       "      <td>0.0</td>\n",
       "      <td>0.0</td>\n",
       "      <td>1.0</td>\n",
       "      <td>0.0</td>\n",
       "      <td>1.0</td>\n",
       "      <td>0.0</td>\n",
       "      <td>84714.0</td>\n",
       "    </tr>\n",
       "    <tr>\n",
       "      <th>3</th>\n",
       "      <td>0.0</td>\n",
       "      <td>0.0</td>\n",
       "      <td>0.0</td>\n",
       "      <td>1.0</td>\n",
       "      <td>0.0</td>\n",
       "      <td>0.0</td>\n",
       "      <td>0.0</td>\n",
       "      <td>0.0</td>\n",
       "      <td>1.0</td>\n",
       "      <td>0.0</td>\n",
       "      <td>1.0</td>\n",
       "      <td>0.0</td>\n",
       "      <td>154365.0</td>\n",
       "    </tr>\n",
       "    <tr>\n",
       "      <th>4</th>\n",
       "      <td>0.0</td>\n",
       "      <td>0.0</td>\n",
       "      <td>1.0</td>\n",
       "      <td>0.0</td>\n",
       "      <td>0.0</td>\n",
       "      <td>1.0</td>\n",
       "      <td>0.0</td>\n",
       "      <td>0.0</td>\n",
       "      <td>0.0</td>\n",
       "      <td>1.0</td>\n",
       "      <td>0.0</td>\n",
       "      <td>0.0</td>\n",
       "      <td>181577.0</td>\n",
       "    </tr>\n",
       "    <tr>\n",
       "      <th>...</th>\n",
       "      <td>...</td>\n",
       "      <td>...</td>\n",
       "      <td>...</td>\n",
       "      <td>...</td>\n",
       "      <td>...</td>\n",
       "      <td>...</td>\n",
       "      <td>...</td>\n",
       "      <td>...</td>\n",
       "      <td>...</td>\n",
       "      <td>...</td>\n",
       "      <td>...</td>\n",
       "      <td>...</td>\n",
       "      <td>...</td>\n",
       "    </tr>\n",
       "    <tr>\n",
       "      <th>995</th>\n",
       "      <td>0.0</td>\n",
       "      <td>0.0</td>\n",
       "      <td>0.0</td>\n",
       "      <td>1.0</td>\n",
       "      <td>1.0</td>\n",
       "      <td>0.0</td>\n",
       "      <td>0.0</td>\n",
       "      <td>0.0</td>\n",
       "      <td>0.0</td>\n",
       "      <td>0.0</td>\n",
       "      <td>1.0</td>\n",
       "      <td>0.0</td>\n",
       "      <td>35820.0</td>\n",
       "    </tr>\n",
       "    <tr>\n",
       "      <th>996</th>\n",
       "      <td>0.0</td>\n",
       "      <td>0.0</td>\n",
       "      <td>1.0</td>\n",
       "      <td>0.0</td>\n",
       "      <td>0.0</td>\n",
       "      <td>0.0</td>\n",
       "      <td>0.0</td>\n",
       "      <td>0.0</td>\n",
       "      <td>1.0</td>\n",
       "      <td>1.0</td>\n",
       "      <td>0.0</td>\n",
       "      <td>0.0</td>\n",
       "      <td>155144.0</td>\n",
       "    </tr>\n",
       "    <tr>\n",
       "      <th>997</th>\n",
       "      <td>0.0</td>\n",
       "      <td>0.0</td>\n",
       "      <td>1.0</td>\n",
       "      <td>0.0</td>\n",
       "      <td>0.0</td>\n",
       "      <td>1.0</td>\n",
       "      <td>0.0</td>\n",
       "      <td>0.0</td>\n",
       "      <td>0.0</td>\n",
       "      <td>0.0</td>\n",
       "      <td>1.0</td>\n",
       "      <td>0.0</td>\n",
       "      <td>66604.0</td>\n",
       "    </tr>\n",
       "    <tr>\n",
       "      <th>998</th>\n",
       "      <td>0.0</td>\n",
       "      <td>1.0</td>\n",
       "      <td>0.0</td>\n",
       "      <td>0.0</td>\n",
       "      <td>0.0</td>\n",
       "      <td>0.0</td>\n",
       "      <td>0.0</td>\n",
       "      <td>0.0</td>\n",
       "      <td>1.0</td>\n",
       "      <td>0.0</td>\n",
       "      <td>1.0</td>\n",
       "      <td>0.0</td>\n",
       "      <td>215883.0</td>\n",
       "    </tr>\n",
       "    <tr>\n",
       "      <th>999</th>\n",
       "      <td>0.0</td>\n",
       "      <td>0.0</td>\n",
       "      <td>0.0</td>\n",
       "      <td>1.0</td>\n",
       "      <td>0.0</td>\n",
       "      <td>1.0</td>\n",
       "      <td>0.0</td>\n",
       "      <td>0.0</td>\n",
       "      <td>0.0</td>\n",
       "      <td>0.0</td>\n",
       "      <td>1.0</td>\n",
       "      <td>0.0</td>\n",
       "      <td>248360.0</td>\n",
       "    </tr>\n",
       "  </tbody>\n",
       "</table>\n",
       "<p>1000 rows × 13 columns</p>\n",
       "</div>"
      ],
      "text/plain": [
       "      0    1    2    3    4    5    6    7    8    9    10   11        12\n",
       "0    0.0  1.0  0.0  0.0  0.0  0.0  0.0  0.0  1.0  0.0  1.0  0.0   35431.0\n",
       "1    1.0  0.0  0.0  0.0  0.0  1.0  0.0  0.0  0.0  0.0  0.0  1.0  192714.0\n",
       "2    0.0  1.0  0.0  0.0  0.0  0.0  0.0  0.0  1.0  0.0  1.0  0.0   84714.0\n",
       "3    0.0  0.0  0.0  1.0  0.0  0.0  0.0  0.0  1.0  0.0  1.0  0.0  154365.0\n",
       "4    0.0  0.0  1.0  0.0  0.0  1.0  0.0  0.0  0.0  1.0  0.0  0.0  181577.0\n",
       "..   ...  ...  ...  ...  ...  ...  ...  ...  ...  ...  ...  ...       ...\n",
       "995  0.0  0.0  0.0  1.0  1.0  0.0  0.0  0.0  0.0  0.0  1.0  0.0   35820.0\n",
       "996  0.0  0.0  1.0  0.0  0.0  0.0  0.0  0.0  1.0  1.0  0.0  0.0  155144.0\n",
       "997  0.0  0.0  1.0  0.0  0.0  1.0  0.0  0.0  0.0  0.0  1.0  0.0   66604.0\n",
       "998  0.0  1.0  0.0  0.0  0.0  0.0  0.0  0.0  1.0  0.0  1.0  0.0  215883.0\n",
       "999  0.0  0.0  0.0  1.0  0.0  1.0  0.0  0.0  0.0  0.0  1.0  0.0  248360.0\n",
       "\n",
       "[1000 rows x 13 columns]"
      ]
     },
     "execution_count": 31,
     "metadata": {},
     "output_type": "execute_result"
    }
   ],
   "source": [
    "pd.DataFrame(transformed_X)"
   ]
  },
  {
   "cell_type": "code",
   "execution_count": 32,
   "id": "f4e41f4a",
   "metadata": {},
   "outputs": [
    {
     "data": {
      "text/plain": [
       "['0. And en-to-end Scikit-Learn workflow',\n",
       " '1. Getting the data ready.',\n",
       " '2. Choose the right estimator/algorithm for our problems.',\n",
       " '3. Fit the model/algorithm and use it to make predictions on our data.',\n",
       " '4. Evaluating a model.',\n",
       " '5. Improve the model.',\n",
       " '6. Save and load a trained model.',\n",
       " '7. Putting it all together!']"
      ]
     },
     "execution_count": 32,
     "metadata": {},
     "output_type": "execute_result"
    }
   ],
   "source": [
    "what_were_covering"
   ]
  },
  {
   "cell_type": "code",
   "execution_count": 33,
   "id": "01e08317",
   "metadata": {},
   "outputs": [],
   "source": [
    "## Split the data into training and test set\n",
    "np.random.seed(42)\n",
    "\n",
    "X_train, X_test, y_train, y_test = train_test_split(transformed_X, y, test_size=0.2)"
   ]
  },
  {
   "cell_type": "code",
   "execution_count": 34,
   "id": "56870429",
   "metadata": {},
   "outputs": [],
   "source": [
    "## Choosing the random forest regression algorithm to predict values of the price\n",
    "from sklearn.ensemble import RandomForestRegressor"
   ]
  },
  {
   "cell_type": "code",
   "execution_count": 35,
   "id": "095faf95",
   "metadata": {},
   "outputs": [
    {
     "data": {
      "text/plain": [
       "0.3235867221569877"
      ]
     },
     "execution_count": 35,
     "metadata": {},
     "output_type": "execute_result"
    }
   ],
   "source": [
    "## Buid machine learning model\n",
    "model = RandomForestRegressor()\n",
    "model.fit(X_train, y_train)\n",
    "model.score(X_test, y_test)"
   ]
  },
  {
   "cell_type": "markdown",
   "id": "362eeaef",
   "metadata": {},
   "source": [
    "### 1.2 What if there were missing values?\n",
    "1. Fill them with some values (also known as imputation)\n",
    "2. Remove the samples with missing data altogether."
   ]
  },
  {
   "cell_type": "code",
   "execution_count": 36,
   "id": "a9e7860b",
   "metadata": {},
   "outputs": [],
   "source": [
    "# Import car sales missing data\n",
    "\n",
    "car_sales_missing = pd.read_csv(\"car-sales-extended-missing-data.csv\")"
   ]
  },
  {
   "cell_type": "code",
   "execution_count": 37,
   "id": "7c06d5da",
   "metadata": {},
   "outputs": [
    {
     "data": {
      "text/html": [
       "<div>\n",
       "<style scoped>\n",
       "    .dataframe tbody tr th:only-of-type {\n",
       "        vertical-align: middle;\n",
       "    }\n",
       "\n",
       "    .dataframe tbody tr th {\n",
       "        vertical-align: top;\n",
       "    }\n",
       "\n",
       "    .dataframe thead th {\n",
       "        text-align: right;\n",
       "    }\n",
       "</style>\n",
       "<table border=\"1\" class=\"dataframe\">\n",
       "  <thead>\n",
       "    <tr style=\"text-align: right;\">\n",
       "      <th></th>\n",
       "      <th>Make</th>\n",
       "      <th>Colour</th>\n",
       "      <th>Odometer (KM)</th>\n",
       "      <th>Doors</th>\n",
       "      <th>Price</th>\n",
       "    </tr>\n",
       "  </thead>\n",
       "  <tbody>\n",
       "    <tr>\n",
       "      <th>0</th>\n",
       "      <td>Honda</td>\n",
       "      <td>White</td>\n",
       "      <td>35431.0</td>\n",
       "      <td>4.0</td>\n",
       "      <td>15323.0</td>\n",
       "    </tr>\n",
       "    <tr>\n",
       "      <th>1</th>\n",
       "      <td>BMW</td>\n",
       "      <td>Blue</td>\n",
       "      <td>192714.0</td>\n",
       "      <td>5.0</td>\n",
       "      <td>19943.0</td>\n",
       "    </tr>\n",
       "    <tr>\n",
       "      <th>2</th>\n",
       "      <td>Honda</td>\n",
       "      <td>White</td>\n",
       "      <td>84714.0</td>\n",
       "      <td>4.0</td>\n",
       "      <td>28343.0</td>\n",
       "    </tr>\n",
       "    <tr>\n",
       "      <th>3</th>\n",
       "      <td>Toyota</td>\n",
       "      <td>White</td>\n",
       "      <td>154365.0</td>\n",
       "      <td>4.0</td>\n",
       "      <td>13434.0</td>\n",
       "    </tr>\n",
       "    <tr>\n",
       "      <th>4</th>\n",
       "      <td>Nissan</td>\n",
       "      <td>Blue</td>\n",
       "      <td>181577.0</td>\n",
       "      <td>3.0</td>\n",
       "      <td>14043.0</td>\n",
       "    </tr>\n",
       "    <tr>\n",
       "      <th>...</th>\n",
       "      <td>...</td>\n",
       "      <td>...</td>\n",
       "      <td>...</td>\n",
       "      <td>...</td>\n",
       "      <td>...</td>\n",
       "    </tr>\n",
       "    <tr>\n",
       "      <th>995</th>\n",
       "      <td>Toyota</td>\n",
       "      <td>Black</td>\n",
       "      <td>35820.0</td>\n",
       "      <td>4.0</td>\n",
       "      <td>32042.0</td>\n",
       "    </tr>\n",
       "    <tr>\n",
       "      <th>996</th>\n",
       "      <td>NaN</td>\n",
       "      <td>White</td>\n",
       "      <td>155144.0</td>\n",
       "      <td>3.0</td>\n",
       "      <td>5716.0</td>\n",
       "    </tr>\n",
       "    <tr>\n",
       "      <th>997</th>\n",
       "      <td>Nissan</td>\n",
       "      <td>Blue</td>\n",
       "      <td>66604.0</td>\n",
       "      <td>4.0</td>\n",
       "      <td>31570.0</td>\n",
       "    </tr>\n",
       "    <tr>\n",
       "      <th>998</th>\n",
       "      <td>Honda</td>\n",
       "      <td>White</td>\n",
       "      <td>215883.0</td>\n",
       "      <td>4.0</td>\n",
       "      <td>4001.0</td>\n",
       "    </tr>\n",
       "    <tr>\n",
       "      <th>999</th>\n",
       "      <td>Toyota</td>\n",
       "      <td>Blue</td>\n",
       "      <td>248360.0</td>\n",
       "      <td>4.0</td>\n",
       "      <td>12732.0</td>\n",
       "    </tr>\n",
       "  </tbody>\n",
       "</table>\n",
       "<p>1000 rows × 5 columns</p>\n",
       "</div>"
      ],
      "text/plain": [
       "       Make Colour  Odometer (KM)  Doors    Price\n",
       "0     Honda  White        35431.0    4.0  15323.0\n",
       "1       BMW   Blue       192714.0    5.0  19943.0\n",
       "2     Honda  White        84714.0    4.0  28343.0\n",
       "3    Toyota  White       154365.0    4.0  13434.0\n",
       "4    Nissan   Blue       181577.0    3.0  14043.0\n",
       "..      ...    ...            ...    ...      ...\n",
       "995  Toyota  Black        35820.0    4.0  32042.0\n",
       "996     NaN  White       155144.0    3.0   5716.0\n",
       "997  Nissan   Blue        66604.0    4.0  31570.0\n",
       "998   Honda  White       215883.0    4.0   4001.0\n",
       "999  Toyota   Blue       248360.0    4.0  12732.0\n",
       "\n",
       "[1000 rows x 5 columns]"
      ]
     },
     "execution_count": 37,
     "metadata": {},
     "output_type": "execute_result"
    }
   ],
   "source": [
    "car_sales_missing"
   ]
  },
  {
   "cell_type": "code",
   "execution_count": 38,
   "id": "2e961c5c",
   "metadata": {},
   "outputs": [
    {
     "data": {
      "text/plain": [
       "Make             49\n",
       "Colour           50\n",
       "Odometer (KM)    50\n",
       "Doors            50\n",
       "Price            50\n",
       "dtype: int64"
      ]
     },
     "execution_count": 38,
     "metadata": {},
     "output_type": "execute_result"
    }
   ],
   "source": [
    "# How see if have some missing data on dataset\n",
    "car_sales_missing.isna().sum()"
   ]
  },
  {
   "cell_type": "code",
   "execution_count": 39,
   "id": "cbef66f0",
   "metadata": {},
   "outputs": [
    {
     "data": {
      "text/html": [
       "<div>\n",
       "<style scoped>\n",
       "    .dataframe tbody tr th:only-of-type {\n",
       "        vertical-align: middle;\n",
       "    }\n",
       "\n",
       "    .dataframe tbody tr th {\n",
       "        vertical-align: top;\n",
       "    }\n",
       "\n",
       "    .dataframe thead th {\n",
       "        text-align: right;\n",
       "    }\n",
       "</style>\n",
       "<table border=\"1\" class=\"dataframe\">\n",
       "  <thead>\n",
       "    <tr style=\"text-align: right;\">\n",
       "      <th></th>\n",
       "      <th>Make</th>\n",
       "      <th>Colour</th>\n",
       "      <th>Odometer (KM)</th>\n",
       "      <th>Doors</th>\n",
       "    </tr>\n",
       "  </thead>\n",
       "  <tbody>\n",
       "    <tr>\n",
       "      <th>0</th>\n",
       "      <td>Honda</td>\n",
       "      <td>White</td>\n",
       "      <td>35431.0</td>\n",
       "      <td>4.0</td>\n",
       "    </tr>\n",
       "    <tr>\n",
       "      <th>1</th>\n",
       "      <td>BMW</td>\n",
       "      <td>Blue</td>\n",
       "      <td>192714.0</td>\n",
       "      <td>5.0</td>\n",
       "    </tr>\n",
       "    <tr>\n",
       "      <th>2</th>\n",
       "      <td>Honda</td>\n",
       "      <td>White</td>\n",
       "      <td>84714.0</td>\n",
       "      <td>4.0</td>\n",
       "    </tr>\n",
       "    <tr>\n",
       "      <th>3</th>\n",
       "      <td>Toyota</td>\n",
       "      <td>White</td>\n",
       "      <td>154365.0</td>\n",
       "      <td>4.0</td>\n",
       "    </tr>\n",
       "    <tr>\n",
       "      <th>4</th>\n",
       "      <td>Nissan</td>\n",
       "      <td>Blue</td>\n",
       "      <td>181577.0</td>\n",
       "      <td>3.0</td>\n",
       "    </tr>\n",
       "    <tr>\n",
       "      <th>...</th>\n",
       "      <td>...</td>\n",
       "      <td>...</td>\n",
       "      <td>...</td>\n",
       "      <td>...</td>\n",
       "    </tr>\n",
       "    <tr>\n",
       "      <th>995</th>\n",
       "      <td>Toyota</td>\n",
       "      <td>Black</td>\n",
       "      <td>35820.0</td>\n",
       "      <td>4.0</td>\n",
       "    </tr>\n",
       "    <tr>\n",
       "      <th>996</th>\n",
       "      <td>NaN</td>\n",
       "      <td>White</td>\n",
       "      <td>155144.0</td>\n",
       "      <td>3.0</td>\n",
       "    </tr>\n",
       "    <tr>\n",
       "      <th>997</th>\n",
       "      <td>Nissan</td>\n",
       "      <td>Blue</td>\n",
       "      <td>66604.0</td>\n",
       "      <td>4.0</td>\n",
       "    </tr>\n",
       "    <tr>\n",
       "      <th>998</th>\n",
       "      <td>Honda</td>\n",
       "      <td>White</td>\n",
       "      <td>215883.0</td>\n",
       "      <td>4.0</td>\n",
       "    </tr>\n",
       "    <tr>\n",
       "      <th>999</th>\n",
       "      <td>Toyota</td>\n",
       "      <td>Blue</td>\n",
       "      <td>248360.0</td>\n",
       "      <td>4.0</td>\n",
       "    </tr>\n",
       "  </tbody>\n",
       "</table>\n",
       "<p>1000 rows × 4 columns</p>\n",
       "</div>"
      ],
      "text/plain": [
       "       Make Colour  Odometer (KM)  Doors\n",
       "0     Honda  White        35431.0    4.0\n",
       "1       BMW   Blue       192714.0    5.0\n",
       "2     Honda  White        84714.0    4.0\n",
       "3    Toyota  White       154365.0    4.0\n",
       "4    Nissan   Blue       181577.0    3.0\n",
       "..      ...    ...            ...    ...\n",
       "995  Toyota  Black        35820.0    4.0\n",
       "996     NaN  White       155144.0    3.0\n",
       "997  Nissan   Blue        66604.0    4.0\n",
       "998   Honda  White       215883.0    4.0\n",
       "999  Toyota   Blue       248360.0    4.0\n",
       "\n",
       "[1000 rows x 4 columns]"
      ]
     },
     "execution_count": 39,
     "metadata": {},
     "output_type": "execute_result"
    }
   ],
   "source": [
    "# Create X and y\n",
    "X = car_sales_missing.drop(\"Price\", axis=1)\n",
    "y = car_sales_missing[\"Price\"]\n",
    "X"
   ]
  },
  {
   "cell_type": "code",
   "execution_count": 40,
   "id": "d226f82c",
   "metadata": {},
   "outputs": [],
   "source": [
    "# ## Fill missing data with pandas\n",
    "# car_sales_missing[\"Make\"].fillna(missing, inplace=True)\n",
    "\n",
    "# car_sales_missing[\"Colour\"].fillna(missing, inplace=True)\n",
    "\n",
    "# car_sales_missing[\"Odometer (KM)\"].fillna(car_sales_missing[\"Odometer (KM)\"].mean(), inplace=True)\n",
    "\n",
    "# car_sales_missing[\"Doors\"].fillna(4, inplace=True)"
   ]
  },
  {
   "cell_type": "code",
   "execution_count": 41,
   "id": "98b13f58",
   "metadata": {},
   "outputs": [],
   "source": [
    "# Remove rows with missing price value\n",
    "car_sales_missing.dropna(inplace=True)"
   ]
  },
  {
   "cell_type": "code",
   "execution_count": 42,
   "id": "ce48a164",
   "metadata": {},
   "outputs": [
    {
     "data": {
      "text/plain": [
       "Make             0\n",
       "Colour           0\n",
       "Odometer (KM)    0\n",
       "Doors            0\n",
       "Price            0\n",
       "dtype: int64"
      ]
     },
     "execution_count": 42,
     "metadata": {},
     "output_type": "execute_result"
    }
   ],
   "source": [
    "car_sales_missing.isna().sum()"
   ]
  },
  {
   "cell_type": "code",
   "execution_count": null,
   "id": "6806056f",
   "metadata": {},
   "outputs": [],
   "source": []
  },
  {
   "cell_type": "code",
   "execution_count": null,
   "id": "2b45593e",
   "metadata": {},
   "outputs": [],
   "source": []
  },
  {
   "cell_type": "code",
   "execution_count": null,
   "id": "8b7dacce",
   "metadata": {},
   "outputs": [],
   "source": []
  },
  {
   "cell_type": "code",
   "execution_count": 43,
   "id": "a04d410c",
   "metadata": {},
   "outputs": [
    {
     "data": {
      "text/plain": [
       "<1000x16 sparse matrix of type '<class 'numpy.float64'>'\n",
       "\twith 4000 stored elements in Compressed Sparse Row format>"
      ]
     },
     "execution_count": 43,
     "metadata": {},
     "output_type": "execute_result"
    }
   ],
   "source": [
    "# Let's try and convert our data into numbers\n",
    "from sklearn.preprocessing import OneHotEncoder\n",
    "from sklearn.compose import ColumnTransformer\n",
    "\n",
    "categorical_features = [\"Make\", \"Colour\", \"Doors\"]\n",
    "one_hot = OneHotEncoder()\n",
    "\n",
    "transformer = ColumnTransformer([(\"one_not\",\n",
    "                                 one_hot,\n",
    "                                 categorical_features)],\n",
    "                               remainder=\"passthrough\")\n",
    "\n",
    "transformed_X = transformer.fit_transform(X)\n",
    "transformed_X"
   ]
  },
  {
   "cell_type": "code",
   "execution_count": 44,
   "id": "65182aa7",
   "metadata": {},
   "outputs": [],
   "source": [
    "transformed_X = pd.DataFrame(transformed_X)"
   ]
  },
  {
   "cell_type": "code",
   "execution_count": 45,
   "id": "d01b3ec0",
   "metadata": {},
   "outputs": [
    {
     "data": {
      "text/html": [
       "<div>\n",
       "<style scoped>\n",
       "    .dataframe tbody tr th:only-of-type {\n",
       "        vertical-align: middle;\n",
       "    }\n",
       "\n",
       "    .dataframe tbody tr th {\n",
       "        vertical-align: top;\n",
       "    }\n",
       "\n",
       "    .dataframe thead th {\n",
       "        text-align: right;\n",
       "    }\n",
       "</style>\n",
       "<table border=\"1\" class=\"dataframe\">\n",
       "  <thead>\n",
       "    <tr style=\"text-align: right;\">\n",
       "      <th></th>\n",
       "      <th>0</th>\n",
       "    </tr>\n",
       "  </thead>\n",
       "  <tbody>\n",
       "    <tr>\n",
       "      <th>0</th>\n",
       "      <td>(0, 1)\\t1.0\\n  (0, 9)\\t1.0\\n  (0, 12)\\t1.0\\n...</td>\n",
       "    </tr>\n",
       "    <tr>\n",
       "      <th>1</th>\n",
       "      <td>(0, 0)\\t1.0\\n  (0, 6)\\t1.0\\n  (0, 13)\\t1.0\\n...</td>\n",
       "    </tr>\n",
       "    <tr>\n",
       "      <th>2</th>\n",
       "      <td>(0, 1)\\t1.0\\n  (0, 9)\\t1.0\\n  (0, 12)\\t1.0\\n...</td>\n",
       "    </tr>\n",
       "    <tr>\n",
       "      <th>3</th>\n",
       "      <td>(0, 3)\\t1.0\\n  (0, 9)\\t1.0\\n  (0, 12)\\t1.0\\n...</td>\n",
       "    </tr>\n",
       "    <tr>\n",
       "      <th>4</th>\n",
       "      <td>(0, 2)\\t1.0\\n  (0, 6)\\t1.0\\n  (0, 11)\\t1.0\\n...</td>\n",
       "    </tr>\n",
       "    <tr>\n",
       "      <th>...</th>\n",
       "      <td>...</td>\n",
       "    </tr>\n",
       "    <tr>\n",
       "      <th>995</th>\n",
       "      <td>(0, 3)\\t1.0\\n  (0, 5)\\t1.0\\n  (0, 12)\\t1.0\\n...</td>\n",
       "    </tr>\n",
       "    <tr>\n",
       "      <th>996</th>\n",
       "      <td>(0, 4)\\t1.0\\n  (0, 9)\\t1.0\\n  (0, 11)\\t1.0\\n...</td>\n",
       "    </tr>\n",
       "    <tr>\n",
       "      <th>997</th>\n",
       "      <td>(0, 2)\\t1.0\\n  (0, 6)\\t1.0\\n  (0, 12)\\t1.0\\n...</td>\n",
       "    </tr>\n",
       "    <tr>\n",
       "      <th>998</th>\n",
       "      <td>(0, 1)\\t1.0\\n  (0, 9)\\t1.0\\n  (0, 12)\\t1.0\\n...</td>\n",
       "    </tr>\n",
       "    <tr>\n",
       "      <th>999</th>\n",
       "      <td>(0, 3)\\t1.0\\n  (0, 6)\\t1.0\\n  (0, 12)\\t1.0\\n...</td>\n",
       "    </tr>\n",
       "  </tbody>\n",
       "</table>\n",
       "<p>1000 rows × 1 columns</p>\n",
       "</div>"
      ],
      "text/plain": [
       "                                                     0\n",
       "0      (0, 1)\\t1.0\\n  (0, 9)\\t1.0\\n  (0, 12)\\t1.0\\n...\n",
       "1      (0, 0)\\t1.0\\n  (0, 6)\\t1.0\\n  (0, 13)\\t1.0\\n...\n",
       "2      (0, 1)\\t1.0\\n  (0, 9)\\t1.0\\n  (0, 12)\\t1.0\\n...\n",
       "3      (0, 3)\\t1.0\\n  (0, 9)\\t1.0\\n  (0, 12)\\t1.0\\n...\n",
       "4      (0, 2)\\t1.0\\n  (0, 6)\\t1.0\\n  (0, 11)\\t1.0\\n...\n",
       "..                                                 ...\n",
       "995    (0, 3)\\t1.0\\n  (0, 5)\\t1.0\\n  (0, 12)\\t1.0\\n...\n",
       "996    (0, 4)\\t1.0\\n  (0, 9)\\t1.0\\n  (0, 11)\\t1.0\\n...\n",
       "997    (0, 2)\\t1.0\\n  (0, 6)\\t1.0\\n  (0, 12)\\t1.0\\n...\n",
       "998    (0, 1)\\t1.0\\n  (0, 9)\\t1.0\\n  (0, 12)\\t1.0\\n...\n",
       "999    (0, 3)\\t1.0\\n  (0, 6)\\t1.0\\n  (0, 12)\\t1.0\\n...\n",
       "\n",
       "[1000 rows x 1 columns]"
      ]
     },
     "execution_count": 45,
     "metadata": {},
     "output_type": "execute_result"
    }
   ],
   "source": [
    "transformed_X"
   ]
  },
  {
   "cell_type": "code",
   "execution_count": 46,
   "id": "5918438e",
   "metadata": {},
   "outputs": [],
   "source": [
    "car_sales_missing = pd.read_csv(\"car-sales-extended-missing-data.csv\")"
   ]
  },
  {
   "cell_type": "code",
   "execution_count": 47,
   "id": "ef014233",
   "metadata": {},
   "outputs": [
    {
     "data": {
      "text/html": [
       "<div>\n",
       "<style scoped>\n",
       "    .dataframe tbody tr th:only-of-type {\n",
       "        vertical-align: middle;\n",
       "    }\n",
       "\n",
       "    .dataframe tbody tr th {\n",
       "        vertical-align: top;\n",
       "    }\n",
       "\n",
       "    .dataframe thead th {\n",
       "        text-align: right;\n",
       "    }\n",
       "</style>\n",
       "<table border=\"1\" class=\"dataframe\">\n",
       "  <thead>\n",
       "    <tr style=\"text-align: right;\">\n",
       "      <th></th>\n",
       "      <th>Make</th>\n",
       "      <th>Colour</th>\n",
       "      <th>Odometer (KM)</th>\n",
       "      <th>Doors</th>\n",
       "      <th>Price</th>\n",
       "    </tr>\n",
       "  </thead>\n",
       "  <tbody>\n",
       "    <tr>\n",
       "      <th>0</th>\n",
       "      <td>Honda</td>\n",
       "      <td>White</td>\n",
       "      <td>35431.0</td>\n",
       "      <td>4.0</td>\n",
       "      <td>15323.0</td>\n",
       "    </tr>\n",
       "    <tr>\n",
       "      <th>1</th>\n",
       "      <td>BMW</td>\n",
       "      <td>Blue</td>\n",
       "      <td>192714.0</td>\n",
       "      <td>5.0</td>\n",
       "      <td>19943.0</td>\n",
       "    </tr>\n",
       "    <tr>\n",
       "      <th>2</th>\n",
       "      <td>Honda</td>\n",
       "      <td>White</td>\n",
       "      <td>84714.0</td>\n",
       "      <td>4.0</td>\n",
       "      <td>28343.0</td>\n",
       "    </tr>\n",
       "    <tr>\n",
       "      <th>3</th>\n",
       "      <td>Toyota</td>\n",
       "      <td>White</td>\n",
       "      <td>154365.0</td>\n",
       "      <td>4.0</td>\n",
       "      <td>13434.0</td>\n",
       "    </tr>\n",
       "    <tr>\n",
       "      <th>4</th>\n",
       "      <td>Nissan</td>\n",
       "      <td>Blue</td>\n",
       "      <td>181577.0</td>\n",
       "      <td>3.0</td>\n",
       "      <td>14043.0</td>\n",
       "    </tr>\n",
       "  </tbody>\n",
       "</table>\n",
       "</div>"
      ],
      "text/plain": [
       "     Make Colour  Odometer (KM)  Doors    Price\n",
       "0   Honda  White        35431.0    4.0  15323.0\n",
       "1     BMW   Blue       192714.0    5.0  19943.0\n",
       "2   Honda  White        84714.0    4.0  28343.0\n",
       "3  Toyota  White       154365.0    4.0  13434.0\n",
       "4  Nissan   Blue       181577.0    3.0  14043.0"
      ]
     },
     "execution_count": 47,
     "metadata": {},
     "output_type": "execute_result"
    }
   ],
   "source": [
    "car_sales_missing.head()"
   ]
  },
  {
   "cell_type": "code",
   "execution_count": 48,
   "id": "a9598c07",
   "metadata": {},
   "outputs": [
    {
     "data": {
      "text/plain": [
       "Make             49\n",
       "Colour           50\n",
       "Odometer (KM)    50\n",
       "Doors            50\n",
       "Price            50\n",
       "dtype: int64"
      ]
     },
     "execution_count": 48,
     "metadata": {},
     "output_type": "execute_result"
    }
   ],
   "source": [
    "car_sales_missing.isna().sum()"
   ]
  },
  {
   "cell_type": "code",
   "execution_count": 49,
   "id": "95671fbf",
   "metadata": {},
   "outputs": [
    {
     "data": {
      "text/plain": [
       "Make             47\n",
       "Colour           46\n",
       "Odometer (KM)    48\n",
       "Doors            47\n",
       "Price             0\n",
       "dtype: int64"
      ]
     },
     "execution_count": 49,
     "metadata": {},
     "output_type": "execute_result"
    }
   ],
   "source": [
    "car_sales_missing.dropna(subset=[\"Price\"], inplace=True)\n",
    "car_sales_missing.isna().sum()"
   ]
  },
  {
   "cell_type": "code",
   "execution_count": 50,
   "id": "3d65223e",
   "metadata": {},
   "outputs": [],
   "source": [
    "# Split into X and y\n",
    "\n",
    "X = car_sales_missing.drop(\"Price\", axis=1)\n",
    "y = car_sales_missing[\"Price\"]"
   ]
  },
  {
   "cell_type": "code",
   "execution_count": 51,
   "id": "9e296ba8",
   "metadata": {},
   "outputs": [
    {
     "data": {
      "text/plain": [
       "Make             47\n",
       "Colour           46\n",
       "Odometer (KM)    48\n",
       "Doors            47\n",
       "dtype: int64"
      ]
     },
     "execution_count": 51,
     "metadata": {},
     "output_type": "execute_result"
    }
   ],
   "source": [
    "X.isna().sum()"
   ]
  },
  {
   "cell_type": "code",
   "execution_count": 52,
   "id": "81894629",
   "metadata": {},
   "outputs": [],
   "source": [
    "## Split the data into training and test set\n",
    "X_train, X_test, y_train, y_test = train_test_split(X, y, test_size=0.2)"
   ]
  },
  {
   "cell_type": "code",
   "execution_count": 53,
   "id": "d2859dcc",
   "metadata": {},
   "outputs": [],
   "source": [
    "# Fill missing values with scikit-learn\n",
    "from sklearn.impute import SimpleImputer\n",
    "from sklearn.compose import ColumnTransformer\n",
    "\n",
    "# Fill categorical values with \"missing\" and numerical values with mean\n",
    "cat_imputer = SimpleImputer(strategy=\"constant\", fill_value=\"missing\")\n",
    "door_imputer = SimpleImputer(strategy=\"constant\", fill_value=4)\n",
    "num_imputer = SimpleImputer(strategy=\"mean\")\n",
    "\n",
    "# Define columns\n",
    "cat_features = [\"Make\", \"Colour\"]\n",
    "door_features = [\"Doors\"]\n",
    "num_features = [\"Odometer (KM)\"]\n",
    "\n",
    "# Create an imputer\n",
    "imputer = ColumnTransformer([\n",
    "    (\"cat_imputer\", cat_imputer, cat_features),\n",
    "    (\"door_imputer\", door_imputer, door_features),\n",
    "    (\"num_features\", num_imputer, num_features),\n",
    "    \n",
    "])\n",
    "\n",
    "# Transform the data\n",
    "filled_X_train = imputer.fit_transform(X_train)\n",
    "filled_X_test = imputer.fit_transform(X_test)"
   ]
  },
  {
   "cell_type": "code",
   "execution_count": 54,
   "id": "9fdc5be3",
   "metadata": {},
   "outputs": [
    {
     "data": {
      "text/plain": [
       "array([['Toyota', 'Black', 4.0, 86696.0],\n",
       "       ['Toyota', 'Black', 4.0, 20714.0],\n",
       "       ['Toyota', 'White', 4.0, 134415.0],\n",
       "       ...,\n",
       "       ['Honda', 'Blue', 4.0, 224900.0],\n",
       "       ['missing', 'White', 3.0, 19482.0],\n",
       "       ['Honda', 'Blue', 4.0, 199833.0]], dtype=object)"
      ]
     },
     "execution_count": 54,
     "metadata": {},
     "output_type": "execute_result"
    }
   ],
   "source": [
    "filled_X_train"
   ]
  },
  {
   "cell_type": "code",
   "execution_count": 55,
   "id": "9faf01a7",
   "metadata": {},
   "outputs": [
    {
     "data": {
      "text/plain": [
       "Make             0\n",
       "Colour           0\n",
       "Doors            0\n",
       "Odometer (KM)    0\n",
       "dtype: int64"
      ]
     },
     "execution_count": 55,
     "metadata": {},
     "output_type": "execute_result"
    }
   ],
   "source": [
    "# Get our transformed data array's back into DataFrame's\n",
    "car_sales_filled_train = pd.DataFrame(filled_X_train, \n",
    "                                      columns=[\"Make\", \"Colour\", \"Doors\", \"Odometer (KM)\"])\n",
    "\n",
    "car_sales_filled_test = pd.DataFrame(filled_X_test, \n",
    "                                      columns=[\"Make\", \"Colour\", \"Doors\", \"Odometer (KM)\"])\n",
    "\n",
    "# Check missing data in training set\n",
    "car_sales_filled_train.isna().sum()"
   ]
  },
  {
   "cell_type": "code",
   "execution_count": 56,
   "id": "30ea88c2",
   "metadata": {},
   "outputs": [
    {
     "data": {
      "text/plain": [
       "array([[0.00000e+00, 0.00000e+00, 0.00000e+00, ..., 1.00000e+00,\n",
       "        0.00000e+00, 8.66960e+04],\n",
       "       [0.00000e+00, 0.00000e+00, 0.00000e+00, ..., 1.00000e+00,\n",
       "        0.00000e+00, 2.07140e+04],\n",
       "       [0.00000e+00, 0.00000e+00, 0.00000e+00, ..., 1.00000e+00,\n",
       "        0.00000e+00, 1.34415e+05],\n",
       "       ...,\n",
       "       [0.00000e+00, 1.00000e+00, 0.00000e+00, ..., 1.00000e+00,\n",
       "        0.00000e+00, 2.24900e+05],\n",
       "       [0.00000e+00, 0.00000e+00, 0.00000e+00, ..., 0.00000e+00,\n",
       "        0.00000e+00, 1.94820e+04],\n",
       "       [0.00000e+00, 1.00000e+00, 0.00000e+00, ..., 1.00000e+00,\n",
       "        0.00000e+00, 1.99833e+05]])"
      ]
     },
     "execution_count": 56,
     "metadata": {},
     "output_type": "execute_result"
    }
   ],
   "source": [
    "# Turn the categories into numbers\n",
    "from sklearn.preprocessing import OneHotEncoder\n",
    "from sklearn.compose import ColumnTransformer\n",
    "\n",
    "categorical_features = [\"Make\", \"Colour\", \"Doors\"]\n",
    "one_hot = OneHotEncoder()\n",
    "transformer = ColumnTransformer([(\"one_hot\", one_hot, categorical_features)], remainder=\"passthrough\")\n",
    "\n",
    "transformed_X_train = transformer.fit_transform(car_sales_filled_train)\n",
    "transformed_X_test = transformer.fit_transform(car_sales_filled_test)\n",
    "\n",
    "# check transformed and filled X_train\n",
    "transformed_X_train.toarray()"
   ]
  },
  {
   "cell_type": "code",
   "execution_count": 57,
   "id": "e536ca46",
   "metadata": {},
   "outputs": [
    {
     "data": {
      "text/plain": [
       "0.10029498332004949"
      ]
     },
     "execution_count": 57,
     "metadata": {},
     "output_type": "execute_result"
    }
   ],
   "source": [
    "# Now we've transformed X, let's see if we can fit a model\n",
    "from sklearn.ensemble import RandomForestRegressor\n",
    "np.random.seed(42)\n",
    "model = RandomForestRegressor(n_estimators=100)\n",
    "\n",
    "# Make sure to use transformed (filled and one-hot encoded X data)\n",
    "model.fit(transformed_X_train, y_train)\n",
    "model.score(transformed_X_test, y_test)"
   ]
  },
  {
   "cell_type": "markdown",
   "id": "c9b45241",
   "metadata": {},
   "source": [
    "## 2. Choosing the right estimator/algorithm for yout problem\n",
    "\n",
    "Some things to note:\n",
    "* Sklearn refers to machine learning models, algorithms as estimators.\n",
    "* Classification problem - predicting a category (heart disease or not)\n",
    "    - Sometimes you'll see 'clf' (short abreviation for classifier) used as a classification estimator.\n",
    "* Regression problem - predicting a number (selling price of a car)\n",
    "\n",
    "If you're working on a machine learning problem and looking to use Sklearn and not sure what model you should use, refer to the machine learning map: https://scikit-learn.org/stable/tutorial/machine_learning_map/index.html"
   ]
  },
  {
   "cell_type": "markdown",
   "id": "95b82dad",
   "metadata": {},
   "source": [
    "### 2.1 Picking a machine learning model for a regression problem\n",
    "\n",
    "Let's use california housing dataset"
   ]
  },
  {
   "cell_type": "code",
   "execution_count": 58,
   "id": "0c7d5be3",
   "metadata": {},
   "outputs": [],
   "source": [
    "# Get california housing dataset\n",
    "\n",
    "from sklearn.datasets import fetch_california_housing\n",
    "\n",
    "housing = fetch_california_housing()\n",
    "housing;"
   ]
  },
  {
   "cell_type": "code",
   "execution_count": 59,
   "id": "0966c70b",
   "metadata": {},
   "outputs": [
    {
     "data": {
      "text/plain": [
       "{'data': array([[   8.3252    ,   41.        ,    6.98412698, ...,    2.55555556,\n",
       "           37.88      , -122.23      ],\n",
       "        [   8.3014    ,   21.        ,    6.23813708, ...,    2.10984183,\n",
       "           37.86      , -122.22      ],\n",
       "        [   7.2574    ,   52.        ,    8.28813559, ...,    2.80225989,\n",
       "           37.85      , -122.24      ],\n",
       "        ...,\n",
       "        [   1.7       ,   17.        ,    5.20554273, ...,    2.3256351 ,\n",
       "           39.43      , -121.22      ],\n",
       "        [   1.8672    ,   18.        ,    5.32951289, ...,    2.12320917,\n",
       "           39.43      , -121.32      ],\n",
       "        [   2.3886    ,   16.        ,    5.25471698, ...,    2.61698113,\n",
       "           39.37      , -121.24      ]]),\n",
       " 'target': array([4.526, 3.585, 3.521, ..., 0.923, 0.847, 0.894]),\n",
       " 'frame': None,\n",
       " 'target_names': ['MedHouseVal'],\n",
       " 'feature_names': ['MedInc',\n",
       "  'HouseAge',\n",
       "  'AveRooms',\n",
       "  'AveBedrms',\n",
       "  'Population',\n",
       "  'AveOccup',\n",
       "  'Latitude',\n",
       "  'Longitude'],\n",
       " 'DESCR': '.. _california_housing_dataset:\\n\\nCalifornia Housing dataset\\n--------------------------\\n\\n**Data Set Characteristics:**\\n\\n    :Number of Instances: 20640\\n\\n    :Number of Attributes: 8 numeric, predictive attributes and the target\\n\\n    :Attribute Information:\\n        - MedInc        median income in block group\\n        - HouseAge      median house age in block group\\n        - AveRooms      average number of rooms per household\\n        - AveBedrms     average number of bedrooms per household\\n        - Population    block group population\\n        - AveOccup      average number of household members\\n        - Latitude      block group latitude\\n        - Longitude     block group longitude\\n\\n    :Missing Attribute Values: None\\n\\nThis dataset was obtained from the StatLib repository.\\nhttps://www.dcc.fc.up.pt/~ltorgo/Regression/cal_housing.html\\n\\nThe target variable is the median house value for California districts,\\nexpressed in hundreds of thousands of dollars ($100,000).\\n\\nThis dataset was derived from the 1990 U.S. census, using one row per census\\nblock group. A block group is the smallest geographical unit for which the U.S.\\nCensus Bureau publishes sample data (a block group typically has a population\\nof 600 to 3,000 people).\\n\\nAn household is a group of people residing within a home. Since the average\\nnumber of rooms and bedrooms in this dataset are provided per household, these\\ncolumns may take surpinsingly large values for block groups with few households\\nand many empty houses, such as vacation resorts.\\n\\nIt can be downloaded/loaded using the\\n:func:`sklearn.datasets.fetch_california_housing` function.\\n\\n.. topic:: References\\n\\n    - Pace, R. Kelley and Ronald Barry, Sparse Spatial Autoregressions,\\n      Statistics and Probability Letters, 33 (1997) 291-297\\n'}"
      ]
     },
     "execution_count": 59,
     "metadata": {},
     "output_type": "execute_result"
    }
   ],
   "source": [
    "housing"
   ]
  },
  {
   "cell_type": "code",
   "execution_count": 60,
   "id": "39f76a0b",
   "metadata": {},
   "outputs": [
    {
     "data": {
      "text/html": [
       "<div>\n",
       "<style scoped>\n",
       "    .dataframe tbody tr th:only-of-type {\n",
       "        vertical-align: middle;\n",
       "    }\n",
       "\n",
       "    .dataframe tbody tr th {\n",
       "        vertical-align: top;\n",
       "    }\n",
       "\n",
       "    .dataframe thead th {\n",
       "        text-align: right;\n",
       "    }\n",
       "</style>\n",
       "<table border=\"1\" class=\"dataframe\">\n",
       "  <thead>\n",
       "    <tr style=\"text-align: right;\">\n",
       "      <th></th>\n",
       "      <th>MedInc</th>\n",
       "      <th>HouseAge</th>\n",
       "      <th>AveRooms</th>\n",
       "      <th>AveBedrms</th>\n",
       "      <th>Population</th>\n",
       "      <th>AveOccup</th>\n",
       "      <th>Latitude</th>\n",
       "      <th>Longitude</th>\n",
       "    </tr>\n",
       "  </thead>\n",
       "  <tbody>\n",
       "    <tr>\n",
       "      <th>0</th>\n",
       "      <td>8.3252</td>\n",
       "      <td>41.0</td>\n",
       "      <td>6.984127</td>\n",
       "      <td>1.023810</td>\n",
       "      <td>322.0</td>\n",
       "      <td>2.555556</td>\n",
       "      <td>37.88</td>\n",
       "      <td>-122.23</td>\n",
       "    </tr>\n",
       "    <tr>\n",
       "      <th>1</th>\n",
       "      <td>8.3014</td>\n",
       "      <td>21.0</td>\n",
       "      <td>6.238137</td>\n",
       "      <td>0.971880</td>\n",
       "      <td>2401.0</td>\n",
       "      <td>2.109842</td>\n",
       "      <td>37.86</td>\n",
       "      <td>-122.22</td>\n",
       "    </tr>\n",
       "    <tr>\n",
       "      <th>2</th>\n",
       "      <td>7.2574</td>\n",
       "      <td>52.0</td>\n",
       "      <td>8.288136</td>\n",
       "      <td>1.073446</td>\n",
       "      <td>496.0</td>\n",
       "      <td>2.802260</td>\n",
       "      <td>37.85</td>\n",
       "      <td>-122.24</td>\n",
       "    </tr>\n",
       "    <tr>\n",
       "      <th>3</th>\n",
       "      <td>5.6431</td>\n",
       "      <td>52.0</td>\n",
       "      <td>5.817352</td>\n",
       "      <td>1.073059</td>\n",
       "      <td>558.0</td>\n",
       "      <td>2.547945</td>\n",
       "      <td>37.85</td>\n",
       "      <td>-122.25</td>\n",
       "    </tr>\n",
       "    <tr>\n",
       "      <th>4</th>\n",
       "      <td>3.8462</td>\n",
       "      <td>52.0</td>\n",
       "      <td>6.281853</td>\n",
       "      <td>1.081081</td>\n",
       "      <td>565.0</td>\n",
       "      <td>2.181467</td>\n",
       "      <td>37.85</td>\n",
       "      <td>-122.25</td>\n",
       "    </tr>\n",
       "    <tr>\n",
       "      <th>...</th>\n",
       "      <td>...</td>\n",
       "      <td>...</td>\n",
       "      <td>...</td>\n",
       "      <td>...</td>\n",
       "      <td>...</td>\n",
       "      <td>...</td>\n",
       "      <td>...</td>\n",
       "      <td>...</td>\n",
       "    </tr>\n",
       "    <tr>\n",
       "      <th>20635</th>\n",
       "      <td>1.5603</td>\n",
       "      <td>25.0</td>\n",
       "      <td>5.045455</td>\n",
       "      <td>1.133333</td>\n",
       "      <td>845.0</td>\n",
       "      <td>2.560606</td>\n",
       "      <td>39.48</td>\n",
       "      <td>-121.09</td>\n",
       "    </tr>\n",
       "    <tr>\n",
       "      <th>20636</th>\n",
       "      <td>2.5568</td>\n",
       "      <td>18.0</td>\n",
       "      <td>6.114035</td>\n",
       "      <td>1.315789</td>\n",
       "      <td>356.0</td>\n",
       "      <td>3.122807</td>\n",
       "      <td>39.49</td>\n",
       "      <td>-121.21</td>\n",
       "    </tr>\n",
       "    <tr>\n",
       "      <th>20637</th>\n",
       "      <td>1.7000</td>\n",
       "      <td>17.0</td>\n",
       "      <td>5.205543</td>\n",
       "      <td>1.120092</td>\n",
       "      <td>1007.0</td>\n",
       "      <td>2.325635</td>\n",
       "      <td>39.43</td>\n",
       "      <td>-121.22</td>\n",
       "    </tr>\n",
       "    <tr>\n",
       "      <th>20638</th>\n",
       "      <td>1.8672</td>\n",
       "      <td>18.0</td>\n",
       "      <td>5.329513</td>\n",
       "      <td>1.171920</td>\n",
       "      <td>741.0</td>\n",
       "      <td>2.123209</td>\n",
       "      <td>39.43</td>\n",
       "      <td>-121.32</td>\n",
       "    </tr>\n",
       "    <tr>\n",
       "      <th>20639</th>\n",
       "      <td>2.3886</td>\n",
       "      <td>16.0</td>\n",
       "      <td>5.254717</td>\n",
       "      <td>1.162264</td>\n",
       "      <td>1387.0</td>\n",
       "      <td>2.616981</td>\n",
       "      <td>39.37</td>\n",
       "      <td>-121.24</td>\n",
       "    </tr>\n",
       "  </tbody>\n",
       "</table>\n",
       "<p>20640 rows × 8 columns</p>\n",
       "</div>"
      ],
      "text/plain": [
       "       MedInc  HouseAge  AveRooms  AveBedrms  Population  AveOccup  Latitude  \\\n",
       "0      8.3252      41.0  6.984127   1.023810       322.0  2.555556     37.88   \n",
       "1      8.3014      21.0  6.238137   0.971880      2401.0  2.109842     37.86   \n",
       "2      7.2574      52.0  8.288136   1.073446       496.0  2.802260     37.85   \n",
       "3      5.6431      52.0  5.817352   1.073059       558.0  2.547945     37.85   \n",
       "4      3.8462      52.0  6.281853   1.081081       565.0  2.181467     37.85   \n",
       "...       ...       ...       ...        ...         ...       ...       ...   \n",
       "20635  1.5603      25.0  5.045455   1.133333       845.0  2.560606     39.48   \n",
       "20636  2.5568      18.0  6.114035   1.315789       356.0  3.122807     39.49   \n",
       "20637  1.7000      17.0  5.205543   1.120092      1007.0  2.325635     39.43   \n",
       "20638  1.8672      18.0  5.329513   1.171920       741.0  2.123209     39.43   \n",
       "20639  2.3886      16.0  5.254717   1.162264      1387.0  2.616981     39.37   \n",
       "\n",
       "       Longitude  \n",
       "0        -122.23  \n",
       "1        -122.22  \n",
       "2        -122.24  \n",
       "3        -122.25  \n",
       "4        -122.25  \n",
       "...          ...  \n",
       "20635    -121.09  \n",
       "20636    -121.21  \n",
       "20637    -121.22  \n",
       "20638    -121.32  \n",
       "20639    -121.24  \n",
       "\n",
       "[20640 rows x 8 columns]"
      ]
     },
     "execution_count": 60,
     "metadata": {},
     "output_type": "execute_result"
    }
   ],
   "source": [
    "housing_df = pd.DataFrame(housing[\"data\"], columns=housing[\"feature_names\"])\n",
    "housing_df"
   ]
  },
  {
   "cell_type": "code",
   "execution_count": 61,
   "id": "fde2887c",
   "metadata": {},
   "outputs": [
    {
     "ename": "KeyError",
     "evalue": "\"['MedHouseVal'] not found in axis\"",
     "output_type": "error",
     "traceback": [
      "\u001b[0;31m---------------------------------------------------------------------------\u001b[0m",
      "\u001b[0;31mKeyError\u001b[0m                                  Traceback (most recent call last)",
      "\u001b[0;32m/var/folders/xk/73251fs13298n_zs9z8tx_rw0000gn/T/ipykernel_41283/981355046.py\u001b[0m in \u001b[0;36m<module>\u001b[0;34m\u001b[0m\n\u001b[1;32m      1\u001b[0m \u001b[0mhousing_df\u001b[0m\u001b[0;34m[\u001b[0m\u001b[0;34m\"target\"\u001b[0m\u001b[0;34m]\u001b[0m \u001b[0;34m=\u001b[0m \u001b[0mhousing\u001b[0m\u001b[0;34m[\u001b[0m\u001b[0;34m\"target\"\u001b[0m\u001b[0;34m]\u001b[0m\u001b[0;34m\u001b[0m\u001b[0;34m\u001b[0m\u001b[0m\n\u001b[0;32m----> 2\u001b[0;31m \u001b[0mhousing_df\u001b[0m\u001b[0;34m.\u001b[0m\u001b[0mdrop\u001b[0m\u001b[0;34m(\u001b[0m\u001b[0;34m\"MedHouseVal\"\u001b[0m\u001b[0;34m,\u001b[0m \u001b[0maxis\u001b[0m\u001b[0;34m=\u001b[0m\u001b[0;36m1\u001b[0m\u001b[0;34m,\u001b[0m \u001b[0minplace\u001b[0m\u001b[0;34m=\u001b[0m\u001b[0;32mTrue\u001b[0m\u001b[0;34m)\u001b[0m\u001b[0;34m\u001b[0m\u001b[0;34m\u001b[0m\u001b[0m\n\u001b[0m\u001b[1;32m      3\u001b[0m \u001b[0mhousing_df\u001b[0m\u001b[0;34m.\u001b[0m\u001b[0mhead\u001b[0m\u001b[0;34m(\u001b[0m\u001b[0;34m)\u001b[0m\u001b[0;34m\u001b[0m\u001b[0;34m\u001b[0m\u001b[0m\n",
      "\u001b[0;32m~/Desktop/ml/ml-course/env/lib/python3.9/site-packages/pandas/util/_decorators.py\u001b[0m in \u001b[0;36mwrapper\u001b[0;34m(*args, **kwargs)\u001b[0m\n\u001b[1;32m    309\u001b[0m                     \u001b[0mstacklevel\u001b[0m\u001b[0;34m=\u001b[0m\u001b[0mstacklevel\u001b[0m\u001b[0;34m,\u001b[0m\u001b[0;34m\u001b[0m\u001b[0;34m\u001b[0m\u001b[0m\n\u001b[1;32m    310\u001b[0m                 )\n\u001b[0;32m--> 311\u001b[0;31m             \u001b[0;32mreturn\u001b[0m \u001b[0mfunc\u001b[0m\u001b[0;34m(\u001b[0m\u001b[0;34m*\u001b[0m\u001b[0margs\u001b[0m\u001b[0;34m,\u001b[0m \u001b[0;34m**\u001b[0m\u001b[0mkwargs\u001b[0m\u001b[0;34m)\u001b[0m\u001b[0;34m\u001b[0m\u001b[0;34m\u001b[0m\u001b[0m\n\u001b[0m\u001b[1;32m    312\u001b[0m \u001b[0;34m\u001b[0m\u001b[0m\n\u001b[1;32m    313\u001b[0m         \u001b[0;32mreturn\u001b[0m \u001b[0mwrapper\u001b[0m\u001b[0;34m\u001b[0m\u001b[0;34m\u001b[0m\u001b[0m\n",
      "\u001b[0;32m~/Desktop/ml/ml-course/env/lib/python3.9/site-packages/pandas/core/frame.py\u001b[0m in \u001b[0;36mdrop\u001b[0;34m(self, labels, axis, index, columns, level, inplace, errors)\u001b[0m\n\u001b[1;32m   4904\u001b[0m                 \u001b[0mweight\u001b[0m  \u001b[0;36m1.0\u001b[0m     \u001b[0;36m0.8\u001b[0m\u001b[0;34m\u001b[0m\u001b[0;34m\u001b[0m\u001b[0m\n\u001b[1;32m   4905\u001b[0m         \"\"\"\n\u001b[0;32m-> 4906\u001b[0;31m         return super().drop(\n\u001b[0m\u001b[1;32m   4907\u001b[0m             \u001b[0mlabels\u001b[0m\u001b[0;34m=\u001b[0m\u001b[0mlabels\u001b[0m\u001b[0;34m,\u001b[0m\u001b[0;34m\u001b[0m\u001b[0;34m\u001b[0m\u001b[0m\n\u001b[1;32m   4908\u001b[0m             \u001b[0maxis\u001b[0m\u001b[0;34m=\u001b[0m\u001b[0maxis\u001b[0m\u001b[0;34m,\u001b[0m\u001b[0;34m\u001b[0m\u001b[0;34m\u001b[0m\u001b[0m\n",
      "\u001b[0;32m~/Desktop/ml/ml-course/env/lib/python3.9/site-packages/pandas/core/generic.py\u001b[0m in \u001b[0;36mdrop\u001b[0;34m(self, labels, axis, index, columns, level, inplace, errors)\u001b[0m\n\u001b[1;32m   4148\u001b[0m         \u001b[0;32mfor\u001b[0m \u001b[0maxis\u001b[0m\u001b[0;34m,\u001b[0m \u001b[0mlabels\u001b[0m \u001b[0;32min\u001b[0m \u001b[0maxes\u001b[0m\u001b[0;34m.\u001b[0m\u001b[0mitems\u001b[0m\u001b[0;34m(\u001b[0m\u001b[0;34m)\u001b[0m\u001b[0;34m:\u001b[0m\u001b[0;34m\u001b[0m\u001b[0;34m\u001b[0m\u001b[0m\n\u001b[1;32m   4149\u001b[0m             \u001b[0;32mif\u001b[0m \u001b[0mlabels\u001b[0m \u001b[0;32mis\u001b[0m \u001b[0;32mnot\u001b[0m \u001b[0;32mNone\u001b[0m\u001b[0;34m:\u001b[0m\u001b[0;34m\u001b[0m\u001b[0;34m\u001b[0m\u001b[0m\n\u001b[0;32m-> 4150\u001b[0;31m                 \u001b[0mobj\u001b[0m \u001b[0;34m=\u001b[0m \u001b[0mobj\u001b[0m\u001b[0;34m.\u001b[0m\u001b[0m_drop_axis\u001b[0m\u001b[0;34m(\u001b[0m\u001b[0mlabels\u001b[0m\u001b[0;34m,\u001b[0m \u001b[0maxis\u001b[0m\u001b[0;34m,\u001b[0m \u001b[0mlevel\u001b[0m\u001b[0;34m=\u001b[0m\u001b[0mlevel\u001b[0m\u001b[0;34m,\u001b[0m \u001b[0merrors\u001b[0m\u001b[0;34m=\u001b[0m\u001b[0merrors\u001b[0m\u001b[0;34m)\u001b[0m\u001b[0;34m\u001b[0m\u001b[0;34m\u001b[0m\u001b[0m\n\u001b[0m\u001b[1;32m   4151\u001b[0m \u001b[0;34m\u001b[0m\u001b[0m\n\u001b[1;32m   4152\u001b[0m         \u001b[0;32mif\u001b[0m \u001b[0minplace\u001b[0m\u001b[0;34m:\u001b[0m\u001b[0;34m\u001b[0m\u001b[0;34m\u001b[0m\u001b[0m\n",
      "\u001b[0;32m~/Desktop/ml/ml-course/env/lib/python3.9/site-packages/pandas/core/generic.py\u001b[0m in \u001b[0;36m_drop_axis\u001b[0;34m(self, labels, axis, level, errors)\u001b[0m\n\u001b[1;32m   4183\u001b[0m                 \u001b[0mnew_axis\u001b[0m \u001b[0;34m=\u001b[0m \u001b[0maxis\u001b[0m\u001b[0;34m.\u001b[0m\u001b[0mdrop\u001b[0m\u001b[0;34m(\u001b[0m\u001b[0mlabels\u001b[0m\u001b[0;34m,\u001b[0m \u001b[0mlevel\u001b[0m\u001b[0;34m=\u001b[0m\u001b[0mlevel\u001b[0m\u001b[0;34m,\u001b[0m \u001b[0merrors\u001b[0m\u001b[0;34m=\u001b[0m\u001b[0merrors\u001b[0m\u001b[0;34m)\u001b[0m\u001b[0;34m\u001b[0m\u001b[0;34m\u001b[0m\u001b[0m\n\u001b[1;32m   4184\u001b[0m             \u001b[0;32melse\u001b[0m\u001b[0;34m:\u001b[0m\u001b[0;34m\u001b[0m\u001b[0;34m\u001b[0m\u001b[0m\n\u001b[0;32m-> 4185\u001b[0;31m                 \u001b[0mnew_axis\u001b[0m \u001b[0;34m=\u001b[0m \u001b[0maxis\u001b[0m\u001b[0;34m.\u001b[0m\u001b[0mdrop\u001b[0m\u001b[0;34m(\u001b[0m\u001b[0mlabels\u001b[0m\u001b[0;34m,\u001b[0m \u001b[0merrors\u001b[0m\u001b[0;34m=\u001b[0m\u001b[0merrors\u001b[0m\u001b[0;34m)\u001b[0m\u001b[0;34m\u001b[0m\u001b[0;34m\u001b[0m\u001b[0m\n\u001b[0m\u001b[1;32m   4186\u001b[0m             \u001b[0mresult\u001b[0m \u001b[0;34m=\u001b[0m \u001b[0mself\u001b[0m\u001b[0;34m.\u001b[0m\u001b[0mreindex\u001b[0m\u001b[0;34m(\u001b[0m\u001b[0;34m**\u001b[0m\u001b[0;34m{\u001b[0m\u001b[0maxis_name\u001b[0m\u001b[0;34m:\u001b[0m \u001b[0mnew_axis\u001b[0m\u001b[0;34m}\u001b[0m\u001b[0;34m)\u001b[0m\u001b[0;34m\u001b[0m\u001b[0;34m\u001b[0m\u001b[0m\n\u001b[1;32m   4187\u001b[0m \u001b[0;34m\u001b[0m\u001b[0m\n",
      "\u001b[0;32m~/Desktop/ml/ml-course/env/lib/python3.9/site-packages/pandas/core/indexes/base.py\u001b[0m in \u001b[0;36mdrop\u001b[0;34m(self, labels, errors)\u001b[0m\n\u001b[1;32m   6015\u001b[0m         \u001b[0;32mif\u001b[0m \u001b[0mmask\u001b[0m\u001b[0;34m.\u001b[0m\u001b[0many\u001b[0m\u001b[0;34m(\u001b[0m\u001b[0;34m)\u001b[0m\u001b[0;34m:\u001b[0m\u001b[0;34m\u001b[0m\u001b[0;34m\u001b[0m\u001b[0m\n\u001b[1;32m   6016\u001b[0m             \u001b[0;32mif\u001b[0m \u001b[0merrors\u001b[0m \u001b[0;34m!=\u001b[0m \u001b[0;34m\"ignore\"\u001b[0m\u001b[0;34m:\u001b[0m\u001b[0;34m\u001b[0m\u001b[0;34m\u001b[0m\u001b[0m\n\u001b[0;32m-> 6017\u001b[0;31m                 \u001b[0;32mraise\u001b[0m \u001b[0mKeyError\u001b[0m\u001b[0;34m(\u001b[0m\u001b[0;34mf\"{labels[mask]} not found in axis\"\u001b[0m\u001b[0;34m)\u001b[0m\u001b[0;34m\u001b[0m\u001b[0;34m\u001b[0m\u001b[0m\n\u001b[0m\u001b[1;32m   6018\u001b[0m             \u001b[0mindexer\u001b[0m \u001b[0;34m=\u001b[0m \u001b[0mindexer\u001b[0m\u001b[0;34m[\u001b[0m\u001b[0;34m~\u001b[0m\u001b[0mmask\u001b[0m\u001b[0;34m]\u001b[0m\u001b[0;34m\u001b[0m\u001b[0;34m\u001b[0m\u001b[0m\n\u001b[1;32m   6019\u001b[0m         \u001b[0;32mreturn\u001b[0m \u001b[0mself\u001b[0m\u001b[0;34m.\u001b[0m\u001b[0mdelete\u001b[0m\u001b[0;34m(\u001b[0m\u001b[0mindexer\u001b[0m\u001b[0;34m)\u001b[0m\u001b[0;34m\u001b[0m\u001b[0;34m\u001b[0m\u001b[0m\n",
      "\u001b[0;31mKeyError\u001b[0m: \"['MedHouseVal'] not found in axis\""
     ]
    }
   ],
   "source": [
    "housing_df[\"target\"] = housing[\"target\"]\n",
    "housing_df.drop(\"MedHouseVal\", axis=1, inplace=True)\n",
    "housing_df.head()"
   ]
  },
  {
   "cell_type": "code",
   "execution_count": 62,
   "id": "3cab4c1f",
   "metadata": {},
   "outputs": [
    {
     "data": {
      "text/plain": [
       "(MedInc        float64\n",
       " HouseAge      float64\n",
       " AveRooms      float64\n",
       " AveBedrms     float64\n",
       " Population    float64\n",
       " AveOccup      float64\n",
       " Latitude      float64\n",
       " Longitude     float64\n",
       " target        float64\n",
       " dtype: object,\n",
       " (20640, 9))"
      ]
     },
     "execution_count": 62,
     "metadata": {},
     "output_type": "execute_result"
    }
   ],
   "source": [
    "housing_df.dtypes, housing_df.shape"
   ]
  },
  {
   "cell_type": "code",
   "execution_count": 63,
   "id": "69108a60",
   "metadata": {},
   "outputs": [
    {
     "data": {
      "text/plain": [
       "0.5758549611440125"
      ]
     },
     "execution_count": 63,
     "metadata": {},
     "output_type": "execute_result"
    }
   ],
   "source": [
    "# Import algorithm/estimator (i used sklearn map)\n",
    "from sklearn.linear_model import Ridge\n",
    "from sklearn.model_selection import train_test_split\n",
    "# Setup random seed\n",
    "np.random.seed(42)\n",
    "\n",
    "# Create the data for ML\n",
    "\n",
    "X = housing_df.drop(\"target\", axis=1)\n",
    "y = housing_df[\"target\"] # median house price in $100,00s\n",
    "\n",
    "# split into train and test sets\n",
    "\n",
    "X_train, X_test, y_train, y_test = train_test_split(X, y, test_size=0.2)\n",
    "\n",
    "# Instantiate and fit the model (on the traning set)\n",
    "model = Ridge()\n",
    "model.fit(X_train,y_train)\n",
    "\n",
    "# check the score of the model ( on the test set)\n",
    "model.score(X_test,y_test)"
   ]
  },
  {
   "cell_type": "markdown",
   "id": "c8c4ead4",
   "metadata": {},
   "source": [
    "What if `Ridge` didn't work or the score didn't fit our needs?\n",
    "\n",
    "Well, we could always try a different model...\n",
    "\n",
    "How about we try ensemble model ( an ensemble is a combination of smaller models to try and make better predictions than just a single model)"
   ]
  },
  {
   "cell_type": "code",
   "execution_count": 64,
   "id": "ee084d11",
   "metadata": {},
   "outputs": [
    {
     "data": {
      "text/plain": [
       "0.8066196804802649"
      ]
     },
     "execution_count": 64,
     "metadata": {},
     "output_type": "execute_result"
    }
   ],
   "source": [
    "# import the new model\n",
    "from sklearn.ensemble import RandomForestRegressor\n",
    "import numpy as np\n",
    "# Setup random seed\n",
    "np.random.seed(42)\n",
    "\n",
    "# Create the data for ML\n",
    "\n",
    "X = housing_df.drop(\"target\", axis=1)\n",
    "y = housing_df[\"target\"] # median house price in $100,00s\n",
    "\n",
    "# split into train and test sets\n",
    "\n",
    "X_train, X_test, y_train, y_test = train_test_split(X, y, test_size=0.2)\n",
    "\n",
    "# Instantiate and fit the model (on the traning set)\n",
    "model = RandomForestRegressor()\n",
    "model.fit(X_train,y_train)\n",
    "\n",
    "# check the score of the model ( on the test set)\n",
    "model.score(X_test,y_test)"
   ]
  },
  {
   "cell_type": "code",
   "execution_count": 65,
   "id": "003129df",
   "metadata": {},
   "outputs": [],
   "source": [
    "# Import new model for classification\n",
    "from sklearn.svm import LinearSVC"
   ]
  },
  {
   "cell_type": "code",
   "execution_count": 66,
   "id": "cf72bd53",
   "metadata": {},
   "outputs": [
    {
     "data": {
      "text/plain": [
       "(303, 14)"
      ]
     },
     "execution_count": 66,
     "metadata": {},
     "output_type": "execute_result"
    }
   ],
   "source": [
    "# import the data\n",
    "heart_disease = pd.read_csv(\"../introduction-to-matplotlib/heart-disease.csv\")\n",
    "heart_disease.shape"
   ]
  },
  {
   "cell_type": "code",
   "execution_count": 67,
   "id": "79a66e32",
   "metadata": {},
   "outputs": [
    {
     "data": {
      "text/html": [
       "<div>\n",
       "<style scoped>\n",
       "    .dataframe tbody tr th:only-of-type {\n",
       "        vertical-align: middle;\n",
       "    }\n",
       "\n",
       "    .dataframe tbody tr th {\n",
       "        vertical-align: top;\n",
       "    }\n",
       "\n",
       "    .dataframe thead th {\n",
       "        text-align: right;\n",
       "    }\n",
       "</style>\n",
       "<table border=\"1\" class=\"dataframe\">\n",
       "  <thead>\n",
       "    <tr style=\"text-align: right;\">\n",
       "      <th></th>\n",
       "      <th>age</th>\n",
       "      <th>sex</th>\n",
       "      <th>cp</th>\n",
       "      <th>trestbps</th>\n",
       "      <th>chol</th>\n",
       "      <th>fbs</th>\n",
       "      <th>restecg</th>\n",
       "      <th>thalach</th>\n",
       "      <th>exang</th>\n",
       "      <th>oldpeak</th>\n",
       "      <th>slope</th>\n",
       "      <th>ca</th>\n",
       "      <th>thal</th>\n",
       "      <th>target</th>\n",
       "    </tr>\n",
       "  </thead>\n",
       "  <tbody>\n",
       "    <tr>\n",
       "      <th>0</th>\n",
       "      <td>63</td>\n",
       "      <td>1</td>\n",
       "      <td>3</td>\n",
       "      <td>145</td>\n",
       "      <td>233</td>\n",
       "      <td>1</td>\n",
       "      <td>0</td>\n",
       "      <td>150</td>\n",
       "      <td>0</td>\n",
       "      <td>2.3</td>\n",
       "      <td>0</td>\n",
       "      <td>0</td>\n",
       "      <td>1</td>\n",
       "      <td>1</td>\n",
       "    </tr>\n",
       "    <tr>\n",
       "      <th>1</th>\n",
       "      <td>37</td>\n",
       "      <td>1</td>\n",
       "      <td>2</td>\n",
       "      <td>130</td>\n",
       "      <td>250</td>\n",
       "      <td>0</td>\n",
       "      <td>1</td>\n",
       "      <td>187</td>\n",
       "      <td>0</td>\n",
       "      <td>3.5</td>\n",
       "      <td>0</td>\n",
       "      <td>0</td>\n",
       "      <td>2</td>\n",
       "      <td>1</td>\n",
       "    </tr>\n",
       "    <tr>\n",
       "      <th>2</th>\n",
       "      <td>41</td>\n",
       "      <td>0</td>\n",
       "      <td>1</td>\n",
       "      <td>130</td>\n",
       "      <td>204</td>\n",
       "      <td>0</td>\n",
       "      <td>0</td>\n",
       "      <td>172</td>\n",
       "      <td>0</td>\n",
       "      <td>1.4</td>\n",
       "      <td>2</td>\n",
       "      <td>0</td>\n",
       "      <td>2</td>\n",
       "      <td>1</td>\n",
       "    </tr>\n",
       "    <tr>\n",
       "      <th>3</th>\n",
       "      <td>56</td>\n",
       "      <td>1</td>\n",
       "      <td>1</td>\n",
       "      <td>120</td>\n",
       "      <td>236</td>\n",
       "      <td>0</td>\n",
       "      <td>1</td>\n",
       "      <td>178</td>\n",
       "      <td>0</td>\n",
       "      <td>0.8</td>\n",
       "      <td>2</td>\n",
       "      <td>0</td>\n",
       "      <td>2</td>\n",
       "      <td>1</td>\n",
       "    </tr>\n",
       "    <tr>\n",
       "      <th>4</th>\n",
       "      <td>57</td>\n",
       "      <td>0</td>\n",
       "      <td>0</td>\n",
       "      <td>120</td>\n",
       "      <td>354</td>\n",
       "      <td>0</td>\n",
       "      <td>1</td>\n",
       "      <td>163</td>\n",
       "      <td>1</td>\n",
       "      <td>0.6</td>\n",
       "      <td>2</td>\n",
       "      <td>0</td>\n",
       "      <td>2</td>\n",
       "      <td>1</td>\n",
       "    </tr>\n",
       "    <tr>\n",
       "      <th>...</th>\n",
       "      <td>...</td>\n",
       "      <td>...</td>\n",
       "      <td>...</td>\n",
       "      <td>...</td>\n",
       "      <td>...</td>\n",
       "      <td>...</td>\n",
       "      <td>...</td>\n",
       "      <td>...</td>\n",
       "      <td>...</td>\n",
       "      <td>...</td>\n",
       "      <td>...</td>\n",
       "      <td>...</td>\n",
       "      <td>...</td>\n",
       "      <td>...</td>\n",
       "    </tr>\n",
       "    <tr>\n",
       "      <th>298</th>\n",
       "      <td>57</td>\n",
       "      <td>0</td>\n",
       "      <td>0</td>\n",
       "      <td>140</td>\n",
       "      <td>241</td>\n",
       "      <td>0</td>\n",
       "      <td>1</td>\n",
       "      <td>123</td>\n",
       "      <td>1</td>\n",
       "      <td>0.2</td>\n",
       "      <td>1</td>\n",
       "      <td>0</td>\n",
       "      <td>3</td>\n",
       "      <td>0</td>\n",
       "    </tr>\n",
       "    <tr>\n",
       "      <th>299</th>\n",
       "      <td>45</td>\n",
       "      <td>1</td>\n",
       "      <td>3</td>\n",
       "      <td>110</td>\n",
       "      <td>264</td>\n",
       "      <td>0</td>\n",
       "      <td>1</td>\n",
       "      <td>132</td>\n",
       "      <td>0</td>\n",
       "      <td>1.2</td>\n",
       "      <td>1</td>\n",
       "      <td>0</td>\n",
       "      <td>3</td>\n",
       "      <td>0</td>\n",
       "    </tr>\n",
       "    <tr>\n",
       "      <th>300</th>\n",
       "      <td>68</td>\n",
       "      <td>1</td>\n",
       "      <td>0</td>\n",
       "      <td>144</td>\n",
       "      <td>193</td>\n",
       "      <td>1</td>\n",
       "      <td>1</td>\n",
       "      <td>141</td>\n",
       "      <td>0</td>\n",
       "      <td>3.4</td>\n",
       "      <td>1</td>\n",
       "      <td>2</td>\n",
       "      <td>3</td>\n",
       "      <td>0</td>\n",
       "    </tr>\n",
       "    <tr>\n",
       "      <th>301</th>\n",
       "      <td>57</td>\n",
       "      <td>1</td>\n",
       "      <td>0</td>\n",
       "      <td>130</td>\n",
       "      <td>131</td>\n",
       "      <td>0</td>\n",
       "      <td>1</td>\n",
       "      <td>115</td>\n",
       "      <td>1</td>\n",
       "      <td>1.2</td>\n",
       "      <td>1</td>\n",
       "      <td>1</td>\n",
       "      <td>3</td>\n",
       "      <td>0</td>\n",
       "    </tr>\n",
       "    <tr>\n",
       "      <th>302</th>\n",
       "      <td>57</td>\n",
       "      <td>0</td>\n",
       "      <td>1</td>\n",
       "      <td>130</td>\n",
       "      <td>236</td>\n",
       "      <td>0</td>\n",
       "      <td>0</td>\n",
       "      <td>174</td>\n",
       "      <td>0</td>\n",
       "      <td>0.0</td>\n",
       "      <td>1</td>\n",
       "      <td>1</td>\n",
       "      <td>2</td>\n",
       "      <td>0</td>\n",
       "    </tr>\n",
       "  </tbody>\n",
       "</table>\n",
       "<p>303 rows × 14 columns</p>\n",
       "</div>"
      ],
      "text/plain": [
       "     age  sex  cp  trestbps  chol  fbs  restecg  thalach  exang  oldpeak  \\\n",
       "0     63    1   3       145   233    1        0      150      0      2.3   \n",
       "1     37    1   2       130   250    0        1      187      0      3.5   \n",
       "2     41    0   1       130   204    0        0      172      0      1.4   \n",
       "3     56    1   1       120   236    0        1      178      0      0.8   \n",
       "4     57    0   0       120   354    0        1      163      1      0.6   \n",
       "..   ...  ...  ..       ...   ...  ...      ...      ...    ...      ...   \n",
       "298   57    0   0       140   241    0        1      123      1      0.2   \n",
       "299   45    1   3       110   264    0        1      132      0      1.2   \n",
       "300   68    1   0       144   193    1        1      141      0      3.4   \n",
       "301   57    1   0       130   131    0        1      115      1      1.2   \n",
       "302   57    0   1       130   236    0        0      174      0      0.0   \n",
       "\n",
       "     slope  ca  thal  target  \n",
       "0        0   0     1       1  \n",
       "1        0   0     2       1  \n",
       "2        2   0     2       1  \n",
       "3        2   0     2       1  \n",
       "4        2   0     2       1  \n",
       "..     ...  ..   ...     ...  \n",
       "298      1   0     3       0  \n",
       "299      1   0     3       0  \n",
       "300      1   2     3       0  \n",
       "301      1   1     3       0  \n",
       "302      1   1     2       0  \n",
       "\n",
       "[303 rows x 14 columns]"
      ]
     },
     "execution_count": 67,
     "metadata": {},
     "output_type": "execute_result"
    }
   ],
   "source": [
    "heart_disease"
   ]
  },
  {
   "cell_type": "code",
   "execution_count": 68,
   "id": "8faf941d",
   "metadata": {},
   "outputs": [
    {
     "name": "stderr",
     "output_type": "stream",
     "text": [
      "/Users/lucasmeireles/Desktop/ml/ml-course/env/lib/python3.9/site-packages/sklearn/svm/_base.py:1206: ConvergenceWarning: Liblinear failed to converge, increase the number of iterations.\n",
      "  warnings.warn(\n"
     ]
    },
    {
     "data": {
      "text/plain": [
       "0.8688524590163934"
      ]
     },
     "execution_count": 68,
     "metadata": {},
     "output_type": "execute_result"
    }
   ],
   "source": [
    "# Setup random seed\n",
    "np.random.seed(42)\n",
    "\n",
    "\n",
    "# Make the data ready\n",
    "X = heart_disease.drop(\"target\",axis=1)\n",
    "y = heart_disease[\"target\"]\n",
    "\n",
    "# split the data\n",
    "X_train, X_test, y_train, y_test = train_test_split(X, y, test_size=0.2)\n",
    "\n",
    "# Instantiate LinearSVC\n",
    "clf = LinearSVC()\n",
    "clf.fit(X_train,y_train)\n",
    "\n",
    "# Evaluate the LinearSVC score\n",
    "clf.score(X_test,y_test)"
   ]
  },
  {
   "cell_type": "code",
   "execution_count": 69,
   "id": "74983aa6",
   "metadata": {},
   "outputs": [
    {
     "data": {
      "text/plain": [
       "0.8524590163934426"
      ]
     },
     "execution_count": 69,
     "metadata": {},
     "output_type": "execute_result"
    }
   ],
   "source": [
    "# Import new model for classification\n",
    "from sklearn.ensemble import RandomForestClassifier\n",
    "\n",
    "# Setup random seed\n",
    "np.random.seed(42)\n",
    "\n",
    "\n",
    "# Make the data ready\n",
    "X = heart_disease.drop(\"target\",axis=1)\n",
    "y = heart_disease[\"target\"]\n",
    "\n",
    "# split the data\n",
    "X_train, X_test, y_train, y_test = train_test_split(X, y, test_size=0.2)\n",
    "\n",
    "# Instantiate LinearSVC\n",
    "clf = RandomForestClassifier()\n",
    "clf.fit(X_train,y_train)\n",
    "\n",
    "# Evaluate the LinearSVC score\n",
    "clf.score(X_test,y_test)"
   ]
  },
  {
   "cell_type": "code",
   "execution_count": 70,
   "id": "236f08c4",
   "metadata": {},
   "outputs": [
    {
     "data": {
      "text/plain": [
       "['0. And en-to-end Scikit-Learn workflow',\n",
       " '1. Getting the data ready.',\n",
       " '2. Choose the right estimator/algorithm for our problems.',\n",
       " '3. Fit the model/algorithm and use it to make predictions on our data.',\n",
       " '4. Evaluating a model.',\n",
       " '5. Improve the model.',\n",
       " '6. Save and load a trained model.',\n",
       " '7. Putting it all together!']"
      ]
     },
     "execution_count": 70,
     "metadata": {},
     "output_type": "execute_result"
    }
   ],
   "source": [
    "what_were_covering"
   ]
  },
  {
   "cell_type": "markdown",
   "id": "f344f32b",
   "metadata": {},
   "source": [
    "## 3. Fit the model/algorithm on our data and use it to make predictions\n",
    "\n",
    "### 3.1 Fitting the model to the data"
   ]
  },
  {
   "cell_type": "code",
   "execution_count": 71,
   "id": "cecee888",
   "metadata": {},
   "outputs": [
    {
     "name": "stderr",
     "output_type": "stream",
     "text": [
      "/Users/lucasmeireles/Desktop/ml/ml-course/env/lib/python3.9/site-packages/sklearn/svm/_base.py:1206: ConvergenceWarning: Liblinear failed to converge, increase the number of iterations.\n",
      "  warnings.warn(\n"
     ]
    },
    {
     "data": {
      "text/plain": [
       "0.8688524590163934"
      ]
     },
     "execution_count": 71,
     "metadata": {},
     "output_type": "execute_result"
    }
   ],
   "source": [
    "# Import new model for classification\n",
    "from sklearn.svm import LinearSVC\n",
    "\n",
    "# Setup random seed\n",
    "np.random.seed(42)\n",
    "\n",
    "\n",
    "# Make the data ready\n",
    "X = heart_disease.drop(\"target\",axis=1)\n",
    "y = heart_disease[\"target\"]\n",
    "\n",
    "# split the data\n",
    "X_train, X_test, y_train, y_test = train_test_split(X, y, test_size=0.2)\n",
    "\n",
    "# Instantiate LinearSVC\n",
    "clf = LinearSVC(max_iter=1000)\n",
    "clf.fit(X_train,y_train)\n",
    "\n",
    "# Evaluate the LinearSVC score\n",
    "clf.score(X_test,y_test)"
   ]
  },
  {
   "cell_type": "markdown",
   "id": "53847bf0",
   "metadata": {},
   "source": [
    "# 3.2 Make predictions using a machine learning model\n",
    "\n",
    "2 ways to make predictions:\n",
    "1. `predict()`\n",
    "2. `predict_proba()`"
   ]
  },
  {
   "cell_type": "code",
   "execution_count": 72,
   "id": "62e345cf",
   "metadata": {},
   "outputs": [
    {
     "data": {
      "text/plain": [
       "array([0, 1, 1, 0, 1, 1, 1, 0, 0, 1, 1, 0, 1, 0, 1, 1, 1, 0, 0, 0, 1, 0,\n",
       "       0, 1, 1, 1, 1, 1, 0, 1, 0, 0, 0, 0, 1, 0, 1, 1, 1, 1, 1, 1, 1, 1,\n",
       "       1, 0, 1, 1, 0, 0, 0, 0, 1, 1, 1, 0, 0, 1, 0, 0, 0])"
      ]
     },
     "execution_count": 72,
     "metadata": {},
     "output_type": "execute_result"
    }
   ],
   "source": [
    "# Use a trained model to make predictions\n",
    "clf.predict(X_test)"
   ]
  },
  {
   "cell_type": "code",
   "execution_count": 73,
   "id": "f2fde538",
   "metadata": {},
   "outputs": [
    {
     "data": {
      "text/plain": [
       "array([0, 0, 1, 0, 1, 1, 1, 0, 0, 1, 1, 1, 1, 0, 1, 1, 1, 0, 0, 0, 1, 0,\n",
       "       0, 1, 1, 0, 0, 1, 0, 1, 1, 0, 0, 1, 1, 0, 1, 1, 1, 1, 1, 1, 1, 1,\n",
       "       1, 0, 0, 1, 0, 0, 0, 0, 1, 1, 0, 0, 0, 1, 0, 0, 0])"
      ]
     },
     "execution_count": 73,
     "metadata": {},
     "output_type": "execute_result"
    }
   ],
   "source": [
    "np.array(y_test)"
   ]
  },
  {
   "cell_type": "code",
   "execution_count": 74,
   "id": "8ba9da6a",
   "metadata": {},
   "outputs": [
    {
     "data": {
      "text/plain": [
       "0.8688524590163934"
      ]
     },
     "execution_count": 74,
     "metadata": {},
     "output_type": "execute_result"
    }
   ],
   "source": [
    "# Compare predictions to truth labels to evaluate the model\n",
    "y_preds = clf.predict(X_test)\n",
    "np.mean(y_preds == y_test)"
   ]
  },
  {
   "cell_type": "markdown",
   "id": "d15259c7",
   "metadata": {},
   "source": [
    "Make predictions with `predict_proba()`"
   ]
  },
  {
   "cell_type": "code",
   "execution_count": 75,
   "id": "f8d2b59b",
   "metadata": {},
   "outputs": [
    {
     "data": {
      "text/plain": [
       "array([[0.89, 0.11],\n",
       "       [0.49, 0.51],\n",
       "       [0.43, 0.57],\n",
       "       [0.84, 0.16],\n",
       "       [0.18, 0.82],\n",
       "       [0.14, 0.86],\n",
       "       [0.36, 0.64],\n",
       "       [0.95, 0.05],\n",
       "       [0.99, 0.01],\n",
       "       [0.47, 0.53],\n",
       "       [0.26, 0.74],\n",
       "       [0.7 , 0.3 ],\n",
       "       [0.11, 0.89],\n",
       "       [0.95, 0.05],\n",
       "       [0.03, 0.97],\n",
       "       [0.02, 0.98],\n",
       "       [0.01, 0.99],\n",
       "       [0.84, 0.16],\n",
       "       [0.95, 0.05],\n",
       "       [0.98, 0.02],\n",
       "       [0.51, 0.49],\n",
       "       [0.89, 0.11],\n",
       "       [0.38, 0.62],\n",
       "       [0.29, 0.71],\n",
       "       [0.26, 0.74],\n",
       "       [0.34, 0.66],\n",
       "       [0.2 , 0.8 ],\n",
       "       [0.22, 0.78],\n",
       "       [0.83, 0.17],\n",
       "       [0.15, 0.85],\n",
       "       [0.94, 0.06],\n",
       "       [0.92, 0.08],\n",
       "       [0.96, 0.04],\n",
       "       [0.62, 0.38],\n",
       "       [0.46, 0.54],\n",
       "       [0.89, 0.11],\n",
       "       [0.44, 0.56],\n",
       "       [0.16, 0.84],\n",
       "       [0.33, 0.67],\n",
       "       [0.08, 0.92],\n",
       "       [0.13, 0.87],\n",
       "       [0.17, 0.83],\n",
       "       [0.18, 0.82],\n",
       "       [0.38, 0.62],\n",
       "       [0.32, 0.68],\n",
       "       [0.77, 0.23],\n",
       "       [0.39, 0.61],\n",
       "       [0.  , 1.  ],\n",
       "       [0.83, 0.17],\n",
       "       [0.97, 0.03],\n",
       "       [0.85, 0.15],\n",
       "       [0.8 , 0.2 ],\n",
       "       [0.25, 0.75],\n",
       "       [0.25, 0.75],\n",
       "       [0.87, 0.13],\n",
       "       [0.93, 0.07],\n",
       "       [0.71, 0.29],\n",
       "       [0.01, 0.99],\n",
       "       [0.87, 0.13],\n",
       "       [1.  , 0.  ],\n",
       "       [0.86, 0.14]])"
      ]
     },
     "execution_count": 75,
     "metadata": {},
     "output_type": "execute_result"
    }
   ],
   "source": [
    "# Import new model for classification\n",
    "from sklearn.ensemble import RandomForestClassifier\n",
    "\n",
    "# Setup random seed\n",
    "np.random.seed(42)\n",
    "\n",
    "\n",
    "# Make the data ready\n",
    "X = heart_disease.drop(\"target\",axis=1)\n",
    "y = heart_disease[\"target\"]\n",
    "\n",
    "# split the data\n",
    "X_train, X_test, y_train, y_test = train_test_split(X, y, test_size=0.2)\n",
    "\n",
    "# Instantiate LinearSVC\n",
    "clf = RandomForestClassifier()\n",
    "clf.fit(X_train,y_train)\n",
    "\n",
    "# Evaluate the LinearSVC score\n",
    "clf.score(X_test,y_test)\n",
    "\n",
    "# predict proba returns porbabilities of a classification labels\n",
    "clf.predict_proba(X_test)"
   ]
  },
  {
   "cell_type": "code",
   "execution_count": 76,
   "id": "958683a5",
   "metadata": {},
   "outputs": [
    {
     "data": {
      "text/plain": [
       "(array([0, 1, 1, 0, 1]),\n",
       " array([[0.89, 0.11],\n",
       "        [0.49, 0.51],\n",
       "        [0.43, 0.57],\n",
       "        [0.84, 0.16],\n",
       "        [0.18, 0.82]]))"
      ]
     },
     "execution_count": 76,
     "metadata": {},
     "output_type": "execute_result"
    }
   ],
   "source": [
    "# Lets predict() on the same data\n",
    "clf.predict(X_test[:5]), clf.predict_proba(X_test[:5])\n",
    "\n"
   ]
  },
  {
   "cell_type": "code",
   "execution_count": 77,
   "id": "4f7c5c06",
   "metadata": {},
   "outputs": [
    {
     "data": {
      "text/plain": [
       "['0. And en-to-end Scikit-Learn workflow',\n",
       " '1. Getting the data ready.',\n",
       " '2. Choose the right estimator/algorithm for our problems.',\n",
       " '3. Fit the model/algorithm and use it to make predictions on our data.',\n",
       " '4. Evaluating a model.',\n",
       " '5. Improve the model.',\n",
       " '6. Save and load a trained model.',\n",
       " '7. Putting it all together!']"
      ]
     },
     "execution_count": 77,
     "metadata": {},
     "output_type": "execute_result"
    }
   ],
   "source": [
    "what_were_covering"
   ]
  },
  {
   "cell_type": "markdown",
   "id": "995634e0",
   "metadata": {},
   "source": [
    "## Evaluating a Machine Learning Model\n",
    "Three ways to evaluate Scikit-Learn models / estimators (in-built)\n",
    "1. Estimator's built-in `score()`method\n",
    "2. The `scoring` parameter.\n",
    "3. Problem-specific metric functions\n",
    "* https://scikit-learn.org/stable/modules/model_evaluation.html"
   ]
  },
  {
   "cell_type": "markdown",
   "id": "91c24c64",
   "metadata": {},
   "source": [
    "### 4.1 Evaluating a model with score method"
   ]
  },
  {
   "cell_type": "code",
   "execution_count": 78,
   "id": "3bab723e",
   "metadata": {},
   "outputs": [
    {
     "data": {
      "text/plain": [
       "0.8524590163934426"
      ]
     },
     "execution_count": 78,
     "metadata": {},
     "output_type": "execute_result"
    }
   ],
   "source": [
    "from sklearn.ensemble import RandomForestClassifier\n",
    "\n",
    "np.random.seed(42)\n",
    "\n",
    "# Create X and y\n",
    "X = heart_disease.drop(\"target\", axis=1)\n",
    "y = heart_disease[\"target\"]\n",
    "\n",
    "# Create train and test sets\n",
    "X_train, X_test, y_train, y_test = train_test_split(X, y, test_size=0.2)\n",
    "\n",
    "# Create classifier model instance and fit the model\n",
    "clf = RandomForestClassifier(n_estimators=100)\n",
    "clf.fit(X_train, y_train)\n",
    "\n",
    "# Evaluate the model with score method\n",
    "clf.score(X_test, y_test)"
   ]
  },
  {
   "cell_type": "markdown",
   "id": "83eca238",
   "metadata": {},
   "source": [
    "Let's use the `score` method for a regressions problem..."
   ]
  },
  {
   "cell_type": "code",
   "execution_count": 79,
   "id": "eed324eb",
   "metadata": {},
   "outputs": [
    {
     "data": {
      "text/plain": [
       "0.8066196804802649"
      ]
     },
     "execution_count": 79,
     "metadata": {},
     "output_type": "execute_result"
    }
   ],
   "source": [
    "# import the new model\n",
    "from sklearn.ensemble import RandomForestRegressor\n",
    "import numpy as np\n",
    "# Setup random seed\n",
    "np.random.seed(42)\n",
    "\n",
    "# Create the data for ML\n",
    "\n",
    "X = housing_df.drop(\"target\", axis=1)\n",
    "y = housing_df[\"target\"] # median house price in $100,00s\n",
    "\n",
    "# split into train and test sets\n",
    "\n",
    "X_train, X_test, y_train, y_test = train_test_split(X, y, test_size=0.2)\n",
    "\n",
    "# Instantiate and fit the model (on the traning set)\n",
    "model = RandomForestRegressor(n_estimators=100)\n",
    "model.fit(X_train,y_train)\n",
    "\n",
    "# check the score of the model ( on the test set)\n",
    "model.score(X_test,y_test)"
   ]
  },
  {
   "cell_type": "markdown",
   "id": "5ebac113",
   "metadata": {},
   "source": [
    "## Evaluating a model using the `scoring` parameter"
   ]
  },
  {
   "cell_type": "code",
   "execution_count": 80,
   "id": "4c8be523",
   "metadata": {},
   "outputs": [
    {
     "data": {
      "text/plain": [
       "RandomForestClassifier()"
      ]
     },
     "execution_count": 80,
     "metadata": {},
     "output_type": "execute_result"
    }
   ],
   "source": [
    "from sklearn.model_selection import cross_val_score\n",
    "from sklearn.ensemble import RandomForestClassifier\n",
    "\n",
    "# Setup random seed\n",
    "np.random.seed(42)\n",
    "\n",
    "\n",
    "# Make the data ready\n",
    "X = heart_disease.drop(\"target\",axis=1)\n",
    "y = heart_disease[\"target\"]\n",
    "\n",
    "# split the data\n",
    "X_train, X_test, y_train, y_test = train_test_split(X, y, test_size=0.2)\n",
    "\n",
    "# Instantiate LinearSVC\n",
    "clf = RandomForestClassifier(n_estimators=100)\n",
    "clf.fit(X_train,y_train)"
   ]
  },
  {
   "cell_type": "code",
   "execution_count": 81,
   "id": "09716dc2",
   "metadata": {},
   "outputs": [
    {
     "data": {
      "text/plain": [
       "0.8524590163934426"
      ]
     },
     "execution_count": 81,
     "metadata": {},
     "output_type": "execute_result"
    }
   ],
   "source": [
    "clf.score(X_test,y_test)"
   ]
  },
  {
   "cell_type": "code",
   "execution_count": 82,
   "id": "7f76efc1",
   "metadata": {},
   "outputs": [
    {
     "data": {
      "text/plain": [
       "array([0.81967213, 0.86885246, 0.81967213, 0.78333333, 0.76666667])"
      ]
     },
     "execution_count": 82,
     "metadata": {},
     "output_type": "execute_result"
    }
   ],
   "source": [
    "cross_val_score(clf, X, y)"
   ]
  },
  {
   "cell_type": "code",
   "execution_count": 83,
   "id": "9b44d38c",
   "metadata": {},
   "outputs": [
    {
     "ename": "TypeError",
     "evalue": "score() missing 2 required positional arguments: 'X' and 'y'",
     "output_type": "error",
     "traceback": [
      "\u001b[0;31m---------------------------------------------------------------------------\u001b[0m",
      "\u001b[0;31mTypeError\u001b[0m                                 Traceback (most recent call last)",
      "\u001b[0;32m/var/folders/xk/73251fs13298n_zs9z8tx_rw0000gn/T/ipykernel_41283/2461073371.py\u001b[0m in \u001b[0;36m<module>\u001b[0;34m\u001b[0m\n\u001b[1;32m      1\u001b[0m \u001b[0;31m# Defailt scoring parameter of classifier = mean accuracy\u001b[0m\u001b[0;34m\u001b[0m\u001b[0;34m\u001b[0m\u001b[0m\n\u001b[0;32m----> 2\u001b[0;31m \u001b[0mclf\u001b[0m\u001b[0;34m.\u001b[0m\u001b[0mscore\u001b[0m\u001b[0;34m(\u001b[0m\u001b[0;34m)\u001b[0m\u001b[0;34m\u001b[0m\u001b[0;34m\u001b[0m\u001b[0m\n\u001b[0m",
      "\u001b[0;31mTypeError\u001b[0m: score() missing 2 required positional arguments: 'X' and 'y'"
     ]
    }
   ],
   "source": [
    "# Defailt scoring parameter of classifier = mean accuracy\n",
    "clf.score()"
   ]
  },
  {
   "cell_type": "code",
   "execution_count": 84,
   "id": "f9a5ad8e",
   "metadata": {},
   "outputs": [
    {
     "data": {
      "text/plain": [
       "array([1.        , 1.        , 0.75      , 0.66666667, 0.66666667,\n",
       "       1.        , 1.        , 1.        , 1.        , 0.66666667,\n",
       "       1.        , 1.        , 1.        , 1.        , 0.66666667,\n",
       "       1.        , 1.        , 0.66666667, 1.        , 1.        ,\n",
       "       0.66666667, 0.33333333, 1.        , 1.        , 1.        ,\n",
       "       1.        , 0.33333333, 1.        , 0.66666667, 0.66666667,\n",
       "       1.        , 1.        , 1.        , 1.        , 1.        ,\n",
       "       0.66666667, 1.        , 1.        , 1.        , 0.66666667,\n",
       "       1.        , 0.66666667, 0.66666667, 0.66666667, 1.        ,\n",
       "       1.        , 1.        , 0.66666667, 0.33333333, 1.        ,\n",
       "       0.66666667, 1.        , 1.        , 0.66666667, 0.66666667,\n",
       "       0.33333333, 0.33333333, 1.        , 1.        , 1.        ,\n",
       "       0.33333333, 1.        , 0.66666667, 1.        , 1.        ,\n",
       "       1.        , 1.        , 1.        , 1.        , 1.        ,\n",
       "       1.        , 0.66666667, 0.66666667, 0.66666667, 0.66666667,\n",
       "       0.66666667, 1.        , 0.66666667, 0.66666667, 1.        ,\n",
       "       1.        , 1.        , 0.66666667, 1.        , 0.66666667,\n",
       "       0.66666667, 1.        , 0.        , 1.        , 0.66666667,\n",
       "       0.66666667, 0.66666667, 0.66666667, 0.66666667, 1.        ,\n",
       "       0.66666667, 0.66666667, 1.        , 1.        , 0.66666667])"
      ]
     },
     "execution_count": 84,
     "metadata": {},
     "output_type": "execute_result"
    }
   ],
   "source": [
    "# Scoring parameter set to None by Default\n",
    "cross_val_score(clf, X, y, scoring=None, cv=100)"
   ]
  },
  {
   "cell_type": "code",
   "execution_count": 85,
   "id": "480d01d7",
   "metadata": {},
   "outputs": [
    {
     "data": {
      "text/plain": [
       "0.8075000000000001"
      ]
     },
     "execution_count": 85,
     "metadata": {},
     "output_type": "execute_result"
    }
   ],
   "source": [
    "np.mean(cross_val_score(clf, X, y, scoring=None, cv=100))"
   ]
  },
  {
   "cell_type": "markdown",
   "id": "1ae4d3e1",
   "metadata": {},
   "source": [
    "## 4.2.1 Classification model evaluation metrics\n",
    "1. Accuracy\n",
    "2. Area under ROC curve\n",
    "3. Confusion Matrix\n",
    "4. Classification report\n",
    "## Accuracy"
   ]
  },
  {
   "cell_type": "code",
   "execution_count": 86,
   "id": "9ecd2a58",
   "metadata": {},
   "outputs": [],
   "source": [
    "from sklearn.model_selection import cross_val_score\n",
    "from sklearn.ensemble import RandomForestClassifier\n",
    "\n",
    "np.random.seed(42)\n",
    "\n",
    "X = heart_disease.drop(\"target\", axis=1)\n",
    "y = heart_disease[\"target\"]\n",
    "\n",
    "X_train, X_test, y_train, y_test = train_test_split(X, y, test_size=0.2)\n",
    "\n",
    "clf = RandomForestClassifier(n_estimators=100)\n",
    "clf.fit(X_train, y_train)\n",
    "cross_val_scoring = cross_val_score(clf, X, y)"
   ]
  },
  {
   "cell_type": "code",
   "execution_count": 87,
   "id": "6d9066f1",
   "metadata": {},
   "outputs": [
    {
     "data": {
      "text/plain": [
       "0.811639344262295"
      ]
     },
     "execution_count": 87,
     "metadata": {},
     "output_type": "execute_result"
    }
   ],
   "source": [
    "np.mean(cross_val_scoring)"
   ]
  },
  {
   "cell_type": "code",
   "execution_count": 88,
   "id": "9d5b0527",
   "metadata": {},
   "outputs": [
    {
     "data": {
      "text/plain": [
       "0.8524590163934426"
      ]
     },
     "execution_count": 88,
     "metadata": {},
     "output_type": "execute_result"
    }
   ],
   "source": [
    "clf.score(X_test,y_test)"
   ]
  },
  {
   "cell_type": "code",
   "execution_count": 89,
   "id": "ba984b18",
   "metadata": {},
   "outputs": [
    {
     "name": "stdout",
     "output_type": "stream",
     "text": [
      "Heart Disease Classifier Cross-Validation - Accuracy: 81.16%\n"
     ]
    }
   ],
   "source": [
    "print(f\"Heart Disease Classifier Cross-Validation - Accuracy: {np.mean(cross_val_scoring)*100:.2f}%\")"
   ]
  },
  {
   "cell_type": "markdown",
   "id": "1796b0b2",
   "metadata": {},
   "source": [
    "## **Area under the receiver characteristic curve (AUC/ROC)**\n",
    "* Area under curve (AUC)\n",
    "* ROC curve\n",
    "\n",
    "ROC curve are a comparison of a model's true positive rate (tpr) versus a model's false positive rate (fpr)\n",
    "\n",
    "* True positive = model predict 1 when truth is 1\n",
    "* False positive = model predict 1 when truth is 0\n",
    "* True negative = model predicts 0 when truth is 0\n",
    "* False negative = model predict 0 when truth is 1"
   ]
  },
  {
   "cell_type": "code",
   "execution_count": 90,
   "id": "eea47985",
   "metadata": {},
   "outputs": [
    {
     "data": {
      "text/plain": [
       "array([[0.92, 0.08],\n",
       "       [0.15, 0.85],\n",
       "       [0.17, 0.83],\n",
       "       [0.15, 0.85],\n",
       "       [0.14, 0.86],\n",
       "       [0.05, 0.95],\n",
       "       [0.29, 0.71],\n",
       "       [0.82, 0.18],\n",
       "       [0.44, 0.56],\n",
       "       [0.04, 0.96]])"
      ]
     },
     "execution_count": 90,
     "metadata": {},
     "output_type": "execute_result"
    }
   ],
   "source": [
    "from sklearn.metrics import roc_curve\n",
    "\n",
    "X_train, X_test, y_train, y_test = train_test_split(X, y, test_size=0.2)\n",
    "clf.fit(X_train, y_train)\n",
    "\n",
    "# Make predictions with probabilities\n",
    "y_probs = clf.predict_proba(X_test)\n",
    "y_probs[:10]"
   ]
  },
  {
   "cell_type": "code",
   "execution_count": 91,
   "id": "5bfb04a2",
   "metadata": {},
   "outputs": [],
   "source": [
    "y_probs_positive = y_probs[:,1]"
   ]
  },
  {
   "cell_type": "code",
   "execution_count": 92,
   "id": "4c7e9b4b",
   "metadata": {},
   "outputs": [
    {
     "data": {
      "text/plain": [
       "array([0.08, 0.85, 0.83, 0.85, 0.86, 0.95, 0.71, 0.18, 0.56, 0.96])"
      ]
     },
     "execution_count": 92,
     "metadata": {},
     "output_type": "execute_result"
    }
   ],
   "source": [
    "y_probs_positive[:10]"
   ]
  },
  {
   "cell_type": "code",
   "execution_count": 93,
   "id": "a678f4e9",
   "metadata": {},
   "outputs": [
    {
     "data": {
      "text/plain": [
       "array([0.        , 0.03846154, 0.03846154, 0.03846154, 0.03846154,\n",
       "       0.03846154, 0.03846154, 0.07692308, 0.11538462, 0.11538462,\n",
       "       0.11538462, 0.15384615, 0.15384615, 0.19230769, 0.23076923,\n",
       "       0.26923077, 0.26923077, 0.30769231, 0.30769231, 0.30769231,\n",
       "       0.38461538, 0.38461538, 0.5       , 0.5       , 0.53846154,\n",
       "       0.65384615, 0.73076923, 0.76923077, 0.80769231, 0.96153846,\n",
       "       1.        ])"
      ]
     },
     "execution_count": 93,
     "metadata": {},
     "output_type": "execute_result"
    }
   ],
   "source": [
    "# calculate fpr, tpr and thresholds\n",
    "fpr, tpr, thresholds = roc_curve(y_test, y_probs_positive)\n",
    "\n",
    "# check the false positives\n",
    "fpr"
   ]
  },
  {
   "cell_type": "code",
   "execution_count": 94,
   "id": "27ba49db",
   "metadata": {},
   "outputs": [
    {
     "data": {
      "text/plain": [
       "array([0.        , 0.08571429, 0.2       , 0.31428571, 0.37142857,\n",
       "       0.4       , 0.45714286, 0.51428571, 0.51428571, 0.54285714,\n",
       "       0.65714286, 0.65714286, 0.74285714, 0.74285714, 0.77142857,\n",
       "       0.77142857, 0.82857143, 0.82857143, 0.88571429, 0.91428571,\n",
       "       0.91428571, 0.94285714, 0.94285714, 0.97142857, 0.97142857,\n",
       "       0.97142857, 0.97142857, 0.97142857, 1.        , 1.        ,\n",
       "       1.        ])"
      ]
     },
     "execution_count": 94,
     "metadata": {},
     "output_type": "execute_result"
    }
   ],
   "source": [
    "tpr"
   ]
  },
  {
   "cell_type": "code",
   "execution_count": 95,
   "id": "89b6a589",
   "metadata": {},
   "outputs": [
    {
     "data": {
      "image/png": "[encoded data removed]",
      "text/plain": [
       "<Figure size 432x288 with 1 Axes>"
      ]
     },
     "metadata": {},
     "output_type": "display_data"
    }
   ],
   "source": [
    "## Create a function to plotting ROC curves\n",
    "import matplotlib.pyplot as plt\n",
    "\n",
    "def plot_roc_curve(fpr, tpr):\n",
    "    \"\"\"\n",
    "        Plots a ROC curve given the false positive rate (fpr)\n",
    "        and true positive rate (tpr) of a model.\n",
    "    \"\"\"\n",
    "    # customize x and y limitations\n",
    "    plt.style.use('seaborn-whitegrid')\n",
    "    \n",
    "    # Plot ROC curve\n",
    "    plt.plot(fpr, tpr, color=\"orange\", label=\"ROC curve\")\n",
    "    # Plot line with no predictive power (baseline)\n",
    "    plt.plot([0,1],[0,1], color=\"darkblue\", linestyle=\"--\", label=\"Guessing\")\n",
    "    \n",
    "    # Customize plot\n",
    "    plt.xlabel(\"False positive rate (fpr)\")\n",
    "    plt.ylabel(\"True positive rate (tpr)\")\n",
    "    plt.title(\"Receiver Operating Charateristic (ROC) curve\")\n",
    "    plt.legend()\n",
    "    plt.show()\n",
    "\n",
    "plot_roc_curve(fpr,tpr)"
   ]
  },
  {
   "cell_type": "code",
   "execution_count": 96,
   "id": "2eaa4a81",
   "metadata": {},
   "outputs": [
    {
     "data": {
      "text/plain": [
       "0.8554945054945055"
      ]
     },
     "execution_count": 96,
     "metadata": {},
     "output_type": "execute_result"
    }
   ],
   "source": [
    "from sklearn.metrics import roc_auc_score\n",
    "\n",
    "roc_auc_score(y_test, y_probs_positive)"
   ]
  },
  {
   "cell_type": "markdown",
   "id": "4d2f6027",
   "metadata": {},
   "source": [
    "**Confusion Matrix**\n",
    "\n",
    "A confusion matrix is a quick way to compare the labels a model predicts and the actual labels it was supposed to predict.\n",
    "\n",
    "In essence, giving you an idead of where the model is getting confused."
   ]
  },
  {
   "cell_type": "code",
   "execution_count": 97,
   "id": "97da524c",
   "metadata": {},
   "outputs": [
    {
     "data": {
      "text/plain": [
       "array([[19,  7],\n",
       "       [ 6, 29]])"
      ]
     },
     "execution_count": 97,
     "metadata": {},
     "output_type": "execute_result"
    }
   ],
   "source": [
    "from sklearn.metrics import confusion_matrix\n",
    "\n",
    "y_preds = clf.predict(X_test)\n",
    "\n",
    "confusion_matrix(y_test, y_preds)"
   ]
  },
  {
   "cell_type": "code",
   "execution_count": 98,
   "id": "e453b88e",
   "metadata": {},
   "outputs": [
    {
     "data": {
      "text/html": [
       "<div>\n",
       "<style scoped>\n",
       "    .dataframe tbody tr th:only-of-type {\n",
       "        vertical-align: middle;\n",
       "    }\n",
       "\n",
       "    .dataframe tbody tr th {\n",
       "        vertical-align: top;\n",
       "    }\n",
       "\n",
       "    .dataframe thead th {\n",
       "        text-align: right;\n",
       "    }\n",
       "</style>\n",
       "<table border=\"1\" class=\"dataframe\">\n",
       "  <thead>\n",
       "    <tr style=\"text-align: right;\">\n",
       "      <th>Predicted labels</th>\n",
       "      <th>0</th>\n",
       "      <th>1</th>\n",
       "    </tr>\n",
       "    <tr>\n",
       "      <th>Actual labels</th>\n",
       "      <th></th>\n",
       "      <th></th>\n",
       "    </tr>\n",
       "  </thead>\n",
       "  <tbody>\n",
       "    <tr>\n",
       "      <th>0</th>\n",
       "      <td>19</td>\n",
       "      <td>7</td>\n",
       "    </tr>\n",
       "    <tr>\n",
       "      <th>1</th>\n",
       "      <td>6</td>\n",
       "      <td>29</td>\n",
       "    </tr>\n",
       "  </tbody>\n",
       "</table>\n",
       "</div>"
      ],
      "text/plain": [
       "Predicted labels   0   1\n",
       "Actual labels           \n",
       "0                 19   7\n",
       "1                  6  29"
      ]
     },
     "execution_count": 98,
     "metadata": {},
     "output_type": "execute_result"
    }
   ],
   "source": [
    "# Visualize confusion matrix with pd.crosstab()\n",
    "\n",
    "pd.crosstab(y_test,\n",
    "           y_preds,\n",
    "           rownames=[\"Actual labels\"],\n",
    "           colnames=[\"Predicted labels\"])"
   ]
  },
  {
   "cell_type": "code",
   "execution_count": 99,
   "id": "419ac6fa",
   "metadata": {},
   "outputs": [
    {
     "name": "stdout",
     "output_type": "stream",
     "text": [
      "Collecting package metadata (current_repodata.json): done\n",
      "Solving environment: done\n",
      "\n",
      "# All requested packages already installed.\n",
      "\n"
     ]
    }
   ],
   "source": [
    "# how to install a conda package into jupyter notebook\n",
    "import sys\n",
    "!conda install --yes --prefix {sys.prefix} seaborn"
   ]
  },
  {
   "cell_type": "code",
   "execution_count": 100,
   "id": "93519b33",
   "metadata": {},
   "outputs": [
    {
     "data": {
      "image/png": "[encoded data removed]",
      "text/plain": [
       "<Figure size 432x288 with 2 Axes>"
      ]
     },
     "metadata": {},
     "output_type": "display_data"
    }
   ],
   "source": [
    "# Make our confusion matrix more visual with Seaborn's heatmap()\n",
    "import seaborn as sns\n",
    "\n",
    "# set a font scale\n",
    "sns.set(font_scale=1.5)\n",
    "\n",
    "# create a confusion matrix\n",
    "conf_mat = confusion_matrix(y_test,y_preds)\n",
    "\n",
    "#plot using seaborn\n",
    "sns.heatmap(conf_mat);"
   ]
  },
  {
   "cell_type": "markdown",
   "id": "56e3174f",
   "metadata": {},
   "source": [
    "## creating a confusion matrix using scikit-learn\n",
    "To use de new methods of creating a confusion matrix with scikit-learn you will ned sklearn1.0+\n",
    "https://scikit-learn.org/stable/modules/generated/sklearn.metrics.ConfusionMatrixDisplay.html"
   ]
  },
  {
   "cell_type": "code",
   "execution_count": 101,
   "id": "66e9a6fa",
   "metadata": {},
   "outputs": [
    {
     "data": {
      "text/plain": [
       "'1.0.1'"
      ]
     },
     "execution_count": 101,
     "metadata": {},
     "output_type": "execute_result"
    }
   ],
   "source": [
    "import sklearn\n",
    "sklearn.__version__"
   ]
  },
  {
   "cell_type": "code",
   "execution_count": 102,
   "id": "c35957e5",
   "metadata": {},
   "outputs": [
    {
     "data": {
      "image/png": "[encoded data removed]",
      "text/plain": [
       "<Figure size 432x288 with 2 Axes>"
      ]
     },
     "metadata": {},
     "output_type": "display_data"
    }
   ],
   "source": [
    "from sklearn.metrics import ConfusionMatrixDisplay\n",
    "\n",
    "ConfusionMatrixDisplay.from_estimator(estimator=clf, X=X, y=y);"
   ]
  },
  {
   "cell_type": "code",
   "execution_count": 103,
   "id": "e125e759",
   "metadata": {},
   "outputs": [
    {
     "data": {
      "image/png": "[encoded data removed]",
      "text/plain": [
       "<Figure size 432x288 with 2 Axes>"
      ]
     },
     "metadata": {},
     "output_type": "display_data"
    }
   ],
   "source": [
    "ConfusionMatrixDisplay.from_predictions(y_true=y_test,y_pred=y_preds);"
   ]
  },
  {
   "cell_type": "markdown",
   "id": "4c2fc9ce",
   "metadata": {},
   "source": [
    "**Classification report**"
   ]
  },
  {
   "cell_type": "code",
   "execution_count": 104,
   "id": "b575cc58",
   "metadata": {},
   "outputs": [
    {
     "name": "stdout",
     "output_type": "stream",
     "text": [
      "              precision    recall  f1-score   support\n",
      "\n",
      "           0       0.76      0.73      0.75        26\n",
      "           1       0.81      0.83      0.82        35\n",
      "\n",
      "    accuracy                           0.79        61\n",
      "   macro avg       0.78      0.78      0.78        61\n",
      "weighted avg       0.79      0.79      0.79        61\n",
      "\n"
     ]
    }
   ],
   "source": [
    "from sklearn.metrics import classification_report\n",
    "print(classification_report(y_test,y_preds))"
   ]
  },
  {
   "cell_type": "markdown",
   "id": "aee6e080",
   "metadata": {},
   "source": [
    "To summarize classification metrics:\n",
    "* **Accuracy** is a good emasure to start with if all classes are balanced (e.g. same amount of sample)\n",
    "* **Precision and recall** become more important when classes are imbalanced.\n",
    "* If false positive predictions are worse than false negatives, aim for higher precision.\n",
    "* If false negative predictions are worse than false positives, aim for higher recall.\n",
    "* **F1-Score** is a combination of precision and recall."
   ]
  },
  {
   "cell_type": "markdown",
   "id": "7a00f853",
   "metadata": {},
   "source": [
    "## 4.2.2 Regression model evaluation metrics\n",
    "Model evaluations metrics documentation: https://scikit-learn.org/stable/modules/model_evaluation.html#regression-metrics\n",
    "\n",
    "The ones we're going to cover are:\n",
    "1. Rˆ2 (pronounced r-squared) or coefficient of determination.\n",
    "2. Mean absolute error (MAE)\n",
    "3. Mean squared error (MSE)"
   ]
  },
  {
   "cell_type": "code",
   "execution_count": 105,
   "id": "8bb67b7f",
   "metadata": {},
   "outputs": [
    {
     "data": {
      "text/plain": [
       "RandomForestRegressor()"
      ]
     },
     "execution_count": 105,
     "metadata": {},
     "output_type": "execute_result"
    }
   ],
   "source": [
    "from sklearn.ensemble import RandomForestRegressor\n",
    "\n",
    "np.random.seed(42)\n",
    "\n",
    "X = housing_df.drop(\"target\", axis=1)\n",
    "y = housing_df[\"target\"]\n",
    "\n",
    "X_train, X_test, y_train, y_test = train_test_split(X, y, test_size=0.2)\n",
    "\n",
    "model = RandomForestRegressor(n_estimators=100)\n",
    "model.fit(X_train, y_train)"
   ]
  },
  {
   "cell_type": "code",
   "execution_count": 106,
   "id": "580d9988",
   "metadata": {},
   "outputs": [
    {
     "data": {
      "text/plain": [
       "0.8066196804802649"
      ]
     },
     "execution_count": 106,
     "metadata": {},
     "output_type": "execute_result"
    }
   ],
   "source": [
    "model.score(X_test, y_test)"
   ]
  },
  {
   "cell_type": "code",
   "execution_count": 107,
   "id": "2bd8d51f",
   "metadata": {},
   "outputs": [
    {
     "data": {
      "text/plain": [
       "20046    0.47700\n",
       "3024     0.45800\n",
       "15663    5.00001\n",
       "20484    2.18600\n",
       "9814     2.78000\n",
       "          ...   \n",
       "15362    2.63300\n",
       "16623    2.66800\n",
       "18086    5.00001\n",
       "2144     0.72300\n",
       "3665     1.51500\n",
       "Name: target, Length: 4128, dtype: float64"
      ]
     },
     "execution_count": 107,
     "metadata": {},
     "output_type": "execute_result"
    }
   ],
   "source": [
    "y_test"
   ]
  },
  {
   "cell_type": "code",
   "execution_count": 108,
   "id": "cb5b2bda",
   "metadata": {},
   "outputs": [
    {
     "data": {
      "text/plain": [
       "2.0550030959302275"
      ]
     },
     "execution_count": 108,
     "metadata": {},
     "output_type": "execute_result"
    }
   ],
   "source": [
    "y_test.mean()"
   ]
  },
  {
   "cell_type": "code",
   "execution_count": 109,
   "id": "b986ff3b",
   "metadata": {},
   "outputs": [],
   "source": [
    "from sklearn.metrics import r2_score\n",
    "# Fill an array with y_test mean\n",
    "\n",
    "y_test_mean = np.full(len(y_test), y_test.mean())"
   ]
  },
  {
   "cell_type": "code",
   "execution_count": 110,
   "id": "7bbcf736",
   "metadata": {},
   "outputs": [
    {
     "data": {
      "text/plain": [
       "array([2.0550031, 2.0550031, 2.0550031, ..., 2.0550031, 2.0550031,\n",
       "       2.0550031])"
      ]
     },
     "execution_count": 110,
     "metadata": {},
     "output_type": "execute_result"
    }
   ],
   "source": [
    "y_test_mean"
   ]
  },
  {
   "cell_type": "code",
   "execution_count": 111,
   "id": "bb58b30c",
   "metadata": {},
   "outputs": [
    {
     "data": {
      "text/plain": [
       "0.0"
      ]
     },
     "execution_count": 111,
     "metadata": {},
     "output_type": "execute_result"
    }
   ],
   "source": [
    "r2_score(y_true = y_test, y_pred = y_test_mean)"
   ]
  },
  {
   "cell_type": "code",
   "execution_count": 112,
   "id": "a95b21c8",
   "metadata": {},
   "outputs": [
    {
     "data": {
      "text/plain": [
       "1.0"
      ]
     },
     "execution_count": 112,
     "metadata": {},
     "output_type": "execute_result"
    }
   ],
   "source": [
    "r2_score(y_true= y_test, y_pred=y_test)"
   ]
  },
  {
   "cell_type": "markdown",
   "id": "076d29aa",
   "metadata": {},
   "source": [
    "## Mean absolute error (MAE)"
   ]
  },
  {
   "cell_type": "code",
   "execution_count": 113,
   "id": "fd99c418",
   "metadata": {},
   "outputs": [],
   "source": [
    "from sklearn.metrics import mean_absolute_error\n",
    "np.random.seed(42)\n",
    "X = housing_df.drop(\"target\", axis=1)\n",
    "y = housing_df[\"target\"]\n",
    "\n",
    "X_train, X_test, y_train, y_test = train_test_split(X, y, test_size=0.2)\n",
    "\n",
    "model = RandomForestRegressor(n_estimators=100)\n",
    "model.fit(X_train, y_train)\n",
    "y_preds = model.predict(X_test)"
   ]
  },
  {
   "cell_type": "code",
   "execution_count": 114,
   "id": "5ce8c830",
   "metadata": {},
   "outputs": [
    {
     "data": {
      "text/plain": [
       "0.3265721842781009"
      ]
     },
     "execution_count": 114,
     "metadata": {},
     "output_type": "execute_result"
    }
   ],
   "source": [
    "mean_absolute_error(y_true = y_test,\n",
    "                   y_pred = y_preds)"
   ]
  },
  {
   "cell_type": "code",
   "execution_count": 115,
   "id": "715e8f64",
   "metadata": {},
   "outputs": [
    {
     "data": {
      "text/plain": [
       "0.0"
      ]
     },
     "execution_count": 115,
     "metadata": {},
     "output_type": "execute_result"
    }
   ],
   "source": [
    "mean_absolute_error(y_true = y_test,\n",
    "                   y_pred = y_test)"
   ]
  },
  {
   "cell_type": "code",
   "execution_count": 116,
   "id": "10003a5b",
   "metadata": {},
   "outputs": [
    {
     "data": {
      "text/plain": [
       "0.8066196804802649"
      ]
     },
     "execution_count": 116,
     "metadata": {},
     "output_type": "execute_result"
    }
   ],
   "source": [
    "model.score(X_test,y_test)"
   ]
  },
  {
   "cell_type": "code",
   "execution_count": 117,
   "id": "6b5a86fe",
   "metadata": {},
   "outputs": [
    {
     "data": {
      "text/plain": [
       "0.8066196804802649"
      ]
     },
     "execution_count": 117,
     "metadata": {},
     "output_type": "execute_result"
    }
   ],
   "source": [
    "r2_score(y_test, y_preds)"
   ]
  },
  {
   "cell_type": "markdown",
   "id": "62a566c4",
   "metadata": {},
   "source": [
    "## Mean squared error (MSE)"
   ]
  },
  {
   "cell_type": "code",
   "execution_count": 118,
   "id": "6873238d",
   "metadata": {},
   "outputs": [],
   "source": [
    "from sklearn.metrics import mean_squared_error"
   ]
  },
  {
   "cell_type": "code",
   "execution_count": 119,
   "id": "d7d2eea4",
   "metadata": {},
   "outputs": [],
   "source": [
    "MSE = mean_squared_error(y_test, y_preds)"
   ]
  },
  {
   "cell_type": "code",
   "execution_count": 120,
   "id": "0e990401",
   "metadata": {},
   "outputs": [
    {
     "data": {
      "text/plain": [
       "0.2534073069137548"
      ]
     },
     "execution_count": 120,
     "metadata": {},
     "output_type": "execute_result"
    }
   ],
   "source": [
    "MSE"
   ]
  },
  {
   "cell_type": "code",
   "execution_count": 121,
   "id": "9ff019c3",
   "metadata": {},
   "outputs": [],
   "source": [
    "RMSE = MSE**0.5"
   ]
  },
  {
   "cell_type": "code",
   "execution_count": 122,
   "id": "80d59629",
   "metadata": {},
   "outputs": [
    {
     "data": {
      "text/plain": [
       "0.503395775621682"
      ]
     },
     "execution_count": 122,
     "metadata": {},
     "output_type": "execute_result"
    }
   ],
   "source": [
    "RMSE"
   ]
  },
  {
   "cell_type": "markdown",
   "id": "8806e69f",
   "metadata": {},
   "source": [
    "### 4.2.3 Finally using the `scoring` parameter "
   ]
  },
  {
   "cell_type": "code",
   "execution_count": 123,
   "id": "2dd58af0",
   "metadata": {},
   "outputs": [],
   "source": [
    "from sklearn.model_selection import cross_val_score\n",
    "\n",
    "from sklearn.ensemble import RandomForestClassifier\n",
    "\n",
    "np.random.seed(42)\n",
    "\n",
    "X = heart_disease.drop(\"target\", axis=1)\n",
    "y = heart_disease[\"target\"]\n",
    "\n",
    "X_train, X_test, y_train, y_test = train_test_split(X,y, test_size=0.2)\n",
    "\n",
    "clf = RandomForestClassifier(n_estimators=100)"
   ]
  },
  {
   "cell_type": "code",
   "execution_count": 124,
   "id": "7e6fdd2d",
   "metadata": {},
   "outputs": [
    {
     "data": {
      "text/plain": [
       "array([0.81967213, 0.90163934, 0.83606557, 0.78333333, 0.78333333])"
      ]
     },
     "execution_count": 124,
     "metadata": {},
     "output_type": "execute_result"
    }
   ],
   "source": [
    "np.random.seed(42)\n",
    "\n",
    "# Cross-Validation accuracy\n",
    "\n",
    "cv_acc = cross_val_score(clf, X, y, cv=5, scoring=None) # if scoring=None the default method score evaluation is used\n",
    "cv_acc"
   ]
  },
  {
   "cell_type": "code",
   "execution_count": 125,
   "id": "fa9f57fd",
   "metadata": {},
   "outputs": [
    {
     "name": "stdout",
     "output_type": "stream",
     "text": [
      "The cross-validated accuracy is: 82.48%\n"
     ]
    }
   ],
   "source": [
    "# Cross validated accuracy\n",
    "print(f\"The cross-validated accuracy is: {np.mean(cv_acc)*100:.2f}%\")"
   ]
  },
  {
   "cell_type": "code",
   "execution_count": 126,
   "id": "806b7171",
   "metadata": {},
   "outputs": [
    {
     "data": {
      "text/plain": [
       "RandomForestClassifier()"
      ]
     },
     "execution_count": 126,
     "metadata": {},
     "output_type": "execute_result"
    }
   ],
   "source": [
    "clf.fit(X_train, y_train)"
   ]
  },
  {
   "cell_type": "code",
   "execution_count": 127,
   "id": "d62dee1d",
   "metadata": {},
   "outputs": [
    {
     "data": {
      "text/plain": [
       "0.8524590163934426"
      ]
     },
     "execution_count": 127,
     "metadata": {},
     "output_type": "execute_result"
    }
   ],
   "source": [
    "clf.score(X_test, y_test)"
   ]
  },
  {
   "cell_type": "code",
   "execution_count": 128,
   "id": "1f0d452f",
   "metadata": {},
   "outputs": [
    {
     "data": {
      "text/plain": [
       "array([0.82352941, 0.93548387, 0.84848485, 0.79411765, 0.76315789])"
      ]
     },
     "execution_count": 128,
     "metadata": {},
     "output_type": "execute_result"
    }
   ],
   "source": [
    "np.random.seed(42)\n",
    "\n",
    "# Cross-Validation precision\n",
    "\n",
    "cv_precision = cross_val_score(clf, X, y, cv=5, scoring=\"precision\") # if scoring=None the default method score evaluation is used\n",
    "cv_precision"
   ]
  },
  {
   "cell_type": "code",
   "execution_count": 129,
   "id": "5368512b",
   "metadata": {},
   "outputs": [
    {
     "name": "stdout",
     "output_type": "stream",
     "text": [
      "The cross-validated precision is: 0.8329547346025924\n"
     ]
    }
   ],
   "source": [
    "# Cross validated precision\n",
    "print(f\"The cross-validated precision is: {np.mean(cv_precision)}\")"
   ]
  },
  {
   "cell_type": "code",
   "execution_count": 130,
   "id": "1d050c8c",
   "metadata": {},
   "outputs": [
    {
     "data": {
      "text/plain": [
       "array([0.84848485, 0.87878788, 0.84848485, 0.81818182, 0.87878788])"
      ]
     },
     "execution_count": 130,
     "metadata": {},
     "output_type": "execute_result"
    }
   ],
   "source": [
    "np.random.seed(42)\n",
    "\n",
    "# Cross-Validation recall\n",
    "\n",
    "cv_recall = cross_val_score(clf, X, y, cv=5, scoring=\"recall\") # if scoring=None the default method score evaluation is used\n",
    "cv_recall"
   ]
  },
  {
   "cell_type": "code",
   "execution_count": 131,
   "id": "0d330401",
   "metadata": {},
   "outputs": [
    {
     "name": "stdout",
     "output_type": "stream",
     "text": [
      "The cross-validated precision is: 0.8545454545454545\n"
     ]
    }
   ],
   "source": [
    "# Cross validated recall\n",
    "print(f\"The cross-validated precision is: {np.mean(cv_recall)}\")"
   ]
  },
  {
   "cell_type": "markdown",
   "id": "08cf0e6e",
   "metadata": {},
   "source": [
    "Let's use cross-validation socre with regression models"
   ]
  },
  {
   "cell_type": "code",
   "execution_count": 132,
   "id": "9d6e834e",
   "metadata": {},
   "outputs": [
    {
     "data": {
      "text/plain": [
       "array([0.50093337, 0.70272479, 0.74115332, 0.61575704, 0.68255292])"
      ]
     },
     "execution_count": 132,
     "metadata": {},
     "output_type": "execute_result"
    }
   ],
   "source": [
    "np.random.seed(42)\n",
    "X = housing_df.drop(\"target\", axis=1)\n",
    "y = housing_df[\"target\"]\n",
    "\n",
    "X_train, X_test, y_train, y_test = train_test_split(X, y, test_size=0.2)\n",
    "\n",
    "model = RandomForestRegressor(n_estimators=100)\n",
    "model.fit(X_train, y_train)\n",
    "\n",
    "# Cross-Validation r2_square\n",
    "\n",
    "cv_r2 = cross_val_score(model, X, y, cv=5, scoring=None) # if scoring=None the default method score evaluation is used\n",
    "cv_r2"
   ]
  },
  {
   "cell_type": "code",
   "execution_count": 133,
   "id": "bb8c6d43",
   "metadata": {},
   "outputs": [
    {
     "data": {
      "text/plain": [
       "0.8066196804802649"
      ]
     },
     "execution_count": 133,
     "metadata": {},
     "output_type": "execute_result"
    }
   ],
   "source": [
    "model.score(X_test, y_test)"
   ]
  },
  {
   "cell_type": "code",
   "execution_count": 134,
   "id": "b41c8437",
   "metadata": {},
   "outputs": [
    {
     "name": "stdout",
     "output_type": "stream",
     "text": [
      "The cross-validated r2 is: 0.6486242888224971\n"
     ]
    }
   ],
   "source": [
    "# Cross validated r2\n",
    "print(f\"The cross-validated r2 is: {np.mean(cv_r2)}\")"
   ]
  },
  {
   "cell_type": "code",
   "execution_count": 135,
   "id": "4b9dd0a0",
   "metadata": {},
   "outputs": [
    {
     "name": "stdout",
     "output_type": "stream",
     "text": [
      "The cross-validated mean_squared_error is: -0.4346202759692601\n"
     ]
    }
   ],
   "source": [
    "# Cross-Validation mean_squared_error\n",
    "\n",
    "cv_mse = cross_val_score(model, X, y, cv=5, scoring=\"neg_mean_squared_error\") # if scoring=None the default method score evaluation is used\n",
    "cv_mse\n",
    "\n",
    "# Cross validated r2\n",
    "print(f\"The cross-validated mean_squared_error is: {np.mean(cv_mse)}\")"
   ]
  },
  {
   "cell_type": "markdown",
   "id": "b214e907",
   "metadata": {},
   "source": [
    "## 4.3 Using different evaluation metrics as Scikit-Learn functions\n",
    "\n",
    "The 3rd way to evaluate scikit-learn machine models/estimators is to using the `sklearn.metrics`: https://scikit-learn.org/stable/modules/classes.html#module-sklearn.metrics"
   ]
  },
  {
   "cell_type": "code",
   "execution_count": 136,
   "id": "909e92e4",
   "metadata": {},
   "outputs": [
    {
     "name": "stdout",
     "output_type": "stream",
     "text": [
      "The accuracy of the model is: 78.69%\n",
      "The precision of the model is: 0.78125\n",
      "The recall of the model is: 0.8064516129032258\n",
      "The f1_score of the model is: 0.8064516129032258\n",
      "\n",
      "The report of all scores of the model:\n",
      "\n",
      "               precision    recall  f1-score   support\n",
      "\n",
      "           0       0.79      0.77      0.78        30\n",
      "           1       0.78      0.81      0.79        31\n",
      "\n",
      "    accuracy                           0.79        61\n",
      "   macro avg       0.79      0.79      0.79        61\n",
      "weighted avg       0.79      0.79      0.79        61\n",
      "\n"
     ]
    }
   ],
   "source": [
    "from sklearn.metrics import accuracy_score, precision_score, recall_score, f1_score\n",
    "from sklearn.ensemble import RandomForestClassifier\n",
    "from sklearn.model_selection import train_test_split\n",
    "\n",
    "X = heart_disease.drop(\"target\", axis=1)\n",
    "y = heart_disease[\"target\"]\n",
    "\n",
    "X_train, X_test, y_train, y_test = train_test_split(X, y, test_size=0.2)\n",
    "\n",
    "clf = RandomForestClassifier(n_estimators=100)\n",
    "\n",
    "clf.fit(X_train, y_train)\n",
    "\n",
    "y_preds = clf.predict(X_test)\n",
    "acc = accuracy_score(y_test, y_preds)\n",
    "print(f\"The accuracy of the model is: {acc*100:.2f}%\")\n",
    "\n",
    "precision = precision_score(y_test, y_preds)\n",
    "print(f\"The precision of the model is: {precision}\")\n",
    "\n",
    "recall = recall_score(y_test, y_preds)\n",
    "print(f\"The recall of the model is: {recall}\")\n",
    "\n",
    "f1 = f1_score(y_test, y_preds)\n",
    "print(f\"The f1_score of the model is: {recall}\\n\")\n",
    "\n",
    "# or only use:\n",
    "print(f\"The report of all scores of the model:\\n\\n {classification_report(y_test,y_preds)}\")"
   ]
  },
  {
   "cell_type": "code",
   "execution_count": 137,
   "id": "27ebcaa4",
   "metadata": {},
   "outputs": [
    {
     "name": "stdout",
     "output_type": "stream",
     "text": [
      "The r2_score of the model is: 80.77%\n",
      "The mean absolute error of the model is: 0.3282\n",
      "The mean squared error of the model is: 0.2537\n"
     ]
    }
   ],
   "source": [
    "from sklearn.metrics import r2_score, mean_absolute_error, mean_squared_error\n",
    "from sklearn.ensemble import RandomForestRegressor\n",
    "from sklearn.model_selection import train_test_split\n",
    "\n",
    "X = housing_df.drop(\"target\", axis=1)\n",
    "y = housing_df[\"target\"]\n",
    "\n",
    "X_train, X_test, y_train, y_test = train_test_split(X, y, test_size=0.2)\n",
    "\n",
    "model = RandomForestRegressor(n_estimators=100)\n",
    "\n",
    "model.fit(X_train, y_train)\n",
    "\n",
    "y_preds = model.predict(X_test)\n",
    "r2_score = r2_score(y_test, y_preds)\n",
    "print(f\"The r2_score of the model is: {r2_score*100:.2f}%\")\n",
    "\n",
    "mae = mean_absolute_error(y_test, y_preds)\n",
    "print(f\"The mean absolute error of the model is: {mae:.4f}\")\n",
    "\n",
    "mse = mean_squared_error(y_test, y_preds)\n",
    "print(f\"The mean squared error of the model is: {mse:.4f}\")"
   ]
  },
  {
   "cell_type": "code",
   "execution_count": 138,
   "id": "9e843945",
   "metadata": {},
   "outputs": [
    {
     "name": "stdout",
     "output_type": "stream",
     "text": [
      "Collecting package metadata (current_repodata.json): done\n",
      "Solving environment: done\n",
      "\n",
      "# All requested packages already installed.\n",
      "\n"
     ]
    }
   ],
   "source": [
    "# how to install a conda package into jupyter notebook\n",
    "import sys\n",
    "!conda install --yes --prefix {sys.prefix} statsmodels"
   ]
  },
  {
   "cell_type": "code",
   "execution_count": 139,
   "id": "361b1f8d",
   "metadata": {},
   "outputs": [
    {
     "name": "stdout",
     "output_type": "stream",
     "text": [
      "The r2_score of the model is: 0.8019433788859447\n",
      "The mean absolute error of the model is: 0.3271\n",
      "The mean squared error of the model is: 0.2612\n",
      "\n",
      "\n"
     ]
    },
    {
     "data": {
      "text/html": [
       "<table class=\"simpletable\">\n",
       "<caption>OLS Regression Results</caption>\n",
       "<tr>\n",
       "  <th>Dep. Variable:</th>         <td>target</td>      <th>  R-squared (uncentered):</th>      <td>   0.892</td> \n",
       "</tr>\n",
       "<tr>\n",
       "  <th>Model:</th>                   <td>OLS</td>       <th>  Adj. R-squared (uncentered):</th> <td>   0.892</td> \n",
       "</tr>\n",
       "<tr>\n",
       "  <th>Method:</th>             <td>Least Squares</td>  <th>  F-statistic:       </th>          <td>2.137e+04</td>\n",
       "</tr>\n",
       "<tr>\n",
       "  <th>Date:</th>             <td>Mon, 24 Jan 2022</td> <th>  Prob (F-statistic):</th>           <td>  0.00</td>  \n",
       "</tr>\n",
       "<tr>\n",
       "  <th>Time:</th>                 <td>20:15:43</td>     <th>  Log-Likelihood:    </th>          <td> -24087.</td> \n",
       "</tr>\n",
       "<tr>\n",
       "  <th>No. Observations:</th>      <td> 20640</td>      <th>  AIC:               </th>          <td>4.819e+04</td>\n",
       "</tr>\n",
       "<tr>\n",
       "  <th>Df Residuals:</th>          <td> 20632</td>      <th>  BIC:               </th>          <td>4.825e+04</td>\n",
       "</tr>\n",
       "<tr>\n",
       "  <th>Df Model:</th>              <td>     8</td>      <th>                     </th>              <td> </td>    \n",
       "</tr>\n",
       "<tr>\n",
       "  <th>Covariance Type:</th>      <td>nonrobust</td>    <th>                     </th>              <td> </td>    \n",
       "</tr>\n",
       "</table>\n",
       "<table class=\"simpletable\">\n",
       "<tr>\n",
       "       <td></td>         <th>coef</th>     <th>std err</th>      <th>t</th>      <th>P>|t|</th>  <th>[0.025</th>    <th>0.975]</th>  \n",
       "</tr>\n",
       "<tr>\n",
       "  <th>MedInc</th>     <td>    0.5135</td> <td>    0.004</td> <td>  120.594</td> <td> 0.000</td> <td>    0.505</td> <td>    0.522</td>\n",
       "</tr>\n",
       "<tr>\n",
       "  <th>HouseAge</th>   <td>    0.0157</td> <td>    0.000</td> <td>   33.727</td> <td> 0.000</td> <td>    0.015</td> <td>    0.017</td>\n",
       "</tr>\n",
       "<tr>\n",
       "  <th>AveRooms</th>   <td>   -0.1825</td> <td>    0.006</td> <td>  -29.673</td> <td> 0.000</td> <td>   -0.195</td> <td>   -0.170</td>\n",
       "</tr>\n",
       "<tr>\n",
       "  <th>AveBedrms</th>  <td>    0.8651</td> <td>    0.030</td> <td>   28.927</td> <td> 0.000</td> <td>    0.806</td> <td>    0.924</td>\n",
       "</tr>\n",
       "<tr>\n",
       "  <th>Population</th> <td> 7.792e-06</td> <td> 5.09e-06</td> <td>    1.530</td> <td> 0.126</td> <td>-2.19e-06</td> <td> 1.78e-05</td>\n",
       "</tr>\n",
       "<tr>\n",
       "  <th>AveOccup</th>   <td>   -0.0047</td> <td>    0.001</td> <td>   -8.987</td> <td> 0.000</td> <td>   -0.006</td> <td>   -0.004</td>\n",
       "</tr>\n",
       "<tr>\n",
       "  <th>Latitude</th>   <td>   -0.0639</td> <td>    0.004</td> <td>  -17.826</td> <td> 0.000</td> <td>   -0.071</td> <td>   -0.057</td>\n",
       "</tr>\n",
       "<tr>\n",
       "  <th>Longitude</th>  <td>   -0.0164</td> <td>    0.001</td> <td>  -14.381</td> <td> 0.000</td> <td>   -0.019</td> <td>   -0.014</td>\n",
       "</tr>\n",
       "</table>\n",
       "<table class=\"simpletable\">\n",
       "<tr>\n",
       "  <th>Omnibus:</th>       <td>4353.392</td> <th>  Durbin-Watson:     </th> <td>   0.909</td> \n",
       "</tr>\n",
       "<tr>\n",
       "  <th>Prob(Omnibus):</th>  <td> 0.000</td>  <th>  Jarque-Bera (JB):  </th> <td>14087.489</td>\n",
       "</tr>\n",
       "<tr>\n",
       "  <th>Skew:</th>           <td> 1.069</td>  <th>  Prob(JB):          </th> <td>    0.00</td> \n",
       "</tr>\n",
       "<tr>\n",
       "  <th>Kurtosis:</th>       <td> 6.436</td>  <th>  Cond. No.          </th> <td>1.03e+04</td> \n",
       "</tr>\n",
       "</table><br/><br/>Notes:<br/>[1] R² is computed without centering (uncentered) since the model does not contain a constant.<br/>[2] Standard Errors assume that the covariance matrix of the errors is correctly specified.<br/>[3] The condition number is large, 1.03e+04. This might indicate that there are<br/>strong multicollinearity or other numerical problems."
      ],
      "text/plain": [
       "<class 'statsmodels.iolib.summary.Summary'>\n",
       "\"\"\"\n",
       "                                 OLS Regression Results                                \n",
       "=======================================================================================\n",
       "Dep. Variable:                 target   R-squared (uncentered):                   0.892\n",
       "Model:                            OLS   Adj. R-squared (uncentered):              0.892\n",
       "Method:                 Least Squares   F-statistic:                          2.137e+04\n",
       "Date:                Mon, 24 Jan 2022   Prob (F-statistic):                        0.00\n",
       "Time:                        20:15:43   Log-Likelihood:                         -24087.\n",
       "No. Observations:               20640   AIC:                                  4.819e+04\n",
       "Df Residuals:                   20632   BIC:                                  4.825e+04\n",
       "Df Model:                           8                                                  \n",
       "Covariance Type:            nonrobust                                                  \n",
       "==============================================================================\n",
       "                 coef    std err          t      P>|t|      [0.025      0.975]\n",
       "------------------------------------------------------------------------------\n",
       "MedInc         0.5135      0.004    120.594      0.000       0.505       0.522\n",
       "HouseAge       0.0157      0.000     33.727      0.000       0.015       0.017\n",
       "AveRooms      -0.1825      0.006    -29.673      0.000      -0.195      -0.170\n",
       "AveBedrms      0.8651      0.030     28.927      0.000       0.806       0.924\n",
       "Population  7.792e-06   5.09e-06      1.530      0.126   -2.19e-06    1.78e-05\n",
       "AveOccup      -0.0047      0.001     -8.987      0.000      -0.006      -0.004\n",
       "Latitude      -0.0639      0.004    -17.826      0.000      -0.071      -0.057\n",
       "Longitude     -0.0164      0.001    -14.381      0.000      -0.019      -0.014\n",
       "==============================================================================\n",
       "Omnibus:                     4353.392   Durbin-Watson:                   0.909\n",
       "Prob(Omnibus):                  0.000   Jarque-Bera (JB):            14087.489\n",
       "Skew:                           1.069   Prob(JB):                         0.00\n",
       "Kurtosis:                       6.436   Cond. No.                     1.03e+04\n",
       "==============================================================================\n",
       "\n",
       "Notes:\n",
       "[1] R² is computed without centering (uncentered) since the model does not contain a constant.\n",
       "[2] Standard Errors assume that the covariance matrix of the errors is correctly specified.\n",
       "[3] The condition number is large, 1.03e+04. This might indicate that there are\n",
       "strong multicollinearity or other numerical problems.\n",
       "\"\"\""
      ]
     },
     "execution_count": 139,
     "metadata": {},
     "output_type": "execute_result"
    }
   ],
   "source": [
    "from sklearn.metrics import r2_score, mean_absolute_error, mean_squared_error\n",
    "from sklearn.ensemble import RandomForestRegressor\n",
    "from sklearn.model_selection import train_test_split\n",
    "\n",
    "X = housing_df.drop(\"target\", axis=1)\n",
    "y = housing_df[\"target\"]\n",
    "\n",
    "X_train, X_test, y_train, y_test = train_test_split(X, y, test_size=0.2)\n",
    "\n",
    "model = RandomForestRegressor(n_estimators=100)\n",
    "\n",
    "model.fit(X_train, y_train)\n",
    "\n",
    "y_preds = model.predict(X_test)\n",
    "r2_score = r2_score(y_test, y_preds)\n",
    "print(f\"The r2_score of the model is: {r2_score}\")\n",
    "\n",
    "mae = mean_absolute_error(y_test, y_preds)\n",
    "print(f\"The mean absolute error of the model is: {mae:.4f}\")\n",
    "\n",
    "mse = mean_squared_error(y_test, y_preds)\n",
    "print(f\"The mean squared error of the model is: {mse:.4f}\\n\\n\")\n",
    "\n",
    "# or use OLS from statsmodels to create a summary with all scores of regression model: (only for linear regression model, not for random forest model)\n",
    "from statsmodels.api import OLS\n",
    "OLS(y, X).fit().summary()"
   ]
  },
  {
   "cell_type": "markdown",
   "id": "e0c3b842",
   "metadata": {},
   "source": [
    "## 5. Improving a model\n",
    "\n",
    "First predictions = baseline predictions\n",
    "First model = baseline model.\n",
    "\n",
    "From a data perspective:\n",
    "* Could we collect more data? (generally, the more data, the better)\n",
    "* Could we improve our data?\n",
    "\n",
    "From a model perspective:\n",
    "* Is there a better model we could use?\n",
    "* Could we improve the current model?\n",
    "\n",
    "Parameters vs. hyperparameters:\n",
    "\n",
    "* Parameters = model find these patterns in data\n",
    "* Hyperparameters = setting on a model that you can adjust to (potentially) improve its ability to find patterns.\n",
    "\n",
    "Three ways to adjust hyperparameters:\n",
    "1. By hand\n",
    "2. Randomly with RandomSearchCV\n",
    "3. Exhaustively with GridSearchCV"
   ]
  },
  {
   "cell_type": "code",
   "execution_count": 140,
   "id": "b0994ef7",
   "metadata": {},
   "outputs": [],
   "source": [
    "from sklearn.ensemble import RandomForestClassifier\n",
    "\n",
    "clf = RandomForestClassifier()"
   ]
  },
  {
   "cell_type": "code",
   "execution_count": 141,
   "id": "55ef3012",
   "metadata": {},
   "outputs": [
    {
     "data": {
      "text/plain": [
       "{'bootstrap': True,\n",
       " 'ccp_alpha': 0.0,\n",
       " 'class_weight': None,\n",
       " 'criterion': 'gini',\n",
       " 'max_depth': None,\n",
       " 'max_features': 'auto',\n",
       " 'max_leaf_nodes': None,\n",
       " 'max_samples': None,\n",
       " 'min_impurity_decrease': 0.0,\n",
       " 'min_samples_leaf': 1,\n",
       " 'min_samples_split': 2,\n",
       " 'min_weight_fraction_leaf': 0.0,\n",
       " 'n_estimators': 100,\n",
       " 'n_jobs': None,\n",
       " 'oob_score': False,\n",
       " 'random_state': None,\n",
       " 'verbose': 0,\n",
       " 'warm_start': False}"
      ]
     },
     "execution_count": 141,
     "metadata": {},
     "output_type": "execute_result"
    }
   ],
   "source": [
    "clf.get_params()"
   ]
  },
  {
   "cell_type": "markdown",
   "id": "7a72b98e",
   "metadata": {},
   "source": [
    "### 5.1 Tuning hyperparameters by hand\n",
    "\n",
    "Let's make 3 sets, training, validation and test."
   ]
  },
  {
   "cell_type": "code",
   "execution_count": 142,
   "id": "97778ecb",
   "metadata": {},
   "outputs": [
    {
     "data": {
      "text/plain": [
       "{'bootstrap': True,\n",
       " 'ccp_alpha': 0.0,\n",
       " 'class_weight': None,\n",
       " 'criterion': 'gini',\n",
       " 'max_depth': None,\n",
       " 'max_features': 'auto',\n",
       " 'max_leaf_nodes': None,\n",
       " 'max_samples': None,\n",
       " 'min_impurity_decrease': 0.0,\n",
       " 'min_samples_leaf': 1,\n",
       " 'min_samples_split': 2,\n",
       " 'min_weight_fraction_leaf': 0.0,\n",
       " 'n_estimators': 100,\n",
       " 'n_jobs': None,\n",
       " 'oob_score': False,\n",
       " 'random_state': None,\n",
       " 'verbose': 0,\n",
       " 'warm_start': False}"
      ]
     },
     "execution_count": 142,
     "metadata": {},
     "output_type": "execute_result"
    }
   ],
   "source": [
    "clf.get_params()"
   ]
  },
  {
   "cell_type": "markdown",
   "id": "ef85843b",
   "metadata": {},
   "source": [
    "We're going to try and adjust:\n",
    "* `max_depth`\n",
    "* `max_features`\n",
    "* `min_samples_leaf`\n",
    "* `min_samples_split`\n",
    "* `n_estimators`"
   ]
  },
  {
   "cell_type": "code",
   "execution_count": 143,
   "id": "b2718513",
   "metadata": {},
   "outputs": [],
   "source": [
    "def evaluate_preds(y_true, y_preds):\n",
    "    \"\"\"\n",
    "    Performs evaluation comparison on y_true labels vs. y_pred labels. on a classification model.\n",
    "    \"\"\"\n",
    "    \n",
    "    acc = accuracy_score(y_true, y_preds)\n",
    "    print(f\"The accuracy of the model is: {acc*100:.2f}%\")\n",
    "\n",
    "    precision = precision_score(y_true, y_preds)\n",
    "    print(f\"The precision of the model is: {precision:.2f}\")\n",
    "\n",
    "    recall = recall_score(y_true, y_preds)\n",
    "    print(f\"The recall of the model is: {recall}\")\n",
    "\n",
    "    f1 = f1_score(y_true, y_preds)\n",
    "    print(f\"The f1_score of the model is: {recall}\\n\")\n",
    "    # or only use:\n",
    "    print(f\"The report of all scores of the model:\\n\\n {classification_report(y_true,y_preds)}\")\n",
    "    \n",
    "    metric_dict = {\n",
    "        \"accuracy\": round(acc,2),\n",
    "        \"precision\": round(precision,2),\n",
    "        \"recall\": round(recall,2),\n",
    "        \"f1_score\": round(f1,2)\n",
    "    }\n",
    "    \n",
    "    return metric_dict"
   ]
  },
  {
   "cell_type": "code",
   "execution_count": 159,
   "id": "9bac52db",
   "metadata": {},
   "outputs": [
    {
     "name": "stdout",
     "output_type": "stream",
     "text": [
      "The accuracy of the model is: 82.22%\n",
      "The precision of the model is: 0.81\n",
      "The recall of the model is: 0.88\n",
      "The f1_score of the model is: 0.88\n",
      "\n",
      "The report of all scores of the model:\n",
      "\n",
      "               precision    recall  f1-score   support\n",
      "\n",
      "           0       0.83      0.75      0.79        20\n",
      "           1       0.81      0.88      0.85        25\n",
      "\n",
      "    accuracy                           0.82        45\n",
      "   macro avg       0.82      0.81      0.82        45\n",
      "weighted avg       0.82      0.82      0.82        45\n",
      "\n"
     ]
    },
    {
     "data": {
      "text/plain": [
       "{'accuracy': 0.82, 'precision': 0.81, 'recall': 0.88, 'f1_score': 0.85}"
      ]
     },
     "execution_count": 159,
     "metadata": {},
     "output_type": "execute_result"
    }
   ],
   "source": [
    "from sklearn.ensemble import RandomForestClassifier\n",
    "\n",
    "np.random.seed(42)\n",
    "\n",
    "# shuffle the data\n",
    "heart_disease_shuffled = heart_disease.sample(frac=1)\n",
    "\n",
    "# Split into X and y\n",
    "X = heart_disease_shuffled.drop(\"target\", axis=1)\n",
    "y = heart_disease_shuffled[\"target\"]\n",
    "\n",
    "# Split the data into train, validation and test sets\n",
    "train_split = round(0.7 * len(heart_disease_shuffled)) # 70% of data\n",
    "valid_split = round(train_split + 0.15 * len(heart_disease_shuffled)) # 15% of data\n",
    "X_train, y_train = X[:train_split], y[:train_split]\n",
    "X_valid, y_valid = X[train_split:valid_split], y[train_split:valid_split]\n",
    "X_test, y_test = X[valid_split:], y[valid_split:]\n",
    "\n",
    "# Instantiate the model\n",
    "clf = RandomForestClassifier()\n",
    "\n",
    "# Fit the model\n",
    "clf.fit(X_train, y_train)\n",
    "\n",
    "# Make baseline predictions\n",
    "y_preds = clf.predict(X_valid)\n",
    "\n",
    "# Evaluate the classifier on validation set\n",
    "baseline_metrics = evaluate_preds(y_valid, y_preds)\n",
    "baseline_metrics"
   ]
  },
  {
   "cell_type": "code",
   "execution_count": 168,
   "id": "d9bec92d",
   "metadata": {},
   "outputs": [
    {
     "name": "stdout",
     "output_type": "stream",
     "text": [
      "The accuracy of the model is: 86.67%\n",
      "The precision of the model is: 0.85\n",
      "The recall of the model is: 0.92\n",
      "The f1_score of the model is: 0.92\n",
      "\n",
      "The report of all scores of the model:\n",
      "\n",
      "               precision    recall  f1-score   support\n",
      "\n",
      "           0       0.89      0.80      0.84        20\n",
      "           1       0.85      0.92      0.88        25\n",
      "\n",
      "    accuracy                           0.87        45\n",
      "   macro avg       0.87      0.86      0.86        45\n",
      "weighted avg       0.87      0.87      0.87        45\n",
      "\n"
     ]
    },
    {
     "data": {
      "text/plain": [
       "{'accuracy': 0.87, 'precision': 0.85, 'recall': 0.92, 'f1_score': 0.88}"
      ]
     },
     "execution_count": 168,
     "metadata": {},
     "output_type": "execute_result"
    }
   ],
   "source": [
    "np.random.seed(42)\n",
    "\n",
    "# Creating a second classifier with different hyperparameters\n",
    "clf_2 = RandomForestClassifier(max_features=None, min_samples_leaf=7)\n",
    "\n",
    "# Fit the model\n",
    "clf_2.fit(X_train, y_train)\n",
    "\n",
    "# Make predictions with different hyperparameters\n",
    "y_preds_2 = clf_2.predict(X_valid)\n",
    "\n",
    "# Evaluate the classifier_2 on validation set (another hyperparameters)\n",
    "clf_2_metrics = evaluate_preds(y_valid, y_preds_2)\n",
    "clf_2_metrics"
   ]
  },
  {
   "cell_type": "code",
   "execution_count": 146,
   "id": "9b36ecb4",
   "metadata": {},
   "outputs": [
    {
     "data": {
      "text/plain": [
       "{'bootstrap': True,\n",
       " 'ccp_alpha': 0.0,\n",
       " 'class_weight': None,\n",
       " 'criterion': 'gini',\n",
       " 'max_depth': None,\n",
       " 'max_features': None,\n",
       " 'max_leaf_nodes': None,\n",
       " 'max_samples': None,\n",
       " 'min_impurity_decrease': 0.0,\n",
       " 'min_samples_leaf': 7,\n",
       " 'min_samples_split': 2,\n",
       " 'min_weight_fraction_leaf': 0.0,\n",
       " 'n_estimators': 100,\n",
       " 'n_jobs': None,\n",
       " 'oob_score': False,\n",
       " 'random_state': None,\n",
       " 'verbose': 0,\n",
       " 'warm_start': False}"
      ]
     },
     "execution_count": 146,
     "metadata": {},
     "output_type": "execute_result"
    }
   ],
   "source": [
    "clf_2.get_params()"
   ]
  },
  {
   "cell_type": "markdown",
   "id": "0d074a3a",
   "metadata": {},
   "source": [
    "### 5.3 Tuning hyperparameters using RandomizedSearchCV"
   ]
  },
  {
   "cell_type": "code",
   "execution_count": 147,
   "id": "5874b89a",
   "metadata": {},
   "outputs": [
    {
     "name": "stdout",
     "output_type": "stream",
     "text": [
      "Fitting 5 folds for each of 50 candidates, totalling 250 fits\n",
      "[CV] END max_depth=5, max_features=None, min_samples_leaf=6, min_samples_split=10, n_estimators=10; total time=   2.9s\n",
      "[CV] END max_depth=5, max_features=None, min_samples_leaf=6, min_samples_split=10, n_estimators=10; total time=   0.0s\n",
      "[CV] END max_depth=5, max_features=None, min_samples_leaf=6, min_samples_split=10, n_estimators=10; total time=   0.0s\n",
      "[CV] END max_depth=5, max_features=None, min_samples_leaf=6, min_samples_split=10, n_estimators=10; total time=   0.0s\n",
      "[CV] END max_depth=5, max_features=None, min_samples_leaf=6, min_samples_split=10, n_estimators=10; total time=   0.0s\n",
      "[CV] END max_depth=None, max_features=auto, min_samples_leaf=4, min_samples_split=8, n_estimators=500; total time=   0.5s\n",
      "[CV] END max_depth=None, max_features=auto, min_samples_leaf=4, min_samples_split=8, n_estimators=500; total time=   0.4s\n",
      "[CV] END max_depth=None, max_features=auto, min_samples_leaf=4, min_samples_split=8, n_estimators=500; total time=   0.6s\n",
      "[CV] END max_depth=None, max_features=auto, min_samples_leaf=4, min_samples_split=8, n_estimators=500; total time=   0.6s\n",
      "[CV] END max_depth=None, max_features=auto, min_samples_leaf=4, min_samples_split=8, n_estimators=500; total time=   0.4s\n",
      "[CV] END max_depth=10, max_features=auto, min_samples_leaf=2, min_samples_split=6, n_estimators=500; total time=   0.3s\n",
      "[CV] END max_depth=10, max_features=auto, min_samples_leaf=2, min_samples_split=6, n_estimators=500; total time=   0.5s\n",
      "[CV] END max_depth=10, max_features=auto, min_samples_leaf=2, min_samples_split=6, n_estimators=500; total time=   0.6s\n",
      "[CV] END max_depth=10, max_features=auto, min_samples_leaf=2, min_samples_split=6, n_estimators=500; total time=   0.4s\n",
      "[CV] END max_depth=10, max_features=auto, min_samples_leaf=2, min_samples_split=6, n_estimators=500; total time=   0.3s\n",
      "[CV] END max_depth=10, max_features=log2, min_samples_leaf=8, min_samples_split=1, n_estimators=200; total time=   0.4s\n",
      "[CV] END max_depth=10, max_features=log2, min_samples_leaf=8, min_samples_split=1, n_estimators=200; total time=   2.3s\n",
      "[CV] END max_depth=10, max_features=log2, min_samples_leaf=8, min_samples_split=1, n_estimators=200; total time=   2.2s\n",
      "[CV] END max_depth=10, max_features=log2, min_samples_leaf=8, min_samples_split=1, n_estimators=200; total time=   2.3s\n",
      "[CV] END max_depth=10, max_features=log2, min_samples_leaf=8, min_samples_split=1, n_estimators=200; total time=   2.2s\n",
      "[CV] END max_depth=20, max_features=log2, min_samples_leaf=3, min_samples_split=6, n_estimators=100; total time=   2.0s\n",
      "[CV] END max_depth=20, max_features=log2, min_samples_leaf=3, min_samples_split=6, n_estimators=100; total time=   0.1s\n",
      "[CV] END max_depth=20, max_features=log2, min_samples_leaf=3, min_samples_split=6, n_estimators=100; total time=   0.1s\n",
      "[CV] END max_depth=20, max_features=log2, min_samples_leaf=3, min_samples_split=6, n_estimators=100; total time=   0.1s\n",
      "[CV] END max_depth=20, max_features=log2, min_samples_leaf=3, min_samples_split=6, n_estimators=100; total time=   0.1s\n",
      "[CV] END max_depth=10, max_features=None, min_samples_leaf=4, min_samples_split=4, n_estimators=200; total time=   0.2s\n",
      "[CV] END max_depth=10, max_features=None, min_samples_leaf=4, min_samples_split=4, n_estimators=200; total time=   0.2s\n",
      "[CV] END max_depth=10, max_features=None, min_samples_leaf=4, min_samples_split=4, n_estimators=200; total time=   0.2s\n",
      "[CV] END max_depth=10, max_features=None, min_samples_leaf=4, min_samples_split=4, n_estimators=200; total time=   0.2s\n",
      "[CV] END max_depth=10, max_features=None, min_samples_leaf=4, min_samples_split=4, n_estimators=200; total time=   0.2s\n",
      "[CV] END max_depth=30, max_features=sqrt, min_samples_leaf=8, min_samples_split=7, n_estimators=500; total time=   0.3s\n",
      "[CV] END max_depth=30, max_features=sqrt, min_samples_leaf=8, min_samples_split=7, n_estimators=500; total time=   0.3s\n",
      "[CV] END max_depth=30, max_features=sqrt, min_samples_leaf=8, min_samples_split=7, n_estimators=500; total time=   0.3s\n",
      "[CV] END max_depth=30, max_features=sqrt, min_samples_leaf=8, min_samples_split=7, n_estimators=500; total time=   0.3s\n",
      "[CV] END max_depth=30, max_features=sqrt, min_samples_leaf=8, min_samples_split=7, n_estimators=500; total time=   0.3s\n",
      "[CV] END max_depth=20, max_features=None, min_samples_leaf=4, min_samples_split=3, n_estimators=1000; total time=   0.7s\n",
      "[CV] END max_depth=20, max_features=None, min_samples_leaf=4, min_samples_split=3, n_estimators=1000; total time=   0.6s\n",
      "[CV] END max_depth=20, max_features=None, min_samples_leaf=4, min_samples_split=3, n_estimators=1000; total time=   0.8s\n",
      "[CV] END max_depth=20, max_features=None, min_samples_leaf=4, min_samples_split=3, n_estimators=1000; total time=   0.7s\n",
      "[CV] END max_depth=20, max_features=None, min_samples_leaf=4, min_samples_split=3, n_estimators=1000; total time=   0.7s\n",
      "[CV] END max_depth=20, max_features=log2, min_samples_leaf=1, min_samples_split=2, n_estimators=100; total time=   0.1s\n",
      "[CV] END max_depth=20, max_features=log2, min_samples_leaf=1, min_samples_split=2, n_estimators=100; total time=   0.1s\n",
      "[CV] END max_depth=20, max_features=log2, min_samples_leaf=1, min_samples_split=2, n_estimators=100; total time=   0.1s\n",
      "[CV] END max_depth=20, max_features=log2, min_samples_leaf=1, min_samples_split=2, n_estimators=100; total time=   0.1s\n",
      "[CV] END max_depth=20, max_features=log2, min_samples_leaf=1, min_samples_split=2, n_estimators=100; total time=   0.1s\n",
      "[CV] END max_depth=20, max_features=auto, min_samples_leaf=9, min_samples_split=1, n_estimators=500; total time=   0.5s\n",
      "[CV] END max_depth=20, max_features=auto, min_samples_leaf=9, min_samples_split=1, n_estimators=500; total time=   2.2s\n",
      "[CV] END max_depth=20, max_features=auto, min_samples_leaf=9, min_samples_split=1, n_estimators=500; total time=   2.5s\n",
      "[CV] END max_depth=20, max_features=auto, min_samples_leaf=9, min_samples_split=1, n_estimators=500; total time=   2.4s\n",
      "[CV] END max_depth=20, max_features=auto, min_samples_leaf=9, min_samples_split=1, n_estimators=500; total time=   2.3s\n",
      "[CV] END max_depth=5, max_features=log2, min_samples_leaf=8, min_samples_split=4, n_estimators=1000; total time=   2.6s\n",
      "[CV] END max_depth=5, max_features=log2, min_samples_leaf=8, min_samples_split=4, n_estimators=1000; total time=   0.6s\n",
      "[CV] END max_depth=5, max_features=log2, min_samples_leaf=8, min_samples_split=4, n_estimators=1000; total time=   0.6s\n",
      "[CV] END max_depth=5, max_features=log2, min_samples_leaf=8, min_samples_split=4, n_estimators=1000; total time=   0.6s\n",
      "[CV] END max_depth=5, max_features=log2, min_samples_leaf=8, min_samples_split=4, n_estimators=1000; total time=   0.6s\n",
      "[CV] END max_depth=30, max_features=sqrt, min_samples_leaf=9, min_samples_split=6, n_estimators=200; total time=   0.2s\n",
      "[CV] END max_depth=30, max_features=sqrt, min_samples_leaf=9, min_samples_split=6, n_estimators=200; total time=   0.2s\n",
      "[CV] END max_depth=30, max_features=sqrt, min_samples_leaf=9, min_samples_split=6, n_estimators=200; total time=   0.2s\n",
      "[CV] END max_depth=30, max_features=sqrt, min_samples_leaf=9, min_samples_split=6, n_estimators=200; total time=   0.2s\n",
      "[CV] END max_depth=30, max_features=sqrt, min_samples_leaf=9, min_samples_split=6, n_estimators=200; total time=   0.2s\n",
      "[CV] END max_depth=20, max_features=auto, min_samples_leaf=8, min_samples_split=10, n_estimators=1200; total time=   0.7s\n",
      "[CV] END max_depth=20, max_features=auto, min_samples_leaf=8, min_samples_split=10, n_estimators=1200; total time=   0.7s\n",
      "[CV] END max_depth=20, max_features=auto, min_samples_leaf=8, min_samples_split=10, n_estimators=1200; total time=   0.7s\n",
      "[CV] END max_depth=20, max_features=auto, min_samples_leaf=8, min_samples_split=10, n_estimators=1200; total time=   0.7s\n",
      "[CV] END max_depth=20, max_features=auto, min_samples_leaf=8, min_samples_split=10, n_estimators=1200; total time=   0.8s\n",
      "[CV] END max_depth=20, max_features=None, min_samples_leaf=7, min_samples_split=9, n_estimators=10; total time=   0.0s\n",
      "[CV] END max_depth=20, max_features=None, min_samples_leaf=7, min_samples_split=9, n_estimators=10; total time=   0.0s\n",
      "[CV] END max_depth=20, max_features=None, min_samples_leaf=7, min_samples_split=9, n_estimators=10; total time=   0.0s\n",
      "[CV] END max_depth=20, max_features=None, min_samples_leaf=7, min_samples_split=9, n_estimators=10; total time=   0.0s\n",
      "[CV] END max_depth=20, max_features=None, min_samples_leaf=7, min_samples_split=9, n_estimators=10; total time=   0.0s\n",
      "[CV] END max_depth=20, max_features=auto, min_samples_leaf=3, min_samples_split=4, n_estimators=100; total time=   0.1s\n"
     ]
    },
    {
     "name": "stdout",
     "output_type": "stream",
     "text": [
      "[CV] END max_depth=20, max_features=auto, min_samples_leaf=3, min_samples_split=4, n_estimators=100; total time=   0.1s\n",
      "[CV] END max_depth=20, max_features=auto, min_samples_leaf=3, min_samples_split=4, n_estimators=100; total time=   0.1s\n",
      "[CV] END max_depth=20, max_features=auto, min_samples_leaf=3, min_samples_split=4, n_estimators=100; total time=   0.1s\n",
      "[CV] END max_depth=20, max_features=auto, min_samples_leaf=3, min_samples_split=4, n_estimators=100; total time=   0.1s\n",
      "[CV] END max_depth=20, max_features=log2, min_samples_leaf=8, min_samples_split=3, n_estimators=500; total time=   0.3s\n",
      "[CV] END max_depth=20, max_features=log2, min_samples_leaf=8, min_samples_split=3, n_estimators=500; total time=   0.3s\n",
      "[CV] END max_depth=20, max_features=log2, min_samples_leaf=8, min_samples_split=3, n_estimators=500; total time=   0.3s\n",
      "[CV] END max_depth=20, max_features=log2, min_samples_leaf=8, min_samples_split=3, n_estimators=500; total time=   0.3s\n",
      "[CV] END max_depth=20, max_features=log2, min_samples_leaf=8, min_samples_split=3, n_estimators=500; total time=   0.3s\n",
      "[CV] END max_depth=None, max_features=log2, min_samples_leaf=7, min_samples_split=8, n_estimators=500; total time=   0.3s\n",
      "[CV] END max_depth=None, max_features=log2, min_samples_leaf=7, min_samples_split=8, n_estimators=500; total time=   0.3s\n",
      "[CV] END max_depth=None, max_features=log2, min_samples_leaf=7, min_samples_split=8, n_estimators=500; total time=   0.3s\n",
      "[CV] END max_depth=None, max_features=log2, min_samples_leaf=7, min_samples_split=8, n_estimators=500; total time=   0.3s\n",
      "[CV] END max_depth=None, max_features=log2, min_samples_leaf=7, min_samples_split=8, n_estimators=500; total time=   0.3s\n",
      "[CV] END max_depth=30, max_features=None, min_samples_leaf=9, min_samples_split=7, n_estimators=10; total time=   0.0s\n",
      "[CV] END max_depth=30, max_features=None, min_samples_leaf=9, min_samples_split=7, n_estimators=10; total time=   0.0s\n",
      "[CV] END max_depth=30, max_features=None, min_samples_leaf=9, min_samples_split=7, n_estimators=10; total time=   0.0s\n",
      "[CV] END max_depth=30, max_features=None, min_samples_leaf=9, min_samples_split=7, n_estimators=10; total time=   0.0s\n",
      "[CV] END max_depth=30, max_features=None, min_samples_leaf=9, min_samples_split=7, n_estimators=10; total time=   0.0s\n",
      "[CV] END max_depth=None, max_features=None, min_samples_leaf=8, min_samples_split=9, n_estimators=100; total time=   0.1s\n",
      "[CV] END max_depth=None, max_features=None, min_samples_leaf=8, min_samples_split=9, n_estimators=100; total time=   0.1s\n",
      "[CV] END max_depth=None, max_features=None, min_samples_leaf=8, min_samples_split=9, n_estimators=100; total time=   0.1s\n",
      "[CV] END max_depth=None, max_features=None, min_samples_leaf=8, min_samples_split=9, n_estimators=100; total time=   0.1s\n",
      "[CV] END max_depth=None, max_features=None, min_samples_leaf=8, min_samples_split=9, n_estimators=100; total time=   0.1s\n",
      "[CV] END max_depth=5, max_features=None, min_samples_leaf=8, min_samples_split=5, n_estimators=10; total time=   0.0s\n",
      "[CV] END max_depth=5, max_features=None, min_samples_leaf=8, min_samples_split=5, n_estimators=10; total time=   0.0s\n",
      "[CV] END max_depth=5, max_features=None, min_samples_leaf=8, min_samples_split=5, n_estimators=10; total time=   0.0s\n",
      "[CV] END max_depth=5, max_features=None, min_samples_leaf=8, min_samples_split=5, n_estimators=10; total time=   0.0s\n",
      "[CV] END max_depth=5, max_features=None, min_samples_leaf=8, min_samples_split=5, n_estimators=10; total time=   0.0s\n",
      "[CV] END max_depth=30, max_features=None, min_samples_leaf=10, min_samples_split=3, n_estimators=1200; total time=   0.8s\n",
      "[CV] END max_depth=30, max_features=None, min_samples_leaf=10, min_samples_split=3, n_estimators=1200; total time=   0.7s\n",
      "[CV] END max_depth=30, max_features=None, min_samples_leaf=10, min_samples_split=3, n_estimators=1200; total time=   0.7s\n",
      "[CV] END max_depth=30, max_features=None, min_samples_leaf=10, min_samples_split=3, n_estimators=1200; total time=   0.7s\n",
      "[CV] END max_depth=30, max_features=None, min_samples_leaf=10, min_samples_split=3, n_estimators=1200; total time=   0.7s\n",
      "[CV] END max_depth=None, max_features=None, min_samples_leaf=8, min_samples_split=7, n_estimators=1000; total time=   0.6s\n",
      "[CV] END max_depth=None, max_features=None, min_samples_leaf=8, min_samples_split=7, n_estimators=1000; total time=   0.6s\n",
      "[CV] END max_depth=None, max_features=None, min_samples_leaf=8, min_samples_split=7, n_estimators=1000; total time=   0.6s\n",
      "[CV] END max_depth=None, max_features=None, min_samples_leaf=8, min_samples_split=7, n_estimators=1000; total time=   0.6s\n",
      "[CV] END max_depth=None, max_features=None, min_samples_leaf=8, min_samples_split=7, n_estimators=1000; total time=   0.6s\n",
      "[CV] END max_depth=None, max_features=log2, min_samples_leaf=9, min_samples_split=8, n_estimators=1200; total time=   0.7s\n",
      "[CV] END max_depth=None, max_features=log2, min_samples_leaf=9, min_samples_split=8, n_estimators=1200; total time=   0.8s\n",
      "[CV] END max_depth=None, max_features=log2, min_samples_leaf=9, min_samples_split=8, n_estimators=1200; total time=   0.7s\n",
      "[CV] END max_depth=None, max_features=log2, min_samples_leaf=9, min_samples_split=8, n_estimators=1200; total time=   0.7s\n",
      "[CV] END max_depth=None, max_features=log2, min_samples_leaf=9, min_samples_split=8, n_estimators=1200; total time=   0.7s\n",
      "[CV] END max_depth=5, max_features=None, min_samples_leaf=8, min_samples_split=1, n_estimators=10; total time=   0.3s\n",
      "[CV] END max_depth=5, max_features=None, min_samples_leaf=8, min_samples_split=1, n_estimators=10; total time=   2.2s\n",
      "[CV] END max_depth=5, max_features=None, min_samples_leaf=8, min_samples_split=1, n_estimators=10; total time=   2.2s\n",
      "[CV] END max_depth=5, max_features=None, min_samples_leaf=8, min_samples_split=1, n_estimators=10; total time=   2.4s\n",
      "[CV] END max_depth=5, max_features=None, min_samples_leaf=8, min_samples_split=1, n_estimators=10; total time=   2.3s\n",
      "[CV] END max_depth=None, max_features=auto, min_samples_leaf=6, min_samples_split=1, n_estimators=100; total time=   2.2s\n",
      "[CV] END max_depth=None, max_features=auto, min_samples_leaf=6, min_samples_split=1, n_estimators=100; total time=   2.2s\n",
      "[CV] END max_depth=None, max_features=auto, min_samples_leaf=6, min_samples_split=1, n_estimators=100; total time=   2.2s\n",
      "[CV] END max_depth=None, max_features=auto, min_samples_leaf=6, min_samples_split=1, n_estimators=100; total time=   2.2s\n",
      "[CV] END max_depth=None, max_features=auto, min_samples_leaf=6, min_samples_split=1, n_estimators=100; total time=   2.2s\n",
      "[CV] END max_depth=None, max_features=None, min_samples_leaf=1, min_samples_split=2, n_estimators=10; total time=   2.0s\n",
      "[CV] END max_depth=None, max_features=None, min_samples_leaf=1, min_samples_split=2, n_estimators=10; total time=   0.0s\n",
      "[CV] END max_depth=None, max_features=None, min_samples_leaf=1, min_samples_split=2, n_estimators=10; total time=   0.0s\n",
      "[CV] END max_depth=None, max_features=None, min_samples_leaf=1, min_samples_split=2, n_estimators=10; total time=   0.0s\n",
      "[CV] END max_depth=None, max_features=None, min_samples_leaf=1, min_samples_split=2, n_estimators=10; total time=   0.0s\n",
      "[CV] END max_depth=5, max_features=None, min_samples_leaf=3, min_samples_split=9, n_estimators=200; total time=   0.2s\n",
      "[CV] END max_depth=5, max_features=None, min_samples_leaf=3, min_samples_split=9, n_estimators=200; total time=   0.2s\n",
      "[CV] END max_depth=5, max_features=None, min_samples_leaf=3, min_samples_split=9, n_estimators=200; total time=   0.2s\n",
      "[CV] END max_depth=5, max_features=None, min_samples_leaf=3, min_samples_split=9, n_estimators=200; total time=   0.2s\n",
      "[CV] END max_depth=5, max_features=None, min_samples_leaf=3, min_samples_split=9, n_estimators=200; total time=   0.2s\n",
      "[CV] END max_depth=None, max_features=None, min_samples_leaf=2, min_samples_split=7, n_estimators=500; total time=   0.4s\n",
      "[CV] END max_depth=None, max_features=None, min_samples_leaf=2, min_samples_split=7, n_estimators=500; total time=   0.3s\n",
      "[CV] END max_depth=None, max_features=None, min_samples_leaf=2, min_samples_split=7, n_estimators=500; total time=   0.3s\n",
      "[CV] END max_depth=None, max_features=None, min_samples_leaf=2, min_samples_split=7, n_estimators=500; total time=   0.4s\n"
     ]
    },
    {
     "name": "stdout",
     "output_type": "stream",
     "text": [
      "[CV] END max_depth=None, max_features=None, min_samples_leaf=2, min_samples_split=7, n_estimators=500; total time=   0.3s\n",
      "[CV] END max_depth=10, max_features=auto, min_samples_leaf=5, min_samples_split=9, n_estimators=10; total time=   0.0s\n",
      "[CV] END max_depth=10, max_features=auto, min_samples_leaf=5, min_samples_split=9, n_estimators=10; total time=   0.0s\n",
      "[CV] END max_depth=10, max_features=auto, min_samples_leaf=5, min_samples_split=9, n_estimators=10; total time=   0.0s\n",
      "[CV] END max_depth=10, max_features=auto, min_samples_leaf=5, min_samples_split=9, n_estimators=10; total time=   0.0s\n",
      "[CV] END max_depth=10, max_features=auto, min_samples_leaf=5, min_samples_split=9, n_estimators=10; total time=   0.0s\n",
      "[CV] END max_depth=20, max_features=log2, min_samples_leaf=6, min_samples_split=6, n_estimators=100; total time=   0.1s\n",
      "[CV] END max_depth=20, max_features=log2, min_samples_leaf=6, min_samples_split=6, n_estimators=100; total time=   0.1s\n",
      "[CV] END max_depth=20, max_features=log2, min_samples_leaf=6, min_samples_split=6, n_estimators=100; total time=   0.1s\n",
      "[CV] END max_depth=20, max_features=log2, min_samples_leaf=6, min_samples_split=6, n_estimators=100; total time=   0.1s\n",
      "[CV] END max_depth=20, max_features=log2, min_samples_leaf=6, min_samples_split=6, n_estimators=100; total time=   0.1s\n",
      "[CV] END max_depth=None, max_features=auto, min_samples_leaf=4, min_samples_split=2, n_estimators=1000; total time=   0.6s\n",
      "[CV] END max_depth=None, max_features=auto, min_samples_leaf=4, min_samples_split=2, n_estimators=1000; total time=   0.6s\n",
      "[CV] END max_depth=None, max_features=auto, min_samples_leaf=4, min_samples_split=2, n_estimators=1000; total time=   0.6s\n",
      "[CV] END max_depth=None, max_features=auto, min_samples_leaf=4, min_samples_split=2, n_estimators=1000; total time=   0.6s\n",
      "[CV] END max_depth=None, max_features=auto, min_samples_leaf=4, min_samples_split=2, n_estimators=1000; total time=   0.6s\n",
      "[CV] END max_depth=30, max_features=None, min_samples_leaf=5, min_samples_split=9, n_estimators=1000; total time=   0.7s\n",
      "[CV] END max_depth=30, max_features=None, min_samples_leaf=5, min_samples_split=9, n_estimators=1000; total time=   0.6s\n",
      "[CV] END max_depth=30, max_features=None, min_samples_leaf=5, min_samples_split=9, n_estimators=1000; total time=   0.7s\n",
      "[CV] END max_depth=30, max_features=None, min_samples_leaf=5, min_samples_split=9, n_estimators=1000; total time=   0.6s\n",
      "[CV] END max_depth=30, max_features=None, min_samples_leaf=5, min_samples_split=9, n_estimators=1000; total time=   0.7s\n",
      "[CV] END max_depth=None, max_features=None, min_samples_leaf=7, min_samples_split=4, n_estimators=200; total time=   0.2s\n",
      "[CV] END max_depth=None, max_features=None, min_samples_leaf=7, min_samples_split=4, n_estimators=200; total time=   0.2s\n",
      "[CV] END max_depth=None, max_features=None, min_samples_leaf=7, min_samples_split=4, n_estimators=200; total time=   0.2s\n",
      "[CV] END max_depth=None, max_features=None, min_samples_leaf=7, min_samples_split=4, n_estimators=200; total time=   0.2s\n",
      "[CV] END max_depth=None, max_features=None, min_samples_leaf=7, min_samples_split=4, n_estimators=200; total time=   0.2s\n",
      "[CV] END max_depth=5, max_features=auto, min_samples_leaf=10, min_samples_split=6, n_estimators=1200; total time=   0.7s\n",
      "[CV] END max_depth=5, max_features=auto, min_samples_leaf=10, min_samples_split=6, n_estimators=1200; total time=   0.7s\n",
      "[CV] END max_depth=5, max_features=auto, min_samples_leaf=10, min_samples_split=6, n_estimators=1200; total time=   0.8s\n",
      "[CV] END max_depth=5, max_features=auto, min_samples_leaf=10, min_samples_split=6, n_estimators=1200; total time=   0.7s\n",
      "[CV] END max_depth=5, max_features=auto, min_samples_leaf=10, min_samples_split=6, n_estimators=1200; total time=   0.8s\n",
      "[CV] END max_depth=10, max_features=sqrt, min_samples_leaf=2, min_samples_split=8, n_estimators=10; total time=   0.0s\n",
      "[CV] END max_depth=10, max_features=sqrt, min_samples_leaf=2, min_samples_split=8, n_estimators=10; total time=   0.0s\n",
      "[CV] END max_depth=10, max_features=sqrt, min_samples_leaf=2, min_samples_split=8, n_estimators=10; total time=   0.0s\n",
      "[CV] END max_depth=10, max_features=sqrt, min_samples_leaf=2, min_samples_split=8, n_estimators=10; total time=   0.0s\n",
      "[CV] END max_depth=10, max_features=sqrt, min_samples_leaf=2, min_samples_split=8, n_estimators=10; total time=   0.0s\n",
      "[CV] END max_depth=None, max_features=None, min_samples_leaf=10, min_samples_split=8, n_estimators=200; total time=   0.2s\n",
      "[CV] END max_depth=None, max_features=None, min_samples_leaf=10, min_samples_split=8, n_estimators=200; total time=   0.2s\n",
      "[CV] END max_depth=None, max_features=None, min_samples_leaf=10, min_samples_split=8, n_estimators=200; total time=   0.2s\n",
      "[CV] END max_depth=None, max_features=None, min_samples_leaf=10, min_samples_split=8, n_estimators=200; total time=   0.2s\n",
      "[CV] END max_depth=None, max_features=None, min_samples_leaf=10, min_samples_split=8, n_estimators=200; total time=   0.2s\n",
      "[CV] END max_depth=5, max_features=None, min_samples_leaf=6, min_samples_split=5, n_estimators=500; total time=   0.3s\n",
      "[CV] END max_depth=5, max_features=None, min_samples_leaf=6, min_samples_split=5, n_estimators=500; total time=   0.3s\n",
      "[CV] END max_depth=5, max_features=None, min_samples_leaf=6, min_samples_split=5, n_estimators=500; total time=   0.3s\n",
      "[CV] END max_depth=5, max_features=None, min_samples_leaf=6, min_samples_split=5, n_estimators=500; total time=   0.3s\n",
      "[CV] END max_depth=5, max_features=None, min_samples_leaf=6, min_samples_split=5, n_estimators=500; total time=   0.3s\n",
      "[CV] END max_depth=5, max_features=None, min_samples_leaf=7, min_samples_split=6, n_estimators=1000; total time=   0.7s\n",
      "[CV] END max_depth=5, max_features=None, min_samples_leaf=7, min_samples_split=6, n_estimators=1000; total time=   0.6s\n",
      "[CV] END max_depth=5, max_features=None, min_samples_leaf=7, min_samples_split=6, n_estimators=1000; total time=   0.7s\n",
      "[CV] END max_depth=5, max_features=None, min_samples_leaf=7, min_samples_split=6, n_estimators=1000; total time=   0.6s\n",
      "[CV] END max_depth=5, max_features=None, min_samples_leaf=7, min_samples_split=6, n_estimators=1000; total time=   0.7s\n",
      "[CV] END max_depth=20, max_features=None, min_samples_leaf=9, min_samples_split=7, n_estimators=500; total time=   0.3s\n",
      "[CV] END max_depth=20, max_features=None, min_samples_leaf=9, min_samples_split=7, n_estimators=500; total time=   0.3s\n",
      "[CV] END max_depth=20, max_features=None, min_samples_leaf=9, min_samples_split=7, n_estimators=500; total time=   0.3s\n",
      "[CV] END max_depth=20, max_features=None, min_samples_leaf=9, min_samples_split=7, n_estimators=500; total time=   0.3s\n",
      "[CV] END max_depth=20, max_features=None, min_samples_leaf=9, min_samples_split=7, n_estimators=500; total time=   0.3s\n",
      "[CV] END max_depth=30, max_features=None, min_samples_leaf=1, min_samples_split=10, n_estimators=500; total time=   0.3s\n",
      "[CV] END max_depth=30, max_features=None, min_samples_leaf=1, min_samples_split=10, n_estimators=500; total time=   0.3s\n",
      "[CV] END max_depth=30, max_features=None, min_samples_leaf=1, min_samples_split=10, n_estimators=500; total time=   0.3s\n",
      "[CV] END max_depth=30, max_features=None, min_samples_leaf=1, min_samples_split=10, n_estimators=500; total time=   0.3s\n",
      "[CV] END max_depth=30, max_features=None, min_samples_leaf=1, min_samples_split=10, n_estimators=500; total time=   0.3s\n",
      "[CV] END max_depth=None, max_features=log2, min_samples_leaf=1, min_samples_split=3, n_estimators=1000; total time=   0.6s\n",
      "[CV] END max_depth=None, max_features=log2, min_samples_leaf=1, min_samples_split=3, n_estimators=1000; total time=   0.6s\n",
      "[CV] END max_depth=None, max_features=log2, min_samples_leaf=1, min_samples_split=3, n_estimators=1000; total time=   0.6s\n",
      "[CV] END max_depth=None, max_features=log2, min_samples_leaf=1, min_samples_split=3, n_estimators=1000; total time=   0.8s\n",
      "[CV] END max_depth=None, max_features=log2, min_samples_leaf=1, min_samples_split=3, n_estimators=1000; total time=   0.6s\n",
      "[CV] END max_depth=10, max_features=None, min_samples_leaf=8, min_samples_split=6, n_estimators=1000; total time=   0.6s\n",
      "[CV] END max_depth=10, max_features=None, min_samples_leaf=8, min_samples_split=6, n_estimators=1000; total time=   0.7s\n"
     ]
    },
    {
     "name": "stdout",
     "output_type": "stream",
     "text": [
      "[CV] END max_depth=10, max_features=None, min_samples_leaf=8, min_samples_split=6, n_estimators=1000; total time=   0.6s\n",
      "[CV] END max_depth=10, max_features=None, min_samples_leaf=8, min_samples_split=6, n_estimators=1000; total time=   0.6s\n",
      "[CV] END max_depth=10, max_features=None, min_samples_leaf=8, min_samples_split=6, n_estimators=1000; total time=   0.6s\n",
      "[CV] END max_depth=10, max_features=log2, min_samples_leaf=2, min_samples_split=9, n_estimators=100; total time=   0.1s\n",
      "[CV] END max_depth=10, max_features=log2, min_samples_leaf=2, min_samples_split=9, n_estimators=100; total time=   0.1s\n",
      "[CV] END max_depth=10, max_features=log2, min_samples_leaf=2, min_samples_split=9, n_estimators=100; total time=   0.1s\n",
      "[CV] END max_depth=10, max_features=log2, min_samples_leaf=2, min_samples_split=9, n_estimators=100; total time=   0.1s\n",
      "[CV] END max_depth=10, max_features=log2, min_samples_leaf=2, min_samples_split=9, n_estimators=100; total time=   0.1s\n",
      "[CV] END max_depth=None, max_features=auto, min_samples_leaf=10, min_samples_split=5, n_estimators=1200; total time=   0.7s\n",
      "[CV] END max_depth=None, max_features=auto, min_samples_leaf=10, min_samples_split=5, n_estimators=1200; total time=   0.7s\n",
      "[CV] END max_depth=None, max_features=auto, min_samples_leaf=10, min_samples_split=5, n_estimators=1200; total time=   0.7s\n",
      "[CV] END max_depth=None, max_features=auto, min_samples_leaf=10, min_samples_split=5, n_estimators=1200; total time=   0.7s\n",
      "[CV] END max_depth=None, max_features=auto, min_samples_leaf=10, min_samples_split=5, n_estimators=1200; total time=   0.7s\n",
      "[CV] END max_depth=10, max_features=None, min_samples_leaf=1, min_samples_split=8, n_estimators=10; total time=   0.0s\n",
      "[CV] END max_depth=10, max_features=None, min_samples_leaf=1, min_samples_split=8, n_estimators=10; total time=   0.0s\n",
      "[CV] END max_depth=10, max_features=None, min_samples_leaf=1, min_samples_split=8, n_estimators=10; total time=   0.0s\n",
      "[CV] END max_depth=10, max_features=None, min_samples_leaf=1, min_samples_split=8, n_estimators=10; total time=   0.0s\n",
      "[CV] END max_depth=10, max_features=None, min_samples_leaf=1, min_samples_split=8, n_estimators=10; total time=   0.0s\n",
      "[CV] END max_depth=None, max_features=log2, min_samples_leaf=2, min_samples_split=6, n_estimators=1200; total time=   0.7s\n",
      "[CV] END max_depth=None, max_features=log2, min_samples_leaf=2, min_samples_split=6, n_estimators=1200; total time=   0.8s\n",
      "[CV] END max_depth=None, max_features=log2, min_samples_leaf=2, min_samples_split=6, n_estimators=1200; total time=   0.7s\n",
      "[CV] END max_depth=None, max_features=log2, min_samples_leaf=2, min_samples_split=6, n_estimators=1200; total time=   0.7s\n",
      "[CV] END max_depth=None, max_features=log2, min_samples_leaf=2, min_samples_split=6, n_estimators=1200; total time=   0.8s\n",
      "[CV] END max_depth=5, max_features=auto, min_samples_leaf=6, min_samples_split=6, n_estimators=500; total time=   0.3s\n",
      "[CV] END max_depth=5, max_features=auto, min_samples_leaf=6, min_samples_split=6, n_estimators=500; total time=   0.3s\n",
      "[CV] END max_depth=5, max_features=auto, min_samples_leaf=6, min_samples_split=6, n_estimators=500; total time=   0.3s\n",
      "[CV] END max_depth=5, max_features=auto, min_samples_leaf=6, min_samples_split=6, n_estimators=500; total time=   0.3s\n",
      "[CV] END max_depth=5, max_features=auto, min_samples_leaf=6, min_samples_split=6, n_estimators=500; total time=   0.3s\n",
      "[CV] END max_depth=5, max_features=sqrt, min_samples_leaf=5, min_samples_split=4, n_estimators=1200; total time=   0.7s\n",
      "[CV] END max_depth=5, max_features=sqrt, min_samples_leaf=5, min_samples_split=4, n_estimators=1200; total time=   0.8s\n",
      "[CV] END max_depth=5, max_features=sqrt, min_samples_leaf=5, min_samples_split=4, n_estimators=1200; total time=   0.7s\n",
      "[CV] END max_depth=5, max_features=sqrt, min_samples_leaf=5, min_samples_split=4, n_estimators=1200; total time=   0.7s\n",
      "[CV] END max_depth=5, max_features=sqrt, min_samples_leaf=5, min_samples_split=4, n_estimators=1200; total time=   0.7s\n",
      "[CV] END max_depth=20, max_features=auto, min_samples_leaf=5, min_samples_split=3, n_estimators=500; total time=   0.3s\n",
      "[CV] END max_depth=20, max_features=auto, min_samples_leaf=5, min_samples_split=3, n_estimators=500; total time=   0.3s\n",
      "[CV] END max_depth=20, max_features=auto, min_samples_leaf=5, min_samples_split=3, n_estimators=500; total time=   0.3s\n",
      "[CV] END max_depth=20, max_features=auto, min_samples_leaf=5, min_samples_split=3, n_estimators=500; total time=   0.3s\n",
      "[CV] END max_depth=20, max_features=auto, min_samples_leaf=5, min_samples_split=3, n_estimators=500; total time=   0.3s\n",
      "[CV] END max_depth=5, max_features=sqrt, min_samples_leaf=7, min_samples_split=10, n_estimators=10; total time=   0.0s\n",
      "[CV] END max_depth=5, max_features=sqrt, min_samples_leaf=7, min_samples_split=10, n_estimators=10; total time=   0.0s\n",
      "[CV] END max_depth=5, max_features=sqrt, min_samples_leaf=7, min_samples_split=10, n_estimators=10; total time=   0.0s\n",
      "[CV] END max_depth=5, max_features=sqrt, min_samples_leaf=7, min_samples_split=10, n_estimators=10; total time=   0.0s\n",
      "[CV] END max_depth=5, max_features=sqrt, min_samples_leaf=7, min_samples_split=10, n_estimators=10; total time=   0.0s\n"
     ]
    },
    {
     "name": "stderr",
     "output_type": "stream",
     "text": [
      "/Users/lucasmeireles/Desktop/ml/ml-course/env/lib/python3.9/site-packages/sklearn/model_selection/_validation.py:372: FitFailedWarning: \n",
      "20 fits failed out of a total of 250.\n",
      "The score on these train-test partitions for these parameters will be set to nan.\n",
      "If these failures are not expected, you can try to debug them by setting error_score='raise'.\n",
      "\n",
      "Below are more details about the failures:\n",
      "--------------------------------------------------------------------------------\n",
      "20 fits failed with the following error:\n",
      "joblib.externals.loky.process_executor._RemoteTraceback: \n",
      "\"\"\"\n",
      "Traceback (most recent call last):\n",
      "  File \"/Users/lucasmeireles/Desktop/ml/ml-course/env/lib/python3.9/site-packages/joblib/externals/loky/process_executor.py\", line 436, in _process_worker\n",
      "    r = call_item()\n",
      "  File \"/Users/lucasmeireles/Desktop/ml/ml-course/env/lib/python3.9/site-packages/joblib/externals/loky/process_executor.py\", line 288, in __call__\n",
      "    return self.fn(*self.args, **self.kwargs)\n",
      "  File \"/Users/lucasmeireles/Desktop/ml/ml-course/env/lib/python3.9/site-packages/joblib/_parallel_backends.py\", line 595, in __call__\n",
      "    return self.func(*args, **kwargs)\n",
      "  File \"/Users/lucasmeireles/Desktop/ml/ml-course/env/lib/python3.9/site-packages/joblib/parallel.py\", line 262, in __call__\n",
      "    return [func(*args, **kwargs)\n",
      "  File \"/Users/lucasmeireles/Desktop/ml/ml-course/env/lib/python3.9/site-packages/joblib/parallel.py\", line 262, in <listcomp>\n",
      "    return [func(*args, **kwargs)\n",
      "  File \"/Users/lucasmeireles/Desktop/ml/ml-course/env/lib/python3.9/site-packages/sklearn/utils/fixes.py\", line 211, in __call__\n",
      "    return self.function(*args, **kwargs)\n",
      "  File \"/Users/lucasmeireles/Desktop/ml/ml-course/env/lib/python3.9/site-packages/sklearn/ensemble/_forest.py\", line 185, in _parallel_build_trees\n",
      "    tree.fit(X, y, sample_weight=curr_sample_weight, check_input=False)\n",
      "  File \"/Users/lucasmeireles/Desktop/ml/ml-course/env/lib/python3.9/site-packages/sklearn/tree/_classes.py\", line 937, in fit\n",
      "    super().fit(\n",
      "  File \"/Users/lucasmeireles/Desktop/ml/ml-course/env/lib/python3.9/site-packages/sklearn/tree/_classes.py\", line 250, in fit\n",
      "    raise ValueError(\n",
      "ValueError: min_samples_split must be an integer greater than 1 or a float in (0.0, 1.0]; got the integer 1\n",
      "\"\"\"\n",
      "\n",
      "The above exception was the direct cause of the following exception:\n",
      "\n",
      "Traceback (most recent call last):\n",
      "  File \"/Users/lucasmeireles/Desktop/ml/ml-course/env/lib/python3.9/site-packages/sklearn/model_selection/_validation.py\", line 681, in _fit_and_score\n",
      "    estimator.fit(X_train, y_train, **fit_params)\n",
      "  File \"/Users/lucasmeireles/Desktop/ml/ml-course/env/lib/python3.9/site-packages/sklearn/ensemble/_forest.py\", line 442, in fit\n",
      "    trees = Parallel(\n",
      "  File \"/Users/lucasmeireles/Desktop/ml/ml-course/env/lib/python3.9/site-packages/joblib/parallel.py\", line 1056, in __call__\n",
      "    self.retrieve()\n",
      "  File \"/Users/lucasmeireles/Desktop/ml/ml-course/env/lib/python3.9/site-packages/joblib/parallel.py\", line 935, in retrieve\n",
      "    self._output.extend(job.get(timeout=self.timeout))\n",
      "  File \"/Users/lucasmeireles/Desktop/ml/ml-course/env/lib/python3.9/site-packages/joblib/_parallel_backends.py\", line 542, in wrap_future_result\n",
      "    return future.result(timeout=timeout)\n",
      "  File \"/Users/lucasmeireles/Desktop/ml/ml-course/env/lib/python3.9/concurrent/futures/_base.py\", line 445, in result\n",
      "    return self.__get_result()\n",
      "  File \"/Users/lucasmeireles/Desktop/ml/ml-course/env/lib/python3.9/concurrent/futures/_base.py\", line 390, in __get_result\n",
      "    raise self._exception\n",
      "ValueError: min_samples_split must be an integer greater than 1 or a float in (0.0, 1.0]; got the integer 1\n",
      "\n",
      "  warnings.warn(some_fits_failed_message, FitFailedWarning)\n",
      "/Users/lucasmeireles/Desktop/ml/ml-course/env/lib/python3.9/site-packages/sklearn/model_selection/_search.py:969: UserWarning: One or more of the test scores are non-finite: [0.79328231 0.81011905 0.81836735        nan 0.80170068 0.81011905\n",
      " 0.82653061 0.80178571 0.81411565        nan 0.81819728 0.83460884\n",
      " 0.84294218 0.78911565 0.81845238 0.83460884 0.83061224 0.76020408\n",
      " 0.81003401 0.79362245 0.80161565 0.80578231 0.81819728        nan\n",
      "        nan 0.76028912 0.79770408 0.79770408 0.78520408 0.81828231\n",
      " 0.82653061 0.79761905 0.80170068 0.81819728 0.79770408 0.80986395\n",
      " 0.80578231 0.80170068 0.79753401 0.78937075 0.81437075 0.79753401\n",
      " 0.83069728 0.83061224 0.78937075 0.81428571 0.83061224 0.82653061\n",
      " 0.82227891 0.80977891]\n",
      "  warnings.warn(\n"
     ]
    }
   ],
   "source": [
    "from sklearn.model_selection import RandomizedSearchCV\n",
    "\n",
    "grid = {\n",
    "    \"n_estimators\": [10, 100, 200, 500, 1000, 1200],\n",
    "    \"max_depth\": [None, 5, 10, 20, 30],\n",
    "    \"max_features\": [\"auto\", None, \"sqrt\", \"log2\"],\n",
    "    \"min_samples_split\": [1,2,3,4,5,6,7,8,9,10],\n",
    "    \"min_samples_leaf\": [1,2,3,4,5,6,7,8,9,10]\n",
    "}\n",
    "\n",
    "np.random.seed(42)\n",
    "\n",
    "# Split into X and y\n",
    "X = heart_disease_shuffled.drop(\"target\", axis=1)\n",
    "y = heart_disease_shuffled[\"target\"]\n",
    "\n",
    "# Split into train and test sets\n",
    "\n",
    "X_train, X_test, y_train, y_test = train_test_split(X, y, test_size=0.2)\n",
    "\n",
    "# Instantiate RandomForestClassifier\n",
    "clf = RandomForestClassifier(n_jobs=-1)\n",
    "\n",
    "# Setup RandomizedSearchCV\n",
    "rs_clf = RandomizedSearchCV(estimator=clf,\n",
    "                           param_distributions=grid,\n",
    "                           n_iter=50, #number of models to try\n",
    "                           cv=5,\n",
    "                           verbose=2)\n",
    "# Fit the randomizedSearchCV for clf\n",
    "\n",
    "rs_clf.fit(X_train, y_train);"
   ]
  },
  {
   "cell_type": "code",
   "execution_count": 148,
   "id": "4d0783f4",
   "metadata": {},
   "outputs": [
    {
     "data": {
      "text/plain": [
       "{'n_estimators': 1200,\n",
       " 'min_samples_split': 10,\n",
       " 'min_samples_leaf': 8,\n",
       " 'max_features': 'auto',\n",
       " 'max_depth': 20}"
      ]
     },
     "execution_count": 148,
     "metadata": {},
     "output_type": "execute_result"
    }
   ],
   "source": [
    "rs_clf.best_params_"
   ]
  },
  {
   "cell_type": "code",
   "execution_count": 149,
   "id": "529c9272",
   "metadata": {},
   "outputs": [
    {
     "name": "stdout",
     "output_type": "stream",
     "text": [
      "The accuracy of the model is: 81.97%\n",
      "The precision of the model is: 0.76\n",
      "The recall of the model is: 0.8928571428571429\n",
      "The f1_score of the model is: 0.8928571428571429\n",
      "\n",
      "The report of all scores of the model:\n",
      "\n",
      "               precision    recall  f1-score   support\n",
      "\n",
      "           0       0.89      0.76      0.82        33\n",
      "           1       0.76      0.89      0.82        28\n",
      "\n",
      "    accuracy                           0.82        61\n",
      "   macro avg       0.83      0.83      0.82        61\n",
      "weighted avg       0.83      0.82      0.82        61\n",
      "\n"
     ]
    }
   ],
   "source": [
    "# Make predictions with the best hyperparameters\n",
    "rs_y_preds = rs_clf.predict(X_test)\n",
    "\n",
    "# Evaluate the predictions\n",
    "rs_metrics = evaluate_preds(y_test, rs_y_preds)"
   ]
  },
  {
   "cell_type": "markdown",
   "id": "7e43fd6f",
   "metadata": {},
   "source": [
    "## 5.3 Hyperparameters tuning with GridSearchCV"
   ]
  },
  {
   "cell_type": "code",
   "execution_count": 150,
   "id": "9196ad20",
   "metadata": {},
   "outputs": [
    {
     "data": {
      "text/plain": [
       "{'n_estimators': [10, 100, 200, 500, 1000, 1200],\n",
       " 'max_depth': [None, 5, 10, 20, 30],\n",
       " 'max_features': ['auto', None, 'sqrt', 'log2'],\n",
       " 'min_samples_split': [1, 2, 3, 4, 5, 6, 7, 8, 9, 10],\n",
       " 'min_samples_leaf': [1, 2, 3, 4, 5, 6, 7, 8, 9, 10]}"
      ]
     },
     "execution_count": 150,
     "metadata": {},
     "output_type": "execute_result"
    }
   ],
   "source": [
    "grid"
   ]
  },
  {
   "cell_type": "code",
   "execution_count": 151,
   "id": "425424a8",
   "metadata": {},
   "outputs": [],
   "source": [
    "grid_2 = {'n_estimators': [100, 200,1200],\n",
    "          'max_depth': [None],\n",
    "          'max_features': ['auto', None, 'sqrt'],\n",
    "          'min_samples_split': [5, 6, 10],\n",
    "          'min_samples_leaf': [1, 2, 7]\n",
    "         }"
   ]
  },
  {
   "cell_type": "code",
   "execution_count": 152,
   "id": "2603a0c9",
   "metadata": {},
   "outputs": [
    {
     "name": "stdout",
     "output_type": "stream",
     "text": [
      "Fitting 5 folds for each of 81 candidates, totalling 405 fits\n",
      "[CV] END max_depth=None, max_features=auto, min_samples_leaf=1, min_samples_split=5, n_estimators=100; total time=   0.1s\n",
      "[CV] END max_depth=None, max_features=auto, min_samples_leaf=1, min_samples_split=5, n_estimators=100; total time=   0.1s\n",
      "[CV] END max_depth=None, max_features=auto, min_samples_leaf=1, min_samples_split=5, n_estimators=100; total time=   0.1s\n",
      "[CV] END max_depth=None, max_features=auto, min_samples_leaf=1, min_samples_split=5, n_estimators=100; total time=   0.1s\n",
      "[CV] END max_depth=None, max_features=auto, min_samples_leaf=1, min_samples_split=5, n_estimators=100; total time=   0.1s\n",
      "[CV] END max_depth=None, max_features=auto, min_samples_leaf=1, min_samples_split=5, n_estimators=200; total time=   0.2s\n",
      "[CV] END max_depth=None, max_features=auto, min_samples_leaf=1, min_samples_split=5, n_estimators=200; total time=   0.2s\n",
      "[CV] END max_depth=None, max_features=auto, min_samples_leaf=1, min_samples_split=5, n_estimators=200; total time=   0.2s\n",
      "[CV] END max_depth=None, max_features=auto, min_samples_leaf=1, min_samples_split=5, n_estimators=200; total time=   0.2s\n",
      "[CV] END max_depth=None, max_features=auto, min_samples_leaf=1, min_samples_split=5, n_estimators=200; total time=   0.2s\n",
      "[CV] END max_depth=None, max_features=auto, min_samples_leaf=1, min_samples_split=5, n_estimators=1200; total time=   0.7s\n",
      "[CV] END max_depth=None, max_features=auto, min_samples_leaf=1, min_samples_split=5, n_estimators=1200; total time=   0.8s\n",
      "[CV] END max_depth=None, max_features=auto, min_samples_leaf=1, min_samples_split=5, n_estimators=1200; total time=   0.8s\n",
      "[CV] END max_depth=None, max_features=auto, min_samples_leaf=1, min_samples_split=5, n_estimators=1200; total time=   0.7s\n",
      "[CV] END max_depth=None, max_features=auto, min_samples_leaf=1, min_samples_split=5, n_estimators=1200; total time=   0.8s\n",
      "[CV] END max_depth=None, max_features=auto, min_samples_leaf=1, min_samples_split=6, n_estimators=100; total time=   0.1s\n",
      "[CV] END max_depth=None, max_features=auto, min_samples_leaf=1, min_samples_split=6, n_estimators=100; total time=   0.1s\n",
      "[CV] END max_depth=None, max_features=auto, min_samples_leaf=1, min_samples_split=6, n_estimators=100; total time=   0.1s\n",
      "[CV] END max_depth=None, max_features=auto, min_samples_leaf=1, min_samples_split=6, n_estimators=100; total time=   0.1s\n",
      "[CV] END max_depth=None, max_features=auto, min_samples_leaf=1, min_samples_split=6, n_estimators=100; total time=   0.1s\n",
      "[CV] END max_depth=None, max_features=auto, min_samples_leaf=1, min_samples_split=6, n_estimators=200; total time=   0.2s\n",
      "[CV] END max_depth=None, max_features=auto, min_samples_leaf=1, min_samples_split=6, n_estimators=200; total time=   0.2s\n",
      "[CV] END max_depth=None, max_features=auto, min_samples_leaf=1, min_samples_split=6, n_estimators=200; total time=   0.2s\n",
      "[CV] END max_depth=None, max_features=auto, min_samples_leaf=1, min_samples_split=6, n_estimators=200; total time=   0.2s\n",
      "[CV] END max_depth=None, max_features=auto, min_samples_leaf=1, min_samples_split=6, n_estimators=200; total time=   0.2s\n",
      "[CV] END max_depth=None, max_features=auto, min_samples_leaf=1, min_samples_split=6, n_estimators=1200; total time=   0.8s\n",
      "[CV] END max_depth=None, max_features=auto, min_samples_leaf=1, min_samples_split=6, n_estimators=1200; total time=   0.8s\n",
      "[CV] END max_depth=None, max_features=auto, min_samples_leaf=1, min_samples_split=6, n_estimators=1200; total time=   0.8s\n",
      "[CV] END max_depth=None, max_features=auto, min_samples_leaf=1, min_samples_split=6, n_estimators=1200; total time=   0.7s\n",
      "[CV] END max_depth=None, max_features=auto, min_samples_leaf=1, min_samples_split=6, n_estimators=1200; total time=   0.7s\n",
      "[CV] END max_depth=None, max_features=auto, min_samples_leaf=1, min_samples_split=10, n_estimators=100; total time=   0.1s\n",
      "[CV] END max_depth=None, max_features=auto, min_samples_leaf=1, min_samples_split=10, n_estimators=100; total time=   0.1s\n",
      "[CV] END max_depth=None, max_features=auto, min_samples_leaf=1, min_samples_split=10, n_estimators=100; total time=   0.1s\n",
      "[CV] END max_depth=None, max_features=auto, min_samples_leaf=1, min_samples_split=10, n_estimators=100; total time=   0.1s\n",
      "[CV] END max_depth=None, max_features=auto, min_samples_leaf=1, min_samples_split=10, n_estimators=100; total time=   0.1s\n",
      "[CV] END max_depth=None, max_features=auto, min_samples_leaf=1, min_samples_split=10, n_estimators=200; total time=   0.2s\n",
      "[CV] END max_depth=None, max_features=auto, min_samples_leaf=1, min_samples_split=10, n_estimators=200; total time=   0.2s\n",
      "[CV] END max_depth=None, max_features=auto, min_samples_leaf=1, min_samples_split=10, n_estimators=200; total time=   0.2s\n",
      "[CV] END max_depth=None, max_features=auto, min_samples_leaf=1, min_samples_split=10, n_estimators=200; total time=   0.2s\n",
      "[CV] END max_depth=None, max_features=auto, min_samples_leaf=1, min_samples_split=10, n_estimators=200; total time=   0.2s\n",
      "[CV] END max_depth=None, max_features=auto, min_samples_leaf=1, min_samples_split=10, n_estimators=1200; total time=   0.7s\n",
      "[CV] END max_depth=None, max_features=auto, min_samples_leaf=1, min_samples_split=10, n_estimators=1200; total time=   0.8s\n",
      "[CV] END max_depth=None, max_features=auto, min_samples_leaf=1, min_samples_split=10, n_estimators=1200; total time=   0.7s\n",
      "[CV] END max_depth=None, max_features=auto, min_samples_leaf=1, min_samples_split=10, n_estimators=1200; total time=   0.7s\n",
      "[CV] END max_depth=None, max_features=auto, min_samples_leaf=1, min_samples_split=10, n_estimators=1200; total time=   0.7s\n",
      "[CV] END max_depth=None, max_features=auto, min_samples_leaf=2, min_samples_split=5, n_estimators=100; total time=   0.1s\n",
      "[CV] END max_depth=None, max_features=auto, min_samples_leaf=2, min_samples_split=5, n_estimators=100; total time=   0.1s\n",
      "[CV] END max_depth=None, max_features=auto, min_samples_leaf=2, min_samples_split=5, n_estimators=100; total time=   0.1s\n",
      "[CV] END max_depth=None, max_features=auto, min_samples_leaf=2, min_samples_split=5, n_estimators=100; total time=   0.1s\n",
      "[CV] END max_depth=None, max_features=auto, min_samples_leaf=2, min_samples_split=5, n_estimators=100; total time=   0.1s\n",
      "[CV] END max_depth=None, max_features=auto, min_samples_leaf=2, min_samples_split=5, n_estimators=200; total time=   0.2s\n",
      "[CV] END max_depth=None, max_features=auto, min_samples_leaf=2, min_samples_split=5, n_estimators=200; total time=   0.2s\n",
      "[CV] END max_depth=None, max_features=auto, min_samples_leaf=2, min_samples_split=5, n_estimators=200; total time=   0.2s\n",
      "[CV] END max_depth=None, max_features=auto, min_samples_leaf=2, min_samples_split=5, n_estimators=200; total time=   0.2s\n",
      "[CV] END max_depth=None, max_features=auto, min_samples_leaf=2, min_samples_split=5, n_estimators=200; total time=   0.2s\n",
      "[CV] END max_depth=None, max_features=auto, min_samples_leaf=2, min_samples_split=5, n_estimators=1200; total time=   0.8s\n",
      "[CV] END max_depth=None, max_features=auto, min_samples_leaf=2, min_samples_split=5, n_estimators=1200; total time=   0.7s\n",
      "[CV] END max_depth=None, max_features=auto, min_samples_leaf=2, min_samples_split=5, n_estimators=1200; total time=   0.7s\n",
      "[CV] END max_depth=None, max_features=auto, min_samples_leaf=2, min_samples_split=5, n_estimators=1200; total time=   0.7s\n",
      "[CV] END max_depth=None, max_features=auto, min_samples_leaf=2, min_samples_split=5, n_estimators=1200; total time=   0.8s\n",
      "[CV] END max_depth=None, max_features=auto, min_samples_leaf=2, min_samples_split=6, n_estimators=100; total time=   0.1s\n",
      "[CV] END max_depth=None, max_features=auto, min_samples_leaf=2, min_samples_split=6, n_estimators=100; total time=   0.1s\n",
      "[CV] END max_depth=None, max_features=auto, min_samples_leaf=2, min_samples_split=6, n_estimators=100; total time=   0.1s\n",
      "[CV] END max_depth=None, max_features=auto, min_samples_leaf=2, min_samples_split=6, n_estimators=100; total time=   0.1s\n",
      "[CV] END max_depth=None, max_features=auto, min_samples_leaf=2, min_samples_split=6, n_estimators=100; total time=   0.1s\n",
      "[CV] END max_depth=None, max_features=auto, min_samples_leaf=2, min_samples_split=6, n_estimators=200; total time=   0.2s\n",
      "[CV] END max_depth=None, max_features=auto, min_samples_leaf=2, min_samples_split=6, n_estimators=200; total time=   0.2s\n"
     ]
    },
    {
     "name": "stdout",
     "output_type": "stream",
     "text": [
      "[CV] END max_depth=None, max_features=auto, min_samples_leaf=2, min_samples_split=6, n_estimators=200; total time=   0.2s\n",
      "[CV] END max_depth=None, max_features=auto, min_samples_leaf=2, min_samples_split=6, n_estimators=200; total time=   0.1s\n",
      "[CV] END max_depth=None, max_features=auto, min_samples_leaf=2, min_samples_split=6, n_estimators=200; total time=   0.2s\n",
      "[CV] END max_depth=None, max_features=auto, min_samples_leaf=2, min_samples_split=6, n_estimators=1200; total time=   0.8s\n",
      "[CV] END max_depth=None, max_features=auto, min_samples_leaf=2, min_samples_split=6, n_estimators=1200; total time=   0.7s\n",
      "[CV] END max_depth=None, max_features=auto, min_samples_leaf=2, min_samples_split=6, n_estimators=1200; total time=   0.7s\n",
      "[CV] END max_depth=None, max_features=auto, min_samples_leaf=2, min_samples_split=6, n_estimators=1200; total time=   0.7s\n",
      "[CV] END max_depth=None, max_features=auto, min_samples_leaf=2, min_samples_split=6, n_estimators=1200; total time=   0.7s\n",
      "[CV] END max_depth=None, max_features=auto, min_samples_leaf=2, min_samples_split=10, n_estimators=100; total time=   0.1s\n",
      "[CV] END max_depth=None, max_features=auto, min_samples_leaf=2, min_samples_split=10, n_estimators=100; total time=   0.1s\n",
      "[CV] END max_depth=None, max_features=auto, min_samples_leaf=2, min_samples_split=10, n_estimators=100; total time=   0.1s\n",
      "[CV] END max_depth=None, max_features=auto, min_samples_leaf=2, min_samples_split=10, n_estimators=100; total time=   0.1s\n",
      "[CV] END max_depth=None, max_features=auto, min_samples_leaf=2, min_samples_split=10, n_estimators=100; total time=   0.1s\n",
      "[CV] END max_depth=None, max_features=auto, min_samples_leaf=2, min_samples_split=10, n_estimators=200; total time=   0.2s\n",
      "[CV] END max_depth=None, max_features=auto, min_samples_leaf=2, min_samples_split=10, n_estimators=200; total time=   0.2s\n",
      "[CV] END max_depth=None, max_features=auto, min_samples_leaf=2, min_samples_split=10, n_estimators=200; total time=   0.2s\n",
      "[CV] END max_depth=None, max_features=auto, min_samples_leaf=2, min_samples_split=10, n_estimators=200; total time=   0.1s\n",
      "[CV] END max_depth=None, max_features=auto, min_samples_leaf=2, min_samples_split=10, n_estimators=200; total time=   0.2s\n",
      "[CV] END max_depth=None, max_features=auto, min_samples_leaf=2, min_samples_split=10, n_estimators=1200; total time=   0.7s\n",
      "[CV] END max_depth=None, max_features=auto, min_samples_leaf=2, min_samples_split=10, n_estimators=1200; total time=   0.7s\n",
      "[CV] END max_depth=None, max_features=auto, min_samples_leaf=2, min_samples_split=10, n_estimators=1200; total time=   0.7s\n",
      "[CV] END max_depth=None, max_features=auto, min_samples_leaf=2, min_samples_split=10, n_estimators=1200; total time=   0.7s\n",
      "[CV] END max_depth=None, max_features=auto, min_samples_leaf=2, min_samples_split=10, n_estimators=1200; total time=   0.7s\n",
      "[CV] END max_depth=None, max_features=auto, min_samples_leaf=7, min_samples_split=5, n_estimators=100; total time=   0.1s\n",
      "[CV] END max_depth=None, max_features=auto, min_samples_leaf=7, min_samples_split=5, n_estimators=100; total time=   0.1s\n",
      "[CV] END max_depth=None, max_features=auto, min_samples_leaf=7, min_samples_split=5, n_estimators=100; total time=   0.1s\n",
      "[CV] END max_depth=None, max_features=auto, min_samples_leaf=7, min_samples_split=5, n_estimators=100; total time=   0.1s\n",
      "[CV] END max_depth=None, max_features=auto, min_samples_leaf=7, min_samples_split=5, n_estimators=100; total time=   0.1s\n",
      "[CV] END max_depth=None, max_features=auto, min_samples_leaf=7, min_samples_split=5, n_estimators=200; total time=   0.2s\n",
      "[CV] END max_depth=None, max_features=auto, min_samples_leaf=7, min_samples_split=5, n_estimators=200; total time=   0.2s\n",
      "[CV] END max_depth=None, max_features=auto, min_samples_leaf=7, min_samples_split=5, n_estimators=200; total time=   0.2s\n",
      "[CV] END max_depth=None, max_features=auto, min_samples_leaf=7, min_samples_split=5, n_estimators=200; total time=   0.2s\n",
      "[CV] END max_depth=None, max_features=auto, min_samples_leaf=7, min_samples_split=5, n_estimators=200; total time=   0.2s\n",
      "[CV] END max_depth=None, max_features=auto, min_samples_leaf=7, min_samples_split=5, n_estimators=1200; total time=   0.7s\n",
      "[CV] END max_depth=None, max_features=auto, min_samples_leaf=7, min_samples_split=5, n_estimators=1200; total time=   0.7s\n",
      "[CV] END max_depth=None, max_features=auto, min_samples_leaf=7, min_samples_split=5, n_estimators=1200; total time=   0.7s\n",
      "[CV] END max_depth=None, max_features=auto, min_samples_leaf=7, min_samples_split=5, n_estimators=1200; total time=   0.8s\n",
      "[CV] END max_depth=None, max_features=auto, min_samples_leaf=7, min_samples_split=5, n_estimators=1200; total time=   0.7s\n",
      "[CV] END max_depth=None, max_features=auto, min_samples_leaf=7, min_samples_split=6, n_estimators=100; total time=   0.1s\n",
      "[CV] END max_depth=None, max_features=auto, min_samples_leaf=7, min_samples_split=6, n_estimators=100; total time=   0.1s\n",
      "[CV] END max_depth=None, max_features=auto, min_samples_leaf=7, min_samples_split=6, n_estimators=100; total time=   0.1s\n",
      "[CV] END max_depth=None, max_features=auto, min_samples_leaf=7, min_samples_split=6, n_estimators=100; total time=   0.1s\n",
      "[CV] END max_depth=None, max_features=auto, min_samples_leaf=7, min_samples_split=6, n_estimators=100; total time=   0.1s\n",
      "[CV] END max_depth=None, max_features=auto, min_samples_leaf=7, min_samples_split=6, n_estimators=200; total time=   0.2s\n",
      "[CV] END max_depth=None, max_features=auto, min_samples_leaf=7, min_samples_split=6, n_estimators=200; total time=   0.2s\n",
      "[CV] END max_depth=None, max_features=auto, min_samples_leaf=7, min_samples_split=6, n_estimators=200; total time=   0.2s\n",
      "[CV] END max_depth=None, max_features=auto, min_samples_leaf=7, min_samples_split=6, n_estimators=200; total time=   0.1s\n",
      "[CV] END max_depth=None, max_features=auto, min_samples_leaf=7, min_samples_split=6, n_estimators=200; total time=   0.2s\n",
      "[CV] END max_depth=None, max_features=auto, min_samples_leaf=7, min_samples_split=6, n_estimators=1200; total time=   0.7s\n",
      "[CV] END max_depth=None, max_features=auto, min_samples_leaf=7, min_samples_split=6, n_estimators=1200; total time=   0.7s\n",
      "[CV] END max_depth=None, max_features=auto, min_samples_leaf=7, min_samples_split=6, n_estimators=1200; total time=   0.7s\n",
      "[CV] END max_depth=None, max_features=auto, min_samples_leaf=7, min_samples_split=6, n_estimators=1200; total time=   0.9s\n",
      "[CV] END max_depth=None, max_features=auto, min_samples_leaf=7, min_samples_split=6, n_estimators=1200; total time=   0.7s\n",
      "[CV] END max_depth=None, max_features=auto, min_samples_leaf=7, min_samples_split=10, n_estimators=100; total time=   0.1s\n",
      "[CV] END max_depth=None, max_features=auto, min_samples_leaf=7, min_samples_split=10, n_estimators=100; total time=   0.1s\n",
      "[CV] END max_depth=None, max_features=auto, min_samples_leaf=7, min_samples_split=10, n_estimators=100; total time=   0.1s\n",
      "[CV] END max_depth=None, max_features=auto, min_samples_leaf=7, min_samples_split=10, n_estimators=100; total time=   0.1s\n",
      "[CV] END max_depth=None, max_features=auto, min_samples_leaf=7, min_samples_split=10, n_estimators=100; total time=   0.1s\n",
      "[CV] END max_depth=None, max_features=auto, min_samples_leaf=7, min_samples_split=10, n_estimators=200; total time=   0.2s\n",
      "[CV] END max_depth=None, max_features=auto, min_samples_leaf=7, min_samples_split=10, n_estimators=200; total time=   0.2s\n",
      "[CV] END max_depth=None, max_features=auto, min_samples_leaf=7, min_samples_split=10, n_estimators=200; total time=   0.2s\n",
      "[CV] END max_depth=None, max_features=auto, min_samples_leaf=7, min_samples_split=10, n_estimators=200; total time=   0.1s\n",
      "[CV] END max_depth=None, max_features=auto, min_samples_leaf=7, min_samples_split=10, n_estimators=200; total time=   0.2s\n",
      "[CV] END max_depth=None, max_features=auto, min_samples_leaf=7, min_samples_split=10, n_estimators=1200; total time=   0.7s\n",
      "[CV] END max_depth=None, max_features=auto, min_samples_leaf=7, min_samples_split=10, n_estimators=1200; total time=   0.7s\n",
      "[CV] END max_depth=None, max_features=auto, min_samples_leaf=7, min_samples_split=10, n_estimators=1200; total time=   0.7s\n",
      "[CV] END max_depth=None, max_features=auto, min_samples_leaf=7, min_samples_split=10, n_estimators=1200; total time=   0.7s\n"
     ]
    },
    {
     "name": "stdout",
     "output_type": "stream",
     "text": [
      "[CV] END max_depth=None, max_features=auto, min_samples_leaf=7, min_samples_split=10, n_estimators=1200; total time=   0.7s\n",
      "[CV] END max_depth=None, max_features=None, min_samples_leaf=1, min_samples_split=5, n_estimators=100; total time=   0.1s\n",
      "[CV] END max_depth=None, max_features=None, min_samples_leaf=1, min_samples_split=5, n_estimators=100; total time=   0.1s\n",
      "[CV] END max_depth=None, max_features=None, min_samples_leaf=1, min_samples_split=5, n_estimators=100; total time=   0.1s\n",
      "[CV] END max_depth=None, max_features=None, min_samples_leaf=1, min_samples_split=5, n_estimators=100; total time=   0.1s\n",
      "[CV] END max_depth=None, max_features=None, min_samples_leaf=1, min_samples_split=5, n_estimators=100; total time=   0.1s\n",
      "[CV] END max_depth=None, max_features=None, min_samples_leaf=1, min_samples_split=5, n_estimators=200; total time=   0.2s\n",
      "[CV] END max_depth=None, max_features=None, min_samples_leaf=1, min_samples_split=5, n_estimators=200; total time=   0.2s\n",
      "[CV] END max_depth=None, max_features=None, min_samples_leaf=1, min_samples_split=5, n_estimators=200; total time=   0.2s\n",
      "[CV] END max_depth=None, max_features=None, min_samples_leaf=1, min_samples_split=5, n_estimators=200; total time=   0.2s\n",
      "[CV] END max_depth=None, max_features=None, min_samples_leaf=1, min_samples_split=5, n_estimators=200; total time=   0.2s\n",
      "[CV] END max_depth=None, max_features=None, min_samples_leaf=1, min_samples_split=5, n_estimators=1200; total time=   0.8s\n",
      "[CV] END max_depth=None, max_features=None, min_samples_leaf=1, min_samples_split=5, n_estimators=1200; total time=   0.8s\n",
      "[CV] END max_depth=None, max_features=None, min_samples_leaf=1, min_samples_split=5, n_estimators=1200; total time=   0.8s\n",
      "[CV] END max_depth=None, max_features=None, min_samples_leaf=1, min_samples_split=5, n_estimators=1200; total time=   0.8s\n",
      "[CV] END max_depth=None, max_features=None, min_samples_leaf=1, min_samples_split=5, n_estimators=1200; total time=   0.8s\n",
      "[CV] END max_depth=None, max_features=None, min_samples_leaf=1, min_samples_split=6, n_estimators=100; total time=   0.1s\n",
      "[CV] END max_depth=None, max_features=None, min_samples_leaf=1, min_samples_split=6, n_estimators=100; total time=   0.1s\n",
      "[CV] END max_depth=None, max_features=None, min_samples_leaf=1, min_samples_split=6, n_estimators=100; total time=   0.1s\n",
      "[CV] END max_depth=None, max_features=None, min_samples_leaf=1, min_samples_split=6, n_estimators=100; total time=   0.1s\n",
      "[CV] END max_depth=None, max_features=None, min_samples_leaf=1, min_samples_split=6, n_estimators=100; total time=   0.1s\n",
      "[CV] END max_depth=None, max_features=None, min_samples_leaf=1, min_samples_split=6, n_estimators=200; total time=   0.2s\n",
      "[CV] END max_depth=None, max_features=None, min_samples_leaf=1, min_samples_split=6, n_estimators=200; total time=   0.2s\n",
      "[CV] END max_depth=None, max_features=None, min_samples_leaf=1, min_samples_split=6, n_estimators=200; total time=   0.2s\n",
      "[CV] END max_depth=None, max_features=None, min_samples_leaf=1, min_samples_split=6, n_estimators=200; total time=   0.2s\n",
      "[CV] END max_depth=None, max_features=None, min_samples_leaf=1, min_samples_split=6, n_estimators=200; total time=   0.2s\n",
      "[CV] END max_depth=None, max_features=None, min_samples_leaf=1, min_samples_split=6, n_estimators=1200; total time=   0.8s\n",
      "[CV] END max_depth=None, max_features=None, min_samples_leaf=1, min_samples_split=6, n_estimators=1200; total time=   0.8s\n",
      "[CV] END max_depth=None, max_features=None, min_samples_leaf=1, min_samples_split=6, n_estimators=1200; total time=   0.8s\n",
      "[CV] END max_depth=None, max_features=None, min_samples_leaf=1, min_samples_split=6, n_estimators=1200; total time=   0.8s\n",
      "[CV] END max_depth=None, max_features=None, min_samples_leaf=1, min_samples_split=6, n_estimators=1200; total time=   0.8s\n",
      "[CV] END max_depth=None, max_features=None, min_samples_leaf=1, min_samples_split=10, n_estimators=100; total time=   0.1s\n",
      "[CV] END max_depth=None, max_features=None, min_samples_leaf=1, min_samples_split=10, n_estimators=100; total time=   0.1s\n",
      "[CV] END max_depth=None, max_features=None, min_samples_leaf=1, min_samples_split=10, n_estimators=100; total time=   0.1s\n",
      "[CV] END max_depth=None, max_features=None, min_samples_leaf=1, min_samples_split=10, n_estimators=100; total time=   0.1s\n",
      "[CV] END max_depth=None, max_features=None, min_samples_leaf=1, min_samples_split=10, n_estimators=100; total time=   0.1s\n",
      "[CV] END max_depth=None, max_features=None, min_samples_leaf=1, min_samples_split=10, n_estimators=200; total time=   0.2s\n",
      "[CV] END max_depth=None, max_features=None, min_samples_leaf=1, min_samples_split=10, n_estimators=200; total time=   0.2s\n",
      "[CV] END max_depth=None, max_features=None, min_samples_leaf=1, min_samples_split=10, n_estimators=200; total time=   0.2s\n",
      "[CV] END max_depth=None, max_features=None, min_samples_leaf=1, min_samples_split=10, n_estimators=200; total time=   0.2s\n",
      "[CV] END max_depth=None, max_features=None, min_samples_leaf=1, min_samples_split=10, n_estimators=200; total time=   0.2s\n",
      "[CV] END max_depth=None, max_features=None, min_samples_leaf=1, min_samples_split=10, n_estimators=1200; total time=   0.8s\n",
      "[CV] END max_depth=None, max_features=None, min_samples_leaf=1, min_samples_split=10, n_estimators=1200; total time=   0.8s\n",
      "[CV] END max_depth=None, max_features=None, min_samples_leaf=1, min_samples_split=10, n_estimators=1200; total time=   0.8s\n",
      "[CV] END max_depth=None, max_features=None, min_samples_leaf=1, min_samples_split=10, n_estimators=1200; total time=   0.8s\n",
      "[CV] END max_depth=None, max_features=None, min_samples_leaf=1, min_samples_split=10, n_estimators=1200; total time=   0.8s\n",
      "[CV] END max_depth=None, max_features=None, min_samples_leaf=2, min_samples_split=5, n_estimators=100; total time=   0.1s\n",
      "[CV] END max_depth=None, max_features=None, min_samples_leaf=2, min_samples_split=5, n_estimators=100; total time=   0.1s\n",
      "[CV] END max_depth=None, max_features=None, min_samples_leaf=2, min_samples_split=5, n_estimators=100; total time=   0.1s\n",
      "[CV] END max_depth=None, max_features=None, min_samples_leaf=2, min_samples_split=5, n_estimators=100; total time=   0.1s\n",
      "[CV] END max_depth=None, max_features=None, min_samples_leaf=2, min_samples_split=5, n_estimators=100; total time=   0.1s\n",
      "[CV] END max_depth=None, max_features=None, min_samples_leaf=2, min_samples_split=5, n_estimators=200; total time=   0.2s\n",
      "[CV] END max_depth=None, max_features=None, min_samples_leaf=2, min_samples_split=5, n_estimators=200; total time=   0.2s\n",
      "[CV] END max_depth=None, max_features=None, min_samples_leaf=2, min_samples_split=5, n_estimators=200; total time=   0.2s\n",
      "[CV] END max_depth=None, max_features=None, min_samples_leaf=2, min_samples_split=5, n_estimators=200; total time=   0.2s\n",
      "[CV] END max_depth=None, max_features=None, min_samples_leaf=2, min_samples_split=5, n_estimators=200; total time=   0.2s\n",
      "[CV] END max_depth=None, max_features=None, min_samples_leaf=2, min_samples_split=5, n_estimators=1200; total time=   0.8s\n",
      "[CV] END max_depth=None, max_features=None, min_samples_leaf=2, min_samples_split=5, n_estimators=1200; total time=   0.8s\n",
      "[CV] END max_depth=None, max_features=None, min_samples_leaf=2, min_samples_split=5, n_estimators=1200; total time=   0.8s\n",
      "[CV] END max_depth=None, max_features=None, min_samples_leaf=2, min_samples_split=5, n_estimators=1200; total time=   0.8s\n",
      "[CV] END max_depth=None, max_features=None, min_samples_leaf=2, min_samples_split=5, n_estimators=1200; total time=   1.1s\n",
      "[CV] END max_depth=None, max_features=None, min_samples_leaf=2, min_samples_split=6, n_estimators=100; total time=   0.1s\n",
      "[CV] END max_depth=None, max_features=None, min_samples_leaf=2, min_samples_split=6, n_estimators=100; total time=   0.1s\n",
      "[CV] END max_depth=None, max_features=None, min_samples_leaf=2, min_samples_split=6, n_estimators=100; total time=   0.1s\n",
      "[CV] END max_depth=None, max_features=None, min_samples_leaf=2, min_samples_split=6, n_estimators=100; total time=   0.1s\n",
      "[CV] END max_depth=None, max_features=None, min_samples_leaf=2, min_samples_split=6, n_estimators=100; total time=   0.2s\n",
      "[CV] END max_depth=None, max_features=None, min_samples_leaf=2, min_samples_split=6, n_estimators=200; total time=   0.3s\n",
      "[CV] END max_depth=None, max_features=None, min_samples_leaf=2, min_samples_split=6, n_estimators=200; total time=   0.2s\n"
     ]
    },
    {
     "name": "stdout",
     "output_type": "stream",
     "text": [
      "[CV] END max_depth=None, max_features=None, min_samples_leaf=2, min_samples_split=6, n_estimators=200; total time=   0.2s\n",
      "[CV] END max_depth=None, max_features=None, min_samples_leaf=2, min_samples_split=6, n_estimators=200; total time=   0.2s\n",
      "[CV] END max_depth=None, max_features=None, min_samples_leaf=2, min_samples_split=6, n_estimators=200; total time=   0.2s\n",
      "[CV] END max_depth=None, max_features=None, min_samples_leaf=2, min_samples_split=6, n_estimators=1200; total time=   0.8s\n",
      "[CV] END max_depth=None, max_features=None, min_samples_leaf=2, min_samples_split=6, n_estimators=1200; total time=   1.1s\n",
      "[CV] END max_depth=None, max_features=None, min_samples_leaf=2, min_samples_split=6, n_estimators=1200; total time=   1.1s\n",
      "[CV] END max_depth=None, max_features=None, min_samples_leaf=2, min_samples_split=6, n_estimators=1200; total time=   0.9s\n",
      "[CV] END max_depth=None, max_features=None, min_samples_leaf=2, min_samples_split=6, n_estimators=1200; total time=   1.1s\n",
      "[CV] END max_depth=None, max_features=None, min_samples_leaf=2, min_samples_split=10, n_estimators=100; total time=   0.1s\n",
      "[CV] END max_depth=None, max_features=None, min_samples_leaf=2, min_samples_split=10, n_estimators=100; total time=   0.1s\n",
      "[CV] END max_depth=None, max_features=None, min_samples_leaf=2, min_samples_split=10, n_estimators=100; total time=   0.1s\n",
      "[CV] END max_depth=None, max_features=None, min_samples_leaf=2, min_samples_split=10, n_estimators=100; total time=   0.2s\n",
      "[CV] END max_depth=None, max_features=None, min_samples_leaf=2, min_samples_split=10, n_estimators=100; total time=   0.2s\n",
      "[CV] END max_depth=None, max_features=None, min_samples_leaf=2, min_samples_split=10, n_estimators=200; total time=   0.3s\n",
      "[CV] END max_depth=None, max_features=None, min_samples_leaf=2, min_samples_split=10, n_estimators=200; total time=   0.2s\n",
      "[CV] END max_depth=None, max_features=None, min_samples_leaf=2, min_samples_split=10, n_estimators=200; total time=   0.3s\n",
      "[CV] END max_depth=None, max_features=None, min_samples_leaf=2, min_samples_split=10, n_estimators=200; total time=   0.3s\n",
      "[CV] END max_depth=None, max_features=None, min_samples_leaf=2, min_samples_split=10, n_estimators=200; total time=   0.2s\n",
      "[CV] END max_depth=None, max_features=None, min_samples_leaf=2, min_samples_split=10, n_estimators=1200; total time=   1.0s\n",
      "[CV] END max_depth=None, max_features=None, min_samples_leaf=2, min_samples_split=10, n_estimators=1200; total time=   1.1s\n",
      "[CV] END max_depth=None, max_features=None, min_samples_leaf=2, min_samples_split=10, n_estimators=1200; total time=   0.8s\n",
      "[CV] END max_depth=None, max_features=None, min_samples_leaf=2, min_samples_split=10, n_estimators=1200; total time=   0.8s\n",
      "[CV] END max_depth=None, max_features=None, min_samples_leaf=2, min_samples_split=10, n_estimators=1200; total time=   0.8s\n",
      "[CV] END max_depth=None, max_features=None, min_samples_leaf=7, min_samples_split=5, n_estimators=100; total time=   0.1s\n",
      "[CV] END max_depth=None, max_features=None, min_samples_leaf=7, min_samples_split=5, n_estimators=100; total time=   0.1s\n",
      "[CV] END max_depth=None, max_features=None, min_samples_leaf=7, min_samples_split=5, n_estimators=100; total time=   0.1s\n",
      "[CV] END max_depth=None, max_features=None, min_samples_leaf=7, min_samples_split=5, n_estimators=100; total time=   0.1s\n",
      "[CV] END max_depth=None, max_features=None, min_samples_leaf=7, min_samples_split=5, n_estimators=100; total time=   0.1s\n",
      "[CV] END max_depth=None, max_features=None, min_samples_leaf=7, min_samples_split=5, n_estimators=200; total time=   0.2s\n",
      "[CV] END max_depth=None, max_features=None, min_samples_leaf=7, min_samples_split=5, n_estimators=200; total time=   0.2s\n",
      "[CV] END max_depth=None, max_features=None, min_samples_leaf=7, min_samples_split=5, n_estimators=200; total time=   0.2s\n",
      "[CV] END max_depth=None, max_features=None, min_samples_leaf=7, min_samples_split=5, n_estimators=200; total time=   0.2s\n",
      "[CV] END max_depth=None, max_features=None, min_samples_leaf=7, min_samples_split=5, n_estimators=200; total time=   0.2s\n",
      "[CV] END max_depth=None, max_features=None, min_samples_leaf=7, min_samples_split=5, n_estimators=1200; total time=   0.8s\n",
      "[CV] END max_depth=None, max_features=None, min_samples_leaf=7, min_samples_split=5, n_estimators=1200; total time=   0.8s\n",
      "[CV] END max_depth=None, max_features=None, min_samples_leaf=7, min_samples_split=5, n_estimators=1200; total time=   0.8s\n",
      "[CV] END max_depth=None, max_features=None, min_samples_leaf=7, min_samples_split=5, n_estimators=1200; total time=   0.8s\n",
      "[CV] END max_depth=None, max_features=None, min_samples_leaf=7, min_samples_split=5, n_estimators=1200; total time=   0.7s\n",
      "[CV] END max_depth=None, max_features=None, min_samples_leaf=7, min_samples_split=6, n_estimators=100; total time=   0.1s\n",
      "[CV] END max_depth=None, max_features=None, min_samples_leaf=7, min_samples_split=6, n_estimators=100; total time=   0.1s\n",
      "[CV] END max_depth=None, max_features=None, min_samples_leaf=7, min_samples_split=6, n_estimators=100; total time=   0.1s\n",
      "[CV] END max_depth=None, max_features=None, min_samples_leaf=7, min_samples_split=6, n_estimators=100; total time=   0.1s\n",
      "[CV] END max_depth=None, max_features=None, min_samples_leaf=7, min_samples_split=6, n_estimators=100; total time=   0.1s\n",
      "[CV] END max_depth=None, max_features=None, min_samples_leaf=7, min_samples_split=6, n_estimators=200; total time=   0.2s\n",
      "[CV] END max_depth=None, max_features=None, min_samples_leaf=7, min_samples_split=6, n_estimators=200; total time=   0.2s\n",
      "[CV] END max_depth=None, max_features=None, min_samples_leaf=7, min_samples_split=6, n_estimators=200; total time=   0.2s\n",
      "[CV] END max_depth=None, max_features=None, min_samples_leaf=7, min_samples_split=6, n_estimators=200; total time=   0.1s\n",
      "[CV] END max_depth=None, max_features=None, min_samples_leaf=7, min_samples_split=6, n_estimators=200; total time=   0.2s\n",
      "[CV] END max_depth=None, max_features=None, min_samples_leaf=7, min_samples_split=6, n_estimators=1200; total time=   0.7s\n",
      "[CV] END max_depth=None, max_features=None, min_samples_leaf=7, min_samples_split=6, n_estimators=1200; total time=   0.8s\n",
      "[CV] END max_depth=None, max_features=None, min_samples_leaf=7, min_samples_split=6, n_estimators=1200; total time=   0.7s\n",
      "[CV] END max_depth=None, max_features=None, min_samples_leaf=7, min_samples_split=6, n_estimators=1200; total time=   0.7s\n",
      "[CV] END max_depth=None, max_features=None, min_samples_leaf=7, min_samples_split=6, n_estimators=1200; total time=   0.8s\n",
      "[CV] END max_depth=None, max_features=None, min_samples_leaf=7, min_samples_split=10, n_estimators=100; total time=   0.1s\n",
      "[CV] END max_depth=None, max_features=None, min_samples_leaf=7, min_samples_split=10, n_estimators=100; total time=   0.1s\n",
      "[CV] END max_depth=None, max_features=None, min_samples_leaf=7, min_samples_split=10, n_estimators=100; total time=   0.1s\n",
      "[CV] END max_depth=None, max_features=None, min_samples_leaf=7, min_samples_split=10, n_estimators=100; total time=   0.1s\n",
      "[CV] END max_depth=None, max_features=None, min_samples_leaf=7, min_samples_split=10, n_estimators=100; total time=   0.1s\n",
      "[CV] END max_depth=None, max_features=None, min_samples_leaf=7, min_samples_split=10, n_estimators=200; total time=   0.2s\n",
      "[CV] END max_depth=None, max_features=None, min_samples_leaf=7, min_samples_split=10, n_estimators=200; total time=   0.2s\n",
      "[CV] END max_depth=None, max_features=None, min_samples_leaf=7, min_samples_split=10, n_estimators=200; total time=   0.2s\n",
      "[CV] END max_depth=None, max_features=None, min_samples_leaf=7, min_samples_split=10, n_estimators=200; total time=   0.2s\n",
      "[CV] END max_depth=None, max_features=None, min_samples_leaf=7, min_samples_split=10, n_estimators=200; total time=   0.2s\n",
      "[CV] END max_depth=None, max_features=None, min_samples_leaf=7, min_samples_split=10, n_estimators=1200; total time=   0.8s\n",
      "[CV] END max_depth=None, max_features=None, min_samples_leaf=7, min_samples_split=10, n_estimators=1200; total time=   0.7s\n",
      "[CV] END max_depth=None, max_features=None, min_samples_leaf=7, min_samples_split=10, n_estimators=1200; total time=   0.8s\n",
      "[CV] END max_depth=None, max_features=None, min_samples_leaf=7, min_samples_split=10, n_estimators=1200; total time=   0.8s\n"
     ]
    },
    {
     "name": "stdout",
     "output_type": "stream",
     "text": [
      "[CV] END max_depth=None, max_features=None, min_samples_leaf=7, min_samples_split=10, n_estimators=1200; total time=   0.8s\n",
      "[CV] END max_depth=None, max_features=sqrt, min_samples_leaf=1, min_samples_split=5, n_estimators=100; total time=   0.1s\n",
      "[CV] END max_depth=None, max_features=sqrt, min_samples_leaf=1, min_samples_split=5, n_estimators=100; total time=   0.1s\n",
      "[CV] END max_depth=None, max_features=sqrt, min_samples_leaf=1, min_samples_split=5, n_estimators=100; total time=   0.1s\n",
      "[CV] END max_depth=None, max_features=sqrt, min_samples_leaf=1, min_samples_split=5, n_estimators=100; total time=   0.1s\n",
      "[CV] END max_depth=None, max_features=sqrt, min_samples_leaf=1, min_samples_split=5, n_estimators=100; total time=   0.1s\n",
      "[CV] END max_depth=None, max_features=sqrt, min_samples_leaf=1, min_samples_split=5, n_estimators=200; total time=   0.2s\n",
      "[CV] END max_depth=None, max_features=sqrt, min_samples_leaf=1, min_samples_split=5, n_estimators=200; total time=   0.2s\n",
      "[CV] END max_depth=None, max_features=sqrt, min_samples_leaf=1, min_samples_split=5, n_estimators=200; total time=   0.2s\n",
      "[CV] END max_depth=None, max_features=sqrt, min_samples_leaf=1, min_samples_split=5, n_estimators=200; total time=   0.1s\n",
      "[CV] END max_depth=None, max_features=sqrt, min_samples_leaf=1, min_samples_split=5, n_estimators=200; total time=   0.2s\n",
      "[CV] END max_depth=None, max_features=sqrt, min_samples_leaf=1, min_samples_split=5, n_estimators=1200; total time=   0.8s\n",
      "[CV] END max_depth=None, max_features=sqrt, min_samples_leaf=1, min_samples_split=5, n_estimators=1200; total time=   0.7s\n",
      "[CV] END max_depth=None, max_features=sqrt, min_samples_leaf=1, min_samples_split=5, n_estimators=1200; total time=   0.7s\n",
      "[CV] END max_depth=None, max_features=sqrt, min_samples_leaf=1, min_samples_split=5, n_estimators=1200; total time=   0.7s\n",
      "[CV] END max_depth=None, max_features=sqrt, min_samples_leaf=1, min_samples_split=5, n_estimators=1200; total time=   0.8s\n",
      "[CV] END max_depth=None, max_features=sqrt, min_samples_leaf=1, min_samples_split=6, n_estimators=100; total time=   0.1s\n",
      "[CV] END max_depth=None, max_features=sqrt, min_samples_leaf=1, min_samples_split=6, n_estimators=100; total time=   0.1s\n",
      "[CV] END max_depth=None, max_features=sqrt, min_samples_leaf=1, min_samples_split=6, n_estimators=100; total time=   0.1s\n",
      "[CV] END max_depth=None, max_features=sqrt, min_samples_leaf=1, min_samples_split=6, n_estimators=100; total time=   0.1s\n",
      "[CV] END max_depth=None, max_features=sqrt, min_samples_leaf=1, min_samples_split=6, n_estimators=100; total time=   0.1s\n",
      "[CV] END max_depth=None, max_features=sqrt, min_samples_leaf=1, min_samples_split=6, n_estimators=200; total time=   0.2s\n",
      "[CV] END max_depth=None, max_features=sqrt, min_samples_leaf=1, min_samples_split=6, n_estimators=200; total time=   0.2s\n",
      "[CV] END max_depth=None, max_features=sqrt, min_samples_leaf=1, min_samples_split=6, n_estimators=200; total time=   0.2s\n",
      "[CV] END max_depth=None, max_features=sqrt, min_samples_leaf=1, min_samples_split=6, n_estimators=200; total time=   0.2s\n",
      "[CV] END max_depth=None, max_features=sqrt, min_samples_leaf=1, min_samples_split=6, n_estimators=200; total time=   0.2s\n",
      "[CV] END max_depth=None, max_features=sqrt, min_samples_leaf=1, min_samples_split=6, n_estimators=1200; total time=   0.7s\n",
      "[CV] END max_depth=None, max_features=sqrt, min_samples_leaf=1, min_samples_split=6, n_estimators=1200; total time=   0.7s\n",
      "[CV] END max_depth=None, max_features=sqrt, min_samples_leaf=1, min_samples_split=6, n_estimators=1200; total time=   0.8s\n",
      "[CV] END max_depth=None, max_features=sqrt, min_samples_leaf=1, min_samples_split=6, n_estimators=1200; total time=   0.7s\n",
      "[CV] END max_depth=None, max_features=sqrt, min_samples_leaf=1, min_samples_split=6, n_estimators=1200; total time=   0.7s\n",
      "[CV] END max_depth=None, max_features=sqrt, min_samples_leaf=1, min_samples_split=10, n_estimators=100; total time=   0.1s\n",
      "[CV] END max_depth=None, max_features=sqrt, min_samples_leaf=1, min_samples_split=10, n_estimators=100; total time=   0.1s\n",
      "[CV] END max_depth=None, max_features=sqrt, min_samples_leaf=1, min_samples_split=10, n_estimators=100; total time=   0.1s\n",
      "[CV] END max_depth=None, max_features=sqrt, min_samples_leaf=1, min_samples_split=10, n_estimators=100; total time=   0.1s\n",
      "[CV] END max_depth=None, max_features=sqrt, min_samples_leaf=1, min_samples_split=10, n_estimators=100; total time=   0.1s\n",
      "[CV] END max_depth=None, max_features=sqrt, min_samples_leaf=1, min_samples_split=10, n_estimators=200; total time=   0.2s\n",
      "[CV] END max_depth=None, max_features=sqrt, min_samples_leaf=1, min_samples_split=10, n_estimators=200; total time=   0.2s\n",
      "[CV] END max_depth=None, max_features=sqrt, min_samples_leaf=1, min_samples_split=10, n_estimators=200; total time=   0.2s\n",
      "[CV] END max_depth=None, max_features=sqrt, min_samples_leaf=1, min_samples_split=10, n_estimators=200; total time=   0.2s\n",
      "[CV] END max_depth=None, max_features=sqrt, min_samples_leaf=1, min_samples_split=10, n_estimators=200; total time=   0.2s\n",
      "[CV] END max_depth=None, max_features=sqrt, min_samples_leaf=1, min_samples_split=10, n_estimators=1200; total time=   0.7s\n",
      "[CV] END max_depth=None, max_features=sqrt, min_samples_leaf=1, min_samples_split=10, n_estimators=1200; total time=   0.8s\n",
      "[CV] END max_depth=None, max_features=sqrt, min_samples_leaf=1, min_samples_split=10, n_estimators=1200; total time=   0.7s\n",
      "[CV] END max_depth=None, max_features=sqrt, min_samples_leaf=1, min_samples_split=10, n_estimators=1200; total time=   0.7s\n",
      "[CV] END max_depth=None, max_features=sqrt, min_samples_leaf=1, min_samples_split=10, n_estimators=1200; total time=   0.9s\n",
      "[CV] END max_depth=None, max_features=sqrt, min_samples_leaf=2, min_samples_split=5, n_estimators=100; total time=   0.1s\n",
      "[CV] END max_depth=None, max_features=sqrt, min_samples_leaf=2, min_samples_split=5, n_estimators=100; total time=   0.1s\n",
      "[CV] END max_depth=None, max_features=sqrt, min_samples_leaf=2, min_samples_split=5, n_estimators=100; total time=   0.1s\n",
      "[CV] END max_depth=None, max_features=sqrt, min_samples_leaf=2, min_samples_split=5, n_estimators=100; total time=   0.1s\n",
      "[CV] END max_depth=None, max_features=sqrt, min_samples_leaf=2, min_samples_split=5, n_estimators=100; total time=   0.1s\n",
      "[CV] END max_depth=None, max_features=sqrt, min_samples_leaf=2, min_samples_split=5, n_estimators=200; total time=   0.2s\n",
      "[CV] END max_depth=None, max_features=sqrt, min_samples_leaf=2, min_samples_split=5, n_estimators=200; total time=   0.2s\n",
      "[CV] END max_depth=None, max_features=sqrt, min_samples_leaf=2, min_samples_split=5, n_estimators=200; total time=   0.2s\n",
      "[CV] END max_depth=None, max_features=sqrt, min_samples_leaf=2, min_samples_split=5, n_estimators=200; total time=   0.2s\n",
      "[CV] END max_depth=None, max_features=sqrt, min_samples_leaf=2, min_samples_split=5, n_estimators=200; total time=   0.2s\n",
      "[CV] END max_depth=None, max_features=sqrt, min_samples_leaf=2, min_samples_split=5, n_estimators=1200; total time=   0.8s\n",
      "[CV] END max_depth=None, max_features=sqrt, min_samples_leaf=2, min_samples_split=5, n_estimators=1200; total time=   0.7s\n",
      "[CV] END max_depth=None, max_features=sqrt, min_samples_leaf=2, min_samples_split=5, n_estimators=1200; total time=   0.7s\n",
      "[CV] END max_depth=None, max_features=sqrt, min_samples_leaf=2, min_samples_split=5, n_estimators=1200; total time=   0.7s\n",
      "[CV] END max_depth=None, max_features=sqrt, min_samples_leaf=2, min_samples_split=5, n_estimators=1200; total time=   0.7s\n",
      "[CV] END max_depth=None, max_features=sqrt, min_samples_leaf=2, min_samples_split=6, n_estimators=100; total time=   0.1s\n",
      "[CV] END max_depth=None, max_features=sqrt, min_samples_leaf=2, min_samples_split=6, n_estimators=100; total time=   0.1s\n",
      "[CV] END max_depth=None, max_features=sqrt, min_samples_leaf=2, min_samples_split=6, n_estimators=100; total time=   0.1s\n",
      "[CV] END max_depth=None, max_features=sqrt, min_samples_leaf=2, min_samples_split=6, n_estimators=100; total time=   0.1s\n",
      "[CV] END max_depth=None, max_features=sqrt, min_samples_leaf=2, min_samples_split=6, n_estimators=100; total time=   0.1s\n",
      "[CV] END max_depth=None, max_features=sqrt, min_samples_leaf=2, min_samples_split=6, n_estimators=200; total time=   0.2s\n",
      "[CV] END max_depth=None, max_features=sqrt, min_samples_leaf=2, min_samples_split=6, n_estimators=200; total time=   0.2s\n"
     ]
    },
    {
     "name": "stdout",
     "output_type": "stream",
     "text": [
      "[CV] END max_depth=None, max_features=sqrt, min_samples_leaf=2, min_samples_split=6, n_estimators=200; total time=   0.2s\n",
      "[CV] END max_depth=None, max_features=sqrt, min_samples_leaf=2, min_samples_split=6, n_estimators=200; total time=   0.2s\n",
      "[CV] END max_depth=None, max_features=sqrt, min_samples_leaf=2, min_samples_split=6, n_estimators=200; total time=   0.2s\n",
      "[CV] END max_depth=None, max_features=sqrt, min_samples_leaf=2, min_samples_split=6, n_estimators=1200; total time=   0.7s\n",
      "[CV] END max_depth=None, max_features=sqrt, min_samples_leaf=2, min_samples_split=6, n_estimators=1200; total time=   0.7s\n",
      "[CV] END max_depth=None, max_features=sqrt, min_samples_leaf=2, min_samples_split=6, n_estimators=1200; total time=   0.7s\n",
      "[CV] END max_depth=None, max_features=sqrt, min_samples_leaf=2, min_samples_split=6, n_estimators=1200; total time=   0.7s\n",
      "[CV] END max_depth=None, max_features=sqrt, min_samples_leaf=2, min_samples_split=6, n_estimators=1200; total time=   0.8s\n",
      "[CV] END max_depth=None, max_features=sqrt, min_samples_leaf=2, min_samples_split=10, n_estimators=100; total time=   0.1s\n",
      "[CV] END max_depth=None, max_features=sqrt, min_samples_leaf=2, min_samples_split=10, n_estimators=100; total time=   0.1s\n",
      "[CV] END max_depth=None, max_features=sqrt, min_samples_leaf=2, min_samples_split=10, n_estimators=100; total time=   0.1s\n",
      "[CV] END max_depth=None, max_features=sqrt, min_samples_leaf=2, min_samples_split=10, n_estimators=100; total time=   0.1s\n",
      "[CV] END max_depth=None, max_features=sqrt, min_samples_leaf=2, min_samples_split=10, n_estimators=100; total time=   0.1s\n",
      "[CV] END max_depth=None, max_features=sqrt, min_samples_leaf=2, min_samples_split=10, n_estimators=200; total time=   0.2s\n",
      "[CV] END max_depth=None, max_features=sqrt, min_samples_leaf=2, min_samples_split=10, n_estimators=200; total time=   0.2s\n",
      "[CV] END max_depth=None, max_features=sqrt, min_samples_leaf=2, min_samples_split=10, n_estimators=200; total time=   0.2s\n",
      "[CV] END max_depth=None, max_features=sqrt, min_samples_leaf=2, min_samples_split=10, n_estimators=200; total time=   0.2s\n",
      "[CV] END max_depth=None, max_features=sqrt, min_samples_leaf=2, min_samples_split=10, n_estimators=200; total time=   0.2s\n",
      "[CV] END max_depth=None, max_features=sqrt, min_samples_leaf=2, min_samples_split=10, n_estimators=1200; total time=   0.7s\n",
      "[CV] END max_depth=None, max_features=sqrt, min_samples_leaf=2, min_samples_split=10, n_estimators=1200; total time=   0.7s\n",
      "[CV] END max_depth=None, max_features=sqrt, min_samples_leaf=2, min_samples_split=10, n_estimators=1200; total time=   0.7s\n",
      "[CV] END max_depth=None, max_features=sqrt, min_samples_leaf=2, min_samples_split=10, n_estimators=1200; total time=   0.8s\n",
      "[CV] END max_depth=None, max_features=sqrt, min_samples_leaf=2, min_samples_split=10, n_estimators=1200; total time=   0.9s\n",
      "[CV] END max_depth=None, max_features=sqrt, min_samples_leaf=7, min_samples_split=5, n_estimators=100; total time=   0.1s\n",
      "[CV] END max_depth=None, max_features=sqrt, min_samples_leaf=7, min_samples_split=5, n_estimators=100; total time=   0.1s\n",
      "[CV] END max_depth=None, max_features=sqrt, min_samples_leaf=7, min_samples_split=5, n_estimators=100; total time=   0.1s\n",
      "[CV] END max_depth=None, max_features=sqrt, min_samples_leaf=7, min_samples_split=5, n_estimators=100; total time=   0.1s\n",
      "[CV] END max_depth=None, max_features=sqrt, min_samples_leaf=7, min_samples_split=5, n_estimators=100; total time=   0.1s\n",
      "[CV] END max_depth=None, max_features=sqrt, min_samples_leaf=7, min_samples_split=5, n_estimators=200; total time=   0.2s\n",
      "[CV] END max_depth=None, max_features=sqrt, min_samples_leaf=7, min_samples_split=5, n_estimators=200; total time=   0.2s\n",
      "[CV] END max_depth=None, max_features=sqrt, min_samples_leaf=7, min_samples_split=5, n_estimators=200; total time=   0.2s\n",
      "[CV] END max_depth=None, max_features=sqrt, min_samples_leaf=7, min_samples_split=5, n_estimators=200; total time=   0.2s\n",
      "[CV] END max_depth=None, max_features=sqrt, min_samples_leaf=7, min_samples_split=5, n_estimators=200; total time=   0.2s\n",
      "[CV] END max_depth=None, max_features=sqrt, min_samples_leaf=7, min_samples_split=5, n_estimators=1200; total time=   0.7s\n",
      "[CV] END max_depth=None, max_features=sqrt, min_samples_leaf=7, min_samples_split=5, n_estimators=1200; total time=   0.7s\n",
      "[CV] END max_depth=None, max_features=sqrt, min_samples_leaf=7, min_samples_split=5, n_estimators=1200; total time=   0.7s\n",
      "[CV] END max_depth=None, max_features=sqrt, min_samples_leaf=7, min_samples_split=5, n_estimators=1200; total time=   0.7s\n",
      "[CV] END max_depth=None, max_features=sqrt, min_samples_leaf=7, min_samples_split=5, n_estimators=1200; total time=   0.7s\n",
      "[CV] END max_depth=None, max_features=sqrt, min_samples_leaf=7, min_samples_split=6, n_estimators=100; total time=   0.1s\n",
      "[CV] END max_depth=None, max_features=sqrt, min_samples_leaf=7, min_samples_split=6, n_estimators=100; total time=   0.1s\n",
      "[CV] END max_depth=None, max_features=sqrt, min_samples_leaf=7, min_samples_split=6, n_estimators=100; total time=   0.1s\n",
      "[CV] END max_depth=None, max_features=sqrt, min_samples_leaf=7, min_samples_split=6, n_estimators=100; total time=   0.1s\n",
      "[CV] END max_depth=None, max_features=sqrt, min_samples_leaf=7, min_samples_split=6, n_estimators=100; total time=   0.1s\n",
      "[CV] END max_depth=None, max_features=sqrt, min_samples_leaf=7, min_samples_split=6, n_estimators=200; total time=   0.2s\n",
      "[CV] END max_depth=None, max_features=sqrt, min_samples_leaf=7, min_samples_split=6, n_estimators=200; total time=   0.2s\n",
      "[CV] END max_depth=None, max_features=sqrt, min_samples_leaf=7, min_samples_split=6, n_estimators=200; total time=   0.2s\n",
      "[CV] END max_depth=None, max_features=sqrt, min_samples_leaf=7, min_samples_split=6, n_estimators=200; total time=   0.2s\n",
      "[CV] END max_depth=None, max_features=sqrt, min_samples_leaf=7, min_samples_split=6, n_estimators=200; total time=   0.2s\n",
      "[CV] END max_depth=None, max_features=sqrt, min_samples_leaf=7, min_samples_split=6, n_estimators=1200; total time=   0.7s\n",
      "[CV] END max_depth=None, max_features=sqrt, min_samples_leaf=7, min_samples_split=6, n_estimators=1200; total time=   0.7s\n",
      "[CV] END max_depth=None, max_features=sqrt, min_samples_leaf=7, min_samples_split=6, n_estimators=1200; total time=   0.7s\n",
      "[CV] END max_depth=None, max_features=sqrt, min_samples_leaf=7, min_samples_split=6, n_estimators=1200; total time=   0.7s\n",
      "[CV] END max_depth=None, max_features=sqrt, min_samples_leaf=7, min_samples_split=6, n_estimators=1200; total time=   0.7s\n",
      "[CV] END max_depth=None, max_features=sqrt, min_samples_leaf=7, min_samples_split=10, n_estimators=100; total time=   0.1s\n",
      "[CV] END max_depth=None, max_features=sqrt, min_samples_leaf=7, min_samples_split=10, n_estimators=100; total time=   0.1s\n",
      "[CV] END max_depth=None, max_features=sqrt, min_samples_leaf=7, min_samples_split=10, n_estimators=100; total time=   0.1s\n",
      "[CV] END max_depth=None, max_features=sqrt, min_samples_leaf=7, min_samples_split=10, n_estimators=100; total time=   0.1s\n",
      "[CV] END max_depth=None, max_features=sqrt, min_samples_leaf=7, min_samples_split=10, n_estimators=100; total time=   0.1s\n",
      "[CV] END max_depth=None, max_features=sqrt, min_samples_leaf=7, min_samples_split=10, n_estimators=200; total time=   0.2s\n",
      "[CV] END max_depth=None, max_features=sqrt, min_samples_leaf=7, min_samples_split=10, n_estimators=200; total time=   0.2s\n",
      "[CV] END max_depth=None, max_features=sqrt, min_samples_leaf=7, min_samples_split=10, n_estimators=200; total time=   0.2s\n",
      "[CV] END max_depth=None, max_features=sqrt, min_samples_leaf=7, min_samples_split=10, n_estimators=200; total time=   0.2s\n",
      "[CV] END max_depth=None, max_features=sqrt, min_samples_leaf=7, min_samples_split=10, n_estimators=200; total time=   0.2s\n",
      "[CV] END max_depth=None, max_features=sqrt, min_samples_leaf=7, min_samples_split=10, n_estimators=1200; total time=   0.7s\n",
      "[CV] END max_depth=None, max_features=sqrt, min_samples_leaf=7, min_samples_split=10, n_estimators=1200; total time=   0.8s\n",
      "[CV] END max_depth=None, max_features=sqrt, min_samples_leaf=7, min_samples_split=10, n_estimators=1200; total time=   0.7s\n",
      "[CV] END max_depth=None, max_features=sqrt, min_samples_leaf=7, min_samples_split=10, n_estimators=1200; total time=   0.7s\n"
     ]
    },
    {
     "name": "stdout",
     "output_type": "stream",
     "text": [
      "[CV] END max_depth=None, max_features=sqrt, min_samples_leaf=7, min_samples_split=10, n_estimators=1200; total time=   0.9s\n"
     ]
    }
   ],
   "source": [
    "from sklearn.model_selection import GridSearchCV, train_test_split\n",
    "\n",
    "np.random.seed(42)\n",
    "\n",
    "# Split into X and y\n",
    "X = heart_disease_shuffled.drop(\"target\", axis=1)\n",
    "y = heart_disease_shuffled[\"target\"]\n",
    "\n",
    "# Split into train and test sets\n",
    "\n",
    "X_train, X_test, y_train, y_test = train_test_split(X, y, test_size=0.2)\n",
    "\n",
    "# Instantiate RandomForestClassifier\n",
    "clf = RandomForestClassifier(n_jobs=-1)\n",
    "\n",
    "# Setup GridSearchCV\n",
    "gs_clf = GridSearchCV(estimator=clf,\n",
    "                      param_grid=grid_2,\n",
    "                      cv=5,\n",
    "                      verbose=2)\n",
    "\n",
    "# Fit the GridSearchCV for clf\n",
    "gs_clf.fit(X_train, y_train);"
   ]
  },
  {
   "cell_type": "code",
   "execution_count": 153,
   "id": "0c077ba2",
   "metadata": {},
   "outputs": [
    {
     "data": {
      "text/plain": [
       "{'max_depth': None,\n",
       " 'max_features': 'auto',\n",
       " 'min_samples_leaf': 7,\n",
       " 'min_samples_split': 5,\n",
       " 'n_estimators': 100}"
      ]
     },
     "execution_count": 153,
     "metadata": {},
     "output_type": "execute_result"
    }
   ],
   "source": [
    "gs_clf.best_params_"
   ]
  },
  {
   "cell_type": "code",
   "execution_count": 154,
   "id": "4218b028",
   "metadata": {},
   "outputs": [
    {
     "name": "stdout",
     "output_type": "stream",
     "text": [
      "The accuracy of the model is: 83.61%\n",
      "The precision of the model is: 0.78\n",
      "The recall of the model is: 0.8928571428571429\n",
      "The f1_score of the model is: 0.8928571428571429\n",
      "\n",
      "The report of all scores of the model:\n",
      "\n",
      "               precision    recall  f1-score   support\n",
      "\n",
      "           0       0.90      0.79      0.84        33\n",
      "           1       0.78      0.89      0.83        28\n",
      "\n",
      "    accuracy                           0.84        61\n",
      "   macro avg       0.84      0.84      0.84        61\n",
      "weighted avg       0.84      0.84      0.84        61\n",
      "\n"
     ]
    }
   ],
   "source": [
    "gs_y_preds = gs_clf.predict(X_test)\n",
    "\n",
    "# evaluate the predictions\n",
    "gs_metrics = evaluate_preds(y_test, gs_y_preds)"
   ]
  },
  {
   "cell_type": "markdown",
   "id": "bdd05ac7",
   "metadata": {},
   "source": [
    "Let's try compare our different models metrics:"
   ]
  },
  {
   "cell_type": "code",
   "execution_count": 161,
   "id": "f1baee94",
   "metadata": {},
   "outputs": [
    {
     "data": {
      "text/plain": [
       "<AxesSubplot:>"
      ]
     },
     "execution_count": 161,
     "metadata": {},
     "output_type": "execute_result"
    },
    {
     "data": {
      "image/png": "[encoded data removed]",
      "text/plain": [
       "<Figure size 720x576 with 1 Axes>"
      ]
     },
     "metadata": {},
     "output_type": "display_data"
    }
   ],
   "source": [
    "compare_metrics = pd.DataFrame({\n",
    "    \"baseline model\": baseline_metrics,\n",
    "    \"clf_2\": clf_2_metrics,\n",
    "    \"random search\": rs_metrics,\n",
    "    \"grid search\": gs_metrics\n",
    "})\n",
    "\n",
    "compare_metrics.plot.bar(figsize=(10,8))"
   ]
  },
  {
   "cell_type": "markdown",
   "id": "07f23401",
   "metadata": {},
   "source": [
    "## 6. Saving and loading trained machine learning models\n",
    "\n",
    "Two ways to save and loadl machine learning models:\n",
    "1. With Python's `pickle` module\n",
    "2. With the `joblib` module\n",
    "\n",
    "**Pickle**"
   ]
  },
  {
   "cell_type": "code",
   "execution_count": 162,
   "id": "ebb409c9",
   "metadata": {},
   "outputs": [],
   "source": [
    "import pickle"
   ]
  },
  {
   "cell_type": "code",
   "execution_count": 163,
   "id": "056f1cb1",
   "metadata": {},
   "outputs": [],
   "source": [
    "# Save an existing model to file\n",
    "\n",
    "pickle.dump(clf_2, open(\"clf_w_hyperparameters_by_hand.pk1\", \"wb\"))"
   ]
  },
  {
   "cell_type": "code",
   "execution_count": 164,
   "id": "1dca37a9",
   "metadata": {},
   "outputs": [],
   "source": [
    "# Load a saved model\n",
    "loaded_pickle_model = pickle.load(open(\"clf_w_hyperparameters_by_hand.pk1\", \"rb\"))"
   ]
  },
  {
   "cell_type": "code",
   "execution_count": 165,
   "id": "e72b5cda",
   "metadata": {},
   "outputs": [],
   "source": [
    "# Make some predicitons\n",
    "\n",
    "pickle_y_preds = loaded_pickle_model.predict(X_test)"
   ]
  },
  {
   "cell_type": "code",
   "execution_count": 166,
   "id": "2733d6e2",
   "metadata": {},
   "outputs": [
    {
     "data": {
      "text/plain": [
       "array([1, 1, 1, 0, 1, 0, 0, 0, 1, 0, 1, 0, 0, 1, 0, 0, 1, 1, 0, 1, 0, 0,\n",
       "       0, 1, 1, 0, 0, 1, 1, 0, 0, 0, 1, 1, 1, 1, 1, 0, 1, 1, 0, 1, 1, 0,\n",
       "       0, 1])"
      ]
     },
     "execution_count": 166,
     "metadata": {},
     "output_type": "execute_result"
    }
   ],
   "source": [
    "pickle_y_preds"
   ]
  },
  {
   "cell_type": "code",
   "execution_count": 169,
   "id": "a5b95b76",
   "metadata": {},
   "outputs": [
    {
     "name": "stdout",
     "output_type": "stream",
     "text": [
      "The accuracy of the model is: 80.43%\n",
      "The precision of the model is: 0.83\n",
      "The recall of the model is: 0.8\n",
      "The f1_score of the model is: 0.8\n",
      "\n",
      "The report of all scores of the model:\n",
      "\n",
      "               precision    recall  f1-score   support\n",
      "\n",
      "           0       0.77      0.81      0.79        21\n",
      "           1       0.83      0.80      0.82        25\n",
      "\n",
      "    accuracy                           0.80        46\n",
      "   macro avg       0.80      0.80      0.80        46\n",
      "weighted avg       0.81      0.80      0.80        46\n",
      "\n"
     ]
    },
    {
     "data": {
      "text/plain": [
       "{'accuracy': 0.8, 'precision': 0.83, 'recall': 0.8, 'f1_score': 0.82}"
      ]
     },
     "execution_count": 169,
     "metadata": {},
     "output_type": "execute_result"
    }
   ],
   "source": [
    "np.random.seed(42)\n",
    "evaluate_preds(y_test, pickle_y_preds)"
   ]
  },
  {
   "cell_type": "markdown",
   "id": "a543b354",
   "metadata": {},
   "source": [
    "**JobLib**"
   ]
  },
  {
   "cell_type": "code",
   "execution_count": 170,
   "id": "1495ae29",
   "metadata": {},
   "outputs": [
    {
     "data": {
      "text/plain": [
       "['clf_2_hp_by_hand.joblib']"
      ]
     },
     "execution_count": 170,
     "metadata": {},
     "output_type": "execute_result"
    }
   ],
   "source": [
    "from joblib import dump, load\n",
    "\n",
    "# save model to file\n",
    "\n",
    "dump(clf_2, filename=\"clf_2_hp_by_hand.joblib\")"
   ]
  },
  {
   "cell_type": "code",
   "execution_count": 171,
   "id": "0936b6fd",
   "metadata": {},
   "outputs": [],
   "source": [
    "# Import a saved joblib model\n",
    "loaded_job_model = load(filename=\"clf_2_hp_by_hand.joblib\")"
   ]
  },
  {
   "cell_type": "code",
   "execution_count": 173,
   "id": "297507e7",
   "metadata": {},
   "outputs": [
    {
     "name": "stdout",
     "output_type": "stream",
     "text": [
      "The accuracy of the model is: 80.43%\n",
      "The precision of the model is: 0.83\n",
      "The recall of the model is: 0.8\n",
      "The f1_score of the model is: 0.8\n",
      "\n",
      "The report of all scores of the model:\n",
      "\n",
      "               precision    recall  f1-score   support\n",
      "\n",
      "           0       0.77      0.81      0.79        21\n",
      "           1       0.83      0.80      0.82        25\n",
      "\n",
      "    accuracy                           0.80        46\n",
      "   macro avg       0.80      0.80      0.80        46\n",
      "weighted avg       0.81      0.80      0.80        46\n",
      "\n"
     ]
    },
    {
     "data": {
      "text/plain": [
       "{'accuracy': 0.8, 'precision': 0.83, 'recall': 0.8, 'f1_score': 0.82}"
      ]
     },
     "execution_count": 173,
     "metadata": {},
     "output_type": "execute_result"
    }
   ],
   "source": [
    "# Make and evaluate joblib predictions\n",
    "joblib_y_preds = loaded_job_model.predict(X_test)\n",
    "\n",
    "# Evaluate\n",
    "evaluate_preds(y_test, joblib_y_preds)"
   ]
  },
  {
   "cell_type": "markdown",
   "id": "87a667f1",
   "metadata": {},
   "source": [
    "### 7. Putting it all together!"
   ]
  },
  {
   "cell_type": "code",
   "execution_count": 174,
   "id": "57fd1b5f",
   "metadata": {},
   "outputs": [
    {
     "data": {
      "text/html": [
       "<div>\n",
       "<style scoped>\n",
       "    .dataframe tbody tr th:only-of-type {\n",
       "        vertical-align: middle;\n",
       "    }\n",
       "\n",
       "    .dataframe tbody tr th {\n",
       "        vertical-align: top;\n",
       "    }\n",
       "\n",
       "    .dataframe thead th {\n",
       "        text-align: right;\n",
       "    }\n",
       "</style>\n",
       "<table border=\"1\" class=\"dataframe\">\n",
       "  <thead>\n",
       "    <tr style=\"text-align: right;\">\n",
       "      <th></th>\n",
       "      <th>Make</th>\n",
       "      <th>Colour</th>\n",
       "      <th>Odometer (KM)</th>\n",
       "      <th>Doors</th>\n",
       "      <th>Price</th>\n",
       "    </tr>\n",
       "  </thead>\n",
       "  <tbody>\n",
       "    <tr>\n",
       "      <th>0</th>\n",
       "      <td>Honda</td>\n",
       "      <td>White</td>\n",
       "      <td>35431.0</td>\n",
       "      <td>4.0</td>\n",
       "      <td>15323.0</td>\n",
       "    </tr>\n",
       "    <tr>\n",
       "      <th>1</th>\n",
       "      <td>BMW</td>\n",
       "      <td>Blue</td>\n",
       "      <td>192714.0</td>\n",
       "      <td>5.0</td>\n",
       "      <td>19943.0</td>\n",
       "    </tr>\n",
       "    <tr>\n",
       "      <th>2</th>\n",
       "      <td>Honda</td>\n",
       "      <td>White</td>\n",
       "      <td>84714.0</td>\n",
       "      <td>4.0</td>\n",
       "      <td>28343.0</td>\n",
       "    </tr>\n",
       "    <tr>\n",
       "      <th>3</th>\n",
       "      <td>Toyota</td>\n",
       "      <td>White</td>\n",
       "      <td>154365.0</td>\n",
       "      <td>4.0</td>\n",
       "      <td>13434.0</td>\n",
       "    </tr>\n",
       "    <tr>\n",
       "      <th>4</th>\n",
       "      <td>Nissan</td>\n",
       "      <td>Blue</td>\n",
       "      <td>181577.0</td>\n",
       "      <td>3.0</td>\n",
       "      <td>14043.0</td>\n",
       "    </tr>\n",
       "    <tr>\n",
       "      <th>...</th>\n",
       "      <td>...</td>\n",
       "      <td>...</td>\n",
       "      <td>...</td>\n",
       "      <td>...</td>\n",
       "      <td>...</td>\n",
       "    </tr>\n",
       "    <tr>\n",
       "      <th>995</th>\n",
       "      <td>Toyota</td>\n",
       "      <td>Black</td>\n",
       "      <td>35820.0</td>\n",
       "      <td>4.0</td>\n",
       "      <td>32042.0</td>\n",
       "    </tr>\n",
       "    <tr>\n",
       "      <th>996</th>\n",
       "      <td>NaN</td>\n",
       "      <td>White</td>\n",
       "      <td>155144.0</td>\n",
       "      <td>3.0</td>\n",
       "      <td>5716.0</td>\n",
       "    </tr>\n",
       "    <tr>\n",
       "      <th>997</th>\n",
       "      <td>Nissan</td>\n",
       "      <td>Blue</td>\n",
       "      <td>66604.0</td>\n",
       "      <td>4.0</td>\n",
       "      <td>31570.0</td>\n",
       "    </tr>\n",
       "    <tr>\n",
       "      <th>998</th>\n",
       "      <td>Honda</td>\n",
       "      <td>White</td>\n",
       "      <td>215883.0</td>\n",
       "      <td>4.0</td>\n",
       "      <td>4001.0</td>\n",
       "    </tr>\n",
       "    <tr>\n",
       "      <th>999</th>\n",
       "      <td>Toyota</td>\n",
       "      <td>Blue</td>\n",
       "      <td>248360.0</td>\n",
       "      <td>4.0</td>\n",
       "      <td>12732.0</td>\n",
       "    </tr>\n",
       "  </tbody>\n",
       "</table>\n",
       "<p>1000 rows × 5 columns</p>\n",
       "</div>"
      ],
      "text/plain": [
       "       Make Colour  Odometer (KM)  Doors    Price\n",
       "0     Honda  White        35431.0    4.0  15323.0\n",
       "1       BMW   Blue       192714.0    5.0  19943.0\n",
       "2     Honda  White        84714.0    4.0  28343.0\n",
       "3    Toyota  White       154365.0    4.0  13434.0\n",
       "4    Nissan   Blue       181577.0    3.0  14043.0\n",
       "..      ...    ...            ...    ...      ...\n",
       "995  Toyota  Black        35820.0    4.0  32042.0\n",
       "996     NaN  White       155144.0    3.0   5716.0\n",
       "997  Nissan   Blue        66604.0    4.0  31570.0\n",
       "998   Honda  White       215883.0    4.0   4001.0\n",
       "999  Toyota   Blue       248360.0    4.0  12732.0\n",
       "\n",
       "[1000 rows x 5 columns]"
      ]
     },
     "execution_count": 174,
     "metadata": {},
     "output_type": "execute_result"
    }
   ],
   "source": [
    "data = pd.read_csv(\"car-sales-extended-missing-data.csv\")\n",
    "data"
   ]
  },
  {
   "cell_type": "code",
   "execution_count": 175,
   "id": "c7421a1e",
   "metadata": {},
   "outputs": [
    {
     "data": {
      "text/plain": [
       "Make              object\n",
       "Colour            object\n",
       "Odometer (KM)    float64\n",
       "Doors            float64\n",
       "Price            float64\n",
       "dtype: object"
      ]
     },
     "execution_count": 175,
     "metadata": {},
     "output_type": "execute_result"
    }
   ],
   "source": [
    "data.dtypes"
   ]
  },
  {
   "cell_type": "code",
   "execution_count": 176,
   "id": "a47004f3",
   "metadata": {},
   "outputs": [
    {
     "data": {
      "text/plain": [
       "Make             49\n",
       "Colour           50\n",
       "Odometer (KM)    50\n",
       "Doors            50\n",
       "Price            50\n",
       "dtype: int64"
      ]
     },
     "execution_count": 176,
     "metadata": {},
     "output_type": "execute_result"
    }
   ],
   "source": [
    "data.isna().sum()"
   ]
  },
  {
   "cell_type": "markdown",
   "id": "ad3b5e4f",
   "metadata": {},
   "source": [
    "# Steps we want to do (all in one cell):\n",
    "1. Fill missing data\n",
    "2. Convert data to numbers\n",
    "3. Build a model on the data"
   ]
  },
  {
   "cell_type": "code",
   "execution_count": 187,
   "id": "92a90061",
   "metadata": {},
   "outputs": [
    {
     "data": {
      "text/plain": [
       "0.22188417408787875"
      ]
     },
     "execution_count": 187,
     "metadata": {},
     "output_type": "execute_result"
    }
   ],
   "source": [
    "# Getting the data ready\n",
    "import pandas as pd\n",
    "from sklearn.compose import ColumnTransformer\n",
    "from sklearn.pipeline import Pipeline\n",
    "from sklearn. impute import SimpleImputer\n",
    "from sklearn.preprocessing import OneHotEncoder\n",
    "\n",
    "# Modelling\n",
    "from sklearn.ensemble import RandomForestRegressor\n",
    "from sklearn.model_selection import train_test_split, GridSearchCV\n",
    "\n",
    "# Setup random seed\n",
    "import numpy as np\n",
    "np.random.seed(42)\n",
    "\n",
    "# Import data and drop rows with missing labels:\n",
    "data = pd.read_csv(\"car-sales-extended-missing-data.csv\")\n",
    "data.dropna(subset=[\"Price\"], inplace=True)\n",
    "\n",
    "# Define different features and transformer pipeline\n",
    "categorical_features = [\"Make\", \"Colour\"]\n",
    "categorical_transformer = Pipeline(steps=[\n",
    "    (\"imputer\", SimpleImputer(strategy=\"constant\", fill_value=\"missing\")),\n",
    "    (\"onehot\", OneHotEncoder(handle_unknown=\"ignore\"))])\n",
    "\n",
    "door_feature = [\"Doors\"]\n",
    "door_transformer = Pipeline(steps=[\n",
    "    (\"imputer\", SimpleImputer(strategy=\"constant\", fill_value=4))])\n",
    "\n",
    "numeric_features = [\"Odometer (KM)\"]\n",
    "numeric_transformer = Pipeline(steps=[\n",
    "    (\"imputer\", SimpleImputer(strategy=\"mean\"))])\n",
    "\n",
    "# Setup preprocessing steps (fill missing values, then convert to numbers)\n",
    "preprocessor = ColumnTransformer(\n",
    "        transformers=[\n",
    "        (\"cat\", categorical_transformer, categorical_features),\n",
    "        (\"door\", door_transformer, door_feature),\n",
    "        (\"num\", numeric_transformer, numeric_features)\n",
    "        ])\n",
    "\n",
    "# Creating a preprocessing and modelling pipeline\n",
    "model = Pipeline(steps=[(\"preprocessing\", preprocessor), (\"model\", RandomForestRegressor())])\n",
    "\n",
    "# Split data into X and y\n",
    "X = data.drop(\"Price\", axis=1)\n",
    "y = data[\"Price\"]\n",
    "\n",
    "# Create training and testing sets\n",
    "X_train, X_test, y_train, y_test = train_test_split(X, y, test_size=0.2)\n",
    "\n",
    "# Fit the model\n",
    "model.fit(X_train, y_train)\n",
    "\n",
    "# Score the model with default score method\n",
    "model.score(X_test, y_test)"
   ]
  },
  {
   "cell_type": "code",
   "execution_count": 192,
   "id": "ea324c7f",
   "metadata": {},
   "outputs": [
    {
     "name": "stdout",
     "output_type": "stream",
     "text": [
      "Fitting 5 folds for each of 108 candidates, totalling 540 fits\n",
      "[CV] END model__max_depth=None, model__max_features=auto, model__min_samples_leaf=1, model__min_samples_split=2, model__n_estimators=100, preprocessing__num__imputer__strategy=mean; total time=   0.2s\n",
      "[CV] END model__max_depth=None, model__max_features=auto, model__min_samples_leaf=1, model__min_samples_split=2, model__n_estimators=100, preprocessing__num__imputer__strategy=mean; total time=   0.1s\n",
      "[CV] END model__max_depth=None, model__max_features=auto, model__min_samples_leaf=1, model__min_samples_split=2, model__n_estimators=100, preprocessing__num__imputer__strategy=mean; total time=   0.1s\n",
      "[CV] END model__max_depth=None, model__max_features=auto, model__min_samples_leaf=1, model__min_samples_split=2, model__n_estimators=100, preprocessing__num__imputer__strategy=mean; total time=   0.1s\n",
      "[CV] END model__max_depth=None, model__max_features=auto, model__min_samples_leaf=1, model__min_samples_split=2, model__n_estimators=100, preprocessing__num__imputer__strategy=mean; total time=   0.1s\n",
      "[CV] END model__max_depth=None, model__max_features=auto, model__min_samples_leaf=1, model__min_samples_split=2, model__n_estimators=100, preprocessing__num__imputer__strategy=median; total time=   0.1s\n",
      "[CV] END model__max_depth=None, model__max_features=auto, model__min_samples_leaf=1, model__min_samples_split=2, model__n_estimators=100, preprocessing__num__imputer__strategy=median; total time=   0.1s\n",
      "[CV] END model__max_depth=None, model__max_features=auto, model__min_samples_leaf=1, model__min_samples_split=2, model__n_estimators=100, preprocessing__num__imputer__strategy=median; total time=   0.1s\n",
      "[CV] END model__max_depth=None, model__max_features=auto, model__min_samples_leaf=1, model__min_samples_split=2, model__n_estimators=100, preprocessing__num__imputer__strategy=median; total time=   0.1s\n",
      "[CV] END model__max_depth=None, model__max_features=auto, model__min_samples_leaf=1, model__min_samples_split=2, model__n_estimators=100, preprocessing__num__imputer__strategy=median; total time=   0.1s\n",
      "[CV] END model__max_depth=None, model__max_features=auto, model__min_samples_leaf=1, model__min_samples_split=2, model__n_estimators=200, preprocessing__num__imputer__strategy=mean; total time=   0.3s\n",
      "[CV] END model__max_depth=None, model__max_features=auto, model__min_samples_leaf=1, model__min_samples_split=2, model__n_estimators=200, preprocessing__num__imputer__strategy=mean; total time=   0.3s\n",
      "[CV] END model__max_depth=None, model__max_features=auto, model__min_samples_leaf=1, model__min_samples_split=2, model__n_estimators=200, preprocessing__num__imputer__strategy=mean; total time=   0.3s\n",
      "[CV] END model__max_depth=None, model__max_features=auto, model__min_samples_leaf=1, model__min_samples_split=2, model__n_estimators=200, preprocessing__num__imputer__strategy=mean; total time=   0.3s\n",
      "[CV] END model__max_depth=None, model__max_features=auto, model__min_samples_leaf=1, model__min_samples_split=2, model__n_estimators=200, preprocessing__num__imputer__strategy=mean; total time=   0.3s\n",
      "[CV] END model__max_depth=None, model__max_features=auto, model__min_samples_leaf=1, model__min_samples_split=2, model__n_estimators=200, preprocessing__num__imputer__strategy=median; total time=   0.3s\n",
      "[CV] END model__max_depth=None, model__max_features=auto, model__min_samples_leaf=1, model__min_samples_split=2, model__n_estimators=200, preprocessing__num__imputer__strategy=median; total time=   0.3s\n",
      "[CV] END model__max_depth=None, model__max_features=auto, model__min_samples_leaf=1, model__min_samples_split=2, model__n_estimators=200, preprocessing__num__imputer__strategy=median; total time=   0.3s\n",
      "[CV] END model__max_depth=None, model__max_features=auto, model__min_samples_leaf=1, model__min_samples_split=2, model__n_estimators=200, preprocessing__num__imputer__strategy=median; total time=   0.3s\n",
      "[CV] END model__max_depth=None, model__max_features=auto, model__min_samples_leaf=1, model__min_samples_split=2, model__n_estimators=200, preprocessing__num__imputer__strategy=median; total time=   0.3s\n",
      "[CV] END model__max_depth=None, model__max_features=auto, model__min_samples_leaf=1, model__min_samples_split=2, model__n_estimators=1000, preprocessing__num__imputer__strategy=mean; total time=   1.3s\n",
      "[CV] END model__max_depth=None, model__max_features=auto, model__min_samples_leaf=1, model__min_samples_split=2, model__n_estimators=1000, preprocessing__num__imputer__strategy=mean; total time=   1.3s\n",
      "[CV] END model__max_depth=None, model__max_features=auto, model__min_samples_leaf=1, model__min_samples_split=2, model__n_estimators=1000, preprocessing__num__imputer__strategy=mean; total time=   1.3s\n",
      "[CV] END model__max_depth=None, model__max_features=auto, model__min_samples_leaf=1, model__min_samples_split=2, model__n_estimators=1000, preprocessing__num__imputer__strategy=mean; total time=   1.3s\n",
      "[CV] END model__max_depth=None, model__max_features=auto, model__min_samples_leaf=1, model__min_samples_split=2, model__n_estimators=1000, preprocessing__num__imputer__strategy=mean; total time=   1.3s\n",
      "[CV] END model__max_depth=None, model__max_features=auto, model__min_samples_leaf=1, model__min_samples_split=2, model__n_estimators=1000, preprocessing__num__imputer__strategy=median; total time=   1.3s\n",
      "[CV] END model__max_depth=None, model__max_features=auto, model__min_samples_leaf=1, model__min_samples_split=2, model__n_estimators=1000, preprocessing__num__imputer__strategy=median; total time=   1.3s\n",
      "[CV] END model__max_depth=None, model__max_features=auto, model__min_samples_leaf=1, model__min_samples_split=2, model__n_estimators=1000, preprocessing__num__imputer__strategy=median; total time=   1.3s\n",
      "[CV] END model__max_depth=None, model__max_features=auto, model__min_samples_leaf=1, model__min_samples_split=2, model__n_estimators=1000, preprocessing__num__imputer__strategy=median; total time=   1.3s\n",
      "[CV] END model__max_depth=None, model__max_features=auto, model__min_samples_leaf=1, model__min_samples_split=2, model__n_estimators=1000, preprocessing__num__imputer__strategy=median; total time=   1.3s\n",
      "[CV] END model__max_depth=None, model__max_features=auto, model__min_samples_leaf=1, model__min_samples_split=4, model__n_estimators=100, preprocessing__num__imputer__strategy=mean; total time=   0.1s\n",
      "[CV] END model__max_depth=None, model__max_features=auto, model__min_samples_leaf=1, model__min_samples_split=4, model__n_estimators=100, preprocessing__num__imputer__strategy=mean; total time=   0.1s\n",
      "[CV] END model__max_depth=None, model__max_features=auto, model__min_samples_leaf=1, model__min_samples_split=4, model__n_estimators=100, preprocessing__num__imputer__strategy=mean; total time=   0.1s\n",
      "[CV] END model__max_depth=None, model__max_features=auto, model__min_samples_leaf=1, model__min_samples_split=4, model__n_estimators=100, preprocessing__num__imputer__strategy=mean; total time=   0.1s\n",
      "[CV] END model__max_depth=None, model__max_features=auto, model__min_samples_leaf=1, model__min_samples_split=4, model__n_estimators=100, preprocessing__num__imputer__strategy=mean; total time=   0.1s\n",
      "[CV] END model__max_depth=None, model__max_features=auto, model__min_samples_leaf=1, model__min_samples_split=4, model__n_estimators=100, preprocessing__num__imputer__strategy=median; total time=   0.1s\n",
      "[CV] END model__max_depth=None, model__max_features=auto, model__min_samples_leaf=1, model__min_samples_split=4, model__n_estimators=100, preprocessing__num__imputer__strategy=median; total time=   0.1s\n",
      "[CV] END model__max_depth=None, model__max_features=auto, model__min_samples_leaf=1, model__min_samples_split=4, model__n_estimators=100, preprocessing__num__imputer__strategy=median; total time=   0.1s\n",
      "[CV] END model__max_depth=None, model__max_features=auto, model__min_samples_leaf=1, model__min_samples_split=4, model__n_estimators=100, preprocessing__num__imputer__strategy=median; total time=   0.1s\n",
      "[CV] END model__max_depth=None, model__max_features=auto, model__min_samples_leaf=1, model__min_samples_split=4, model__n_estimators=100, preprocessing__num__imputer__strategy=median; total time=   0.1s\n",
      "[CV] END model__max_depth=None, model__max_features=auto, model__min_samples_leaf=1, model__min_samples_split=4, model__n_estimators=200, preprocessing__num__imputer__strategy=mean; total time=   0.2s\n"
     ]
    },
    {
     "name": "stdout",
     "output_type": "stream",
     "text": [
      "[CV] END model__max_depth=None, model__max_features=auto, model__min_samples_leaf=1, model__min_samples_split=4, model__n_estimators=200, preprocessing__num__imputer__strategy=mean; total time=   0.2s\n",
      "[CV] END model__max_depth=None, model__max_features=auto, model__min_samples_leaf=1, model__min_samples_split=4, model__n_estimators=200, preprocessing__num__imputer__strategy=mean; total time=   0.2s\n",
      "[CV] END model__max_depth=None, model__max_features=auto, model__min_samples_leaf=1, model__min_samples_split=4, model__n_estimators=200, preprocessing__num__imputer__strategy=mean; total time=   0.2s\n",
      "[CV] END model__max_depth=None, model__max_features=auto, model__min_samples_leaf=1, model__min_samples_split=4, model__n_estimators=200, preprocessing__num__imputer__strategy=mean; total time=   0.2s\n",
      "[CV] END model__max_depth=None, model__max_features=auto, model__min_samples_leaf=1, model__min_samples_split=4, model__n_estimators=200, preprocessing__num__imputer__strategy=median; total time=   0.2s\n",
      "[CV] END model__max_depth=None, model__max_features=auto, model__min_samples_leaf=1, model__min_samples_split=4, model__n_estimators=200, preprocessing__num__imputer__strategy=median; total time=   0.2s\n",
      "[CV] END model__max_depth=None, model__max_features=auto, model__min_samples_leaf=1, model__min_samples_split=4, model__n_estimators=200, preprocessing__num__imputer__strategy=median; total time=   0.2s\n",
      "[CV] END model__max_depth=None, model__max_features=auto, model__min_samples_leaf=1, model__min_samples_split=4, model__n_estimators=200, preprocessing__num__imputer__strategy=median; total time=   0.2s\n",
      "[CV] END model__max_depth=None, model__max_features=auto, model__min_samples_leaf=1, model__min_samples_split=4, model__n_estimators=200, preprocessing__num__imputer__strategy=median; total time=   0.2s\n",
      "[CV] END model__max_depth=None, model__max_features=auto, model__min_samples_leaf=1, model__min_samples_split=4, model__n_estimators=1000, preprocessing__num__imputer__strategy=mean; total time=   1.1s\n",
      "[CV] END model__max_depth=None, model__max_features=auto, model__min_samples_leaf=1, model__min_samples_split=4, model__n_estimators=1000, preprocessing__num__imputer__strategy=mean; total time=   1.1s\n",
      "[CV] END model__max_depth=None, model__max_features=auto, model__min_samples_leaf=1, model__min_samples_split=4, model__n_estimators=1000, preprocessing__num__imputer__strategy=mean; total time=   1.2s\n",
      "[CV] END model__max_depth=None, model__max_features=auto, model__min_samples_leaf=1, model__min_samples_split=4, model__n_estimators=1000, preprocessing__num__imputer__strategy=mean; total time=   1.1s\n",
      "[CV] END model__max_depth=None, model__max_features=auto, model__min_samples_leaf=1, model__min_samples_split=4, model__n_estimators=1000, preprocessing__num__imputer__strategy=mean; total time=   1.2s\n",
      "[CV] END model__max_depth=None, model__max_features=auto, model__min_samples_leaf=1, model__min_samples_split=4, model__n_estimators=1000, preprocessing__num__imputer__strategy=median; total time=   1.1s\n",
      "[CV] END model__max_depth=None, model__max_features=auto, model__min_samples_leaf=1, model__min_samples_split=4, model__n_estimators=1000, preprocessing__num__imputer__strategy=median; total time=   1.1s\n",
      "[CV] END model__max_depth=None, model__max_features=auto, model__min_samples_leaf=1, model__min_samples_split=4, model__n_estimators=1000, preprocessing__num__imputer__strategy=median; total time=   1.1s\n",
      "[CV] END model__max_depth=None, model__max_features=auto, model__min_samples_leaf=1, model__min_samples_split=4, model__n_estimators=1000, preprocessing__num__imputer__strategy=median; total time=   1.1s\n",
      "[CV] END model__max_depth=None, model__max_features=auto, model__min_samples_leaf=1, model__min_samples_split=4, model__n_estimators=1000, preprocessing__num__imputer__strategy=median; total time=   1.5s\n",
      "[CV] END model__max_depth=None, model__max_features=auto, model__min_samples_leaf=7, model__min_samples_split=2, model__n_estimators=100, preprocessing__num__imputer__strategy=mean; total time=   0.1s\n",
      "[CV] END model__max_depth=None, model__max_features=auto, model__min_samples_leaf=7, model__min_samples_split=2, model__n_estimators=100, preprocessing__num__imputer__strategy=mean; total time=   0.1s\n",
      "[CV] END model__max_depth=None, model__max_features=auto, model__min_samples_leaf=7, model__min_samples_split=2, model__n_estimators=100, preprocessing__num__imputer__strategy=mean; total time=   0.1s\n",
      "[CV] END model__max_depth=None, model__max_features=auto, model__min_samples_leaf=7, model__min_samples_split=2, model__n_estimators=100, preprocessing__num__imputer__strategy=mean; total time=   0.1s\n",
      "[CV] END model__max_depth=None, model__max_features=auto, model__min_samples_leaf=7, model__min_samples_split=2, model__n_estimators=100, preprocessing__num__imputer__strategy=mean; total time=   0.1s\n",
      "[CV] END model__max_depth=None, model__max_features=auto, model__min_samples_leaf=7, model__min_samples_split=2, model__n_estimators=100, preprocessing__num__imputer__strategy=median; total time=   0.1s\n",
      "[CV] END model__max_depth=None, model__max_features=auto, model__min_samples_leaf=7, model__min_samples_split=2, model__n_estimators=100, preprocessing__num__imputer__strategy=median; total time=   0.1s\n",
      "[CV] END model__max_depth=None, model__max_features=auto, model__min_samples_leaf=7, model__min_samples_split=2, model__n_estimators=100, preprocessing__num__imputer__strategy=median; total time=   0.1s\n",
      "[CV] END model__max_depth=None, model__max_features=auto, model__min_samples_leaf=7, model__min_samples_split=2, model__n_estimators=100, preprocessing__num__imputer__strategy=median; total time=   0.1s\n",
      "[CV] END model__max_depth=None, model__max_features=auto, model__min_samples_leaf=7, model__min_samples_split=2, model__n_estimators=100, preprocessing__num__imputer__strategy=median; total time=   0.1s\n",
      "[CV] END model__max_depth=None, model__max_features=auto, model__min_samples_leaf=7, model__min_samples_split=2, model__n_estimators=200, preprocessing__num__imputer__strategy=mean; total time=   0.2s\n",
      "[CV] END model__max_depth=None, model__max_features=auto, model__min_samples_leaf=7, model__min_samples_split=2, model__n_estimators=200, preprocessing__num__imputer__strategy=mean; total time=   0.2s\n",
      "[CV] END model__max_depth=None, model__max_features=auto, model__min_samples_leaf=7, model__min_samples_split=2, model__n_estimators=200, preprocessing__num__imputer__strategy=mean; total time=   0.2s\n",
      "[CV] END model__max_depth=None, model__max_features=auto, model__min_samples_leaf=7, model__min_samples_split=2, model__n_estimators=200, preprocessing__num__imputer__strategy=mean; total time=   0.2s\n",
      "[CV] END model__max_depth=None, model__max_features=auto, model__min_samples_leaf=7, model__min_samples_split=2, model__n_estimators=200, preprocessing__num__imputer__strategy=mean; total time=   0.2s\n",
      "[CV] END model__max_depth=None, model__max_features=auto, model__min_samples_leaf=7, model__min_samples_split=2, model__n_estimators=200, preprocessing__num__imputer__strategy=median; total time=   0.2s\n",
      "[CV] END model__max_depth=None, model__max_features=auto, model__min_samples_leaf=7, model__min_samples_split=2, model__n_estimators=200, preprocessing__num__imputer__strategy=median; total time=   0.2s\n",
      "[CV] END model__max_depth=None, model__max_features=auto, model__min_samples_leaf=7, model__min_samples_split=2, model__n_estimators=200, preprocessing__num__imputer__strategy=median; total time=   0.2s\n",
      "[CV] END model__max_depth=None, model__max_features=auto, model__min_samples_leaf=7, model__min_samples_split=2, model__n_estimators=200, preprocessing__num__imputer__strategy=median; total time=   0.2s\n",
      "[CV] END model__max_depth=None, model__max_features=auto, model__min_samples_leaf=7, model__min_samples_split=2, model__n_estimators=200, preprocessing__num__imputer__strategy=median; total time=   0.2s\n",
      "[CV] END model__max_depth=None, model__max_features=auto, model__min_samples_leaf=7, model__min_samples_split=2, model__n_estimators=1000, preprocessing__num__imputer__strategy=mean; total time=   0.9s\n",
      "[CV] END model__max_depth=None, model__max_features=auto, model__min_samples_leaf=7, model__min_samples_split=2, model__n_estimators=1000, preprocessing__num__imputer__strategy=mean; total time=   0.9s\n"
     ]
    },
    {
     "name": "stdout",
     "output_type": "stream",
     "text": [
      "[CV] END model__max_depth=None, model__max_features=auto, model__min_samples_leaf=7, model__min_samples_split=2, model__n_estimators=1000, preprocessing__num__imputer__strategy=mean; total time=   0.9s\n",
      "[CV] END model__max_depth=None, model__max_features=auto, model__min_samples_leaf=7, model__min_samples_split=2, model__n_estimators=1000, preprocessing__num__imputer__strategy=mean; total time=   0.9s\n",
      "[CV] END model__max_depth=None, model__max_features=auto, model__min_samples_leaf=7, model__min_samples_split=2, model__n_estimators=1000, preprocessing__num__imputer__strategy=mean; total time=   0.9s\n",
      "[CV] END model__max_depth=None, model__max_features=auto, model__min_samples_leaf=7, model__min_samples_split=2, model__n_estimators=1000, preprocessing__num__imputer__strategy=median; total time=   0.9s\n",
      "[CV] END model__max_depth=None, model__max_features=auto, model__min_samples_leaf=7, model__min_samples_split=2, model__n_estimators=1000, preprocessing__num__imputer__strategy=median; total time=   0.9s\n",
      "[CV] END model__max_depth=None, model__max_features=auto, model__min_samples_leaf=7, model__min_samples_split=2, model__n_estimators=1000, preprocessing__num__imputer__strategy=median; total time=   0.9s\n",
      "[CV] END model__max_depth=None, model__max_features=auto, model__min_samples_leaf=7, model__min_samples_split=2, model__n_estimators=1000, preprocessing__num__imputer__strategy=median; total time=   0.9s\n",
      "[CV] END model__max_depth=None, model__max_features=auto, model__min_samples_leaf=7, model__min_samples_split=2, model__n_estimators=1000, preprocessing__num__imputer__strategy=median; total time=   0.9s\n",
      "[CV] END model__max_depth=None, model__max_features=auto, model__min_samples_leaf=7, model__min_samples_split=4, model__n_estimators=100, preprocessing__num__imputer__strategy=mean; total time=   0.1s\n",
      "[CV] END model__max_depth=None, model__max_features=auto, model__min_samples_leaf=7, model__min_samples_split=4, model__n_estimators=100, preprocessing__num__imputer__strategy=mean; total time=   0.1s\n",
      "[CV] END model__max_depth=None, model__max_features=auto, model__min_samples_leaf=7, model__min_samples_split=4, model__n_estimators=100, preprocessing__num__imputer__strategy=mean; total time=   0.1s\n",
      "[CV] END model__max_depth=None, model__max_features=auto, model__min_samples_leaf=7, model__min_samples_split=4, model__n_estimators=100, preprocessing__num__imputer__strategy=mean; total time=   0.1s\n",
      "[CV] END model__max_depth=None, model__max_features=auto, model__min_samples_leaf=7, model__min_samples_split=4, model__n_estimators=100, preprocessing__num__imputer__strategy=mean; total time=   0.1s\n",
      "[CV] END model__max_depth=None, model__max_features=auto, model__min_samples_leaf=7, model__min_samples_split=4, model__n_estimators=100, preprocessing__num__imputer__strategy=median; total time=   0.1s\n",
      "[CV] END model__max_depth=None, model__max_features=auto, model__min_samples_leaf=7, model__min_samples_split=4, model__n_estimators=100, preprocessing__num__imputer__strategy=median; total time=   0.1s\n",
      "[CV] END model__max_depth=None, model__max_features=auto, model__min_samples_leaf=7, model__min_samples_split=4, model__n_estimators=100, preprocessing__num__imputer__strategy=median; total time=   0.1s\n",
      "[CV] END model__max_depth=None, model__max_features=auto, model__min_samples_leaf=7, model__min_samples_split=4, model__n_estimators=100, preprocessing__num__imputer__strategy=median; total time=   0.1s\n",
      "[CV] END model__max_depth=None, model__max_features=auto, model__min_samples_leaf=7, model__min_samples_split=4, model__n_estimators=100, preprocessing__num__imputer__strategy=median; total time=   0.1s\n",
      "[CV] END model__max_depth=None, model__max_features=auto, model__min_samples_leaf=7, model__min_samples_split=4, model__n_estimators=200, preprocessing__num__imputer__strategy=mean; total time=   0.2s\n",
      "[CV] END model__max_depth=None, model__max_features=auto, model__min_samples_leaf=7, model__min_samples_split=4, model__n_estimators=200, preprocessing__num__imputer__strategy=mean; total time=   0.2s\n",
      "[CV] END model__max_depth=None, model__max_features=auto, model__min_samples_leaf=7, model__min_samples_split=4, model__n_estimators=200, preprocessing__num__imputer__strategy=mean; total time=   0.2s\n",
      "[CV] END model__max_depth=None, model__max_features=auto, model__min_samples_leaf=7, model__min_samples_split=4, model__n_estimators=200, preprocessing__num__imputer__strategy=mean; total time=   0.2s\n",
      "[CV] END model__max_depth=None, model__max_features=auto, model__min_samples_leaf=7, model__min_samples_split=4, model__n_estimators=200, preprocessing__num__imputer__strategy=mean; total time=   0.2s\n",
      "[CV] END model__max_depth=None, model__max_features=auto, model__min_samples_leaf=7, model__min_samples_split=4, model__n_estimators=200, preprocessing__num__imputer__strategy=median; total time=   0.2s\n",
      "[CV] END model__max_depth=None, model__max_features=auto, model__min_samples_leaf=7, model__min_samples_split=4, model__n_estimators=200, preprocessing__num__imputer__strategy=median; total time=   0.2s\n",
      "[CV] END model__max_depth=None, model__max_features=auto, model__min_samples_leaf=7, model__min_samples_split=4, model__n_estimators=200, preprocessing__num__imputer__strategy=median; total time=   0.2s\n",
      "[CV] END model__max_depth=None, model__max_features=auto, model__min_samples_leaf=7, model__min_samples_split=4, model__n_estimators=200, preprocessing__num__imputer__strategy=median; total time=   0.2s\n",
      "[CV] END model__max_depth=None, model__max_features=auto, model__min_samples_leaf=7, model__min_samples_split=4, model__n_estimators=200, preprocessing__num__imputer__strategy=median; total time=   0.2s\n",
      "[CV] END model__max_depth=None, model__max_features=auto, model__min_samples_leaf=7, model__min_samples_split=4, model__n_estimators=1000, preprocessing__num__imputer__strategy=mean; total time=   0.9s\n",
      "[CV] END model__max_depth=None, model__max_features=auto, model__min_samples_leaf=7, model__min_samples_split=4, model__n_estimators=1000, preprocessing__num__imputer__strategy=mean; total time=   0.9s\n",
      "[CV] END model__max_depth=None, model__max_features=auto, model__min_samples_leaf=7, model__min_samples_split=4, model__n_estimators=1000, preprocessing__num__imputer__strategy=mean; total time=   0.9s\n",
      "[CV] END model__max_depth=None, model__max_features=auto, model__min_samples_leaf=7, model__min_samples_split=4, model__n_estimators=1000, preprocessing__num__imputer__strategy=mean; total time=   0.9s\n",
      "[CV] END model__max_depth=None, model__max_features=auto, model__min_samples_leaf=7, model__min_samples_split=4, model__n_estimators=1000, preprocessing__num__imputer__strategy=mean; total time=   0.9s\n",
      "[CV] END model__max_depth=None, model__max_features=auto, model__min_samples_leaf=7, model__min_samples_split=4, model__n_estimators=1000, preprocessing__num__imputer__strategy=median; total time=   0.9s\n",
      "[CV] END model__max_depth=None, model__max_features=auto, model__min_samples_leaf=7, model__min_samples_split=4, model__n_estimators=1000, preprocessing__num__imputer__strategy=median; total time=   0.9s\n",
      "[CV] END model__max_depth=None, model__max_features=auto, model__min_samples_leaf=7, model__min_samples_split=4, model__n_estimators=1000, preprocessing__num__imputer__strategy=median; total time=   0.9s\n",
      "[CV] END model__max_depth=None, model__max_features=auto, model__min_samples_leaf=7, model__min_samples_split=4, model__n_estimators=1000, preprocessing__num__imputer__strategy=median; total time=   0.9s\n",
      "[CV] END model__max_depth=None, model__max_features=auto, model__min_samples_leaf=7, model__min_samples_split=4, model__n_estimators=1000, preprocessing__num__imputer__strategy=median; total time=   0.9s\n",
      "[CV] END model__max_depth=None, model__max_features=auto, model__min_samples_leaf=10, model__min_samples_split=2, model__n_estimators=100, preprocessing__num__imputer__strategy=mean; total time=   0.1s\n",
      "[CV] END model__max_depth=None, model__max_features=auto, model__min_samples_leaf=10, model__min_samples_split=2, model__n_estimators=100, preprocessing__num__imputer__strategy=mean; total time=   0.1s\n",
      "[CV] END model__max_depth=None, model__max_features=auto, model__min_samples_leaf=10, model__min_samples_split=2, model__n_estimators=100, preprocessing__num__imputer__strategy=mean; total time=   0.1s\n",
      "[CV] END model__max_depth=None, model__max_features=auto, model__min_samples_leaf=10, model__min_samples_split=2, model__n_estimators=100, preprocessing__num__imputer__strategy=mean; total time=   0.1s\n",
      "[CV] END model__max_depth=None, model__max_features=auto, model__min_samples_leaf=10, model__min_samples_split=2, model__n_estimators=100, preprocessing__num__imputer__strategy=mean; total time=   0.1s\n"
     ]
    },
    {
     "name": "stdout",
     "output_type": "stream",
     "text": [
      "[CV] END model__max_depth=None, model__max_features=auto, model__min_samples_leaf=10, model__min_samples_split=2, model__n_estimators=100, preprocessing__num__imputer__strategy=median; total time=   0.1s\n",
      "[CV] END model__max_depth=None, model__max_features=auto, model__min_samples_leaf=10, model__min_samples_split=2, model__n_estimators=100, preprocessing__num__imputer__strategy=median; total time=   0.1s\n",
      "[CV] END model__max_depth=None, model__max_features=auto, model__min_samples_leaf=10, model__min_samples_split=2, model__n_estimators=100, preprocessing__num__imputer__strategy=median; total time=   0.1s\n",
      "[CV] END model__max_depth=None, model__max_features=auto, model__min_samples_leaf=10, model__min_samples_split=2, model__n_estimators=100, preprocessing__num__imputer__strategy=median; total time=   0.1s\n",
      "[CV] END model__max_depth=None, model__max_features=auto, model__min_samples_leaf=10, model__min_samples_split=2, model__n_estimators=100, preprocessing__num__imputer__strategy=median; total time=   0.1s\n",
      "[CV] END model__max_depth=None, model__max_features=auto, model__min_samples_leaf=10, model__min_samples_split=2, model__n_estimators=200, preprocessing__num__imputer__strategy=mean; total time=   0.2s\n",
      "[CV] END model__max_depth=None, model__max_features=auto, model__min_samples_leaf=10, model__min_samples_split=2, model__n_estimators=200, preprocessing__num__imputer__strategy=mean; total time=   0.2s\n",
      "[CV] END model__max_depth=None, model__max_features=auto, model__min_samples_leaf=10, model__min_samples_split=2, model__n_estimators=200, preprocessing__num__imputer__strategy=mean; total time=   0.2s\n",
      "[CV] END model__max_depth=None, model__max_features=auto, model__min_samples_leaf=10, model__min_samples_split=2, model__n_estimators=200, preprocessing__num__imputer__strategy=mean; total time=   0.2s\n",
      "[CV] END model__max_depth=None, model__max_features=auto, model__min_samples_leaf=10, model__min_samples_split=2, model__n_estimators=200, preprocessing__num__imputer__strategy=mean; total time=   0.2s\n",
      "[CV] END model__max_depth=None, model__max_features=auto, model__min_samples_leaf=10, model__min_samples_split=2, model__n_estimators=200, preprocessing__num__imputer__strategy=median; total time=   0.2s\n",
      "[CV] END model__max_depth=None, model__max_features=auto, model__min_samples_leaf=10, model__min_samples_split=2, model__n_estimators=200, preprocessing__num__imputer__strategy=median; total time=   0.2s\n",
      "[CV] END model__max_depth=None, model__max_features=auto, model__min_samples_leaf=10, model__min_samples_split=2, model__n_estimators=200, preprocessing__num__imputer__strategy=median; total time=   0.2s\n",
      "[CV] END model__max_depth=None, model__max_features=auto, model__min_samples_leaf=10, model__min_samples_split=2, model__n_estimators=200, preprocessing__num__imputer__strategy=median; total time=   0.2s\n",
      "[CV] END model__max_depth=None, model__max_features=auto, model__min_samples_leaf=10, model__min_samples_split=2, model__n_estimators=200, preprocessing__num__imputer__strategy=median; total time=   0.2s\n",
      "[CV] END model__max_depth=None, model__max_features=auto, model__min_samples_leaf=10, model__min_samples_split=2, model__n_estimators=1000, preprocessing__num__imputer__strategy=mean; total time=   0.8s\n",
      "[CV] END model__max_depth=None, model__max_features=auto, model__min_samples_leaf=10, model__min_samples_split=2, model__n_estimators=1000, preprocessing__num__imputer__strategy=mean; total time=   0.8s\n",
      "[CV] END model__max_depth=None, model__max_features=auto, model__min_samples_leaf=10, model__min_samples_split=2, model__n_estimators=1000, preprocessing__num__imputer__strategy=mean; total time=   0.8s\n",
      "[CV] END model__max_depth=None, model__max_features=auto, model__min_samples_leaf=10, model__min_samples_split=2, model__n_estimators=1000, preprocessing__num__imputer__strategy=mean; total time=   0.8s\n",
      "[CV] END model__max_depth=None, model__max_features=auto, model__min_samples_leaf=10, model__min_samples_split=2, model__n_estimators=1000, preprocessing__num__imputer__strategy=mean; total time=   0.8s\n",
      "[CV] END model__max_depth=None, model__max_features=auto, model__min_samples_leaf=10, model__min_samples_split=2, model__n_estimators=1000, preprocessing__num__imputer__strategy=median; total time=   0.8s\n",
      "[CV] END model__max_depth=None, model__max_features=auto, model__min_samples_leaf=10, model__min_samples_split=2, model__n_estimators=1000, preprocessing__num__imputer__strategy=median; total time=   0.8s\n",
      "[CV] END model__max_depth=None, model__max_features=auto, model__min_samples_leaf=10, model__min_samples_split=2, model__n_estimators=1000, preprocessing__num__imputer__strategy=median; total time=   0.8s\n",
      "[CV] END model__max_depth=None, model__max_features=auto, model__min_samples_leaf=10, model__min_samples_split=2, model__n_estimators=1000, preprocessing__num__imputer__strategy=median; total time=   0.8s\n",
      "[CV] END model__max_depth=None, model__max_features=auto, model__min_samples_leaf=10, model__min_samples_split=2, model__n_estimators=1000, preprocessing__num__imputer__strategy=median; total time=   0.8s\n",
      "[CV] END model__max_depth=None, model__max_features=auto, model__min_samples_leaf=10, model__min_samples_split=4, model__n_estimators=100, preprocessing__num__imputer__strategy=mean; total time=   0.1s\n",
      "[CV] END model__max_depth=None, model__max_features=auto, model__min_samples_leaf=10, model__min_samples_split=4, model__n_estimators=100, preprocessing__num__imputer__strategy=mean; total time=   0.1s\n",
      "[CV] END model__max_depth=None, model__max_features=auto, model__min_samples_leaf=10, model__min_samples_split=4, model__n_estimators=100, preprocessing__num__imputer__strategy=mean; total time=   0.1s\n",
      "[CV] END model__max_depth=None, model__max_features=auto, model__min_samples_leaf=10, model__min_samples_split=4, model__n_estimators=100, preprocessing__num__imputer__strategy=mean; total time=   0.1s\n",
      "[CV] END model__max_depth=None, model__max_features=auto, model__min_samples_leaf=10, model__min_samples_split=4, model__n_estimators=100, preprocessing__num__imputer__strategy=mean; total time=   0.1s\n",
      "[CV] END model__max_depth=None, model__max_features=auto, model__min_samples_leaf=10, model__min_samples_split=4, model__n_estimators=100, preprocessing__num__imputer__strategy=median; total time=   0.1s\n",
      "[CV] END model__max_depth=None, model__max_features=auto, model__min_samples_leaf=10, model__min_samples_split=4, model__n_estimators=100, preprocessing__num__imputer__strategy=median; total time=   0.1s\n",
      "[CV] END model__max_depth=None, model__max_features=auto, model__min_samples_leaf=10, model__min_samples_split=4, model__n_estimators=100, preprocessing__num__imputer__strategy=median; total time=   0.1s\n",
      "[CV] END model__max_depth=None, model__max_features=auto, model__min_samples_leaf=10, model__min_samples_split=4, model__n_estimators=100, preprocessing__num__imputer__strategy=median; total time=   0.1s\n",
      "[CV] END model__max_depth=None, model__max_features=auto, model__min_samples_leaf=10, model__min_samples_split=4, model__n_estimators=100, preprocessing__num__imputer__strategy=median; total time=   0.1s\n",
      "[CV] END model__max_depth=None, model__max_features=auto, model__min_samples_leaf=10, model__min_samples_split=4, model__n_estimators=200, preprocessing__num__imputer__strategy=mean; total time=   0.2s\n",
      "[CV] END model__max_depth=None, model__max_features=auto, model__min_samples_leaf=10, model__min_samples_split=4, model__n_estimators=200, preprocessing__num__imputer__strategy=mean; total time=   0.2s\n",
      "[CV] END model__max_depth=None, model__max_features=auto, model__min_samples_leaf=10, model__min_samples_split=4, model__n_estimators=200, preprocessing__num__imputer__strategy=mean; total time=   0.2s\n",
      "[CV] END model__max_depth=None, model__max_features=auto, model__min_samples_leaf=10, model__min_samples_split=4, model__n_estimators=200, preprocessing__num__imputer__strategy=mean; total time=   0.2s\n",
      "[CV] END model__max_depth=None, model__max_features=auto, model__min_samples_leaf=10, model__min_samples_split=4, model__n_estimators=200, preprocessing__num__imputer__strategy=mean; total time=   0.2s\n",
      "[CV] END model__max_depth=None, model__max_features=auto, model__min_samples_leaf=10, model__min_samples_split=4, model__n_estimators=200, preprocessing__num__imputer__strategy=median; total time=   0.2s\n"
     ]
    },
    {
     "name": "stdout",
     "output_type": "stream",
     "text": [
      "[CV] END model__max_depth=None, model__max_features=auto, model__min_samples_leaf=10, model__min_samples_split=4, model__n_estimators=200, preprocessing__num__imputer__strategy=median; total time=   0.2s\n",
      "[CV] END model__max_depth=None, model__max_features=auto, model__min_samples_leaf=10, model__min_samples_split=4, model__n_estimators=200, preprocessing__num__imputer__strategy=median; total time=   0.2s\n",
      "[CV] END model__max_depth=None, model__max_features=auto, model__min_samples_leaf=10, model__min_samples_split=4, model__n_estimators=200, preprocessing__num__imputer__strategy=median; total time=   0.2s\n",
      "[CV] END model__max_depth=None, model__max_features=auto, model__min_samples_leaf=10, model__min_samples_split=4, model__n_estimators=200, preprocessing__num__imputer__strategy=median; total time=   0.2s\n",
      "[CV] END model__max_depth=None, model__max_features=auto, model__min_samples_leaf=10, model__min_samples_split=4, model__n_estimators=1000, preprocessing__num__imputer__strategy=mean; total time=   0.8s\n",
      "[CV] END model__max_depth=None, model__max_features=auto, model__min_samples_leaf=10, model__min_samples_split=4, model__n_estimators=1000, preprocessing__num__imputer__strategy=mean; total time=   0.8s\n",
      "[CV] END model__max_depth=None, model__max_features=auto, model__min_samples_leaf=10, model__min_samples_split=4, model__n_estimators=1000, preprocessing__num__imputer__strategy=mean; total time=   0.8s\n",
      "[CV] END model__max_depth=None, model__max_features=auto, model__min_samples_leaf=10, model__min_samples_split=4, model__n_estimators=1000, preprocessing__num__imputer__strategy=mean; total time=   0.8s\n",
      "[CV] END model__max_depth=None, model__max_features=auto, model__min_samples_leaf=10, model__min_samples_split=4, model__n_estimators=1000, preprocessing__num__imputer__strategy=mean; total time=   0.8s\n",
      "[CV] END model__max_depth=None, model__max_features=auto, model__min_samples_leaf=10, model__min_samples_split=4, model__n_estimators=1000, preprocessing__num__imputer__strategy=median; total time=   0.8s\n",
      "[CV] END model__max_depth=None, model__max_features=auto, model__min_samples_leaf=10, model__min_samples_split=4, model__n_estimators=1000, preprocessing__num__imputer__strategy=median; total time=   0.8s\n",
      "[CV] END model__max_depth=None, model__max_features=auto, model__min_samples_leaf=10, model__min_samples_split=4, model__n_estimators=1000, preprocessing__num__imputer__strategy=median; total time=   0.8s\n",
      "[CV] END model__max_depth=None, model__max_features=auto, model__min_samples_leaf=10, model__min_samples_split=4, model__n_estimators=1000, preprocessing__num__imputer__strategy=median; total time=   0.8s\n",
      "[CV] END model__max_depth=None, model__max_features=auto, model__min_samples_leaf=10, model__min_samples_split=4, model__n_estimators=1000, preprocessing__num__imputer__strategy=median; total time=   0.8s\n",
      "[CV] END model__max_depth=6, model__max_features=auto, model__min_samples_leaf=1, model__min_samples_split=2, model__n_estimators=100, preprocessing__num__imputer__strategy=mean; total time=   0.1s\n",
      "[CV] END model__max_depth=6, model__max_features=auto, model__min_samples_leaf=1, model__min_samples_split=2, model__n_estimators=100, preprocessing__num__imputer__strategy=mean; total time=   0.1s\n",
      "[CV] END model__max_depth=6, model__max_features=auto, model__min_samples_leaf=1, model__min_samples_split=2, model__n_estimators=100, preprocessing__num__imputer__strategy=mean; total time=   0.1s\n",
      "[CV] END model__max_depth=6, model__max_features=auto, model__min_samples_leaf=1, model__min_samples_split=2, model__n_estimators=100, preprocessing__num__imputer__strategy=mean; total time=   0.1s\n",
      "[CV] END model__max_depth=6, model__max_features=auto, model__min_samples_leaf=1, model__min_samples_split=2, model__n_estimators=100, preprocessing__num__imputer__strategy=mean; total time=   0.1s\n",
      "[CV] END model__max_depth=6, model__max_features=auto, model__min_samples_leaf=1, model__min_samples_split=2, model__n_estimators=100, preprocessing__num__imputer__strategy=median; total time=   0.1s\n",
      "[CV] END model__max_depth=6, model__max_features=auto, model__min_samples_leaf=1, model__min_samples_split=2, model__n_estimators=100, preprocessing__num__imputer__strategy=median; total time=   0.1s\n",
      "[CV] END model__max_depth=6, model__max_features=auto, model__min_samples_leaf=1, model__min_samples_split=2, model__n_estimators=100, preprocessing__num__imputer__strategy=median; total time=   0.1s\n",
      "[CV] END model__max_depth=6, model__max_features=auto, model__min_samples_leaf=1, model__min_samples_split=2, model__n_estimators=100, preprocessing__num__imputer__strategy=median; total time=   0.1s\n",
      "[CV] END model__max_depth=6, model__max_features=auto, model__min_samples_leaf=1, model__min_samples_split=2, model__n_estimators=100, preprocessing__num__imputer__strategy=median; total time=   0.1s\n",
      "[CV] END model__max_depth=6, model__max_features=auto, model__min_samples_leaf=1, model__min_samples_split=2, model__n_estimators=200, preprocessing__num__imputer__strategy=mean; total time=   0.2s\n",
      "[CV] END model__max_depth=6, model__max_features=auto, model__min_samples_leaf=1, model__min_samples_split=2, model__n_estimators=200, preprocessing__num__imputer__strategy=mean; total time=   0.2s\n",
      "[CV] END model__max_depth=6, model__max_features=auto, model__min_samples_leaf=1, model__min_samples_split=2, model__n_estimators=200, preprocessing__num__imputer__strategy=mean; total time=   0.2s\n",
      "[CV] END model__max_depth=6, model__max_features=auto, model__min_samples_leaf=1, model__min_samples_split=2, model__n_estimators=200, preprocessing__num__imputer__strategy=mean; total time=   0.2s\n",
      "[CV] END model__max_depth=6, model__max_features=auto, model__min_samples_leaf=1, model__min_samples_split=2, model__n_estimators=200, preprocessing__num__imputer__strategy=mean; total time=   0.2s\n",
      "[CV] END model__max_depth=6, model__max_features=auto, model__min_samples_leaf=1, model__min_samples_split=2, model__n_estimators=200, preprocessing__num__imputer__strategy=median; total time=   0.2s\n",
      "[CV] END model__max_depth=6, model__max_features=auto, model__min_samples_leaf=1, model__min_samples_split=2, model__n_estimators=200, preprocessing__num__imputer__strategy=median; total time=   0.2s\n",
      "[CV] END model__max_depth=6, model__max_features=auto, model__min_samples_leaf=1, model__min_samples_split=2, model__n_estimators=200, preprocessing__num__imputer__strategy=median; total time=   0.2s\n",
      "[CV] END model__max_depth=6, model__max_features=auto, model__min_samples_leaf=1, model__min_samples_split=2, model__n_estimators=200, preprocessing__num__imputer__strategy=median; total time=   0.2s\n",
      "[CV] END model__max_depth=6, model__max_features=auto, model__min_samples_leaf=1, model__min_samples_split=2, model__n_estimators=200, preprocessing__num__imputer__strategy=median; total time=   0.2s\n",
      "[CV] END model__max_depth=6, model__max_features=auto, model__min_samples_leaf=1, model__min_samples_split=2, model__n_estimators=1000, preprocessing__num__imputer__strategy=mean; total time=   0.9s\n",
      "[CV] END model__max_depth=6, model__max_features=auto, model__min_samples_leaf=1, model__min_samples_split=2, model__n_estimators=1000, preprocessing__num__imputer__strategy=mean; total time=   0.9s\n",
      "[CV] END model__max_depth=6, model__max_features=auto, model__min_samples_leaf=1, model__min_samples_split=2, model__n_estimators=1000, preprocessing__num__imputer__strategy=mean; total time=   0.9s\n",
      "[CV] END model__max_depth=6, model__max_features=auto, model__min_samples_leaf=1, model__min_samples_split=2, model__n_estimators=1000, preprocessing__num__imputer__strategy=mean; total time=   0.9s\n",
      "[CV] END model__max_depth=6, model__max_features=auto, model__min_samples_leaf=1, model__min_samples_split=2, model__n_estimators=1000, preprocessing__num__imputer__strategy=mean; total time=   0.9s\n",
      "[CV] END model__max_depth=6, model__max_features=auto, model__min_samples_leaf=1, model__min_samples_split=2, model__n_estimators=1000, preprocessing__num__imputer__strategy=median; total time=   0.9s\n",
      "[CV] END model__max_depth=6, model__max_features=auto, model__min_samples_leaf=1, model__min_samples_split=2, model__n_estimators=1000, preprocessing__num__imputer__strategy=median; total time=   0.9s\n"
     ]
    },
    {
     "name": "stdout",
     "output_type": "stream",
     "text": [
      "[CV] END model__max_depth=6, model__max_features=auto, model__min_samples_leaf=1, model__min_samples_split=2, model__n_estimators=1000, preprocessing__num__imputer__strategy=median; total time=   0.9s\n",
      "[CV] END model__max_depth=6, model__max_features=auto, model__min_samples_leaf=1, model__min_samples_split=2, model__n_estimators=1000, preprocessing__num__imputer__strategy=median; total time=   0.9s\n",
      "[CV] END model__max_depth=6, model__max_features=auto, model__min_samples_leaf=1, model__min_samples_split=2, model__n_estimators=1000, preprocessing__num__imputer__strategy=median; total time=   0.9s\n",
      "[CV] END model__max_depth=6, model__max_features=auto, model__min_samples_leaf=1, model__min_samples_split=4, model__n_estimators=100, preprocessing__num__imputer__strategy=mean; total time=   0.1s\n",
      "[CV] END model__max_depth=6, model__max_features=auto, model__min_samples_leaf=1, model__min_samples_split=4, model__n_estimators=100, preprocessing__num__imputer__strategy=mean; total time=   0.1s\n",
      "[CV] END model__max_depth=6, model__max_features=auto, model__min_samples_leaf=1, model__min_samples_split=4, model__n_estimators=100, preprocessing__num__imputer__strategy=mean; total time=   0.1s\n",
      "[CV] END model__max_depth=6, model__max_features=auto, model__min_samples_leaf=1, model__min_samples_split=4, model__n_estimators=100, preprocessing__num__imputer__strategy=mean; total time=   0.1s\n",
      "[CV] END model__max_depth=6, model__max_features=auto, model__min_samples_leaf=1, model__min_samples_split=4, model__n_estimators=100, preprocessing__num__imputer__strategy=mean; total time=   0.1s\n",
      "[CV] END model__max_depth=6, model__max_features=auto, model__min_samples_leaf=1, model__min_samples_split=4, model__n_estimators=100, preprocessing__num__imputer__strategy=median; total time=   0.1s\n",
      "[CV] END model__max_depth=6, model__max_features=auto, model__min_samples_leaf=1, model__min_samples_split=4, model__n_estimators=100, preprocessing__num__imputer__strategy=median; total time=   0.1s\n",
      "[CV] END model__max_depth=6, model__max_features=auto, model__min_samples_leaf=1, model__min_samples_split=4, model__n_estimators=100, preprocessing__num__imputer__strategy=median; total time=   0.1s\n",
      "[CV] END model__max_depth=6, model__max_features=auto, model__min_samples_leaf=1, model__min_samples_split=4, model__n_estimators=100, preprocessing__num__imputer__strategy=median; total time=   0.1s\n",
      "[CV] END model__max_depth=6, model__max_features=auto, model__min_samples_leaf=1, model__min_samples_split=4, model__n_estimators=100, preprocessing__num__imputer__strategy=median; total time=   0.1s\n",
      "[CV] END model__max_depth=6, model__max_features=auto, model__min_samples_leaf=1, model__min_samples_split=4, model__n_estimators=200, preprocessing__num__imputer__strategy=mean; total time=   0.2s\n",
      "[CV] END model__max_depth=6, model__max_features=auto, model__min_samples_leaf=1, model__min_samples_split=4, model__n_estimators=200, preprocessing__num__imputer__strategy=mean; total time=   0.2s\n",
      "[CV] END model__max_depth=6, model__max_features=auto, model__min_samples_leaf=1, model__min_samples_split=4, model__n_estimators=200, preprocessing__num__imputer__strategy=mean; total time=   0.2s\n",
      "[CV] END model__max_depth=6, model__max_features=auto, model__min_samples_leaf=1, model__min_samples_split=4, model__n_estimators=200, preprocessing__num__imputer__strategy=mean; total time=   0.2s\n",
      "[CV] END model__max_depth=6, model__max_features=auto, model__min_samples_leaf=1, model__min_samples_split=4, model__n_estimators=200, preprocessing__num__imputer__strategy=mean; total time=   0.2s\n",
      "[CV] END model__max_depth=6, model__max_features=auto, model__min_samples_leaf=1, model__min_samples_split=4, model__n_estimators=200, preprocessing__num__imputer__strategy=median; total time=   0.2s\n",
      "[CV] END model__max_depth=6, model__max_features=auto, model__min_samples_leaf=1, model__min_samples_split=4, model__n_estimators=200, preprocessing__num__imputer__strategy=median; total time=   0.2s\n",
      "[CV] END model__max_depth=6, model__max_features=auto, model__min_samples_leaf=1, model__min_samples_split=4, model__n_estimators=200, preprocessing__num__imputer__strategy=median; total time=   0.2s\n",
      "[CV] END model__max_depth=6, model__max_features=auto, model__min_samples_leaf=1, model__min_samples_split=4, model__n_estimators=200, preprocessing__num__imputer__strategy=median; total time=   0.2s\n",
      "[CV] END model__max_depth=6, model__max_features=auto, model__min_samples_leaf=1, model__min_samples_split=4, model__n_estimators=200, preprocessing__num__imputer__strategy=median; total time=   0.2s\n",
      "[CV] END model__max_depth=6, model__max_features=auto, model__min_samples_leaf=1, model__min_samples_split=4, model__n_estimators=1000, preprocessing__num__imputer__strategy=mean; total time=   0.8s\n",
      "[CV] END model__max_depth=6, model__max_features=auto, model__min_samples_leaf=1, model__min_samples_split=4, model__n_estimators=1000, preprocessing__num__imputer__strategy=mean; total time=   0.9s\n",
      "[CV] END model__max_depth=6, model__max_features=auto, model__min_samples_leaf=1, model__min_samples_split=4, model__n_estimators=1000, preprocessing__num__imputer__strategy=mean; total time=   0.8s\n",
      "[CV] END model__max_depth=6, model__max_features=auto, model__min_samples_leaf=1, model__min_samples_split=4, model__n_estimators=1000, preprocessing__num__imputer__strategy=mean; total time=   0.9s\n",
      "[CV] END model__max_depth=6, model__max_features=auto, model__min_samples_leaf=1, model__min_samples_split=4, model__n_estimators=1000, preprocessing__num__imputer__strategy=mean; total time=   0.9s\n",
      "[CV] END model__max_depth=6, model__max_features=auto, model__min_samples_leaf=1, model__min_samples_split=4, model__n_estimators=1000, preprocessing__num__imputer__strategy=median; total time=   0.8s\n",
      "[CV] END model__max_depth=6, model__max_features=auto, model__min_samples_leaf=1, model__min_samples_split=4, model__n_estimators=1000, preprocessing__num__imputer__strategy=median; total time=   0.9s\n",
      "[CV] END model__max_depth=6, model__max_features=auto, model__min_samples_leaf=1, model__min_samples_split=4, model__n_estimators=1000, preprocessing__num__imputer__strategy=median; total time=   0.8s\n",
      "[CV] END model__max_depth=6, model__max_features=auto, model__min_samples_leaf=1, model__min_samples_split=4, model__n_estimators=1000, preprocessing__num__imputer__strategy=median; total time=   0.8s\n",
      "[CV] END model__max_depth=6, model__max_features=auto, model__min_samples_leaf=1, model__min_samples_split=4, model__n_estimators=1000, preprocessing__num__imputer__strategy=median; total time=   0.9s\n",
      "[CV] END model__max_depth=6, model__max_features=auto, model__min_samples_leaf=7, model__min_samples_split=2, model__n_estimators=100, preprocessing__num__imputer__strategy=mean; total time=   0.1s\n",
      "[CV] END model__max_depth=6, model__max_features=auto, model__min_samples_leaf=7, model__min_samples_split=2, model__n_estimators=100, preprocessing__num__imputer__strategy=mean; total time=   0.1s\n",
      "[CV] END model__max_depth=6, model__max_features=auto, model__min_samples_leaf=7, model__min_samples_split=2, model__n_estimators=100, preprocessing__num__imputer__strategy=mean; total time=   0.1s\n",
      "[CV] END model__max_depth=6, model__max_features=auto, model__min_samples_leaf=7, model__min_samples_split=2, model__n_estimators=100, preprocessing__num__imputer__strategy=mean; total time=   0.1s\n",
      "[CV] END model__max_depth=6, model__max_features=auto, model__min_samples_leaf=7, model__min_samples_split=2, model__n_estimators=100, preprocessing__num__imputer__strategy=mean; total time=   0.1s\n",
      "[CV] END model__max_depth=6, model__max_features=auto, model__min_samples_leaf=7, model__min_samples_split=2, model__n_estimators=100, preprocessing__num__imputer__strategy=median; total time=   0.1s\n",
      "[CV] END model__max_depth=6, model__max_features=auto, model__min_samples_leaf=7, model__min_samples_split=2, model__n_estimators=100, preprocessing__num__imputer__strategy=median; total time=   0.1s\n",
      "[CV] END model__max_depth=6, model__max_features=auto, model__min_samples_leaf=7, model__min_samples_split=2, model__n_estimators=100, preprocessing__num__imputer__strategy=median; total time=   0.1s\n",
      "[CV] END model__max_depth=6, model__max_features=auto, model__min_samples_leaf=7, model__min_samples_split=2, model__n_estimators=100, preprocessing__num__imputer__strategy=median; total time=   0.1s\n",
      "[CV] END model__max_depth=6, model__max_features=auto, model__min_samples_leaf=7, model__min_samples_split=2, model__n_estimators=100, preprocessing__num__imputer__strategy=median; total time=   0.1s\n"
     ]
    },
    {
     "name": "stdout",
     "output_type": "stream",
     "text": [
      "[CV] END model__max_depth=6, model__max_features=auto, model__min_samples_leaf=7, model__min_samples_split=2, model__n_estimators=200, preprocessing__num__imputer__strategy=mean; total time=   0.2s\n",
      "[CV] END model__max_depth=6, model__max_features=auto, model__min_samples_leaf=7, model__min_samples_split=2, model__n_estimators=200, preprocessing__num__imputer__strategy=mean; total time=   0.2s\n",
      "[CV] END model__max_depth=6, model__max_features=auto, model__min_samples_leaf=7, model__min_samples_split=2, model__n_estimators=200, preprocessing__num__imputer__strategy=mean; total time=   0.2s\n",
      "[CV] END model__max_depth=6, model__max_features=auto, model__min_samples_leaf=7, model__min_samples_split=2, model__n_estimators=200, preprocessing__num__imputer__strategy=mean; total time=   0.2s\n",
      "[CV] END model__max_depth=6, model__max_features=auto, model__min_samples_leaf=7, model__min_samples_split=2, model__n_estimators=200, preprocessing__num__imputer__strategy=mean; total time=   0.2s\n",
      "[CV] END model__max_depth=6, model__max_features=auto, model__min_samples_leaf=7, model__min_samples_split=2, model__n_estimators=200, preprocessing__num__imputer__strategy=median; total time=   0.2s\n",
      "[CV] END model__max_depth=6, model__max_features=auto, model__min_samples_leaf=7, model__min_samples_split=2, model__n_estimators=200, preprocessing__num__imputer__strategy=median; total time=   0.2s\n",
      "[CV] END model__max_depth=6, model__max_features=auto, model__min_samples_leaf=7, model__min_samples_split=2, model__n_estimators=200, preprocessing__num__imputer__strategy=median; total time=   0.2s\n",
      "[CV] END model__max_depth=6, model__max_features=auto, model__min_samples_leaf=7, model__min_samples_split=2, model__n_estimators=200, preprocessing__num__imputer__strategy=median; total time=   0.2s\n",
      "[CV] END model__max_depth=6, model__max_features=auto, model__min_samples_leaf=7, model__min_samples_split=2, model__n_estimators=200, preprocessing__num__imputer__strategy=median; total time=   0.2s\n",
      "[CV] END model__max_depth=6, model__max_features=auto, model__min_samples_leaf=7, model__min_samples_split=2, model__n_estimators=1000, preprocessing__num__imputer__strategy=mean; total time=   0.8s\n",
      "[CV] END model__max_depth=6, model__max_features=auto, model__min_samples_leaf=7, model__min_samples_split=2, model__n_estimators=1000, preprocessing__num__imputer__strategy=mean; total time=   0.8s\n",
      "[CV] END model__max_depth=6, model__max_features=auto, model__min_samples_leaf=7, model__min_samples_split=2, model__n_estimators=1000, preprocessing__num__imputer__strategy=mean; total time=   0.8s\n",
      "[CV] END model__max_depth=6, model__max_features=auto, model__min_samples_leaf=7, model__min_samples_split=2, model__n_estimators=1000, preprocessing__num__imputer__strategy=mean; total time=   0.8s\n",
      "[CV] END model__max_depth=6, model__max_features=auto, model__min_samples_leaf=7, model__min_samples_split=2, model__n_estimators=1000, preprocessing__num__imputer__strategy=mean; total time=   0.8s\n",
      "[CV] END model__max_depth=6, model__max_features=auto, model__min_samples_leaf=7, model__min_samples_split=2, model__n_estimators=1000, preprocessing__num__imputer__strategy=median; total time=   0.8s\n",
      "[CV] END model__max_depth=6, model__max_features=auto, model__min_samples_leaf=7, model__min_samples_split=2, model__n_estimators=1000, preprocessing__num__imputer__strategy=median; total time=   0.8s\n",
      "[CV] END model__max_depth=6, model__max_features=auto, model__min_samples_leaf=7, model__min_samples_split=2, model__n_estimators=1000, preprocessing__num__imputer__strategy=median; total time=   0.8s\n",
      "[CV] END model__max_depth=6, model__max_features=auto, model__min_samples_leaf=7, model__min_samples_split=2, model__n_estimators=1000, preprocessing__num__imputer__strategy=median; total time=   0.8s\n",
      "[CV] END model__max_depth=6, model__max_features=auto, model__min_samples_leaf=7, model__min_samples_split=2, model__n_estimators=1000, preprocessing__num__imputer__strategy=median; total time=   0.8s\n",
      "[CV] END model__max_depth=6, model__max_features=auto, model__min_samples_leaf=7, model__min_samples_split=4, model__n_estimators=100, preprocessing__num__imputer__strategy=mean; total time=   0.1s\n",
      "[CV] END model__max_depth=6, model__max_features=auto, model__min_samples_leaf=7, model__min_samples_split=4, model__n_estimators=100, preprocessing__num__imputer__strategy=mean; total time=   0.1s\n",
      "[CV] END model__max_depth=6, model__max_features=auto, model__min_samples_leaf=7, model__min_samples_split=4, model__n_estimators=100, preprocessing__num__imputer__strategy=mean; total time=   0.1s\n",
      "[CV] END model__max_depth=6, model__max_features=auto, model__min_samples_leaf=7, model__min_samples_split=4, model__n_estimators=100, preprocessing__num__imputer__strategy=mean; total time=   0.1s\n",
      "[CV] END model__max_depth=6, model__max_features=auto, model__min_samples_leaf=7, model__min_samples_split=4, model__n_estimators=100, preprocessing__num__imputer__strategy=mean; total time=   0.1s\n",
      "[CV] END model__max_depth=6, model__max_features=auto, model__min_samples_leaf=7, model__min_samples_split=4, model__n_estimators=100, preprocessing__num__imputer__strategy=median; total time=   0.1s\n",
      "[CV] END model__max_depth=6, model__max_features=auto, model__min_samples_leaf=7, model__min_samples_split=4, model__n_estimators=100, preprocessing__num__imputer__strategy=median; total time=   0.1s\n",
      "[CV] END model__max_depth=6, model__max_features=auto, model__min_samples_leaf=7, model__min_samples_split=4, model__n_estimators=100, preprocessing__num__imputer__strategy=median; total time=   0.1s\n",
      "[CV] END model__max_depth=6, model__max_features=auto, model__min_samples_leaf=7, model__min_samples_split=4, model__n_estimators=100, preprocessing__num__imputer__strategy=median; total time=   0.1s\n",
      "[CV] END model__max_depth=6, model__max_features=auto, model__min_samples_leaf=7, model__min_samples_split=4, model__n_estimators=100, preprocessing__num__imputer__strategy=median; total time=   0.1s\n",
      "[CV] END model__max_depth=6, model__max_features=auto, model__min_samples_leaf=7, model__min_samples_split=4, model__n_estimators=200, preprocessing__num__imputer__strategy=mean; total time=   0.2s\n",
      "[CV] END model__max_depth=6, model__max_features=auto, model__min_samples_leaf=7, model__min_samples_split=4, model__n_estimators=200, preprocessing__num__imputer__strategy=mean; total time=   0.2s\n",
      "[CV] END model__max_depth=6, model__max_features=auto, model__min_samples_leaf=7, model__min_samples_split=4, model__n_estimators=200, preprocessing__num__imputer__strategy=mean; total time=   0.2s\n",
      "[CV] END model__max_depth=6, model__max_features=auto, model__min_samples_leaf=7, model__min_samples_split=4, model__n_estimators=200, preprocessing__num__imputer__strategy=mean; total time=   0.2s\n",
      "[CV] END model__max_depth=6, model__max_features=auto, model__min_samples_leaf=7, model__min_samples_split=4, model__n_estimators=200, preprocessing__num__imputer__strategy=mean; total time=   0.2s\n",
      "[CV] END model__max_depth=6, model__max_features=auto, model__min_samples_leaf=7, model__min_samples_split=4, model__n_estimators=200, preprocessing__num__imputer__strategy=median; total time=   0.2s\n",
      "[CV] END model__max_depth=6, model__max_features=auto, model__min_samples_leaf=7, model__min_samples_split=4, model__n_estimators=200, preprocessing__num__imputer__strategy=median; total time=   0.2s\n",
      "[CV] END model__max_depth=6, model__max_features=auto, model__min_samples_leaf=7, model__min_samples_split=4, model__n_estimators=200, preprocessing__num__imputer__strategy=median; total time=   0.2s\n",
      "[CV] END model__max_depth=6, model__max_features=auto, model__min_samples_leaf=7, model__min_samples_split=4, model__n_estimators=200, preprocessing__num__imputer__strategy=median; total time=   0.2s\n",
      "[CV] END model__max_depth=6, model__max_features=auto, model__min_samples_leaf=7, model__min_samples_split=4, model__n_estimators=200, preprocessing__num__imputer__strategy=median; total time=   0.2s\n",
      "[CV] END model__max_depth=6, model__max_features=auto, model__min_samples_leaf=7, model__min_samples_split=4, model__n_estimators=1000, preprocessing__num__imputer__strategy=mean; total time=   0.8s\n",
      "[CV] END model__max_depth=6, model__max_features=auto, model__min_samples_leaf=7, model__min_samples_split=4, model__n_estimators=1000, preprocessing__num__imputer__strategy=mean; total time=   0.8s\n"
     ]
    },
    {
     "name": "stdout",
     "output_type": "stream",
     "text": [
      "[CV] END model__max_depth=6, model__max_features=auto, model__min_samples_leaf=7, model__min_samples_split=4, model__n_estimators=1000, preprocessing__num__imputer__strategy=mean; total time=   0.8s\n",
      "[CV] END model__max_depth=6, model__max_features=auto, model__min_samples_leaf=7, model__min_samples_split=4, model__n_estimators=1000, preprocessing__num__imputer__strategy=mean; total time=   0.8s\n",
      "[CV] END model__max_depth=6, model__max_features=auto, model__min_samples_leaf=7, model__min_samples_split=4, model__n_estimators=1000, preprocessing__num__imputer__strategy=mean; total time=   0.8s\n",
      "[CV] END model__max_depth=6, model__max_features=auto, model__min_samples_leaf=7, model__min_samples_split=4, model__n_estimators=1000, preprocessing__num__imputer__strategy=median; total time=   0.8s\n",
      "[CV] END model__max_depth=6, model__max_features=auto, model__min_samples_leaf=7, model__min_samples_split=4, model__n_estimators=1000, preprocessing__num__imputer__strategy=median; total time=   0.8s\n",
      "[CV] END model__max_depth=6, model__max_features=auto, model__min_samples_leaf=7, model__min_samples_split=4, model__n_estimators=1000, preprocessing__num__imputer__strategy=median; total time=   0.8s\n",
      "[CV] END model__max_depth=6, model__max_features=auto, model__min_samples_leaf=7, model__min_samples_split=4, model__n_estimators=1000, preprocessing__num__imputer__strategy=median; total time=   0.8s\n",
      "[CV] END model__max_depth=6, model__max_features=auto, model__min_samples_leaf=7, model__min_samples_split=4, model__n_estimators=1000, preprocessing__num__imputer__strategy=median; total time=   0.8s\n",
      "[CV] END model__max_depth=6, model__max_features=auto, model__min_samples_leaf=10, model__min_samples_split=2, model__n_estimators=100, preprocessing__num__imputer__strategy=mean; total time=   0.1s\n",
      "[CV] END model__max_depth=6, model__max_features=auto, model__min_samples_leaf=10, model__min_samples_split=2, model__n_estimators=100, preprocessing__num__imputer__strategy=mean; total time=   0.1s\n",
      "[CV] END model__max_depth=6, model__max_features=auto, model__min_samples_leaf=10, model__min_samples_split=2, model__n_estimators=100, preprocessing__num__imputer__strategy=mean; total time=   0.1s\n",
      "[CV] END model__max_depth=6, model__max_features=auto, model__min_samples_leaf=10, model__min_samples_split=2, model__n_estimators=100, preprocessing__num__imputer__strategy=mean; total time=   0.1s\n",
      "[CV] END model__max_depth=6, model__max_features=auto, model__min_samples_leaf=10, model__min_samples_split=2, model__n_estimators=100, preprocessing__num__imputer__strategy=mean; total time=   0.1s\n",
      "[CV] END model__max_depth=6, model__max_features=auto, model__min_samples_leaf=10, model__min_samples_split=2, model__n_estimators=100, preprocessing__num__imputer__strategy=median; total time=   0.1s\n",
      "[CV] END model__max_depth=6, model__max_features=auto, model__min_samples_leaf=10, model__min_samples_split=2, model__n_estimators=100, preprocessing__num__imputer__strategy=median; total time=   0.1s\n",
      "[CV] END model__max_depth=6, model__max_features=auto, model__min_samples_leaf=10, model__min_samples_split=2, model__n_estimators=100, preprocessing__num__imputer__strategy=median; total time=   0.1s\n",
      "[CV] END model__max_depth=6, model__max_features=auto, model__min_samples_leaf=10, model__min_samples_split=2, model__n_estimators=100, preprocessing__num__imputer__strategy=median; total time=   0.1s\n",
      "[CV] END model__max_depth=6, model__max_features=auto, model__min_samples_leaf=10, model__min_samples_split=2, model__n_estimators=100, preprocessing__num__imputer__strategy=median; total time=   0.1s\n",
      "[CV] END model__max_depth=6, model__max_features=auto, model__min_samples_leaf=10, model__min_samples_split=2, model__n_estimators=200, preprocessing__num__imputer__strategy=mean; total time=   0.2s\n",
      "[CV] END model__max_depth=6, model__max_features=auto, model__min_samples_leaf=10, model__min_samples_split=2, model__n_estimators=200, preprocessing__num__imputer__strategy=mean; total time=   0.2s\n",
      "[CV] END model__max_depth=6, model__max_features=auto, model__min_samples_leaf=10, model__min_samples_split=2, model__n_estimators=200, preprocessing__num__imputer__strategy=mean; total time=   0.2s\n",
      "[CV] END model__max_depth=6, model__max_features=auto, model__min_samples_leaf=10, model__min_samples_split=2, model__n_estimators=200, preprocessing__num__imputer__strategy=mean; total time=   0.2s\n",
      "[CV] END model__max_depth=6, model__max_features=auto, model__min_samples_leaf=10, model__min_samples_split=2, model__n_estimators=200, preprocessing__num__imputer__strategy=mean; total time=   0.2s\n",
      "[CV] END model__max_depth=6, model__max_features=auto, model__min_samples_leaf=10, model__min_samples_split=2, model__n_estimators=200, preprocessing__num__imputer__strategy=median; total time=   0.2s\n",
      "[CV] END model__max_depth=6, model__max_features=auto, model__min_samples_leaf=10, model__min_samples_split=2, model__n_estimators=200, preprocessing__num__imputer__strategy=median; total time=   0.2s\n",
      "[CV] END model__max_depth=6, model__max_features=auto, model__min_samples_leaf=10, model__min_samples_split=2, model__n_estimators=200, preprocessing__num__imputer__strategy=median; total time=   0.2s\n",
      "[CV] END model__max_depth=6, model__max_features=auto, model__min_samples_leaf=10, model__min_samples_split=2, model__n_estimators=200, preprocessing__num__imputer__strategy=median; total time=   0.2s\n",
      "[CV] END model__max_depth=6, model__max_features=auto, model__min_samples_leaf=10, model__min_samples_split=2, model__n_estimators=200, preprocessing__num__imputer__strategy=median; total time=   0.2s\n",
      "[CV] END model__max_depth=6, model__max_features=auto, model__min_samples_leaf=10, model__min_samples_split=2, model__n_estimators=1000, preprocessing__num__imputer__strategy=mean; total time=   0.8s\n",
      "[CV] END model__max_depth=6, model__max_features=auto, model__min_samples_leaf=10, model__min_samples_split=2, model__n_estimators=1000, preprocessing__num__imputer__strategy=mean; total time=   0.8s\n",
      "[CV] END model__max_depth=6, model__max_features=auto, model__min_samples_leaf=10, model__min_samples_split=2, model__n_estimators=1000, preprocessing__num__imputer__strategy=mean; total time=   0.8s\n",
      "[CV] END model__max_depth=6, model__max_features=auto, model__min_samples_leaf=10, model__min_samples_split=2, model__n_estimators=1000, preprocessing__num__imputer__strategy=mean; total time=   0.8s\n",
      "[CV] END model__max_depth=6, model__max_features=auto, model__min_samples_leaf=10, model__min_samples_split=2, model__n_estimators=1000, preprocessing__num__imputer__strategy=mean; total time=   0.8s\n",
      "[CV] END model__max_depth=6, model__max_features=auto, model__min_samples_leaf=10, model__min_samples_split=2, model__n_estimators=1000, preprocessing__num__imputer__strategy=median; total time=   0.8s\n",
      "[CV] END model__max_depth=6, model__max_features=auto, model__min_samples_leaf=10, model__min_samples_split=2, model__n_estimators=1000, preprocessing__num__imputer__strategy=median; total time=   0.8s\n",
      "[CV] END model__max_depth=6, model__max_features=auto, model__min_samples_leaf=10, model__min_samples_split=2, model__n_estimators=1000, preprocessing__num__imputer__strategy=median; total time=   0.8s\n",
      "[CV] END model__max_depth=6, model__max_features=auto, model__min_samples_leaf=10, model__min_samples_split=2, model__n_estimators=1000, preprocessing__num__imputer__strategy=median; total time=   0.8s\n",
      "[CV] END model__max_depth=6, model__max_features=auto, model__min_samples_leaf=10, model__min_samples_split=2, model__n_estimators=1000, preprocessing__num__imputer__strategy=median; total time=   0.8s\n",
      "[CV] END model__max_depth=6, model__max_features=auto, model__min_samples_leaf=10, model__min_samples_split=4, model__n_estimators=100, preprocessing__num__imputer__strategy=mean; total time=   0.1s\n",
      "[CV] END model__max_depth=6, model__max_features=auto, model__min_samples_leaf=10, model__min_samples_split=4, model__n_estimators=100, preprocessing__num__imputer__strategy=mean; total time=   0.1s\n",
      "[CV] END model__max_depth=6, model__max_features=auto, model__min_samples_leaf=10, model__min_samples_split=4, model__n_estimators=100, preprocessing__num__imputer__strategy=mean; total time=   0.1s\n",
      "[CV] END model__max_depth=6, model__max_features=auto, model__min_samples_leaf=10, model__min_samples_split=4, model__n_estimators=100, preprocessing__num__imputer__strategy=mean; total time=   0.1s\n",
      "[CV] END model__max_depth=6, model__max_features=auto, model__min_samples_leaf=10, model__min_samples_split=4, model__n_estimators=100, preprocessing__num__imputer__strategy=mean; total time=   0.1s\n"
     ]
    },
    {
     "name": "stdout",
     "output_type": "stream",
     "text": [
      "[CV] END model__max_depth=6, model__max_features=auto, model__min_samples_leaf=10, model__min_samples_split=4, model__n_estimators=100, preprocessing__num__imputer__strategy=median; total time=   0.1s\n",
      "[CV] END model__max_depth=6, model__max_features=auto, model__min_samples_leaf=10, model__min_samples_split=4, model__n_estimators=100, preprocessing__num__imputer__strategy=median; total time=   0.1s\n",
      "[CV] END model__max_depth=6, model__max_features=auto, model__min_samples_leaf=10, model__min_samples_split=4, model__n_estimators=100, preprocessing__num__imputer__strategy=median; total time=   0.1s\n",
      "[CV] END model__max_depth=6, model__max_features=auto, model__min_samples_leaf=10, model__min_samples_split=4, model__n_estimators=100, preprocessing__num__imputer__strategy=median; total time=   0.1s\n",
      "[CV] END model__max_depth=6, model__max_features=auto, model__min_samples_leaf=10, model__min_samples_split=4, model__n_estimators=100, preprocessing__num__imputer__strategy=median; total time=   0.1s\n",
      "[CV] END model__max_depth=6, model__max_features=auto, model__min_samples_leaf=10, model__min_samples_split=4, model__n_estimators=200, preprocessing__num__imputer__strategy=mean; total time=   0.2s\n",
      "[CV] END model__max_depth=6, model__max_features=auto, model__min_samples_leaf=10, model__min_samples_split=4, model__n_estimators=200, preprocessing__num__imputer__strategy=mean; total time=   0.2s\n",
      "[CV] END model__max_depth=6, model__max_features=auto, model__min_samples_leaf=10, model__min_samples_split=4, model__n_estimators=200, preprocessing__num__imputer__strategy=mean; total time=   0.2s\n",
      "[CV] END model__max_depth=6, model__max_features=auto, model__min_samples_leaf=10, model__min_samples_split=4, model__n_estimators=200, preprocessing__num__imputer__strategy=mean; total time=   0.2s\n",
      "[CV] END model__max_depth=6, model__max_features=auto, model__min_samples_leaf=10, model__min_samples_split=4, model__n_estimators=200, preprocessing__num__imputer__strategy=mean; total time=   0.2s\n",
      "[CV] END model__max_depth=6, model__max_features=auto, model__min_samples_leaf=10, model__min_samples_split=4, model__n_estimators=200, preprocessing__num__imputer__strategy=median; total time=   0.2s\n",
      "[CV] END model__max_depth=6, model__max_features=auto, model__min_samples_leaf=10, model__min_samples_split=4, model__n_estimators=200, preprocessing__num__imputer__strategy=median; total time=   0.2s\n",
      "[CV] END model__max_depth=6, model__max_features=auto, model__min_samples_leaf=10, model__min_samples_split=4, model__n_estimators=200, preprocessing__num__imputer__strategy=median; total time=   0.2s\n",
      "[CV] END model__max_depth=6, model__max_features=auto, model__min_samples_leaf=10, model__min_samples_split=4, model__n_estimators=200, preprocessing__num__imputer__strategy=median; total time=   0.2s\n",
      "[CV] END model__max_depth=6, model__max_features=auto, model__min_samples_leaf=10, model__min_samples_split=4, model__n_estimators=200, preprocessing__num__imputer__strategy=median; total time=   0.2s\n",
      "[CV] END model__max_depth=6, model__max_features=auto, model__min_samples_leaf=10, model__min_samples_split=4, model__n_estimators=1000, preprocessing__num__imputer__strategy=mean; total time=   0.8s\n",
      "[CV] END model__max_depth=6, model__max_features=auto, model__min_samples_leaf=10, model__min_samples_split=4, model__n_estimators=1000, preprocessing__num__imputer__strategy=mean; total time=   0.8s\n",
      "[CV] END model__max_depth=6, model__max_features=auto, model__min_samples_leaf=10, model__min_samples_split=4, model__n_estimators=1000, preprocessing__num__imputer__strategy=mean; total time=   0.8s\n",
      "[CV] END model__max_depth=6, model__max_features=auto, model__min_samples_leaf=10, model__min_samples_split=4, model__n_estimators=1000, preprocessing__num__imputer__strategy=mean; total time=   0.8s\n",
      "[CV] END model__max_depth=6, model__max_features=auto, model__min_samples_leaf=10, model__min_samples_split=4, model__n_estimators=1000, preprocessing__num__imputer__strategy=mean; total time=   1.0s\n",
      "[CV] END model__max_depth=6, model__max_features=auto, model__min_samples_leaf=10, model__min_samples_split=4, model__n_estimators=1000, preprocessing__num__imputer__strategy=median; total time=   0.8s\n",
      "[CV] END model__max_depth=6, model__max_features=auto, model__min_samples_leaf=10, model__min_samples_split=4, model__n_estimators=1000, preprocessing__num__imputer__strategy=median; total time=   0.8s\n",
      "[CV] END model__max_depth=6, model__max_features=auto, model__min_samples_leaf=10, model__min_samples_split=4, model__n_estimators=1000, preprocessing__num__imputer__strategy=median; total time=   0.8s\n",
      "[CV] END model__max_depth=6, model__max_features=auto, model__min_samples_leaf=10, model__min_samples_split=4, model__n_estimators=1000, preprocessing__num__imputer__strategy=median; total time=   0.8s\n",
      "[CV] END model__max_depth=6, model__max_features=auto, model__min_samples_leaf=10, model__min_samples_split=4, model__n_estimators=1000, preprocessing__num__imputer__strategy=median; total time=   0.8s\n",
      "[CV] END model__max_depth=7, model__max_features=auto, model__min_samples_leaf=1, model__min_samples_split=2, model__n_estimators=100, preprocessing__num__imputer__strategy=mean; total time=   0.1s\n",
      "[CV] END model__max_depth=7, model__max_features=auto, model__min_samples_leaf=1, model__min_samples_split=2, model__n_estimators=100, preprocessing__num__imputer__strategy=mean; total time=   0.1s\n",
      "[CV] END model__max_depth=7, model__max_features=auto, model__min_samples_leaf=1, model__min_samples_split=2, model__n_estimators=100, preprocessing__num__imputer__strategy=mean; total time=   0.1s\n",
      "[CV] END model__max_depth=7, model__max_features=auto, model__min_samples_leaf=1, model__min_samples_split=2, model__n_estimators=100, preprocessing__num__imputer__strategy=mean; total time=   0.1s\n",
      "[CV] END model__max_depth=7, model__max_features=auto, model__min_samples_leaf=1, model__min_samples_split=2, model__n_estimators=100, preprocessing__num__imputer__strategy=mean; total time=   0.1s\n",
      "[CV] END model__max_depth=7, model__max_features=auto, model__min_samples_leaf=1, model__min_samples_split=2, model__n_estimators=100, preprocessing__num__imputer__strategy=median; total time=   0.1s\n",
      "[CV] END model__max_depth=7, model__max_features=auto, model__min_samples_leaf=1, model__min_samples_split=2, model__n_estimators=100, preprocessing__num__imputer__strategy=median; total time=   0.1s\n",
      "[CV] END model__max_depth=7, model__max_features=auto, model__min_samples_leaf=1, model__min_samples_split=2, model__n_estimators=100, preprocessing__num__imputer__strategy=median; total time=   0.1s\n",
      "[CV] END model__max_depth=7, model__max_features=auto, model__min_samples_leaf=1, model__min_samples_split=2, model__n_estimators=100, preprocessing__num__imputer__strategy=median; total time=   0.1s\n",
      "[CV] END model__max_depth=7, model__max_features=auto, model__min_samples_leaf=1, model__min_samples_split=2, model__n_estimators=100, preprocessing__num__imputer__strategy=median; total time=   0.1s\n",
      "[CV] END model__max_depth=7, model__max_features=auto, model__min_samples_leaf=1, model__min_samples_split=2, model__n_estimators=200, preprocessing__num__imputer__strategy=mean; total time=   0.2s\n",
      "[CV] END model__max_depth=7, model__max_features=auto, model__min_samples_leaf=1, model__min_samples_split=2, model__n_estimators=200, preprocessing__num__imputer__strategy=mean; total time=   0.2s\n",
      "[CV] END model__max_depth=7, model__max_features=auto, model__min_samples_leaf=1, model__min_samples_split=2, model__n_estimators=200, preprocessing__num__imputer__strategy=mean; total time=   0.2s\n",
      "[CV] END model__max_depth=7, model__max_features=auto, model__min_samples_leaf=1, model__min_samples_split=2, model__n_estimators=200, preprocessing__num__imputer__strategy=mean; total time=   0.2s\n",
      "[CV] END model__max_depth=7, model__max_features=auto, model__min_samples_leaf=1, model__min_samples_split=2, model__n_estimators=200, preprocessing__num__imputer__strategy=mean; total time=   0.2s\n",
      "[CV] END model__max_depth=7, model__max_features=auto, model__min_samples_leaf=1, model__min_samples_split=2, model__n_estimators=200, preprocessing__num__imputer__strategy=median; total time=   0.2s\n"
     ]
    },
    {
     "name": "stdout",
     "output_type": "stream",
     "text": [
      "[CV] END model__max_depth=7, model__max_features=auto, model__min_samples_leaf=1, model__min_samples_split=2, model__n_estimators=200, preprocessing__num__imputer__strategy=median; total time=   0.2s\n",
      "[CV] END model__max_depth=7, model__max_features=auto, model__min_samples_leaf=1, model__min_samples_split=2, model__n_estimators=200, preprocessing__num__imputer__strategy=median; total time=   0.2s\n",
      "[CV] END model__max_depth=7, model__max_features=auto, model__min_samples_leaf=1, model__min_samples_split=2, model__n_estimators=200, preprocessing__num__imputer__strategy=median; total time=   0.2s\n",
      "[CV] END model__max_depth=7, model__max_features=auto, model__min_samples_leaf=1, model__min_samples_split=2, model__n_estimators=200, preprocessing__num__imputer__strategy=median; total time=   0.2s\n",
      "[CV] END model__max_depth=7, model__max_features=auto, model__min_samples_leaf=1, model__min_samples_split=2, model__n_estimators=1000, preprocessing__num__imputer__strategy=mean; total time=   0.9s\n",
      "[CV] END model__max_depth=7, model__max_features=auto, model__min_samples_leaf=1, model__min_samples_split=2, model__n_estimators=1000, preprocessing__num__imputer__strategy=mean; total time=   0.9s\n",
      "[CV] END model__max_depth=7, model__max_features=auto, model__min_samples_leaf=1, model__min_samples_split=2, model__n_estimators=1000, preprocessing__num__imputer__strategy=mean; total time=   0.9s\n",
      "[CV] END model__max_depth=7, model__max_features=auto, model__min_samples_leaf=1, model__min_samples_split=2, model__n_estimators=1000, preprocessing__num__imputer__strategy=mean; total time=   0.9s\n",
      "[CV] END model__max_depth=7, model__max_features=auto, model__min_samples_leaf=1, model__min_samples_split=2, model__n_estimators=1000, preprocessing__num__imputer__strategy=mean; total time=   0.9s\n",
      "[CV] END model__max_depth=7, model__max_features=auto, model__min_samples_leaf=1, model__min_samples_split=2, model__n_estimators=1000, preprocessing__num__imputer__strategy=median; total time=   0.9s\n",
      "[CV] END model__max_depth=7, model__max_features=auto, model__min_samples_leaf=1, model__min_samples_split=2, model__n_estimators=1000, preprocessing__num__imputer__strategy=median; total time=   0.9s\n",
      "[CV] END model__max_depth=7, model__max_features=auto, model__min_samples_leaf=1, model__min_samples_split=2, model__n_estimators=1000, preprocessing__num__imputer__strategy=median; total time=   0.9s\n",
      "[CV] END model__max_depth=7, model__max_features=auto, model__min_samples_leaf=1, model__min_samples_split=2, model__n_estimators=1000, preprocessing__num__imputer__strategy=median; total time=   0.9s\n",
      "[CV] END model__max_depth=7, model__max_features=auto, model__min_samples_leaf=1, model__min_samples_split=2, model__n_estimators=1000, preprocessing__num__imputer__strategy=median; total time=   0.9s\n",
      "[CV] END model__max_depth=7, model__max_features=auto, model__min_samples_leaf=1, model__min_samples_split=4, model__n_estimators=100, preprocessing__num__imputer__strategy=mean; total time=   0.1s\n",
      "[CV] END model__max_depth=7, model__max_features=auto, model__min_samples_leaf=1, model__min_samples_split=4, model__n_estimators=100, preprocessing__num__imputer__strategy=mean; total time=   0.1s\n",
      "[CV] END model__max_depth=7, model__max_features=auto, model__min_samples_leaf=1, model__min_samples_split=4, model__n_estimators=100, preprocessing__num__imputer__strategy=mean; total time=   0.1s\n",
      "[CV] END model__max_depth=7, model__max_features=auto, model__min_samples_leaf=1, model__min_samples_split=4, model__n_estimators=100, preprocessing__num__imputer__strategy=mean; total time=   0.1s\n",
      "[CV] END model__max_depth=7, model__max_features=auto, model__min_samples_leaf=1, model__min_samples_split=4, model__n_estimators=100, preprocessing__num__imputer__strategy=mean; total time=   0.1s\n",
      "[CV] END model__max_depth=7, model__max_features=auto, model__min_samples_leaf=1, model__min_samples_split=4, model__n_estimators=100, preprocessing__num__imputer__strategy=median; total time=   0.1s\n",
      "[CV] END model__max_depth=7, model__max_features=auto, model__min_samples_leaf=1, model__min_samples_split=4, model__n_estimators=100, preprocessing__num__imputer__strategy=median; total time=   0.1s\n",
      "[CV] END model__max_depth=7, model__max_features=auto, model__min_samples_leaf=1, model__min_samples_split=4, model__n_estimators=100, preprocessing__num__imputer__strategy=median; total time=   0.1s\n",
      "[CV] END model__max_depth=7, model__max_features=auto, model__min_samples_leaf=1, model__min_samples_split=4, model__n_estimators=100, preprocessing__num__imputer__strategy=median; total time=   0.1s\n",
      "[CV] END model__max_depth=7, model__max_features=auto, model__min_samples_leaf=1, model__min_samples_split=4, model__n_estimators=100, preprocessing__num__imputer__strategy=median; total time=   0.1s\n",
      "[CV] END model__max_depth=7, model__max_features=auto, model__min_samples_leaf=1, model__min_samples_split=4, model__n_estimators=200, preprocessing__num__imputer__strategy=mean; total time=   0.2s\n",
      "[CV] END model__max_depth=7, model__max_features=auto, model__min_samples_leaf=1, model__min_samples_split=4, model__n_estimators=200, preprocessing__num__imputer__strategy=mean; total time=   0.2s\n",
      "[CV] END model__max_depth=7, model__max_features=auto, model__min_samples_leaf=1, model__min_samples_split=4, model__n_estimators=200, preprocessing__num__imputer__strategy=mean; total time=   0.2s\n",
      "[CV] END model__max_depth=7, model__max_features=auto, model__min_samples_leaf=1, model__min_samples_split=4, model__n_estimators=200, preprocessing__num__imputer__strategy=mean; total time=   0.2s\n",
      "[CV] END model__max_depth=7, model__max_features=auto, model__min_samples_leaf=1, model__min_samples_split=4, model__n_estimators=200, preprocessing__num__imputer__strategy=mean; total time=   0.2s\n",
      "[CV] END model__max_depth=7, model__max_features=auto, model__min_samples_leaf=1, model__min_samples_split=4, model__n_estimators=200, preprocessing__num__imputer__strategy=median; total time=   0.2s\n",
      "[CV] END model__max_depth=7, model__max_features=auto, model__min_samples_leaf=1, model__min_samples_split=4, model__n_estimators=200, preprocessing__num__imputer__strategy=median; total time=   0.2s\n",
      "[CV] END model__max_depth=7, model__max_features=auto, model__min_samples_leaf=1, model__min_samples_split=4, model__n_estimators=200, preprocessing__num__imputer__strategy=median; total time=   0.2s\n",
      "[CV] END model__max_depth=7, model__max_features=auto, model__min_samples_leaf=1, model__min_samples_split=4, model__n_estimators=200, preprocessing__num__imputer__strategy=median; total time=   0.2s\n",
      "[CV] END model__max_depth=7, model__max_features=auto, model__min_samples_leaf=1, model__min_samples_split=4, model__n_estimators=200, preprocessing__num__imputer__strategy=median; total time=   0.2s\n",
      "[CV] END model__max_depth=7, model__max_features=auto, model__min_samples_leaf=1, model__min_samples_split=4, model__n_estimators=1000, preprocessing__num__imputer__strategy=mean; total time=   0.9s\n",
      "[CV] END model__max_depth=7, model__max_features=auto, model__min_samples_leaf=1, model__min_samples_split=4, model__n_estimators=1000, preprocessing__num__imputer__strategy=mean; total time=   0.9s\n",
      "[CV] END model__max_depth=7, model__max_features=auto, model__min_samples_leaf=1, model__min_samples_split=4, model__n_estimators=1000, preprocessing__num__imputer__strategy=mean; total time=   0.9s\n",
      "[CV] END model__max_depth=7, model__max_features=auto, model__min_samples_leaf=1, model__min_samples_split=4, model__n_estimators=1000, preprocessing__num__imputer__strategy=mean; total time=   0.9s\n",
      "[CV] END model__max_depth=7, model__max_features=auto, model__min_samples_leaf=1, model__min_samples_split=4, model__n_estimators=1000, preprocessing__num__imputer__strategy=mean; total time=   0.9s\n",
      "[CV] END model__max_depth=7, model__max_features=auto, model__min_samples_leaf=1, model__min_samples_split=4, model__n_estimators=1000, preprocessing__num__imputer__strategy=median; total time=   0.9s\n",
      "[CV] END model__max_depth=7, model__max_features=auto, model__min_samples_leaf=1, model__min_samples_split=4, model__n_estimators=1000, preprocessing__num__imputer__strategy=median; total time=   0.9s\n",
      "[CV] END model__max_depth=7, model__max_features=auto, model__min_samples_leaf=1, model__min_samples_split=4, model__n_estimators=1000, preprocessing__num__imputer__strategy=median; total time=   0.9s\n"
     ]
    },
    {
     "name": "stdout",
     "output_type": "stream",
     "text": [
      "[CV] END model__max_depth=7, model__max_features=auto, model__min_samples_leaf=1, model__min_samples_split=4, model__n_estimators=1000, preprocessing__num__imputer__strategy=median; total time=   0.9s\n",
      "[CV] END model__max_depth=7, model__max_features=auto, model__min_samples_leaf=1, model__min_samples_split=4, model__n_estimators=1000, preprocessing__num__imputer__strategy=median; total time=   0.9s\n",
      "[CV] END model__max_depth=7, model__max_features=auto, model__min_samples_leaf=7, model__min_samples_split=2, model__n_estimators=100, preprocessing__num__imputer__strategy=mean; total time=   0.1s\n",
      "[CV] END model__max_depth=7, model__max_features=auto, model__min_samples_leaf=7, model__min_samples_split=2, model__n_estimators=100, preprocessing__num__imputer__strategy=mean; total time=   0.1s\n",
      "[CV] END model__max_depth=7, model__max_features=auto, model__min_samples_leaf=7, model__min_samples_split=2, model__n_estimators=100, preprocessing__num__imputer__strategy=mean; total time=   0.1s\n",
      "[CV] END model__max_depth=7, model__max_features=auto, model__min_samples_leaf=7, model__min_samples_split=2, model__n_estimators=100, preprocessing__num__imputer__strategy=mean; total time=   0.1s\n",
      "[CV] END model__max_depth=7, model__max_features=auto, model__min_samples_leaf=7, model__min_samples_split=2, model__n_estimators=100, preprocessing__num__imputer__strategy=mean; total time=   0.1s\n",
      "[CV] END model__max_depth=7, model__max_features=auto, model__min_samples_leaf=7, model__min_samples_split=2, model__n_estimators=100, preprocessing__num__imputer__strategy=median; total time=   0.1s\n",
      "[CV] END model__max_depth=7, model__max_features=auto, model__min_samples_leaf=7, model__min_samples_split=2, model__n_estimators=100, preprocessing__num__imputer__strategy=median; total time=   0.1s\n",
      "[CV] END model__max_depth=7, model__max_features=auto, model__min_samples_leaf=7, model__min_samples_split=2, model__n_estimators=100, preprocessing__num__imputer__strategy=median; total time=   0.1s\n",
      "[CV] END model__max_depth=7, model__max_features=auto, model__min_samples_leaf=7, model__min_samples_split=2, model__n_estimators=100, preprocessing__num__imputer__strategy=median; total time=   0.1s\n",
      "[CV] END model__max_depth=7, model__max_features=auto, model__min_samples_leaf=7, model__min_samples_split=2, model__n_estimators=100, preprocessing__num__imputer__strategy=median; total time=   0.1s\n",
      "[CV] END model__max_depth=7, model__max_features=auto, model__min_samples_leaf=7, model__min_samples_split=2, model__n_estimators=200, preprocessing__num__imputer__strategy=mean; total time=   0.2s\n",
      "[CV] END model__max_depth=7, model__max_features=auto, model__min_samples_leaf=7, model__min_samples_split=2, model__n_estimators=200, preprocessing__num__imputer__strategy=mean; total time=   0.2s\n",
      "[CV] END model__max_depth=7, model__max_features=auto, model__min_samples_leaf=7, model__min_samples_split=2, model__n_estimators=200, preprocessing__num__imputer__strategy=mean; total time=   0.2s\n",
      "[CV] END model__max_depth=7, model__max_features=auto, model__min_samples_leaf=7, model__min_samples_split=2, model__n_estimators=200, preprocessing__num__imputer__strategy=mean; total time=   0.2s\n",
      "[CV] END model__max_depth=7, model__max_features=auto, model__min_samples_leaf=7, model__min_samples_split=2, model__n_estimators=200, preprocessing__num__imputer__strategy=mean; total time=   0.2s\n",
      "[CV] END model__max_depth=7, model__max_features=auto, model__min_samples_leaf=7, model__min_samples_split=2, model__n_estimators=200, preprocessing__num__imputer__strategy=median; total time=   0.2s\n",
      "[CV] END model__max_depth=7, model__max_features=auto, model__min_samples_leaf=7, model__min_samples_split=2, model__n_estimators=200, preprocessing__num__imputer__strategy=median; total time=   0.2s\n",
      "[CV] END model__max_depth=7, model__max_features=auto, model__min_samples_leaf=7, model__min_samples_split=2, model__n_estimators=200, preprocessing__num__imputer__strategy=median; total time=   0.2s\n",
      "[CV] END model__max_depth=7, model__max_features=auto, model__min_samples_leaf=7, model__min_samples_split=2, model__n_estimators=200, preprocessing__num__imputer__strategy=median; total time=   0.2s\n",
      "[CV] END model__max_depth=7, model__max_features=auto, model__min_samples_leaf=7, model__min_samples_split=2, model__n_estimators=200, preprocessing__num__imputer__strategy=median; total time=   0.2s\n",
      "[CV] END model__max_depth=7, model__max_features=auto, model__min_samples_leaf=7, model__min_samples_split=2, model__n_estimators=1000, preprocessing__num__imputer__strategy=mean; total time=   0.8s\n",
      "[CV] END model__max_depth=7, model__max_features=auto, model__min_samples_leaf=7, model__min_samples_split=2, model__n_estimators=1000, preprocessing__num__imputer__strategy=mean; total time=   0.8s\n",
      "[CV] END model__max_depth=7, model__max_features=auto, model__min_samples_leaf=7, model__min_samples_split=2, model__n_estimators=1000, preprocessing__num__imputer__strategy=mean; total time=   0.8s\n",
      "[CV] END model__max_depth=7, model__max_features=auto, model__min_samples_leaf=7, model__min_samples_split=2, model__n_estimators=1000, preprocessing__num__imputer__strategy=mean; total time=   0.8s\n",
      "[CV] END model__max_depth=7, model__max_features=auto, model__min_samples_leaf=7, model__min_samples_split=2, model__n_estimators=1000, preprocessing__num__imputer__strategy=mean; total time=   0.8s\n",
      "[CV] END model__max_depth=7, model__max_features=auto, model__min_samples_leaf=7, model__min_samples_split=2, model__n_estimators=1000, preprocessing__num__imputer__strategy=median; total time=   0.8s\n",
      "[CV] END model__max_depth=7, model__max_features=auto, model__min_samples_leaf=7, model__min_samples_split=2, model__n_estimators=1000, preprocessing__num__imputer__strategy=median; total time=   0.8s\n",
      "[CV] END model__max_depth=7, model__max_features=auto, model__min_samples_leaf=7, model__min_samples_split=2, model__n_estimators=1000, preprocessing__num__imputer__strategy=median; total time=   0.8s\n",
      "[CV] END model__max_depth=7, model__max_features=auto, model__min_samples_leaf=7, model__min_samples_split=2, model__n_estimators=1000, preprocessing__num__imputer__strategy=median; total time=   0.8s\n",
      "[CV] END model__max_depth=7, model__max_features=auto, model__min_samples_leaf=7, model__min_samples_split=2, model__n_estimators=1000, preprocessing__num__imputer__strategy=median; total time=   0.8s\n",
      "[CV] END model__max_depth=7, model__max_features=auto, model__min_samples_leaf=7, model__min_samples_split=4, model__n_estimators=100, preprocessing__num__imputer__strategy=mean; total time=   0.1s\n",
      "[CV] END model__max_depth=7, model__max_features=auto, model__min_samples_leaf=7, model__min_samples_split=4, model__n_estimators=100, preprocessing__num__imputer__strategy=mean; total time=   0.1s\n",
      "[CV] END model__max_depth=7, model__max_features=auto, model__min_samples_leaf=7, model__min_samples_split=4, model__n_estimators=100, preprocessing__num__imputer__strategy=mean; total time=   0.1s\n",
      "[CV] END model__max_depth=7, model__max_features=auto, model__min_samples_leaf=7, model__min_samples_split=4, model__n_estimators=100, preprocessing__num__imputer__strategy=mean; total time=   0.1s\n",
      "[CV] END model__max_depth=7, model__max_features=auto, model__min_samples_leaf=7, model__min_samples_split=4, model__n_estimators=100, preprocessing__num__imputer__strategy=mean; total time=   0.1s\n",
      "[CV] END model__max_depth=7, model__max_features=auto, model__min_samples_leaf=7, model__min_samples_split=4, model__n_estimators=100, preprocessing__num__imputer__strategy=median; total time=   0.1s\n",
      "[CV] END model__max_depth=7, model__max_features=auto, model__min_samples_leaf=7, model__min_samples_split=4, model__n_estimators=100, preprocessing__num__imputer__strategy=median; total time=   0.1s\n",
      "[CV] END model__max_depth=7, model__max_features=auto, model__min_samples_leaf=7, model__min_samples_split=4, model__n_estimators=100, preprocessing__num__imputer__strategy=median; total time=   0.1s\n",
      "[CV] END model__max_depth=7, model__max_features=auto, model__min_samples_leaf=7, model__min_samples_split=4, model__n_estimators=100, preprocessing__num__imputer__strategy=median; total time=   0.1s\n",
      "[CV] END model__max_depth=7, model__max_features=auto, model__min_samples_leaf=7, model__min_samples_split=4, model__n_estimators=100, preprocessing__num__imputer__strategy=median; total time=   0.1s\n"
     ]
    },
    {
     "name": "stdout",
     "output_type": "stream",
     "text": [
      "[CV] END model__max_depth=7, model__max_features=auto, model__min_samples_leaf=7, model__min_samples_split=4, model__n_estimators=200, preprocessing__num__imputer__strategy=mean; total time=   0.2s\n",
      "[CV] END model__max_depth=7, model__max_features=auto, model__min_samples_leaf=7, model__min_samples_split=4, model__n_estimators=200, preprocessing__num__imputer__strategy=mean; total time=   0.2s\n",
      "[CV] END model__max_depth=7, model__max_features=auto, model__min_samples_leaf=7, model__min_samples_split=4, model__n_estimators=200, preprocessing__num__imputer__strategy=mean; total time=   0.2s\n",
      "[CV] END model__max_depth=7, model__max_features=auto, model__min_samples_leaf=7, model__min_samples_split=4, model__n_estimators=200, preprocessing__num__imputer__strategy=mean; total time=   0.2s\n",
      "[CV] END model__max_depth=7, model__max_features=auto, model__min_samples_leaf=7, model__min_samples_split=4, model__n_estimators=200, preprocessing__num__imputer__strategy=mean; total time=   0.2s\n",
      "[CV] END model__max_depth=7, model__max_features=auto, model__min_samples_leaf=7, model__min_samples_split=4, model__n_estimators=200, preprocessing__num__imputer__strategy=median; total time=   0.2s\n",
      "[CV] END model__max_depth=7, model__max_features=auto, model__min_samples_leaf=7, model__min_samples_split=4, model__n_estimators=200, preprocessing__num__imputer__strategy=median; total time=   0.2s\n",
      "[CV] END model__max_depth=7, model__max_features=auto, model__min_samples_leaf=7, model__min_samples_split=4, model__n_estimators=200, preprocessing__num__imputer__strategy=median; total time=   0.2s\n",
      "[CV] END model__max_depth=7, model__max_features=auto, model__min_samples_leaf=7, model__min_samples_split=4, model__n_estimators=200, preprocessing__num__imputer__strategy=median; total time=   0.2s\n",
      "[CV] END model__max_depth=7, model__max_features=auto, model__min_samples_leaf=7, model__min_samples_split=4, model__n_estimators=200, preprocessing__num__imputer__strategy=median; total time=   0.2s\n",
      "[CV] END model__max_depth=7, model__max_features=auto, model__min_samples_leaf=7, model__min_samples_split=4, model__n_estimators=1000, preprocessing__num__imputer__strategy=mean; total time=   0.8s\n",
      "[CV] END model__max_depth=7, model__max_features=auto, model__min_samples_leaf=7, model__min_samples_split=4, model__n_estimators=1000, preprocessing__num__imputer__strategy=mean; total time=   0.8s\n",
      "[CV] END model__max_depth=7, model__max_features=auto, model__min_samples_leaf=7, model__min_samples_split=4, model__n_estimators=1000, preprocessing__num__imputer__strategy=mean; total time=   0.8s\n",
      "[CV] END model__max_depth=7, model__max_features=auto, model__min_samples_leaf=7, model__min_samples_split=4, model__n_estimators=1000, preprocessing__num__imputer__strategy=mean; total time=   0.8s\n",
      "[CV] END model__max_depth=7, model__max_features=auto, model__min_samples_leaf=7, model__min_samples_split=4, model__n_estimators=1000, preprocessing__num__imputer__strategy=mean; total time=   0.8s\n",
      "[CV] END model__max_depth=7, model__max_features=auto, model__min_samples_leaf=7, model__min_samples_split=4, model__n_estimators=1000, preprocessing__num__imputer__strategy=median; total time=   0.8s\n",
      "[CV] END model__max_depth=7, model__max_features=auto, model__min_samples_leaf=7, model__min_samples_split=4, model__n_estimators=1000, preprocessing__num__imputer__strategy=median; total time=   0.8s\n",
      "[CV] END model__max_depth=7, model__max_features=auto, model__min_samples_leaf=7, model__min_samples_split=4, model__n_estimators=1000, preprocessing__num__imputer__strategy=median; total time=   0.8s\n",
      "[CV] END model__max_depth=7, model__max_features=auto, model__min_samples_leaf=7, model__min_samples_split=4, model__n_estimators=1000, preprocessing__num__imputer__strategy=median; total time=   0.8s\n",
      "[CV] END model__max_depth=7, model__max_features=auto, model__min_samples_leaf=7, model__min_samples_split=4, model__n_estimators=1000, preprocessing__num__imputer__strategy=median; total time=   0.8s\n",
      "[CV] END model__max_depth=7, model__max_features=auto, model__min_samples_leaf=10, model__min_samples_split=2, model__n_estimators=100, preprocessing__num__imputer__strategy=mean; total time=   0.1s\n",
      "[CV] END model__max_depth=7, model__max_features=auto, model__min_samples_leaf=10, model__min_samples_split=2, model__n_estimators=100, preprocessing__num__imputer__strategy=mean; total time=   0.1s\n",
      "[CV] END model__max_depth=7, model__max_features=auto, model__min_samples_leaf=10, model__min_samples_split=2, model__n_estimators=100, preprocessing__num__imputer__strategy=mean; total time=   0.1s\n",
      "[CV] END model__max_depth=7, model__max_features=auto, model__min_samples_leaf=10, model__min_samples_split=2, model__n_estimators=100, preprocessing__num__imputer__strategy=mean; total time=   0.1s\n",
      "[CV] END model__max_depth=7, model__max_features=auto, model__min_samples_leaf=10, model__min_samples_split=2, model__n_estimators=100, preprocessing__num__imputer__strategy=mean; total time=   0.1s\n",
      "[CV] END model__max_depth=7, model__max_features=auto, model__min_samples_leaf=10, model__min_samples_split=2, model__n_estimators=100, preprocessing__num__imputer__strategy=median; total time=   0.1s\n",
      "[CV] END model__max_depth=7, model__max_features=auto, model__min_samples_leaf=10, model__min_samples_split=2, model__n_estimators=100, preprocessing__num__imputer__strategy=median; total time=   0.1s\n",
      "[CV] END model__max_depth=7, model__max_features=auto, model__min_samples_leaf=10, model__min_samples_split=2, model__n_estimators=100, preprocessing__num__imputer__strategy=median; total time=   0.1s\n",
      "[CV] END model__max_depth=7, model__max_features=auto, model__min_samples_leaf=10, model__min_samples_split=2, model__n_estimators=100, preprocessing__num__imputer__strategy=median; total time=   0.1s\n",
      "[CV] END model__max_depth=7, model__max_features=auto, model__min_samples_leaf=10, model__min_samples_split=2, model__n_estimators=100, preprocessing__num__imputer__strategy=median; total time=   0.1s\n",
      "[CV] END model__max_depth=7, model__max_features=auto, model__min_samples_leaf=10, model__min_samples_split=2, model__n_estimators=200, preprocessing__num__imputer__strategy=mean; total time=   0.2s\n",
      "[CV] END model__max_depth=7, model__max_features=auto, model__min_samples_leaf=10, model__min_samples_split=2, model__n_estimators=200, preprocessing__num__imputer__strategy=mean; total time=   0.2s\n",
      "[CV] END model__max_depth=7, model__max_features=auto, model__min_samples_leaf=10, model__min_samples_split=2, model__n_estimators=200, preprocessing__num__imputer__strategy=mean; total time=   0.2s\n",
      "[CV] END model__max_depth=7, model__max_features=auto, model__min_samples_leaf=10, model__min_samples_split=2, model__n_estimators=200, preprocessing__num__imputer__strategy=mean; total time=   0.2s\n",
      "[CV] END model__max_depth=7, model__max_features=auto, model__min_samples_leaf=10, model__min_samples_split=2, model__n_estimators=200, preprocessing__num__imputer__strategy=mean; total time=   0.2s\n",
      "[CV] END model__max_depth=7, model__max_features=auto, model__min_samples_leaf=10, model__min_samples_split=2, model__n_estimators=200, preprocessing__num__imputer__strategy=median; total time=   0.2s\n",
      "[CV] END model__max_depth=7, model__max_features=auto, model__min_samples_leaf=10, model__min_samples_split=2, model__n_estimators=200, preprocessing__num__imputer__strategy=median; total time=   0.2s\n",
      "[CV] END model__max_depth=7, model__max_features=auto, model__min_samples_leaf=10, model__min_samples_split=2, model__n_estimators=200, preprocessing__num__imputer__strategy=median; total time=   0.2s\n",
      "[CV] END model__max_depth=7, model__max_features=auto, model__min_samples_leaf=10, model__min_samples_split=2, model__n_estimators=200, preprocessing__num__imputer__strategy=median; total time=   0.2s\n",
      "[CV] END model__max_depth=7, model__max_features=auto, model__min_samples_leaf=10, model__min_samples_split=2, model__n_estimators=200, preprocessing__num__imputer__strategy=median; total time=   0.2s\n",
      "[CV] END model__max_depth=7, model__max_features=auto, model__min_samples_leaf=10, model__min_samples_split=2, model__n_estimators=1000, preprocessing__num__imputer__strategy=mean; total time=   0.8s\n",
      "[CV] END model__max_depth=7, model__max_features=auto, model__min_samples_leaf=10, model__min_samples_split=2, model__n_estimators=1000, preprocessing__num__imputer__strategy=mean; total time=   0.8s\n"
     ]
    },
    {
     "name": "stdout",
     "output_type": "stream",
     "text": [
      "[CV] END model__max_depth=7, model__max_features=auto, model__min_samples_leaf=10, model__min_samples_split=2, model__n_estimators=1000, preprocessing__num__imputer__strategy=mean; total time=   0.8s\n",
      "[CV] END model__max_depth=7, model__max_features=auto, model__min_samples_leaf=10, model__min_samples_split=2, model__n_estimators=1000, preprocessing__num__imputer__strategy=mean; total time=   0.8s\n",
      "[CV] END model__max_depth=7, model__max_features=auto, model__min_samples_leaf=10, model__min_samples_split=2, model__n_estimators=1000, preprocessing__num__imputer__strategy=mean; total time=   0.8s\n",
      "[CV] END model__max_depth=7, model__max_features=auto, model__min_samples_leaf=10, model__min_samples_split=2, model__n_estimators=1000, preprocessing__num__imputer__strategy=median; total time=   0.8s\n",
      "[CV] END model__max_depth=7, model__max_features=auto, model__min_samples_leaf=10, model__min_samples_split=2, model__n_estimators=1000, preprocessing__num__imputer__strategy=median; total time=   0.8s\n",
      "[CV] END model__max_depth=7, model__max_features=auto, model__min_samples_leaf=10, model__min_samples_split=2, model__n_estimators=1000, preprocessing__num__imputer__strategy=median; total time=   0.8s\n",
      "[CV] END model__max_depth=7, model__max_features=auto, model__min_samples_leaf=10, model__min_samples_split=2, model__n_estimators=1000, preprocessing__num__imputer__strategy=median; total time=   0.8s\n",
      "[CV] END model__max_depth=7, model__max_features=auto, model__min_samples_leaf=10, model__min_samples_split=2, model__n_estimators=1000, preprocessing__num__imputer__strategy=median; total time=   0.8s\n",
      "[CV] END model__max_depth=7, model__max_features=auto, model__min_samples_leaf=10, model__min_samples_split=4, model__n_estimators=100, preprocessing__num__imputer__strategy=mean; total time=   0.1s\n",
      "[CV] END model__max_depth=7, model__max_features=auto, model__min_samples_leaf=10, model__min_samples_split=4, model__n_estimators=100, preprocessing__num__imputer__strategy=mean; total time=   0.1s\n",
      "[CV] END model__max_depth=7, model__max_features=auto, model__min_samples_leaf=10, model__min_samples_split=4, model__n_estimators=100, preprocessing__num__imputer__strategy=mean; total time=   0.1s\n",
      "[CV] END model__max_depth=7, model__max_features=auto, model__min_samples_leaf=10, model__min_samples_split=4, model__n_estimators=100, preprocessing__num__imputer__strategy=mean; total time=   0.1s\n",
      "[CV] END model__max_depth=7, model__max_features=auto, model__min_samples_leaf=10, model__min_samples_split=4, model__n_estimators=100, preprocessing__num__imputer__strategy=mean; total time=   0.1s\n",
      "[CV] END model__max_depth=7, model__max_features=auto, model__min_samples_leaf=10, model__min_samples_split=4, model__n_estimators=100, preprocessing__num__imputer__strategy=median; total time=   0.1s\n",
      "[CV] END model__max_depth=7, model__max_features=auto, model__min_samples_leaf=10, model__min_samples_split=4, model__n_estimators=100, preprocessing__num__imputer__strategy=median; total time=   0.1s\n",
      "[CV] END model__max_depth=7, model__max_features=auto, model__min_samples_leaf=10, model__min_samples_split=4, model__n_estimators=100, preprocessing__num__imputer__strategy=median; total time=   0.1s\n",
      "[CV] END model__max_depth=7, model__max_features=auto, model__min_samples_leaf=10, model__min_samples_split=4, model__n_estimators=100, preprocessing__num__imputer__strategy=median; total time=   0.1s\n",
      "[CV] END model__max_depth=7, model__max_features=auto, model__min_samples_leaf=10, model__min_samples_split=4, model__n_estimators=100, preprocessing__num__imputer__strategy=median; total time=   0.1s\n",
      "[CV] END model__max_depth=7, model__max_features=auto, model__min_samples_leaf=10, model__min_samples_split=4, model__n_estimators=200, preprocessing__num__imputer__strategy=mean; total time=   0.2s\n",
      "[CV] END model__max_depth=7, model__max_features=auto, model__min_samples_leaf=10, model__min_samples_split=4, model__n_estimators=200, preprocessing__num__imputer__strategy=mean; total time=   0.2s\n",
      "[CV] END model__max_depth=7, model__max_features=auto, model__min_samples_leaf=10, model__min_samples_split=4, model__n_estimators=200, preprocessing__num__imputer__strategy=mean; total time=   0.2s\n",
      "[CV] END model__max_depth=7, model__max_features=auto, model__min_samples_leaf=10, model__min_samples_split=4, model__n_estimators=200, preprocessing__num__imputer__strategy=mean; total time=   0.2s\n",
      "[CV] END model__max_depth=7, model__max_features=auto, model__min_samples_leaf=10, model__min_samples_split=4, model__n_estimators=200, preprocessing__num__imputer__strategy=mean; total time=   0.2s\n",
      "[CV] END model__max_depth=7, model__max_features=auto, model__min_samples_leaf=10, model__min_samples_split=4, model__n_estimators=200, preprocessing__num__imputer__strategy=median; total time=   0.2s\n",
      "[CV] END model__max_depth=7, model__max_features=auto, model__min_samples_leaf=10, model__min_samples_split=4, model__n_estimators=200, preprocessing__num__imputer__strategy=median; total time=   0.2s\n",
      "[CV] END model__max_depth=7, model__max_features=auto, model__min_samples_leaf=10, model__min_samples_split=4, model__n_estimators=200, preprocessing__num__imputer__strategy=median; total time=   0.2s\n",
      "[CV] END model__max_depth=7, model__max_features=auto, model__min_samples_leaf=10, model__min_samples_split=4, model__n_estimators=200, preprocessing__num__imputer__strategy=median; total time=   0.2s\n",
      "[CV] END model__max_depth=7, model__max_features=auto, model__min_samples_leaf=10, model__min_samples_split=4, model__n_estimators=200, preprocessing__num__imputer__strategy=median; total time=   0.2s\n",
      "[CV] END model__max_depth=7, model__max_features=auto, model__min_samples_leaf=10, model__min_samples_split=4, model__n_estimators=1000, preprocessing__num__imputer__strategy=mean; total time=   0.8s\n",
      "[CV] END model__max_depth=7, model__max_features=auto, model__min_samples_leaf=10, model__min_samples_split=4, model__n_estimators=1000, preprocessing__num__imputer__strategy=mean; total time=   0.8s\n",
      "[CV] END model__max_depth=7, model__max_features=auto, model__min_samples_leaf=10, model__min_samples_split=4, model__n_estimators=1000, preprocessing__num__imputer__strategy=mean; total time=   0.8s\n",
      "[CV] END model__max_depth=7, model__max_features=auto, model__min_samples_leaf=10, model__min_samples_split=4, model__n_estimators=1000, preprocessing__num__imputer__strategy=mean; total time=   0.8s\n",
      "[CV] END model__max_depth=7, model__max_features=auto, model__min_samples_leaf=10, model__min_samples_split=4, model__n_estimators=1000, preprocessing__num__imputer__strategy=mean; total time=   0.8s\n",
      "[CV] END model__max_depth=7, model__max_features=auto, model__min_samples_leaf=10, model__min_samples_split=4, model__n_estimators=1000, preprocessing__num__imputer__strategy=median; total time=   0.8s\n",
      "[CV] END model__max_depth=7, model__max_features=auto, model__min_samples_leaf=10, model__min_samples_split=4, model__n_estimators=1000, preprocessing__num__imputer__strategy=median; total time=   0.8s\n",
      "[CV] END model__max_depth=7, model__max_features=auto, model__min_samples_leaf=10, model__min_samples_split=4, model__n_estimators=1000, preprocessing__num__imputer__strategy=median; total time=   0.8s\n",
      "[CV] END model__max_depth=7, model__max_features=auto, model__min_samples_leaf=10, model__min_samples_split=4, model__n_estimators=1000, preprocessing__num__imputer__strategy=median; total time=   0.8s\n",
      "[CV] END model__max_depth=7, model__max_features=auto, model__min_samples_leaf=10, model__min_samples_split=4, model__n_estimators=1000, preprocessing__num__imputer__strategy=median; total time=   0.8s\n"
     ]
    },
    {
     "data": {
      "text/plain": [
       "GridSearchCV(cv=5,\n",
       "             estimator=Pipeline(steps=[('preprocessing',\n",
       "                                        ColumnTransformer(transformers=[('cat',\n",
       "                                                                         Pipeline(steps=[('imputer',\n",
       "                                                                                          SimpleImputer(fill_value='missing',\n",
       "                                                                                                        strategy='constant')),\n",
       "                                                                                         ('onehot',\n",
       "                                                                                          OneHotEncoder(handle_unknown='ignore'))]),\n",
       "                                                                         ['Make',\n",
       "                                                                          'Colour']),\n",
       "                                                                        ('door',\n",
       "                                                                         Pipeline(steps=[('imputer',\n",
       "                                                                                          SimpleImputer(fill_value=4,\n",
       "                                                                                                        strategy='constant'))]),\n",
       "                                                                         ['Doors']...\n",
       "                                                                         Pipeline(steps=[('imputer',\n",
       "                                                                                          SimpleImputer())]),\n",
       "                                                                         ['Odometer '\n",
       "                                                                          '(KM)'])])),\n",
       "                                       ('model', RandomForestRegressor())]),\n",
       "             param_grid={'model__max_depth': [None, 6, 7],\n",
       "                         'model__max_features': ['auto'],\n",
       "                         'model__min_samples_leaf': [1, 7, 10],\n",
       "                         'model__min_samples_split': [2, 4],\n",
       "                         'model__n_estimators': [100, 200, 1000],\n",
       "                         'preprocessing__num__imputer__strategy': ['mean',\n",
       "                                                                   'median']},\n",
       "             verbose=2)"
      ]
     },
     "execution_count": 192,
     "metadata": {},
     "output_type": "execute_result"
    }
   ],
   "source": [
    "# Use GridSearchCV with our regression Pipeline\n",
    "from sklearn.model_selection import GridSearchCV\n",
    "pipe_grid = {\n",
    "    \"preprocessing__num__imputer__strategy\": [\"mean\", \"median\"],\n",
    "    \"model__n_estimators\": [100, 200, 1000],\n",
    "    \"model__max_depth\": [None, 6, 7],\n",
    "    \"model__max_features\": [\"auto\"],\n",
    "    \"model__min_samples_split\": [2, 4],\n",
    "    \"model__min_samples_leaf\": [1,7,10]\n",
    "}\n",
    "\n",
    "gs_model = GridSearchCV(model, pipe_grid, cv=5, verbose=2)\n",
    "gs_model.fit(X_train, y_train)"
   ]
  },
  {
   "cell_type": "code",
   "execution_count": 194,
   "id": "6386df94",
   "metadata": {},
   "outputs": [
    {
     "data": {
      "text/plain": [
       "0.331001920136052"
      ]
     },
     "execution_count": 194,
     "metadata": {},
     "output_type": "execute_result"
    }
   ],
   "source": [
    "gs_model.score(X_test, y_test)"
   ]
  },
  {
   "cell_type": "code",
   "execution_count": null,
   "id": "ee37a138",
   "metadata": {},
   "outputs": [],
   "source": []
  }
 ],
 "metadata": {
  "kernelspec": {
   "display_name": "Python 3 (ipykernel)",
   "language": "python",
   "name": "python3"
  },
  "language_info": {
   "codemirror_mode": {
    "name": "ipython",
    "version": 3
   },
   "file_extension": ".py",
   "mimetype": "text/x-python",
   "name": "python",
   "nbconvert_exporter": "python",
   "pygments_lexer": "ipython3",
   "version": "3.9.7"
  }
 },
 "nbformat": 4,
 "nbformat_minor": 5
}
